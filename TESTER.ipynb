{
 "cells": [
  {
   "cell_type": "code",
   "execution_count": 2,
   "metadata": {},
   "outputs": [
    {
     "name": "stderr",
     "output_type": "stream",
     "text": [
      "c:\\users\\asus\\appdata\\local\\programs\\python\\python38-32\\lib\\site-packages\\pandas_datareader\\compat\\__init__.py:7: FutureWarning: pandas.util.testing is deprecated. Use the functions in the public API at pandas.testing instead.\n",
      "  from pandas.util.testing import assert_frame_equal\n"
     ]
    }
   ],
   "source": [
    "import datetime as dt\n",
    "import matplotlib.pyplot as plt\n",
    "from matplotlib import style\n",
    "import pandas as pd\n",
    "import yfinance as yf\n",
    "import plotly.express as px\n",
    "import plotly.graph_objects as go\n",
    "from pandas_datareader import data as web\n",
    "import os \n",
    "import pickle\n",
    "import numpy as np\n",
    "from collections import Counter\n",
    "from nsepy import get_history\n",
    "from finta import TA\n",
    "import copy\n",
    "import math\n",
    "from dateutil.relativedelta import relativedelta\n",
    "\n",
    "style.use('ggplot')\n",
    "%matplotlib qt\n",
    "per_order_quantity = 10000"
   ]
  },
  {
   "cell_type": "code",
   "execution_count": 3,
   "metadata": {},
   "outputs": [
    {
     "name": "stdout",
     "output_type": "stream",
     "text": [
      "2020-08-08 2020-03-24\n"
     ]
    }
   ],
   "source": [
    "date_today = dt.date.today()\n",
    "start_date = dt.datetime.strptime(\"2020-03-23\" , '%Y-%m-%d').date() +  dt.timedelta(days=1)\n",
    "with open(\"nifty500.pickle\", \"rb\") as f:\n",
    "    tickers = pickle.load(f)"
   ]
  },
  {
   "cell_type": "code",
   "execution_count": 74,
   "metadata": {},
   "outputs": [],
   "source": [
    "Portfolio = {'Total_investment' : 0, 'Current_investment' : 0 , 'Money_generated' : 0, 'Total_trades' : 0, 'Successful_trades' : 0, 'Failed_trades': 0, 'Successful_shorts': 0, 'Failed_shorts': 0}\n",
    "company_template = {'logs': [] , 'Total_investment': 0, 'Total_trades' : 0, 'P/L':0, 'Buy_price': 0, 'Buy_Quantity': 0 , 'Money_generated': 0, 'Successful_trades': 0, 'Failed_trades': 0, 'Successful_shorts': 0, 'Failed_shorts': 0}\n",
    "Company_data = {}\n",
    "for ticker in tickers:\n",
    "    Company_data[ticker] = copy.deepcopy(company_template) \n"
   ]
  },
  {
   "cell_type": "code",
   "execution_count": 75,
   "metadata": {},
   "outputs": [],
   "source": [
    "def buy_hold_sell(df_curr, df_next):\n",
    "    if df_curr['Remarks'] != None:\n",
    "        if df_curr['Prev Close'] > df_curr['Close']:\n",
    "            multiplier = 2\n",
    "        else :\n",
    "            multiplier  = 1\n",
    "    if funds_per_trade/df_next['Open'] < 0:\n",
    "        quantity = 1\n",
    "    else:\n",
    "        quantity = math.ceil(funds_per_trade/df_next['Open'])\n",
    "    if df_curr['Score'] > 0:\n",
    "        return \"Buy\", quantity*multiplier\n",
    "    elif df_curr['Score'] < -2:\n",
    "        return \"Sell\", quantity*multiplier \n",
    "    else: \n",
    "        return \"Hold\", 0\n"
   ]
  },
  {
   "cell_type": "code",
   "execution_count": 76,
   "metadata": {},
   "outputs": [
    {
     "name": "stdout",
     "output_type": "stream",
     "text": [
      "Date :2020-03-25\tBuy\t870.1\t12\n",
      "Date :2020-03-26\tBuy\t944.95\t11\n",
      "Date :2020-03-27\tBuy\t880.0\t12\n",
      "Date :2020-03-30\tSell\t853.8\t35\n",
      "\tCurrent_Profit : -1512.6500000000015\t Total_Profit : -1512.6500000000015\n",
      "Date :2020-03-30\tShort\t853.8\t24\n",
      "\tCurrent_Profit : -194.40000000000055\t Total_Profit : -1707.050000000002\n",
      "Date :2020-03-31\tShort\t863.85\t12\n",
      "\tCurrent_Profit : 410.40000000000055\t Total_Profit : -1296.6500000000015\n",
      "Date :2020-04-01\tShort\t843.0\t24\n",
      "\tCurrent_Profit : 699.5999999999995\t Total_Profit : -597.050000000002\n",
      "Date :2020-04-03\tShort\t874.0\t24\n",
      "\tCurrent_Profit : -530.4000000000005\t Total_Profit : -1127.4500000000025\n",
      "Date :2020-04-07\tBuy\t879.95\t12\n",
      "Date :2020-04-08\tBuy\t913.0\t22\n",
      "Date :2020-04-09\tBuy\t934.0\t11\n",
      "Date :2020-04-13\tNo Transaction\n",
      "Date :2020-04-15\tSell\t865.0\t45\n",
      "\tCurrent_Profit : -1994.4000000000015\t Total_Profit : -3121.850000000004\n",
      "Date :2020-04-15\tShort\t865.0\t24\n",
      "\tCurrent_Profit : -354.0\t Total_Profit : -3475.850000000004\n",
      "Date :2020-04-16\tShort\t915.0\t11\n",
      "\tCurrent_Profit : 51.7000000000005\t Total_Profit : -3424.1500000000033\n",
      "Date :2020-04-17\tBuy\t951.0\t11\n",
      "Date :2020-04-20\tBuy\t925.0\t11\n",
      "Date :2020-04-21\tBuy\t919.15\t22\n",
      "Date :2020-04-22\tNo Transaction\n",
      "Date :2020-04-23\tBuy\t933.0\t11\n",
      "Date :2020-04-24\tBuy\t945.15\t22\n",
      "Date :2020-04-27\tNo Transaction\n",
      "Date :2020-04-28\tSell\t935.0\t77\n",
      "\tCurrent_Profit : 81.39999999999418\t Total_Profit : -3342.750000000009\n",
      "Date :2020-04-28\tShort\t935.0\t11\n",
      "\tCurrent_Profit : -463.10000000000025\t Total_Profit : -3805.8500000000095\n",
      "Date :2020-04-29\tBuy\t1001.4\t10\n",
      "Date :2020-04-30\tBuy\t957.5\t11\n",
      "Date :2020-05-04\tSell\t938.0\t21\n",
      "\tCurrent_Profit : -848.5\t Total_Profit : -4654.3500000000095\n",
      "Date :2020-05-04\tShort\t938.0\t22\n",
      "\tCurrent_Profit : 584.099999999999\t Total_Profit : -4070.2500000000105\n",
      "Date :2020-05-05\tShort\t919.0\t22\n",
      "\tCurrent_Profit : -602.7999999999995\t Total_Profit : -4673.05000000001\n",
      "Date :2020-05-06\tBuy\t940.5\t11\n",
      "Date :2020-05-07\tNo Transaction\n",
      "Date :2020-05-08\tNo Transaction\n",
      "Date :2020-05-11\tNo Transaction\n",
      "Date :2020-05-12\tSell\t951.0\t11\n",
      "\tCurrent_Profit : 115.5\t Total_Profit : -4557.55000000001\n",
      "Date :2020-05-12\tShort\t951.0\t22\n",
      "\tCurrent_Profit : 513.7000000000005\t Total_Profit : -4043.8500000000095\n",
      "Date :2020-05-13\tBuy\t898.0\t12\n",
      "Date :2020-05-14\tSell\t890.5\t12\n",
      "\tCurrent_Profit : -90.0\t Total_Profit : -4133.8500000000095\n",
      "Date :2020-05-14\tShort\t890.5\t24\n",
      "\tCurrent_Profit : 56.400000000000546\t Total_Profit : -4077.450000000009\n",
      "Date :2020-05-15\tShort\t888.0\t24\n",
      "\tCurrent_Profit : 1232.4000000000005\t Total_Profit : -2845.0500000000084\n",
      "Date :2020-05-18\tShort\t860.85\t24\n",
      "\tCurrent_Profit : 724.8000000000011\t Total_Profit : -2120.2500000000073\n",
      "Date :2020-05-19\tShort\t836.45\t24\n",
      "\tCurrent_Profit : -495.59999999999945\t Total_Profit : -2615.8500000000067\n",
      "Date :2020-05-20\tNo Transaction\n",
      "Date :2020-05-21\tNo Transaction\n",
      "Date :2020-05-22\tShort\t857.0\t24\n",
      "\tCurrent_Profit : 110.40000000000055\t Total_Profit : -2505.450000000006\n",
      "Date :2020-05-26\tShort\t859.9\t12\n",
      "\tCurrent_Profit : -525.0\t Total_Profit : -3030.450000000006\n",
      "Date :2020-05-27\tBuy\t920.0\t11\n",
      "Date :2020-05-28\tBuy\t944.0\t11\n",
      "Date :2020-05-29\tBuy\t975.0\t11\n",
      "Date :2020-06-01\tBuy\t986.7\t11\n",
      "Date :2020-06-02\tNo Transaction\n",
      "Date :2020-06-03\tBuy\t1028.05\t10\n",
      "Date :2020-06-04\tNo Transaction\n",
      "Date :2020-06-05\tBuy\t1060.0\t10\n",
      "Date :2020-06-08\tBuy\t1020.0\t20\n",
      "Date :2020-06-09\tSell\t990.0\t84\n",
      "\tCurrent_Profit : -203.1999999999971\t Total_Profit : -3233.6500000000033\n",
      "Date :2020-06-09\tShort\t990.0\t22\n",
      "\tCurrent_Profit : -40.7000000000005\t Total_Profit : -3274.350000000004\n",
      "Date :2020-06-10\tNo Transaction\n",
      "Date :2020-06-11\tNo Transaction\n",
      "Date :2020-06-12\tNo Transaction\n",
      "Date :2020-06-15\tNo Transaction\n",
      "Date :2020-06-16\tBuy\t989.0\t11\n",
      "Date :2020-06-17\tNo Transaction\n",
      "Date :2020-06-18\tBuy\t1017.95\t10\n",
      "Date :2020-06-19\tBuy\t1039.45\t10\n",
      "Date :2020-06-22\tBuy\t1039.0\t20\n",
      "Date :2020-06-23\tBuy\t1048.5\t10\n",
      "Date :2020-06-24\tBuy\t1021.9\t20\n",
      "Date :2020-06-25\tBuy\t1041.0\t20\n",
      "Date :2020-06-26\tNo Transaction\n",
      "Date :2020-06-29\tBuy\t1074.0\t10\n",
      "Date :2020-06-30\tBuy\t1065.85\t20\n",
      "Date :2020-07-01\tBuy\t1090.3\t10\n",
      "Date :2020-07-02\tBuy\t1093.0\t10\n",
      "Date :2020-07-03\tNo Transaction\n",
      "Date :2020-07-06\tBuy\t1109.4\t10\n",
      "Date :2020-07-07\tBuy\t1107.0\t10\n",
      "Date :2020-07-08\tBuy\t1118.0\t9\n",
      "Date :2020-07-09\tNo Transaction\n",
      "Date :2020-07-10\tNo Transaction\n",
      "Date :2020-07-13\tNo Transaction\n",
      "Date :2020-07-14\tNo Transaction\n",
      "Date :2020-07-15\tNo Transaction\n",
      "Date :2020-07-16\tNo Transaction\n",
      "Date :2020-07-17\tBuy\t1135.0\t9\n",
      "Date :2020-07-20\tBuy\t1152.05\t9\n",
      "Date :2020-07-21\tBuy\t1138.5\t9\n",
      "Date :2020-07-22\tBuy\t1125.0\t18\n",
      "Date :2020-07-23\tNo Transaction\n",
      "Date :2020-07-24\tNo Transaction\n",
      "Date :2020-07-27\tSell\t1079.0\t225\n",
      "\tCurrent_Profit : 1603.0499999999884\t Total_Profit : -1671.3000000000156\n",
      "Date :2020-07-27\tShort\t1079.0\t20\n",
      "\tCurrent_Profit : -153.00000000000182\t Total_Profit : -1824.3000000000175\n",
      "Date :2020-07-28\tShort\t1081.0\t10\n",
      "\tCurrent_Profit : 164.0000000000009\t Total_Profit : -1660.3000000000166\n",
      "Date :2020-07-29\tNo Transaction\n",
      "Date :2020-07-30\tNo Transaction\n",
      "Date :2020-07-31\tShort\t1025.95\t20\n",
      "\tCurrent_Profit : 479.0000000000009\t Total_Profit : -1181.3000000000156\n",
      "Date :2020-08-03\tShort\t1008.0\t20\n",
      "\tCurrent_Profit : -673.0000000000018\t Total_Profit : -1854.3000000000175\n",
      "Date :2020-08-04\tBuy\t1047.95\t10\n",
      "Date :2020-08-05\tBuy\t1037.0\t20\n",
      "Date :2020-08-06\tBuy\t1034.85\t10\n"
     ]
    },
    {
     "data": {
      "text/plain": [
       "{'logs': [['2020-03-25', 'Buy', 870.1, 12],\n",
       "  ['2020-03-26', 'Buy', 944.95, 11],\n",
       "  ['2020-03-27', 'Buy', 880.0, 12],\n",
       "  ['2020-03-30', 'Sell', 853.8, 24],\n",
       "  ['2020-04-07', 'Buy', 879.95, 12],\n",
       "  ['2020-04-08', 'Buy', 913.0, 22],\n",
       "  ['2020-04-09', 'Buy', 934.0, 11],\n",
       "  ['2020-04-15', 'Sell', 865.0, 24],\n",
       "  ['2020-04-17', 'Buy', 951.0, 11],\n",
       "  ['2020-04-20', 'Buy', 925.0, 11],\n",
       "  ['2020-04-21', 'Buy', 919.15, 22],\n",
       "  ['2020-04-23', 'Buy', 933.0, 11],\n",
       "  ['2020-04-24', 'Buy', 945.15, 22],\n",
       "  ['2020-04-28', 'Sell', 935.0, 11],\n",
       "  ['2020-04-29', 'Buy', 1001.4, 10],\n",
       "  ['2020-04-30', 'Buy', 957.5, 11],\n",
       "  ['2020-05-04', 'Sell', 938.0, 22],\n",
       "  ['2020-05-06', 'Buy', 940.5, 11],\n",
       "  ['2020-05-12', 'Sell', 951.0, 22],\n",
       "  ['2020-05-13', 'Buy', 898.0, 12],\n",
       "  ['2020-05-14', 'Sell', 890.5, 24],\n",
       "  ['2020-05-27', 'Buy', 920.0, 11],\n",
       "  ['2020-05-28', 'Buy', 944.0, 11],\n",
       "  ['2020-05-29', 'Buy', 975.0, 11],\n",
       "  ['2020-06-01', 'Buy', 986.7, 11],\n",
       "  ['2020-06-03', 'Buy', 1028.05, 10],\n",
       "  ['2020-06-05', 'Buy', 1060.0, 10],\n",
       "  ['2020-06-08', 'Buy', 1020.0, 20],\n",
       "  ['2020-06-09', 'Sell', 990.0, 22],\n",
       "  ['2020-06-16', 'Buy', 989.0, 11],\n",
       "  ['2020-06-18', 'Buy', 1017.95, 10],\n",
       "  ['2020-06-19', 'Buy', 1039.45, 10],\n",
       "  ['2020-06-22', 'Buy', 1039.0, 20],\n",
       "  ['2020-06-23', 'Buy', 1048.5, 10],\n",
       "  ['2020-06-24', 'Buy', 1021.9, 20],\n",
       "  ['2020-06-25', 'Buy', 1041.0, 20],\n",
       "  ['2020-06-29', 'Buy', 1074.0, 10],\n",
       "  ['2020-06-30', 'Buy', 1065.85, 20],\n",
       "  ['2020-07-01', 'Buy', 1090.3, 10],\n",
       "  ['2020-07-02', 'Buy', 1093.0, 10],\n",
       "  ['2020-07-06', 'Buy', 1109.4, 10],\n",
       "  ['2020-07-07', 'Buy', 1107.0, 10],\n",
       "  ['2020-07-08', 'Buy', 1118.0, 9],\n",
       "  ['2020-07-17', 'Buy', 1135.0, 9],\n",
       "  ['2020-07-20', 'Buy', 1152.05, 9],\n",
       "  ['2020-07-21', 'Buy', 1138.5, 9],\n",
       "  ['2020-07-22', 'Buy', 1125.0, 18],\n",
       "  ['2020-07-27', 'Sell', 1079.0, 20],\n",
       "  ['2020-08-04', 'Buy', 1047.95, 10],\n",
       "  ['2020-08-05', 'Buy', 1037.0, 20],\n",
       "  ['2020-08-06', 'Buy', 1034.85, 10]],\n",
       " 'Total_investment': 551999.8,\n",
       " 'Total_trades': 72,\n",
       " 'P/L': -0.3274286594213009,\n",
       " 'Buy_price': 1039.2,\n",
       " 'Buy_Quantity': 40,\n",
       " 'Money_generated': -1854.3000000000175,\n",
       " 'Successful_trades': 3,\n",
       " 'Failed_trades': 5,\n",
       " 'Successful_shorts': 11,\n",
       " 'Failed_shorts': 10}"
      ]
     },
     "metadata": {},
     "output_type": "display_data"
    }
   ],
   "source": [
    "funds_per_trade = 10000\n",
    "\n",
    "def test(ticker):\n",
    "    df = pd.read_csv('stocks_dfs/{}.csv'.format(ticker), header= 0)\n",
    "    df = df[304:]\n",
    "    for i in range(0, len(df)-1):\n",
    "        bhs, quantity = buy_hold_sell(df.iloc[i], df.iloc[i+1])\n",
    "        price =  df.iloc[i+1]['Open']\n",
    "        if bhs == 'Buy':\n",
    "            Company_data[ticker]['logs'].append([df.iloc[i]['Date'], bhs, price , quantity])            \n",
    "            Company_data[ticker]['Total_investment'] += price*quantity \n",
    "            Company_data[ticker]['Total_trades'] += 1\n",
    "            Company_data[ticker]['Buy_price'] = ( Company_data[ticker]['Buy_price']*Company_data[ticker]['Buy_Quantity'] + price*quantity) / (Company_data[ticker]['Buy_Quantity'] + quantity)\n",
    "            Company_data[ticker]['Buy_Quantity'] += quantity\n",
    "            Portfolio['Total_investment'] += price*quantity\n",
    "            Portfolio['Current_investment'] += price*quantity\n",
    "            Portfolio['Total_trades'] += 1\n",
    "            print('Date :{}\\tBuy\\t{}\\t{}'.format(df.iloc[i]['Date'], price, quantity))\n",
    "        elif bhs == 'Sell':\n",
    "            if Company_data[ticker]['Buy_Quantity'] != 0:\n",
    "                Company_data[ticker]['logs'].append([df.iloc[i]['Date'], bhs, price , quantity])\n",
    "                Company_data[ticker]['Total_trades'] += 1\n",
    "                #print(Company_data[ticker]['Buy_price'], Company_data[ticker]['Buy_Quantity'])\n",
    "                Company_data[ticker]['Money_generated'] += (Company_data[ticker]['Buy_Quantity']*price - Company_data[ticker]['Buy_price']*Company_data[ticker]['Buy_Quantity'])\n",
    "                Portfolio['Money_generated'] += (Company_data[ticker]['Buy_Quantity']*price - Company_data[ticker]['Buy_price']*Company_data[ticker]['Buy_Quantity'])\n",
    "                Portfolio['Total_trades'] += 1\n",
    "                if (Company_data[ticker]['Buy_Quantity']*price - Company_data[ticker]['Buy_price']*Company_data[ticker]['Buy_Quantity'])> 0:\n",
    "                    Company_data[ticker]['Successful_trades'] += 1\n",
    "                    Portfolio['Successful_trades'] += 1\n",
    "                else:\n",
    "                    Company_data[ticker]['Failed_trades'] += 1\n",
    "                    Portfolio['Failed_trades'] += 1\n",
    "                Company_data[ticker]['P/L'] = (Company_data[ticker]['Money_generated']/Company_data[ticker]['Total_investment'] )*100\n",
    "                Portfolio['Current_investment'] -= Company_data[ticker]['Buy_Quantity']*Company_data[ticker]['Buy_price']  \n",
    "                print('Date :{}\\tSell\\t{}\\t{}'.format(df.iloc[i]['Date'], price, Company_data[ticker]['Buy_Quantity']))\n",
    "                print('\\tCurrent_Profit : {}\\t Total_Profit : {}'.format((Company_data[ticker]['Buy_Quantity']*price - Company_data[ticker]['Buy_price']*Company_data[ticker]['Buy_Quantity']), Company_data[ticker]['Money_generated']))\n",
    "                Company_data[ticker]['Buy_Quantity'] = 0       \n",
    "                Company_data[ticker]['Buy_price'] = 0             \n",
    "            #SHORT TRADE \n",
    "            Company_data[ticker]['Money_generated'] += (price - df.iloc[i+1]['Close'])*quantity\n",
    "            Portfolio['Money_generated'] += (price - df.iloc[i+1]['Close'])*quantity\n",
    "            Company_data[ticker]['Total_trades'] += 1\n",
    "            if (price - df.iloc[i+1]['Close'])*quantity > 0:\n",
    "                Portfolio['Successful_shorts'] += 1\n",
    "                Company_data[ticker]['Successful_shorts'] += 1\n",
    "            else:\n",
    "                Portfolio['Failed_shorts'] += 1\n",
    "                Company_data[ticker]['Failed_shorts'] += 1   \n",
    "            print('Date :{}\\tShort\\t{}\\t{}'.format(df.iloc[i]['Date'], price, quantity))\n",
    "            print('\\tCurrent_Profit : {}\\t Total_Profit : {}'.format((price - df.iloc[i+1]['Close'])*quantity, Company_data[ticker]['Money_generated']))\n",
    "        else:\n",
    "            print('Date :{}\\tNo Transaction'.format(df.iloc[i]['Date']))\n",
    "            \n",
    "\n",
    "for ticker in tickers:\n",
    "    test('HDFCBANK')\n",
    "    display(Company_data['HDFCBANK'])\n",
    "    break\n",
    "    "
   ]
  },
  {
   "cell_type": "code",
   "execution_count": 454,
   "metadata": {},
   "outputs": [
    {
     "data": {
      "text/plain": [
       "'WABCOINDIA'"
      ]
     },
     "metadata": {},
     "output_type": "display_data"
    },
    {
     "data": {
      "text/plain": [
       "{'Bought_Price': 6914.475,\n",
       " 'Current_Price': 6874.8,\n",
       " 'Bought_Quantity': 4,\n",
       " 'Sold_Price': 6906.2,\n",
       " 'Sold_Quantity': 0,\n",
       " 'Investment': 27657.9,\n",
       " 'Current_Valuation': 27499.2,\n",
       " 'Status': -0.005737962752052785,\n",
       " 'Short_Gains': -0.0}"
      ]
     },
     "metadata": {},
     "output_type": "display_data"
    },
    {
     "data": {
      "text/plain": [
       "2306015.000000001"
      ]
     },
     "metadata": {},
     "output_type": "display_data"
    },
    {
     "data": {
      "text/plain": [
       "2284360.4000000004"
      ]
     },
     "metadata": {},
     "output_type": "display_data"
    },
    {
     "name": "stdout",
     "output_type": "stream",
     "text": [
      "\n"
     ]
    },
    {
     "data": {
      "text/plain": [
       "'DEEPAKNTR'"
      ]
     },
     "metadata": {},
     "output_type": "display_data"
    },
    {
     "data": {
      "text/plain": [
       "{'Bought_Price': 314.8938461538462,\n",
       " 'Current_Price': 223.85,\n",
       " 'Bought_Quantity': 130,\n",
       " 'Sold_Price': 0,\n",
       " 'Sold_Quantity': 0,\n",
       " 'Investment': 40936.200000000004,\n",
       " 'Current_Valuation': 29100.5,\n",
       " 'Status': -0.2891255172683347,\n",
       " 'Short_Gains': 0}"
      ]
     },
     "metadata": {},
     "output_type": "display_data"
    },
    {
     "data": {
      "text/plain": [
       "2326328.600000001"
      ]
     },
     "metadata": {},
     "output_type": "display_data"
    },
    {
     "data": {
      "text/plain": [
       "2304954.6000000006"
      ]
     },
     "metadata": {},
     "output_type": "display_data"
    },
    {
     "name": "stdout",
     "output_type": "stream",
     "text": [
      "\n"
     ]
    },
    {
     "data": {
      "text/plain": [
       "'DIXON'"
      ]
     },
     "metadata": {},
     "output_type": "display_data"
    },
    {
     "data": {
      "text/plain": [
       "{'Bought_Price': 0,\n",
       " 'Current_Price': 2043.1,\n",
       " 'Bought_Quantity': 0,\n",
       " 'Sold_Price': 2062.9,\n",
       " 'Sold_Quantity': 0,\n",
       " 'Investment': 0,\n",
       " 'Current_Valuation': 0,\n",
       " 'Status': 0,\n",
       " 'Short_Gains': 0.0}"
      ]
     },
     "metadata": {},
     "output_type": "display_data"
    },
    {
     "data": {
      "text/plain": [
       "2318077.000000001"
      ]
     },
     "metadata": {},
     "output_type": "display_data"
    },
    {
     "data": {
      "text/plain": [
       "2274282.8000000003"
      ]
     },
     "metadata": {},
     "output_type": "display_data"
    },
    {
     "name": "stdout",
     "output_type": "stream",
     "text": [
      "\n"
     ]
    },
    {
     "data": {
      "text/plain": [
       "'INFIBEAM'"
      ]
     },
     "metadata": {},
     "output_type": "display_data"
    },
    {
     "data": {
      "text/plain": [
       "{'Bought_Price': 57.563793103448276,\n",
       " 'Current_Price': 47.45,\n",
       " 'Bought_Quantity': 696,\n",
       " 'Sold_Price': 0,\n",
       " 'Sold_Quantity': 0,\n",
       " 'Investment': 40064.4,\n",
       " 'Current_Valuation': 33025.200000000004,\n",
       " 'Status': -0.17569712762452444,\n",
       " 'Short_Gains': 0}"
      ]
     },
     "metadata": {},
     "output_type": "display_data"
    },
    {
     "data": {
      "text/plain": [
       "2338132.5500000007"
      ]
     },
     "metadata": {},
     "output_type": "display_data"
    },
    {
     "data": {
      "text/plain": [
       "2294306.7"
      ]
     },
     "metadata": {},
     "output_type": "display_data"
    },
    {
     "name": "stdout",
     "output_type": "stream",
     "text": [
      "\n"
     ]
    },
    {
     "data": {
      "text/plain": [
       "'FLFL'"
      ]
     },
     "metadata": {},
     "output_type": "display_data"
    },
    {
     "data": {
      "text/plain": [
       "{'Bought_Price': 0,\n",
       " 'Current_Price': 0,\n",
       " 'Bought_Quantity': 0,\n",
       " 'Sold_Price': 419.85,\n",
       " 'Sold_Quantity': 50,\n",
       " 'Investment': 0,\n",
       " 'Current_Valuation': 0,\n",
       " 'Status': 0,\n",
       " 'Short_Gains': 640.0000000000006}"
      ]
     },
     "metadata": {},
     "output_type": "display_data"
    },
    {
     "data": {
      "text/plain": [
       "2338132.5500000007"
      ]
     },
     "metadata": {},
     "output_type": "display_data"
    },
    {
     "data": {
      "text/plain": [
       "2294306.7"
      ]
     },
     "metadata": {},
     "output_type": "display_data"
    },
    {
     "name": "stdout",
     "output_type": "stream",
     "text": [
      "\n"
     ]
    },
    {
     "data": {
      "text/plain": [
       "'GRANULES'"
      ]
     },
     "metadata": {},
     "output_type": "display_data"
    },
    {
     "data": {
      "text/plain": [
       "{'Bought_Price': 136.53125,\n",
       " 'Current_Price': 90.8,\n",
       " 'Bought_Quantity': 296,\n",
       " 'Sold_Price': 0,\n",
       " 'Sold_Quantity': 0,\n",
       " 'Investment': 40413.25,\n",
       " 'Current_Valuation': 26876.8,\n",
       " 'Status': -0.3349507896543832,\n",
       " 'Short_Gains': 0}"
      ]
     },
     "metadata": {},
     "output_type": "display_data"
    },
    {
     "data": {
      "text/plain": [
       "2358162.500000001"
      ]
     },
     "metadata": {},
     "output_type": "display_data"
    },
    {
     "data": {
      "text/plain": [
       "2314464.3000000003"
      ]
     },
     "metadata": {},
     "output_type": "display_data"
    },
    {
     "name": "stdout",
     "output_type": "stream",
     "text": [
      "\n"
     ]
    },
    {
     "data": {
      "text/plain": [
       "'ISEC'"
      ]
     },
     "metadata": {},
     "output_type": "display_data"
    },
    {
     "data": {
      "text/plain": [
       "{'Bought_Price': 262.05,\n",
       " 'Current_Price': 263.35,\n",
       " 'Bought_Quantity': 78,\n",
       " 'Sold_Price': 540.0,\n",
       " 'Sold_Quantity': 0,\n",
       " 'Investment': 20439.9,\n",
       " 'Current_Valuation': 20541.300000000003,\n",
       " 'Status': 0.004960885327227699,\n",
       " 'Short_Gains': -0.0}"
      ]
     },
     "metadata": {},
     "output_type": "display_data"
    },
    {
     "data": {
      "text/plain": [
       "2378602.400000001"
      ]
     },
     "metadata": {},
     "output_type": "display_data"
    },
    {
     "data": {
      "text/plain": [
       "2335005.6"
      ]
     },
     "metadata": {},
     "output_type": "display_data"
    },
    {
     "name": "stdout",
     "output_type": "stream",
     "text": [
      "\n"
     ]
    },
    {
     "data": {
      "text/plain": [
       "'SIS'"
      ]
     },
     "metadata": {},
     "output_type": "display_data"
    },
    {
     "data": {
      "text/plain": [
       "{'Bought_Price': 0,\n",
       " 'Current_Price': 0,\n",
       " 'Bought_Quantity': 0,\n",
       " 'Sold_Price': 764.1,\n",
       " 'Sold_Quantity': 28,\n",
       " 'Investment': 0,\n",
       " 'Current_Valuation': 0,\n",
       " 'Status': 0,\n",
       " 'Short_Gains': -126.0}"
      ]
     },
     "metadata": {},
     "output_type": "display_data"
    },
    {
     "data": {
      "text/plain": [
       "2378602.400000001"
      ]
     },
     "metadata": {},
     "output_type": "display_data"
    },
    {
     "data": {
      "text/plain": [
       "2335005.6"
      ]
     },
     "metadata": {},
     "output_type": "display_data"
    },
    {
     "name": "stdout",
     "output_type": "stream",
     "text": [
      "\n"
     ]
    },
    {
     "data": {
      "text/plain": [
       "'LAURUSLABS'"
      ]
     },
     "metadata": {},
     "output_type": "display_data"
    },
    {
     "data": {
      "text/plain": [
       "{'Bought_Price': 495.6464285714286,\n",
       " 'Current_Price': 382.95,\n",
       " 'Bought_Quantity': 84,\n",
       " 'Sold_Price': 0,\n",
       " 'Sold_Quantity': 0,\n",
       " 'Investment': 41634.3,\n",
       " 'Current_Valuation': 32167.8,\n",
       " 'Status': -0.2273726230535881,\n",
       " 'Short_Gains': 0}"
      ]
     },
     "metadata": {},
     "output_type": "display_data"
    },
    {
     "data": {
      "text/plain": [
       "2399214.2000000007"
      ]
     },
     "metadata": {},
     "output_type": "display_data"
    },
    {
     "data": {
      "text/plain": [
       "2355684.9"
      ]
     },
     "metadata": {},
     "output_type": "display_data"
    },
    {
     "name": "stdout",
     "output_type": "stream",
     "text": [
      "\n"
     ]
    },
    {
     "data": {
      "text/plain": [
       "'PIIND'"
      ]
     },
     "metadata": {},
     "output_type": "display_data"
    },
    {
     "data": {
      "text/plain": [
       "{'Bought_Price': 1442.4916666666666,\n",
       " 'Current_Price': 864.2,\n",
       " 'Bought_Quantity': 72,\n",
       " 'Sold_Price': 0,\n",
       " 'Sold_Quantity': 0,\n",
       " 'Investment': 103859.4,\n",
       " 'Current_Valuation': 62222.4,\n",
       " 'Status': -0.40089775215339196,\n",
       " 'Short_Gains': 0}"
      ]
     },
     "metadata": {},
     "output_type": "display_data"
    },
    {
     "data": {
      "text/plain": [
       "2419839.2000000007"
      ]
     },
     "metadata": {},
     "output_type": "display_data"
    },
    {
     "data": {
      "text/plain": [
       "2376425.6999999997"
      ]
     },
     "metadata": {},
     "output_type": "display_data"
    },
    {
     "name": "stdout",
     "output_type": "stream",
     "text": [
      "\n"
     ]
    },
    {
     "data": {
      "text/plain": [
       "'CDSL'"
      ]
     },
     "metadata": {},
     "output_type": "display_data"
    },
    {
     "data": {
      "text/plain": [
       "{'Bought_Price': 0,\n",
       " 'Current_Price': 227.15,\n",
       " 'Bought_Quantity': 0,\n",
       " 'Sold_Price': 224.6,\n",
       " 'Sold_Quantity': 0,\n",
       " 'Investment': 0,\n",
       " 'Current_Valuation': 0,\n",
       " 'Status': 0,\n",
       " 'Short_Gains': -0.0}"
      ]
     },
     "metadata": {},
     "output_type": "display_data"
    },
    {
     "data": {
      "text/plain": [
       "2405464.8000000007"
      ]
     },
     "metadata": {},
     "output_type": "display_data"
    },
    {
     "data": {
      "text/plain": [
       "2355699.3"
      ]
     },
     "metadata": {},
     "output_type": "display_data"
    },
    {
     "name": "stdout",
     "output_type": "stream",
     "text": [
      "\n"
     ]
    },
    {
     "data": {
      "text/plain": [
       "'MOTILALOFS'"
      ]
     },
     "metadata": {},
     "output_type": "display_data"
    },
    {
     "data": {
      "text/plain": [
       "{'Bought_Price': 668.025,\n",
       " 'Current_Price': 661.75,\n",
       " 'Bought_Quantity': 30,\n",
       " 'Sold_Price': 669.0,\n",
       " 'Sold_Quantity': 0,\n",
       " 'Investment': 20040.75,\n",
       " 'Current_Valuation': 19852.5,\n",
       " 'Status': -0.009393361026907675,\n",
       " 'Short_Gains': -0.0}"
      ]
     },
     "metadata": {},
     "output_type": "display_data"
    },
    {
     "data": {
      "text/plain": [
       "2425505.5500000007"
      ]
     },
     "metadata": {},
     "output_type": "display_data"
    },
    {
     "data": {
      "text/plain": [
       "2375551.8"
      ]
     },
     "metadata": {},
     "output_type": "display_data"
    },
    {
     "name": "stdout",
     "output_type": "stream",
     "text": [
      "\n"
     ]
    },
    {
     "data": {
      "text/plain": [
       "'TAKE'"
      ]
     },
     "metadata": {},
     "output_type": "display_data"
    },
    {
     "data": {
      "text/plain": [
       "{'Bought_Price': 0,\n",
       " 'Current_Price': 0,\n",
       " 'Bought_Quantity': 0,\n",
       " 'Sold_Price': 149.95,\n",
       " 'Sold_Quantity': 136,\n",
       " 'Investment': 0,\n",
       " 'Current_Valuation': 0,\n",
       " 'Status': 0,\n",
       " 'Short_Gains': 54.39999999999691}"
      ]
     },
     "metadata": {},
     "output_type": "display_data"
    },
    {
     "data": {
      "text/plain": [
       "2425505.5500000007"
      ]
     },
     "metadata": {},
     "output_type": "display_data"
    },
    {
     "data": {
      "text/plain": [
       "2375551.8"
      ]
     },
     "metadata": {},
     "output_type": "display_data"
    },
    {
     "name": "stdout",
     "output_type": "stream",
     "text": [
      "\n"
     ]
    },
    {
     "data": {
      "text/plain": [
       "'NATCOPHARM'"
      ]
     },
     "metadata": {},
     "output_type": "display_data"
    },
    {
     "data": {
      "text/plain": [
       "{'Bought_Price': 704.4840909090909,\n",
       " 'Current_Price': 694.35,\n",
       " 'Bought_Quantity': 88,\n",
       " 'Sold_Price': 679.0,\n",
       " 'Sold_Quantity': 0,\n",
       " 'Investment': 61994.6,\n",
       " 'Current_Valuation': 61102.8,\n",
       " 'Status': -0.014385123865626936,\n",
       " 'Short_Gains': 0.0}"
      ]
     },
     "metadata": {},
     "output_type": "display_data"
    },
    {
     "data": {
      "text/plain": [
       "2446160.5500000007"
      ]
     },
     "metadata": {},
     "output_type": "display_data"
    },
    {
     "data": {
      "text/plain": [
       "2396382.3"
      ]
     },
     "metadata": {},
     "output_type": "display_data"
    },
    {
     "name": "stdout",
     "output_type": "stream",
     "text": [
      "\n"
     ]
    },
    {
     "data": {
      "text/plain": [
       "'ATUL'"
      ]
     },
     "metadata": {},
     "output_type": "display_data"
    },
    {
     "data": {
      "text/plain": [
       "{'Bought_Price': 0,\n",
       " 'Current_Price': 3443.2,\n",
       " 'Bought_Quantity': 0,\n",
       " 'Sold_Price': 3451.45,\n",
       " 'Sold_Quantity': 0,\n",
       " 'Investment': 0,\n",
       " 'Current_Valuation': 0,\n",
       " 'Status': 0,\n",
       " 'Short_Gains': 0.0}"
      ]
     },
     "metadata": {},
     "output_type": "display_data"
    },
    {
     "data": {
      "text/plain": [
       "2425451.8500000006"
      ]
     },
     "metadata": {},
     "output_type": "display_data"
    },
    {
     "data": {
      "text/plain": [
       "2367991.1999999997"
      ]
     },
     "metadata": {},
     "output_type": "display_data"
    },
    {
     "name": "stdout",
     "output_type": "stream",
     "text": [
      "\n"
     ]
    },
    {
     "data": {
      "text/plain": [
       "'GODFRYPHLP'"
      ]
     },
     "metadata": {},
     "output_type": "display_data"
    },
    {
     "data": {
      "text/plain": [
       "{'Bought_Price': 0,\n",
       " 'Current_Price': 0,\n",
       " 'Bought_Quantity': 0,\n",
       " 'Sold_Price': 883.05,\n",
       " 'Sold_Quantity': 24,\n",
       " 'Investment': 0,\n",
       " 'Current_Valuation': 0,\n",
       " 'Status': 0,\n",
       " 'Short_Gains': 78.0}"
      ]
     },
     "metadata": {},
     "output_type": "display_data"
    },
    {
     "data": {
      "text/plain": [
       "2425451.8500000006"
      ]
     },
     "metadata": {},
     "output_type": "display_data"
    },
    {
     "data": {
      "text/plain": [
       "2367991.1999999997"
      ]
     },
     "metadata": {},
     "output_type": "display_data"
    },
    {
     "name": "stdout",
     "output_type": "stream",
     "text": [
      "\n"
     ]
    },
    {
     "data": {
      "text/plain": [
       "'JBCHEPHARM'"
      ]
     },
     "metadata": {},
     "output_type": "display_data"
    },
    {
     "data": {
      "text/plain": [
       "{'Bought_Price': 432.2845744680851,\n",
       " 'Current_Price': 311.25,\n",
       " 'Bought_Quantity': 94,\n",
       " 'Sold_Price': 0,\n",
       " 'Sold_Quantity': 0,\n",
       " 'Investment': 40634.75,\n",
       " 'Current_Valuation': 29257.5,\n",
       " 'Status': -0.2799881874503965,\n",
       " 'Short_Gains': 0}"
      ]
     },
     "metadata": {},
     "output_type": "display_data"
    },
    {
     "data": {
      "text/plain": [
       "2445708.9000000004"
      ]
     },
     "metadata": {},
     "output_type": "display_data"
    },
    {
     "data": {
      "text/plain": [
       "2388533.6999999997"
      ]
     },
     "metadata": {},
     "output_type": "display_data"
    },
    {
     "name": "stdout",
     "output_type": "stream",
     "text": [
      "\n"
     ]
    },
    {
     "data": {
      "text/plain": [
       "'BERGEPAINT'"
      ]
     },
     "metadata": {},
     "output_type": "display_data"
    },
    {
     "data": {
      "text/plain": [
       "{'Bought_Price': 330.275,\n",
       " 'Current_Price': 332.5,\n",
       " 'Bought_Quantity': 62,\n",
       " 'Sold_Price': 521.0,\n",
       " 'Sold_Quantity': 0,\n",
       " 'Investment': 20477.05,\n",
       " 'Current_Valuation': 20615.0,\n",
       " 'Status': 0.006736810233896031,\n",
       " 'Short_Gains': -0.0}"
      ]
     },
     "metadata": {},
     "output_type": "display_data"
    },
    {
     "data": {
      "text/plain": [
       "2466185.95"
      ]
     },
     "metadata": {},
     "output_type": "display_data"
    },
    {
     "data": {
      "text/plain": [
       "2409148.6999999997"
      ]
     },
     "metadata": {},
     "output_type": "display_data"
    },
    {
     "name": "stdout",
     "output_type": "stream",
     "text": [
      "\n"
     ]
    },
    {
     "data": {
      "text/plain": [
       "'MPHASIS'"
      ]
     },
     "metadata": {},
     "output_type": "display_data"
    },
    {
     "data": {
      "text/plain": [
       "{'Bought_Price': 1009.55,\n",
       " 'Current_Price': 1005.6,\n",
       " 'Bought_Quantity': 20,\n",
       " 'Sold_Price': 1005.0,\n",
       " 'Sold_Quantity': 0,\n",
       " 'Investment': 20191.0,\n",
       " 'Current_Valuation': 20112.0,\n",
       " 'Status': -0.003912634342033579,\n",
       " 'Short_Gains': -0.0}"
      ]
     },
     "metadata": {},
     "output_type": "display_data"
    },
    {
     "data": {
      "text/plain": [
       "2486376.95"
      ]
     },
     "metadata": {},
     "output_type": "display_data"
    },
    {
     "data": {
      "text/plain": [
       "2429260.6999999997"
      ]
     },
     "metadata": {},
     "output_type": "display_data"
    },
    {
     "name": "stdout",
     "output_type": "stream",
     "text": [
      "\n"
     ]
    },
    {
     "data": {
      "text/plain": [
       "'NIFTY'"
      ]
     },
     "metadata": {},
     "output_type": "display_data"
    },
    {
     "data": {
      "text/plain": [
       "{'Bought_Price': 11058.804166666667,\n",
       " 'Current_Price': 10910.1,\n",
       " 'Bought_Quantity': 6,\n",
       " 'Sold_Price': 0,\n",
       " 'Sold_Quantity': 0,\n",
       " 'Investment': 66352.825,\n",
       " 'Current_Valuation': 65460.600000000006,\n",
       " 'Status': -0.013446676912399605,\n",
       " 'Short_Gains': 0}"
      ]
     },
     "metadata": {},
     "output_type": "display_data"
    },
    {
     "data": {
      "text/plain": [
       "2508107.6500000004"
      ]
     },
     "metadata": {},
     "output_type": "display_data"
    },
    {
     "data": {
      "text/plain": [
       "2451080.9"
      ]
     },
     "metadata": {},
     "output_type": "display_data"
    },
    {
     "name": "stdout",
     "output_type": "stream",
     "text": [
      "\n"
     ]
    },
    {
     "data": {
      "text/plain": [
       "'ZENSARTECH'"
      ]
     },
     "metadata": {},
     "output_type": "display_data"
    },
    {
     "data": {
      "text/plain": [
       "{'Bought_Price': 233.0,\n",
       " 'Current_Price': 232.5,\n",
       " 'Bought_Quantity': 86,\n",
       " 'Sold_Price': 144.75,\n",
       " 'Sold_Quantity': 0,\n",
       " 'Investment': 20038.0,\n",
       " 'Current_Valuation': 19995.0,\n",
       " 'Status': -0.002145922746781116,\n",
       " 'Short_Gains': 0.0}"
      ]
     },
     "metadata": {},
     "output_type": "display_data"
    },
    {
     "data": {
      "text/plain": [
       "2528145.6500000004"
      ]
     },
     "metadata": {},
     "output_type": "display_data"
    },
    {
     "data": {
      "text/plain": [
       "2471075.9"
      ]
     },
     "metadata": {},
     "output_type": "display_data"
    },
    {
     "name": "stdout",
     "output_type": "stream",
     "text": [
      "\n"
     ]
    },
    {
     "data": {
      "text/plain": [
       "'BHARATFORG'"
      ]
     },
     "metadata": {},
     "output_type": "display_data"
    },
    {
     "data": {
      "text/plain": [
       "{'Bought_Price': 0,\n",
       " 'Current_Price': 384.1,\n",
       " 'Bought_Quantity': 0,\n",
       " 'Sold_Price': 510.0,\n",
       " 'Sold_Quantity': 40,\n",
       " 'Investment': 0,\n",
       " 'Current_Valuation': 0,\n",
       " 'Status': 0,\n",
       " 'Short_Gains': -37.999999999999545}"
      ]
     },
     "metadata": {},
     "output_type": "display_data"
    },
    {
     "data": {
      "text/plain": [
       "2473575.6500000004"
      ]
     },
     "metadata": {},
     "output_type": "display_data"
    },
    {
     "data": {
      "text/plain": [
       "2416505.9"
      ]
     },
     "metadata": {},
     "output_type": "display_data"
    },
    {
     "name": "stdout",
     "output_type": "stream",
     "text": [
      "\n"
     ]
    },
    {
     "data": {
      "text/plain": [
       "'M&M'"
      ]
     },
     "metadata": {},
     "output_type": "display_data"
    },
    {
     "data": {
      "text/plain": [
       "{'Bought_Price': 712.2529069767442,\n",
       " 'Current_Price': 773.35,\n",
       " 'Bought_Quantity': 43,\n",
       " 'Sold_Price': 590.95,\n",
       " 'Sold_Quantity': 0,\n",
       " 'Investment': 30626.875,\n",
       " 'Current_Valuation': 33254.05,\n",
       " 'Status': 0.08578005428239097,\n",
       " 'Short_Gains': -0.0}"
      ]
     },
     "metadata": {},
     "output_type": "display_data"
    },
    {
     "data": {
      "text/plain": [
       "2494078.6000000006"
      ]
     },
     "metadata": {},
     "output_type": "display_data"
    },
    {
     "data": {
      "text/plain": [
       "2436613.0"
      ]
     },
     "metadata": {},
     "output_type": "display_data"
    },
    {
     "name": "stdout",
     "output_type": "stream",
     "text": [
      "\n"
     ]
    },
    {
     "data": {
      "text/plain": [
       "'INDIGO'"
      ]
     },
     "metadata": {},
     "output_type": "display_data"
    },
    {
     "data": {
      "text/plain": [
       "{'Bought_Price': 0,\n",
       " 'Current_Price': 948.25,\n",
       " 'Bought_Quantity': 0,\n",
       " 'Sold_Price': 1174.95,\n",
       " 'Sold_Quantity': 18,\n",
       " 'Investment': 0,\n",
       " 'Current_Valuation': 0.0,\n",
       " 'Status': 0,\n",
       " 'Short_Gains': 168.30000000000246}"
      ]
     },
     "metadata": {},
     "output_type": "display_data"
    },
    {
     "data": {
      "text/plain": [
       "2494078.6000000006"
      ]
     },
     "metadata": {},
     "output_type": "display_data"
    },
    {
     "data": {
      "text/plain": [
       "2436613.0"
      ]
     },
     "metadata": {},
     "output_type": "display_data"
    },
    {
     "name": "stdout",
     "output_type": "stream",
     "text": [
      "\n"
     ]
    },
    {
     "data": {
      "text/plain": [
       "'ADANIGREEN'"
      ]
     },
     "metadata": {},
     "output_type": "display_data"
    },
    {
     "data": {
      "text/plain": [
       "{'Bought_Price': 0,\n",
       " 'Current_Price': 41.4,\n",
       " 'Bought_Quantity': 0,\n",
       " 'Sold_Price': 41.85,\n",
       " 'Sold_Quantity': 0,\n",
       " 'Investment': 0,\n",
       " 'Current_Valuation': 0.0,\n",
       " 'Status': 0,\n",
       " 'Short_Gains': 0.0}"
      ]
     },
     "metadata": {},
     "output_type": "display_data"
    },
    {
     "data": {
      "text/plain": [
       "2494078.6000000006"
      ]
     },
     "metadata": {},
     "output_type": "display_data"
    },
    {
     "data": {
      "text/plain": [
       "2436613.0"
      ]
     },
     "metadata": {},
     "output_type": "display_data"
    },
    {
     "name": "stdout",
     "output_type": "stream",
     "text": [
      "\n"
     ]
    },
    {
     "data": {
      "text/plain": [
       "'NAVINFLUOR'"
      ]
     },
     "metadata": {},
     "output_type": "display_data"
    },
    {
     "data": {
      "text/plain": [
       "{'Bought_Price': 694.3,\n",
       " 'Current_Price': 688.25,\n",
       " 'Bought_Quantity': 30,\n",
       " 'Sold_Price': 1780.5,\n",
       " 'Sold_Quantity': 0,\n",
       " 'Investment': 20829.0,\n",
       " 'Current_Valuation': 20647.5,\n",
       " 'Status': -0.008713812472994383,\n",
       " 'Short_Gains': -0.0}"
      ]
     },
     "metadata": {},
     "output_type": "display_data"
    },
    {
     "data": {
      "text/plain": [
       "2514907.6000000006"
      ]
     },
     "metadata": {},
     "output_type": "display_data"
    },
    {
     "data": {
      "text/plain": [
       "2457260.5"
      ]
     },
     "metadata": {},
     "output_type": "display_data"
    },
    {
     "name": "stdout",
     "output_type": "stream",
     "text": [
      "\n"
     ]
    },
    {
     "data": {
      "text/plain": [
       "'VAIBHAVGBL'"
      ]
     },
     "metadata": {},
     "output_type": "display_data"
    },
    {
     "data": {
      "text/plain": [
       "{'Bought_Price': 946.9272727272728,\n",
       " 'Current_Price': 723.9,\n",
       " 'Bought_Quantity': 44,\n",
       " 'Sold_Price': 0,\n",
       " 'Sold_Quantity': 0,\n",
       " 'Investment': 41664.8,\n",
       " 'Current_Valuation': 31851.6,\n",
       " 'Status': -0.2355273516253529,\n",
       " 'Short_Gains': 0}"
      ]
     },
     "metadata": {},
     "output_type": "display_data"
    },
    {
     "data": {
      "text/plain": [
       "2535084.4000000004"
      ]
     },
     "metadata": {},
     "output_type": "display_data"
    },
    {
     "data": {
      "text/plain": [
       "2477529.7"
      ]
     },
     "metadata": {},
     "output_type": "display_data"
    },
    {
     "name": "stdout",
     "output_type": "stream",
     "text": [
      "\n"
     ]
    },
    {
     "data": {
      "text/plain": [
       "'RALLIS'"
      ]
     },
     "metadata": {},
     "output_type": "display_data"
    },
    {
     "data": {
      "text/plain": [
       "{'Bought_Price': 0,\n",
       " 'Current_Price': 180.5,\n",
       " 'Bought_Quantity': 0,\n",
       " 'Sold_Price': 178.7,\n",
       " 'Sold_Quantity': 0,\n",
       " 'Investment': 0,\n",
       " 'Current_Valuation': 0,\n",
       " 'Status': 0,\n",
       " 'Short_Gains': -0.0}"
      ]
     },
     "metadata": {},
     "output_type": "display_data"
    },
    {
     "data": {
      "text/plain": [
       "2523290.2"
      ]
     },
     "metadata": {},
     "output_type": "display_data"
    },
    {
     "data": {
      "text/plain": [
       "2457650.5"
      ]
     },
     "metadata": {},
     "output_type": "display_data"
    },
    {
     "name": "stdout",
     "output_type": "stream",
     "text": [
      "\n"
     ]
    },
    {
     "data": {
      "text/plain": [
       "'CROMPTON'"
      ]
     },
     "metadata": {},
     "output_type": "display_data"
    },
    {
     "data": {
      "text/plain": [
       "{'Bought_Price': 236.98197674418606,\n",
       " 'Current_Price': 234.3,\n",
       " 'Bought_Quantity': 129,\n",
       " 'Sold_Price': 243.5,\n",
       " 'Sold_Quantity': 0,\n",
       " 'Investment': 30570.675000000003,\n",
       " 'Current_Valuation': 30224.7,\n",
       " 'Status': -0.011317218216477135,\n",
       " 'Short_Gains': -0.0}"
      ]
     },
     "metadata": {},
     "output_type": "display_data"
    },
    {
     "data": {
      "text/plain": [
       "2543706.2"
      ]
     },
     "metadata": {},
     "output_type": "display_data"
    },
    {
     "data": {
      "text/plain": [
       "2478268.9"
      ]
     },
     "metadata": {},
     "output_type": "display_data"
    },
    {
     "name": "stdout",
     "output_type": "stream",
     "text": [
      "\n"
     ]
    },
    {
     "data": {
      "text/plain": [
       "'CARERATING'"
      ]
     },
     "metadata": {},
     "output_type": "display_data"
    },
    {
     "data": {
      "text/plain": [
       "{'Bought_Price': 0,\n",
       " 'Current_Price': 452.25,\n",
       " 'Bought_Quantity': 0,\n",
       " 'Sold_Price': 990.0,\n",
       " 'Sold_Quantity': 22,\n",
       " 'Investment': 0,\n",
       " 'Current_Valuation': 0,\n",
       " 'Status': 0,\n",
       " 'Short_Gains': 217.7999999999995}"
      ]
     },
     "metadata": {},
     "output_type": "display_data"
    },
    {
     "data": {
      "text/plain": [
       "2498166.2"
      ]
     },
     "metadata": {},
     "output_type": "display_data"
    },
    {
     "data": {
      "text/plain": [
       "2432728.9"
      ]
     },
     "metadata": {},
     "output_type": "display_data"
    },
    {
     "name": "stdout",
     "output_type": "stream",
     "text": [
      "\n"
     ]
    },
    {
     "data": {
      "text/plain": [
       "'HAVELLS'"
      ]
     },
     "metadata": {},
     "output_type": "display_data"
    },
    {
     "data": {
      "text/plain": [
       "{'Bought_Price': 692.0,\n",
       " 'Current_Price': 694.8,\n",
       " 'Bought_Quantity': 30,\n",
       " 'Sold_Price': 604.0,\n",
       " 'Sold_Quantity': 0,\n",
       " 'Investment': 20760.0,\n",
       " 'Current_Valuation': 20844.0,\n",
       " 'Status': 0.004046242774566474,\n",
       " 'Short_Gains': -0.0}"
      ]
     },
     "metadata": {},
     "output_type": "display_data"
    },
    {
     "data": {
      "text/plain": [
       "2518926.2"
      ]
     },
     "metadata": {},
     "output_type": "display_data"
    },
    {
     "data": {
      "text/plain": [
       "2453572.9"
      ]
     },
     "metadata": {},
     "output_type": "display_data"
    },
    {
     "name": "stdout",
     "output_type": "stream",
     "text": [
      "\n"
     ]
    },
    {
     "data": {
      "text/plain": [
       "'ELGIEQUIP'"
      ]
     },
     "metadata": {},
     "output_type": "display_data"
    },
    {
     "data": {
      "text/plain": [
       "{'Bought_Price': 0,\n",
       " 'Current_Price': 168.3,\n",
       " 'Bought_Quantity': 0,\n",
       " 'Sold_Price': 262.0,\n",
       " 'Sold_Quantity': 78,\n",
       " 'Investment': 0,\n",
       " 'Current_Valuation': 0,\n",
       " 'Status': 0,\n",
       " 'Short_Gains': 214.5}"
      ]
     },
     "metadata": {},
     "output_type": "display_data"
    },
    {
     "data": {
      "text/plain": [
       "2487486.2"
      ]
     },
     "metadata": {},
     "output_type": "display_data"
    },
    {
     "data": {
      "text/plain": [
       "2422132.9"
      ]
     },
     "metadata": {},
     "output_type": "display_data"
    },
    {
     "name": "stdout",
     "output_type": "stream",
     "text": [
      "\n"
     ]
    },
    {
     "data": {
      "text/plain": [
       "'ASIANPAINT'"
      ]
     },
     "metadata": {},
     "output_type": "display_data"
    },
    {
     "data": {
      "text/plain": [
       "{'Bought_Price': 1369.15,\n",
       " 'Current_Price': 1371.55,\n",
       " 'Bought_Quantity': 16,\n",
       " 'Sold_Price': 1724.0,\n",
       " 'Sold_Quantity': 0,\n",
       " 'Investment': 21906.4,\n",
       " 'Current_Valuation': 21944.8,\n",
       " 'Status': 0.0017529123908993634,\n",
       " 'Short_Gains': 0.0}"
      ]
     },
     "metadata": {},
     "output_type": "display_data"
    },
    {
     "data": {
      "text/plain": [
       "2509392.6"
      ]
     },
     "metadata": {},
     "output_type": "display_data"
    },
    {
     "data": {
      "text/plain": [
       "2444077.6999999997"
      ]
     },
     "metadata": {},
     "output_type": "display_data"
    },
    {
     "name": "stdout",
     "output_type": "stream",
     "text": [
      "\n"
     ]
    },
    {
     "data": {
      "text/plain": [
       "'SPARC'"
      ]
     },
     "metadata": {},
     "output_type": "display_data"
    },
    {
     "data": {
      "text/plain": [
       "{'Bought_Price': 183.6418181818182,\n",
       " 'Current_Price': 189.25,\n",
       " 'Bought_Quantity': 165,\n",
       " 'Sold_Price': 0,\n",
       " 'Sold_Quantity': 0,\n",
       " 'Investment': 30300.9,\n",
       " 'Current_Valuation': 31226.25,\n",
       " 'Status': 0.030538696870389938,\n",
       " 'Short_Gains': 0}"
      ]
     },
     "metadata": {},
     "output_type": "display_data"
    },
    {
     "data": {
      "text/plain": [
       "2529575.0"
      ]
     },
     "metadata": {},
     "output_type": "display_data"
    },
    {
     "data": {
      "text/plain": [
       "2464138.1999999997"
      ]
     },
     "metadata": {},
     "output_type": "display_data"
    },
    {
     "name": "stdout",
     "output_type": "stream",
     "text": [
      "\n"
     ]
    },
    {
     "data": {
      "text/plain": [
       "'LUPIN'"
      ]
     },
     "metadata": {},
     "output_type": "display_data"
    },
    {
     "data": {
      "text/plain": [
       "{'Bought_Price': 0,\n",
       " 'Current_Price': 853.8,\n",
       " 'Bought_Quantity': 0,\n",
       " 'Sold_Price': 848.7,\n",
       " 'Sold_Quantity': 24,\n",
       " 'Investment': 0,\n",
       " 'Current_Valuation': 0.0,\n",
       " 'Status': 0,\n",
       " 'Short_Gains': 174.0}"
      ]
     },
     "metadata": {},
     "output_type": "display_data"
    },
    {
     "data": {
      "text/plain": [
       "2529575.0"
      ]
     },
     "metadata": {},
     "output_type": "display_data"
    },
    {
     "data": {
      "text/plain": [
       "2464138.1999999997"
      ]
     },
     "metadata": {},
     "output_type": "display_data"
    },
    {
     "name": "stdout",
     "output_type": "stream",
     "text": [
      "\n"
     ]
    },
    {
     "data": {
      "text/plain": [
       "'MCX'"
      ]
     },
     "metadata": {},
     "output_type": "display_data"
    },
    {
     "data": {
      "text/plain": [
       "{'Bought_Price': 985.8499999999999,\n",
       " 'Current_Price': 734.95,\n",
       " 'Bought_Quantity': 42,\n",
       " 'Sold_Price': 0,\n",
       " 'Sold_Quantity': 0,\n",
       " 'Investment': 41405.7,\n",
       " 'Current_Valuation': 30867.9,\n",
       " 'Status': -0.25450119186488807,\n",
       " 'Short_Gains': 0}"
      ]
     },
     "metadata": {},
     "output_type": "display_data"
    },
    {
     "data": {
      "text/plain": [
       "2550206.8"
      ]
     },
     "metadata": {},
     "output_type": "display_data"
    },
    {
     "data": {
      "text/plain": [
       "2484716.8"
      ]
     },
     "metadata": {},
     "output_type": "display_data"
    },
    {
     "name": "stdout",
     "output_type": "stream",
     "text": [
      "\n"
     ]
    },
    {
     "data": {
      "text/plain": [
       "'CERA'"
      ]
     },
     "metadata": {},
     "output_type": "display_data"
    },
    {
     "data": {
      "text/plain": [
       "{'Bought_Price': 0,\n",
       " 'Current_Price': 2367.5,\n",
       " 'Bought_Quantity': 0,\n",
       " 'Sold_Price': 2362.0,\n",
       " 'Sold_Quantity': 0,\n",
       " 'Investment': 0,\n",
       " 'Current_Valuation': 0,\n",
       " 'Status': 0,\n",
       " 'Short_Gains': -0.0}"
      ]
     },
     "metadata": {},
     "output_type": "display_data"
    },
    {
     "data": {
      "text/plain": [
       "2526586.8"
      ]
     },
     "metadata": {},
     "output_type": "display_data"
    },
    {
     "data": {
      "text/plain": [
       "2462155.8"
      ]
     },
     "metadata": {},
     "output_type": "display_data"
    },
    {
     "name": "stdout",
     "output_type": "stream",
     "text": [
      "\n"
     ]
    },
    {
     "data": {
      "text/plain": [
       "'REDINGTON'"
      ]
     },
     "metadata": {},
     "output_type": "display_data"
    },
    {
     "data": {
      "text/plain": [
       "{'Bought_Price': 92.27385321100915,\n",
       " 'Current_Price': 88.55,\n",
       " 'Bought_Quantity': 436,\n",
       " 'Sold_Price': 0,\n",
       " 'Sold_Quantity': 0,\n",
       " 'Investment': 40231.399999999994,\n",
       " 'Current_Valuation': 38607.799999999996,\n",
       " 'Status': -0.040356537430961854,\n",
       " 'Short_Gains': 0}"
      ]
     },
     "metadata": {},
     "output_type": "display_data"
    },
    {
     "data": {
      "text/plain": [
       "2546730.5999999996"
      ]
     },
     "metadata": {},
     "output_type": "display_data"
    },
    {
     "data": {
      "text/plain": [
       "2482345.1999999997"
      ]
     },
     "metadata": {},
     "output_type": "display_data"
    },
    {
     "name": "stdout",
     "output_type": "stream",
     "text": [
      "\n"
     ]
    },
    {
     "data": {
      "text/plain": [
       "'APOLLOHOSP'"
      ]
     },
     "metadata": {},
     "output_type": "display_data"
    },
    {
     "data": {
      "text/plain": [
       "{'Bought_Price': 0,\n",
       " 'Current_Price': 1266.4,\n",
       " 'Bought_Quantity': 0,\n",
       " 'Sold_Price': 1253.0,\n",
       " 'Sold_Quantity': 0,\n",
       " 'Investment': 0,\n",
       " 'Current_Valuation': 0.0,\n",
       " 'Status': 0,\n",
       " 'Short_Gains': -0.0}"
      ]
     },
     "metadata": {},
     "output_type": "display_data"
    },
    {
     "data": {
      "text/plain": [
       "2546730.5999999996"
      ]
     },
     "metadata": {},
     "output_type": "display_data"
    },
    {
     "data": {
      "text/plain": [
       "2482345.1999999997"
      ]
     },
     "metadata": {},
     "output_type": "display_data"
    },
    {
     "name": "stdout",
     "output_type": "stream",
     "text": [
      "\n"
     ]
    },
    {
     "data": {
      "text/plain": [
       "'CAPLIPOINT'"
      ]
     },
     "metadata": {},
     "output_type": "display_data"
    },
    {
     "data": {
      "text/plain": [
       "{'Bought_Price': 0,\n",
       " 'Current_Price': 382.7,\n",
       " 'Bought_Quantity': 0,\n",
       " 'Sold_Price': 382.7,\n",
       " 'Sold_Quantity': 0,\n",
       " 'Investment': 0,\n",
       " 'Current_Valuation': 0.0,\n",
       " 'Status': 0,\n",
       " 'Short_Gains': 0.0}"
      ]
     },
     "metadata": {},
     "output_type": "display_data"
    },
    {
     "data": {
      "text/plain": [
       "2546730.5999999996"
      ]
     },
     "metadata": {},
     "output_type": "display_data"
    },
    {
     "data": {
      "text/plain": [
       "2482345.1999999997"
      ]
     },
     "metadata": {},
     "output_type": "display_data"
    },
    {
     "name": "stdout",
     "output_type": "stream",
     "text": [
      "\n"
     ]
    },
    {
     "data": {
      "text/plain": [
       "'ICICIBANK'"
      ]
     },
     "metadata": {},
     "output_type": "display_data"
    },
    {
     "data": {
      "text/plain": [
       "{'Bought_Price': 0,\n",
       " 'Current_Price': 363.75,\n",
       " 'Bought_Quantity': 0,\n",
       " 'Sold_Price': 361.5,\n",
       " 'Sold_Quantity': 0,\n",
       " 'Investment': 0,\n",
       " 'Current_Valuation': 0.0,\n",
       " 'Status': 0,\n",
       " 'Short_Gains': -0.0}"
      ]
     },
     "metadata": {},
     "output_type": "display_data"
    },
    {
     "data": {
      "text/plain": [
       "2546730.5999999996"
      ]
     },
     "metadata": {},
     "output_type": "display_data"
    },
    {
     "data": {
      "text/plain": [
       "2482345.1999999997"
      ]
     },
     "metadata": {},
     "output_type": "display_data"
    },
    {
     "name": "stdout",
     "output_type": "stream",
     "text": [
      "\n"
     ]
    },
    {
     "data": {
      "text/plain": [
       "'SHREECEM'"
      ]
     },
     "metadata": {},
     "output_type": "display_data"
    },
    {
     "data": {
      "text/plain": [
       "{'Bought_Price': 0,\n",
       " 'Current_Price': 21332.75,\n",
       " 'Bought_Quantity': 0,\n",
       " 'Sold_Price': 17260.0,\n",
       " 'Sold_Quantity': 2,\n",
       " 'Investment': 0,\n",
       " 'Current_Valuation': 0.0,\n",
       " 'Status': 0,\n",
       " 'Short_Gains': 573.5}"
      ]
     },
     "metadata": {},
     "output_type": "display_data"
    },
    {
     "data": {
      "text/plain": [
       "2546730.5999999996"
      ]
     },
     "metadata": {},
     "output_type": "display_data"
    },
    {
     "data": {
      "text/plain": [
       "2482345.1999999997"
      ]
     },
     "metadata": {},
     "output_type": "display_data"
    },
    {
     "name": "stdout",
     "output_type": "stream",
     "text": [
      "\n"
     ]
    },
    {
     "data": {
      "text/plain": [
       "'MANAPPURAM'"
      ]
     },
     "metadata": {},
     "output_type": "display_data"
    },
    {
     "data": {
      "text/plain": [
       "{'Bought_Price': 130.22538659793813,\n",
       " 'Current_Price': 92.5,\n",
       " 'Bought_Quantity': 388,\n",
       " 'Sold_Price': 166.5,\n",
       " 'Sold_Quantity': 0,\n",
       " 'Investment': 50527.44999999999,\n",
       " 'Current_Valuation': 35890.0,\n",
       " 'Status': -0.2896930282450429,\n",
       " 'Short_Gains': 0.0}"
      ]
     },
     "metadata": {},
     "output_type": "display_data"
    },
    {
     "data": {
      "text/plain": [
       "2566901.05"
      ]
     },
     "metadata": {},
     "output_type": "display_data"
    },
    {
     "data": {
      "text/plain": [
       "2502510.1999999997"
      ]
     },
     "metadata": {},
     "output_type": "display_data"
    },
    {
     "name": "stdout",
     "output_type": "stream",
     "text": [
      "\n"
     ]
    },
    {
     "data": {
      "text/plain": [
       "'CHAMBLFERT'"
      ]
     },
     "metadata": {},
     "output_type": "display_data"
    },
    {
     "data": {
      "text/plain": [
       "{'Bought_Price': 0,\n",
       " 'Current_Price': 147.25,\n",
       " 'Bought_Quantity': 0,\n",
       " 'Sold_Price': 147.0,\n",
       " 'Sold_Quantity': 0,\n",
       " 'Investment': 0,\n",
       " 'Current_Valuation': 0,\n",
       " 'Status': 0,\n",
       " 'Short_Gains': -0.0}"
      ]
     },
     "metadata": {},
     "output_type": "display_data"
    },
    {
     "data": {
      "text/plain": [
       "2548379.05"
      ]
     },
     "metadata": {},
     "output_type": "display_data"
    },
    {
     "data": {
      "text/plain": [
       "2482268.3"
      ]
     },
     "metadata": {},
     "output_type": "display_data"
    },
    {
     "name": "stdout",
     "output_type": "stream",
     "text": [
      "\n"
     ]
    },
    {
     "data": {
      "text/plain": [
       "'UFLEX'"
      ]
     },
     "metadata": {},
     "output_type": "display_data"
    },
    {
     "data": {
      "text/plain": [
       "{'Bought_Price': 0,\n",
       " 'Current_Price': 280.9,\n",
       " 'Bought_Quantity': 0,\n",
       " 'Sold_Price': 283.85,\n",
       " 'Sold_Quantity': 0,\n",
       " 'Investment': 0,\n",
       " 'Current_Valuation': 0.0,\n",
       " 'Status': 0,\n",
       " 'Short_Gains': 0.0}"
      ]
     },
     "metadata": {},
     "output_type": "display_data"
    },
    {
     "data": {
      "text/plain": [
       "2548379.05"
      ]
     },
     "metadata": {},
     "output_type": "display_data"
    },
    {
     "data": {
      "text/plain": [
       "2482268.3"
      ]
     },
     "metadata": {},
     "output_type": "display_data"
    },
    {
     "name": "stdout",
     "output_type": "stream",
     "text": [
      "\n"
     ]
    },
    {
     "data": {
      "text/plain": [
       "'CHENNPETRO'"
      ]
     },
     "metadata": {},
     "output_type": "display_data"
    },
    {
     "data": {
      "text/plain": [
       "{'Bought_Price': 0,\n",
       " 'Current_Price': 290.55,\n",
       " 'Bought_Quantity': 0,\n",
       " 'Sold_Price': 298.95,\n",
       " 'Sold_Quantity': 0,\n",
       " 'Investment': 0,\n",
       " 'Current_Valuation': 0,\n",
       " 'Status': 0,\n",
       " 'Short_Gains': 0.0}"
      ]
     },
     "metadata": {},
     "output_type": "display_data"
    },
    {
     "data": {
      "text/plain": [
       "2514597.6999999997"
      ]
     },
     "metadata": {},
     "output_type": "display_data"
    },
    {
     "data": {
      "text/plain": [
       "2471318.5999999996"
      ]
     },
     "metadata": {},
     "output_type": "display_data"
    },
    {
     "name": "stdout",
     "output_type": "stream",
     "text": [
      "\n"
     ]
    },
    {
     "data": {
      "text/plain": [
       "'BLUEDART'"
      ]
     },
     "metadata": {},
     "output_type": "display_data"
    },
    {
     "data": {
      "text/plain": [
       "{'Bought_Price': 0,\n",
       " 'Current_Price': 3413.75,\n",
       " 'Bought_Quantity': 0,\n",
       " 'Sold_Price': 3409.95,\n",
       " 'Sold_Quantity': 0,\n",
       " 'Investment': 0,\n",
       " 'Current_Valuation': 0,\n",
       " 'Status': 0,\n",
       " 'Short_Gains': -0.0}"
      ]
     },
     "metadata": {},
     "output_type": "display_data"
    },
    {
     "data": {
      "text/plain": [
       "2480498.1999999997"
      ]
     },
     "metadata": {},
     "output_type": "display_data"
    },
    {
     "data": {
      "text/plain": [
       "2449656.0999999996"
      ]
     },
     "metadata": {},
     "output_type": "display_data"
    },
    {
     "name": "stdout",
     "output_type": "stream",
     "text": [
      "\n"
     ]
    },
    {
     "data": {
      "text/plain": [
       "'HEXAWARE'"
      ]
     },
     "metadata": {},
     "output_type": "display_data"
    },
    {
     "data": {
      "text/plain": [
       "{'Bought_Price': 331.75,\n",
       " 'Current_Price': 332.3,\n",
       " 'Bought_Quantity': 62,\n",
       " 'Sold_Price': 355.1,\n",
       " 'Sold_Quantity': 0,\n",
       " 'Investment': 20568.5,\n",
       " 'Current_Valuation': 20602.600000000002,\n",
       " 'Status': 0.0016578749058026683,\n",
       " 'Short_Gains': -0.0}"
      ]
     },
     "metadata": {},
     "output_type": "display_data"
    },
    {
     "data": {
      "text/plain": [
       "2501066.6999999997"
      ]
     },
     "metadata": {},
     "output_type": "display_data"
    },
    {
     "data": {
      "text/plain": [
       "2470258.6999999997"
      ]
     },
     "metadata": {},
     "output_type": "display_data"
    },
    {
     "name": "stdout",
     "output_type": "stream",
     "text": [
      "\n"
     ]
    },
    {
     "data": {
      "text/plain": [
       "'STAR'"
      ]
     },
     "metadata": {},
     "output_type": "display_data"
    },
    {
     "data": {
      "text/plain": [
       "{'Bought_Price': 466.25,\n",
       " 'Current_Price': 466.15,\n",
       " 'Bought_Quantity': 44,\n",
       " 'Sold_Price': 411.5,\n",
       " 'Sold_Quantity': 0,\n",
       " 'Investment': 20515.0,\n",
       " 'Current_Valuation': 20510.6,\n",
       " 'Status': -0.00021447721179631757,\n",
       " 'Short_Gains': -0.0}"
      ]
     },
     "metadata": {},
     "output_type": "display_data"
    },
    {
     "data": {
      "text/plain": [
       "2521581.6999999997"
      ]
     },
     "metadata": {},
     "output_type": "display_data"
    },
    {
     "data": {
      "text/plain": [
       "2490769.3"
      ]
     },
     "metadata": {},
     "output_type": "display_data"
    },
    {
     "name": "stdout",
     "output_type": "stream",
     "text": [
      "\n"
     ]
    },
    {
     "data": {
      "text/plain": [
       "'TIINDIA'"
      ]
     },
     "metadata": {},
     "output_type": "display_data"
    },
    {
     "data": {
      "text/plain": [
       "{'Bought_Price': 0,\n",
       " 'Current_Price': 350.15,\n",
       " 'Bought_Quantity': 0,\n",
       " 'Sold_Price': 359.05,\n",
       " 'Sold_Quantity': 0,\n",
       " 'Investment': 0,\n",
       " 'Current_Valuation': 0.0,\n",
       " 'Status': 0,\n",
       " 'Short_Gains': 0.0}"
      ]
     },
     "metadata": {},
     "output_type": "display_data"
    },
    {
     "data": {
      "text/plain": [
       "2521581.6999999997"
      ]
     },
     "metadata": {},
     "output_type": "display_data"
    },
    {
     "data": {
      "text/plain": [
       "2490769.3"
      ]
     },
     "metadata": {},
     "output_type": "display_data"
    },
    {
     "name": "stdout",
     "output_type": "stream",
     "text": [
      "\n"
     ]
    },
    {
     "data": {
      "text/plain": [
       "'IEX'"
      ]
     },
     "metadata": {},
     "output_type": "display_data"
    },
    {
     "data": {
      "text/plain": [
       "{'Bought_Price': 0,\n",
       " 'Current_Price': 166.15,\n",
       " 'Bought_Quantity': 0,\n",
       " 'Sold_Price': 166.3,\n",
       " 'Sold_Quantity': 0,\n",
       " 'Investment': 0,\n",
       " 'Current_Valuation': 0.0,\n",
       " 'Status': 0,\n",
       " 'Short_Gains': 0.0}"
      ]
     },
     "metadata": {},
     "output_type": "display_data"
    },
    {
     "data": {
      "text/plain": [
       "2521581.6999999997"
      ]
     },
     "metadata": {},
     "output_type": "display_data"
    },
    {
     "data": {
      "text/plain": [
       "2490769.3"
      ]
     },
     "metadata": {},
     "output_type": "display_data"
    },
    {
     "name": "stdout",
     "output_type": "stream",
     "text": [
      "\n"
     ]
    },
    {
     "data": {
      "text/plain": [
       "'NFL'"
      ]
     },
     "metadata": {},
     "output_type": "display_data"
    },
    {
     "data": {
      "text/plain": [
       "{'Bought_Price': 37.466775700934576,\n",
       " 'Current_Price': 36.15,\n",
       " 'Bought_Quantity': 1070,\n",
       " 'Sold_Price': 0,\n",
       " 'Sold_Quantity': 0,\n",
       " 'Investment': 40089.45,\n",
       " 'Current_Valuation': 38680.5,\n",
       " 'Status': -0.035145156643456,\n",
       " 'Short_Gains': 0}"
      ]
     },
     "metadata": {},
     "output_type": "display_data"
    },
    {
     "data": {
      "text/plain": [
       "2541650.3499999996"
      ]
     },
     "metadata": {},
     "output_type": "display_data"
    },
    {
     "data": {
      "text/plain": [
       "2510796.4"
      ]
     },
     "metadata": {},
     "output_type": "display_data"
    },
    {
     "name": "stdout",
     "output_type": "stream",
     "text": [
      "\n"
     ]
    },
    {
     "data": {
      "text/plain": [
       "'ASHOKA'"
      ]
     },
     "metadata": {},
     "output_type": "display_data"
    },
    {
     "data": {
      "text/plain": [
       "{'Bought_Price': 0,\n",
       " 'Current_Price': 0,\n",
       " 'Bought_Quantity': 0,\n",
       " 'Sold_Price': 126.5,\n",
       " 'Sold_Quantity': 160,\n",
       " 'Investment': 0,\n",
       " 'Current_Valuation': 0,\n",
       " 'Status': 0,\n",
       " 'Short_Gains': 247.99999999999955}"
      ]
     },
     "metadata": {},
     "output_type": "display_data"
    },
    {
     "data": {
      "text/plain": [
       "2541650.3499999996"
      ]
     },
     "metadata": {},
     "output_type": "display_data"
    },
    {
     "data": {
      "text/plain": [
       "2510796.4"
      ]
     },
     "metadata": {},
     "output_type": "display_data"
    },
    {
     "name": "stdout",
     "output_type": "stream",
     "text": [
      "\n"
     ]
    },
    {
     "data": {
      "text/plain": [
       "'NESTLEIND'"
      ]
     },
     "metadata": {},
     "output_type": "display_data"
    },
    {
     "data": {
      "text/plain": [
       "{'Bought_Price': 11080.175,\n",
       " 'Current_Price': 11015.05,\n",
       " 'Bought_Quantity': 2,\n",
       " 'Sold_Price': 17125.1,\n",
       " 'Sold_Quantity': 0,\n",
       " 'Investment': 22160.35,\n",
       " 'Current_Valuation': 22030.1,\n",
       " 'Status': -0.005877614748864527,\n",
       " 'Short_Gains': -0.0}"
      ]
     },
     "metadata": {},
     "output_type": "display_data"
    },
    {
     "data": {
      "text/plain": [
       "2563810.6999999997"
      ]
     },
     "metadata": {},
     "output_type": "display_data"
    },
    {
     "data": {
      "text/plain": [
       "2532826.5"
      ]
     },
     "metadata": {},
     "output_type": "display_data"
    },
    {
     "name": "stdout",
     "output_type": "stream",
     "text": [
      "\n"
     ]
    },
    {
     "data": {
      "text/plain": [
       "'FSL'"
      ]
     },
     "metadata": {},
     "output_type": "display_data"
    },
    {
     "data": {
      "text/plain": [
       "{'Bought_Price': 48.05,\n",
       " 'Current_Price': 48.6,\n",
       " 'Bought_Quantity': 418,\n",
       " 'Sold_Price': 41.65,\n",
       " 'Sold_Quantity': 0,\n",
       " 'Investment': 20084.899999999998,\n",
       " 'Current_Valuation': 20314.8,\n",
       " 'Status': 0.011446409989594246,\n",
       " 'Short_Gains': -0.0}"
      ]
     },
     "metadata": {},
     "output_type": "display_data"
    },
    {
     "data": {
      "text/plain": [
       "2583895.5999999996"
      ]
     },
     "metadata": {},
     "output_type": "display_data"
    },
    {
     "data": {
      "text/plain": [
       "2553141.3"
      ]
     },
     "metadata": {},
     "output_type": "display_data"
    },
    {
     "name": "stdout",
     "output_type": "stream",
     "text": [
      "\n"
     ]
    },
    {
     "data": {
      "text/plain": [
       "'EDELWEISS'"
      ]
     },
     "metadata": {},
     "output_type": "display_data"
    },
    {
     "data": {
      "text/plain": [
       "{'Bought_Price': 89.5754458598726,\n",
       " 'Current_Price': 183.15,\n",
       " 'Bought_Quantity': 785,\n",
       " 'Sold_Price': 0,\n",
       " 'Sold_Quantity': 0,\n",
       " 'Investment': 70316.72499999999,\n",
       " 'Current_Valuation': 143772.75,\n",
       " 'Status': 1.0446451395453928,\n",
       " 'Short_Gains': 0}"
      ]
     },
     "metadata": {},
     "output_type": "display_data"
    },
    {
     "data": {
      "text/plain": [
       "2604022.8499999996"
      ]
     },
     "metadata": {},
     "output_type": "display_data"
    },
    {
     "data": {
      "text/plain": [
       "2573287.8"
      ]
     },
     "metadata": {},
     "output_type": "display_data"
    },
    {
     "name": "stdout",
     "output_type": "stream",
     "text": [
      "\n"
     ]
    },
    {
     "data": {
      "text/plain": [
       "'BASF'"
      ]
     },
     "metadata": {},
     "output_type": "display_data"
    },
    {
     "data": {
      "text/plain": [
       "{'Bought_Price': 1547.15,\n",
       " 'Current_Price': 1550.3,\n",
       " 'Bought_Quantity': 14,\n",
       " 'Sold_Price': 1344.15,\n",
       " 'Sold_Quantity': 0,\n",
       " 'Investment': 21660.100000000002,\n",
       " 'Current_Valuation': 21704.2,\n",
       " 'Status': 0.002036001680509256,\n",
       " 'Short_Gains': -0.0}"
      ]
     },
     "metadata": {},
     "output_type": "display_data"
    },
    {
     "data": {
      "text/plain": [
       "2625682.9499999997"
      ]
     },
     "metadata": {},
     "output_type": "display_data"
    },
    {
     "data": {
      "text/plain": [
       "2594992.0"
      ]
     },
     "metadata": {},
     "output_type": "display_data"
    },
    {
     "name": "stdout",
     "output_type": "stream",
     "text": [
      "\n"
     ]
    },
    {
     "data": {
      "text/plain": [
       "'RATNAMANI'"
      ]
     },
     "metadata": {},
     "output_type": "display_data"
    },
    {
     "data": {
      "text/plain": [
       "{'Bought_Price': 944.475,\n",
       " 'Current_Price': 947.25,\n",
       " 'Bought_Quantity': 22,\n",
       " 'Sold_Price': 1061.95,\n",
       " 'Sold_Quantity': 0,\n",
       " 'Investment': 20778.45,\n",
       " 'Current_Valuation': 20839.5,\n",
       " 'Status': 0.002938140236639368,\n",
       " 'Short_Gains': 0.0}"
      ]
     },
     "metadata": {},
     "output_type": "display_data"
    },
    {
     "data": {
      "text/plain": [
       "2646461.4"
      ]
     },
     "metadata": {},
     "output_type": "display_data"
    },
    {
     "data": {
      "text/plain": [
       "2615831.5"
      ]
     },
     "metadata": {},
     "output_type": "display_data"
    },
    {
     "name": "stdout",
     "output_type": "stream",
     "text": [
      "\n"
     ]
    },
    {
     "data": {
      "text/plain": [
       "'ICICIPRULI'"
      ]
     },
     "metadata": {},
     "output_type": "display_data"
    },
    {
     "data": {
      "text/plain": [
       "{'Bought_Price': 0,\n",
       " 'Current_Price': 325.9,\n",
       " 'Bought_Quantity': 0,\n",
       " 'Sold_Price': 324.5,\n",
       " 'Sold_Quantity': 0,\n",
       " 'Investment': 0,\n",
       " 'Current_Valuation': 0,\n",
       " 'Status': 0,\n",
       " 'Short_Gains': -0.0}"
      ]
     },
     "metadata": {},
     "output_type": "display_data"
    },
    {
     "data": {
      "text/plain": [
       "2638997.9"
      ]
     },
     "metadata": {},
     "output_type": "display_data"
    },
    {
     "data": {
      "text/plain": [
       "2605743.7"
      ]
     },
     "metadata": {},
     "output_type": "display_data"
    },
    {
     "name": "stdout",
     "output_type": "stream",
     "text": [
      "\n"
     ]
    },
    {
     "data": {
      "text/plain": [
       "'WIPRO'"
      ]
     },
     "metadata": {},
     "output_type": "display_data"
    },
    {
     "data": {
      "text/plain": [
       "{'Bought_Price': 0,\n",
       " 'Current_Price': 326.65,\n",
       " 'Bought_Quantity': 0,\n",
       " 'Sold_Price': 330.75,\n",
       " 'Sold_Quantity': 0,\n",
       " 'Investment': 0,\n",
       " 'Current_Valuation': 0.0,\n",
       " 'Status': 0,\n",
       " 'Short_Gains': 0.0}"
      ]
     },
     "metadata": {},
     "output_type": "display_data"
    },
    {
     "data": {
      "text/plain": [
       "2638997.9"
      ]
     },
     "metadata": {},
     "output_type": "display_data"
    },
    {
     "data": {
      "text/plain": [
       "2605743.7"
      ]
     },
     "metadata": {},
     "output_type": "display_data"
    },
    {
     "name": "stdout",
     "output_type": "stream",
     "text": [
      "\n"
     ]
    },
    {
     "data": {
      "text/plain": [
       "'FRETAIL'"
      ]
     },
     "metadata": {},
     "output_type": "display_data"
    },
    {
     "data": {
      "text/plain": [
       "{'Bought_Price': 0,\n",
       " 'Current_Price': 95.45,\n",
       " 'Bought_Quantity': 0,\n",
       " 'Sold_Price': 500.5,\n",
       " 'Sold_Quantity': 21,\n",
       " 'Investment': 0,\n",
       " 'Current_Valuation': 0.0,\n",
       " 'Status': 0,\n",
       " 'Short_Gains': 105.0}"
      ]
     },
     "metadata": {},
     "output_type": "display_data"
    },
    {
     "data": {
      "text/plain": [
       "2638997.9"
      ]
     },
     "metadata": {},
     "output_type": "display_data"
    },
    {
     "data": {
      "text/plain": [
       "2605743.7"
      ]
     },
     "metadata": {},
     "output_type": "display_data"
    },
    {
     "name": "stdout",
     "output_type": "stream",
     "text": [
      "\n"
     ]
    },
    {
     "data": {
      "text/plain": [
       "'GRASIM'"
      ]
     },
     "metadata": {},
     "output_type": "display_data"
    },
    {
     "data": {
      "text/plain": [
       "{'Bought_Price': 0,\n",
       " 'Current_Price': 582.7,\n",
       " 'Bought_Quantity': 0,\n",
       " 'Sold_Price': 827.5,\n",
       " 'Sold_Quantity': 13,\n",
       " 'Investment': 0,\n",
       " 'Current_Valuation': 0.0,\n",
       " 'Status': 0,\n",
       " 'Short_Gains': -78.0}"
      ]
     },
     "metadata": {},
     "output_type": "display_data"
    },
    {
     "data": {
      "text/plain": [
       "2638997.9"
      ]
     },
     "metadata": {},
     "output_type": "display_data"
    },
    {
     "data": {
      "text/plain": [
       "2605743.7"
      ]
     },
     "metadata": {},
     "output_type": "display_data"
    },
    {
     "name": "stdout",
     "output_type": "stream",
     "text": [
      "\n"
     ]
    },
    {
     "data": {
      "text/plain": [
       "'GET&D'"
      ]
     },
     "metadata": {},
     "output_type": "display_data"
    },
    {
     "data": {
      "text/plain": [
       "{'Bought_Price': 0,\n",
       " 'Current_Price': 298.7,\n",
       " 'Bought_Quantity': 0,\n",
       " 'Sold_Price': 290.5,\n",
       " 'Sold_Quantity': 0,\n",
       " 'Investment': 0,\n",
       " 'Current_Valuation': 0.0,\n",
       " 'Status': 0,\n",
       " 'Short_Gains': -0.0}"
      ]
     },
     "metadata": {},
     "output_type": "display_data"
    },
    {
     "data": {
      "text/plain": [
       "2638997.9"
      ]
     },
     "metadata": {},
     "output_type": "display_data"
    },
    {
     "data": {
      "text/plain": [
       "2605743.7"
      ]
     },
     "metadata": {},
     "output_type": "display_data"
    },
    {
     "name": "stdout",
     "output_type": "stream",
     "text": [
      "\n"
     ]
    },
    {
     "data": {
      "text/plain": [
       "'HERITGFOOD'"
      ]
     },
     "metadata": {},
     "output_type": "display_data"
    },
    {
     "data": {
      "text/plain": [
       "{'Bought_Price': 0,\n",
       " 'Current_Price': 527.6,\n",
       " 'Bought_Quantity': 0,\n",
       " 'Sold_Price': 525.05,\n",
       " 'Sold_Quantity': 0,\n",
       " 'Investment': 0,\n",
       " 'Current_Valuation': 0.0,\n",
       " 'Status': 0,\n",
       " 'Short_Gains': -0.0}"
      ]
     },
     "metadata": {},
     "output_type": "display_data"
    },
    {
     "data": {
      "text/plain": [
       "2638997.9"
      ]
     },
     "metadata": {},
     "output_type": "display_data"
    },
    {
     "data": {
      "text/plain": [
       "2605743.7"
      ]
     },
     "metadata": {},
     "output_type": "display_data"
    },
    {
     "name": "stdout",
     "output_type": "stream",
     "text": [
      "\n"
     ]
    },
    {
     "data": {
      "text/plain": [
       "'JUBILANT'"
      ]
     },
     "metadata": {},
     "output_type": "display_data"
    },
    {
     "data": {
      "text/plain": [
       "{'Bought_Price': 732.0824999999999,\n",
       " 'Current_Price': 712.15,\n",
       " 'Bought_Quantity': 100,\n",
       " 'Sold_Price': 0,\n",
       " 'Sold_Quantity': 0,\n",
       " 'Investment': 73208.24999999999,\n",
       " 'Current_Valuation': 71215.0,\n",
       " 'Status': -0.02722712262620655,\n",
       " 'Short_Gains': 0}"
      ]
     },
     "metadata": {},
     "output_type": "display_data"
    },
    {
     "data": {
      "text/plain": [
       "2660367.65"
      ]
     },
     "metadata": {},
     "output_type": "display_data"
    },
    {
     "data": {
      "text/plain": [
       "2627108.2"
      ]
     },
     "metadata": {},
     "output_type": "display_data"
    },
    {
     "name": "stdout",
     "output_type": "stream",
     "text": [
      "\n"
     ]
    },
    {
     "data": {
      "text/plain": [
       "'INDIAMART'"
      ]
     },
     "metadata": {},
     "output_type": "display_data"
    },
    {
     "data": {
      "text/plain": [
       "{'Bought_Price': 1524.7142857142858,\n",
       " 'Current_Price': 1301.95,\n",
       " 'Bought_Quantity': 21,\n",
       " 'Sold_Price': 0,\n",
       " 'Sold_Quantity': 0,\n",
       " 'Investment': 32019.0,\n",
       " 'Current_Valuation': 27340.95,\n",
       " 'Status': -0.1461023142509135,\n",
       " 'Short_Gains': 0}"
      ]
     },
     "metadata": {},
     "output_type": "display_data"
    },
    {
     "data": {
      "text/plain": [
       "2680511.65"
      ]
     },
     "metadata": {},
     "output_type": "display_data"
    },
    {
     "data": {
      "text/plain": [
       "2647939.4000000004"
      ]
     },
     "metadata": {},
     "output_type": "display_data"
    },
    {
     "name": "stdout",
     "output_type": "stream",
     "text": [
      "\n"
     ]
    },
    {
     "data": {
      "text/plain": [
       "'GALAXYSURF'"
      ]
     },
     "metadata": {},
     "output_type": "display_data"
    },
    {
     "data": {
      "text/plain": [
       "{'Bought_Price': 1217.775,\n",
       " 'Current_Price': 1225.35,\n",
       " 'Bought_Quantity': 18,\n",
       " 'Sold_Price': 1568.0,\n",
       " 'Sold_Quantity': 14,\n",
       " 'Investment': 21919.95,\n",
       " 'Current_Valuation': 22056.3,\n",
       " 'Status': 0.006220360904107835,\n",
       " 'Short_Gains': -865.8999999999987}"
      ]
     },
     "metadata": {},
     "output_type": "display_data"
    },
    {
     "data": {
      "text/plain": [
       "2702431.6"
      ]
     },
     "metadata": {},
     "output_type": "display_data"
    },
    {
     "data": {
      "text/plain": [
       "2669995.7"
      ]
     },
     "metadata": {},
     "output_type": "display_data"
    },
    {
     "name": "stdout",
     "output_type": "stream",
     "text": [
      "\n"
     ]
    },
    {
     "data": {
      "text/plain": [
       "'TORNTPOWER'"
      ]
     },
     "metadata": {},
     "output_type": "display_data"
    },
    {
     "data": {
      "text/plain": [
       "{'Bought_Price': 0,\n",
       " 'Current_Price': 259.5,\n",
       " 'Bought_Quantity': 0,\n",
       " 'Sold_Price': 262.7,\n",
       " 'Sold_Quantity': 0,\n",
       " 'Investment': 0,\n",
       " 'Current_Valuation': 0.0,\n",
       " 'Status': 0,\n",
       " 'Short_Gains': 0.0}"
      ]
     },
     "metadata": {},
     "output_type": "display_data"
    },
    {
     "data": {
      "text/plain": [
       "2702431.6"
      ]
     },
     "metadata": {},
     "output_type": "display_data"
    },
    {
     "data": {
      "text/plain": [
       "2669995.7"
      ]
     },
     "metadata": {},
     "output_type": "display_data"
    },
    {
     "name": "stdout",
     "output_type": "stream",
     "text": [
      "\n"
     ]
    },
    {
     "data": {
      "text/plain": [
       "'METROPOLIS'"
      ]
     },
     "metadata": {},
     "output_type": "display_data"
    },
    {
     "data": {
      "text/plain": [
       "{'Bought_Price': 958.85,\n",
       " 'Current_Price': 959.85,\n",
       " 'Bought_Quantity': 22,\n",
       " 'Sold_Price': 1468.0,\n",
       " 'Sold_Quantity': 0,\n",
       " 'Investment': 21094.7,\n",
       " 'Current_Valuation': 21116.7,\n",
       " 'Status': 0.0010429159931167544,\n",
       " 'Short_Gains': -0.0}"
      ]
     },
     "metadata": {},
     "output_type": "display_data"
    },
    {
     "data": {
      "text/plain": [
       "2723526.3000000003"
      ]
     },
     "metadata": {},
     "output_type": "display_data"
    },
    {
     "data": {
      "text/plain": [
       "2691112.4000000004"
      ]
     },
     "metadata": {},
     "output_type": "display_data"
    },
    {
     "name": "stdout",
     "output_type": "stream",
     "text": [
      "\n"
     ]
    },
    {
     "data": {
      "text/plain": [
       "'STARCEMENT'"
      ]
     },
     "metadata": {},
     "output_type": "display_data"
    },
    {
     "data": {
      "text/plain": [
       "{'Bought_Price': 0,\n",
       " 'Current_Price': 103.15,\n",
       " 'Bought_Quantity': 0,\n",
       " 'Sold_Price': 104.45,\n",
       " 'Sold_Quantity': 0,\n",
       " 'Investment': 0,\n",
       " 'Current_Valuation': 0.0,\n",
       " 'Status': 0,\n",
       " 'Short_Gains': 0.0}"
      ]
     },
     "metadata": {},
     "output_type": "display_data"
    },
    {
     "data": {
      "text/plain": [
       "2723526.3000000003"
      ]
     },
     "metadata": {},
     "output_type": "display_data"
    },
    {
     "data": {
      "text/plain": [
       "2691112.4000000004"
      ]
     },
     "metadata": {},
     "output_type": "display_data"
    },
    {
     "name": "stdout",
     "output_type": "stream",
     "text": [
      "\n"
     ]
    },
    {
     "data": {
      "text/plain": [
       "'SONATSOFTW'"
      ]
     },
     "metadata": {},
     "output_type": "display_data"
    },
    {
     "data": {
      "text/plain": [
       "{'Bought_Price': 302.1,\n",
       " 'Current_Price': 302.45,\n",
       " 'Bought_Quantity': 68,\n",
       " 'Sold_Price': 239.5,\n",
       " 'Sold_Quantity': 0,\n",
       " 'Investment': 20542.800000000003,\n",
       " 'Current_Valuation': 20566.6,\n",
       " 'Status': 0.001158556769281482,\n",
       " 'Short_Gains': 0.0}"
      ]
     },
     "metadata": {},
     "output_type": "display_data"
    },
    {
     "data": {
      "text/plain": [
       "2744069.1"
      ]
     },
     "metadata": {},
     "output_type": "display_data"
    },
    {
     "data": {
      "text/plain": [
       "2711679.0000000005"
      ]
     },
     "metadata": {},
     "output_type": "display_data"
    },
    {
     "name": "stdout",
     "output_type": "stream",
     "text": [
      "\n"
     ]
    },
    {
     "data": {
      "text/plain": [
       "'AKZOINDIA'"
      ]
     },
     "metadata": {},
     "output_type": "display_data"
    },
    {
     "data": {
      "text/plain": [
       "{'Bought_Price': 1799.7249999999997,\n",
       " 'Current_Price': 1769.55,\n",
       " 'Bought_Quantity': 24,\n",
       " 'Sold_Price': 0,\n",
       " 'Sold_Quantity': 0,\n",
       " 'Investment': 43193.399999999994,\n",
       " 'Current_Valuation': 42469.2,\n",
       " 'Status': -0.01676645042992673,\n",
       " 'Short_Gains': 0}"
      ]
     },
     "metadata": {},
     "output_type": "display_data"
    },
    {
     "data": {
      "text/plain": [
       "2765140.8000000003"
      ]
     },
     "metadata": {},
     "output_type": "display_data"
    },
    {
     "data": {
      "text/plain": [
       "2732913.6000000006"
      ]
     },
     "metadata": {},
     "output_type": "display_data"
    },
    {
     "name": "stdout",
     "output_type": "stream",
     "text": [
      "\n"
     ]
    },
    {
     "data": {
      "text/plain": [
       "'COROMANDEL'"
      ]
     },
     "metadata": {},
     "output_type": "display_data"
    },
    {
     "data": {
      "text/plain": [
       "{'Bought_Price': 451.0,\n",
       " 'Current_Price': 451.05,\n",
       " 'Bought_Quantity': 46,\n",
       " 'Sold_Price': 797.25,\n",
       " 'Sold_Quantity': 0,\n",
       " 'Investment': 20746.0,\n",
       " 'Current_Valuation': 20748.3,\n",
       " 'Status': 0.0001108647450110514,\n",
       " 'Short_Gains': -0.0}"
      ]
     },
     "metadata": {},
     "output_type": "display_data"
    },
    {
     "data": {
      "text/plain": [
       "2785886.8000000003"
      ]
     },
     "metadata": {},
     "output_type": "display_data"
    },
    {
     "data": {
      "text/plain": [
       "2753661.9000000004"
      ]
     },
     "metadata": {},
     "output_type": "display_data"
    },
    {
     "name": "stdout",
     "output_type": "stream",
     "text": [
      "\n"
     ]
    },
    {
     "data": {
      "text/plain": [
       "'RAYMOND'"
      ]
     },
     "metadata": {},
     "output_type": "display_data"
    },
    {
     "data": {
      "text/plain": [
       "{'Bought_Price': 0,\n",
       " 'Current_Price': 0,\n",
       " 'Bought_Quantity': 0,\n",
       " 'Sold_Price': 846.0,\n",
       " 'Sold_Quantity': 24,\n",
       " 'Investment': 0,\n",
       " 'Current_Valuation': 0,\n",
       " 'Status': 0,\n",
       " 'Short_Gains': 73.19999999999891}"
      ]
     },
     "metadata": {},
     "output_type": "display_data"
    },
    {
     "data": {
      "text/plain": [
       "2785886.8000000003"
      ]
     },
     "metadata": {},
     "output_type": "display_data"
    },
    {
     "data": {
      "text/plain": [
       "2753661.9000000004"
      ]
     },
     "metadata": {},
     "output_type": "display_data"
    },
    {
     "name": "stdout",
     "output_type": "stream",
     "text": [
      "\n"
     ]
    },
    {
     "data": {
      "text/plain": [
       "'SYMPHONY'"
      ]
     },
     "metadata": {},
     "output_type": "display_data"
    },
    {
     "data": {
      "text/plain": [
       "{'Bought_Price': 0,\n",
       " 'Current_Price': 0,\n",
       " 'Bought_Quantity': 0,\n",
       " 'Sold_Price': 1181.95,\n",
       " 'Sold_Quantity': 18,\n",
       " 'Investment': 0,\n",
       " 'Current_Valuation': 0,\n",
       " 'Status': 0,\n",
       " 'Short_Gains': -0.8999999999991815}"
      ]
     },
     "metadata": {},
     "output_type": "display_data"
    },
    {
     "data": {
      "text/plain": [
       "2785886.8000000003"
      ]
     },
     "metadata": {},
     "output_type": "display_data"
    },
    {
     "data": {
      "text/plain": [
       "2753661.9000000004"
      ]
     },
     "metadata": {},
     "output_type": "display_data"
    },
    {
     "name": "stdout",
     "output_type": "stream",
     "text": [
      "\n"
     ]
    },
    {
     "data": {
      "text/plain": [
       "'AVANTIFEED'"
      ]
     },
     "metadata": {},
     "output_type": "display_data"
    },
    {
     "data": {
      "text/plain": [
       "{'Bought_Price': 387.875,\n",
       " 'Current_Price': 387.9,\n",
       " 'Bought_Quantity': 52,\n",
       " 'Sold_Price': 439.8,\n",
       " 'Sold_Quantity': 0,\n",
       " 'Investment': 20169.5,\n",
       " 'Current_Valuation': 20170.8,\n",
       " 'Status': 6.445375443115954e-05,\n",
       " 'Short_Gains': -0.0}"
      ]
     },
     "metadata": {},
     "output_type": "display_data"
    },
    {
     "data": {
      "text/plain": [
       "2806056.3000000003"
      ]
     },
     "metadata": {},
     "output_type": "display_data"
    },
    {
     "data": {
      "text/plain": [
       "2773832.7"
      ]
     },
     "metadata": {},
     "output_type": "display_data"
    },
    {
     "name": "stdout",
     "output_type": "stream",
     "text": [
      "\n"
     ]
    },
    {
     "data": {
      "text/plain": [
       "'PETRONET'"
      ]
     },
     "metadata": {},
     "output_type": "display_data"
    },
    {
     "data": {
      "text/plain": [
       "{'Bought_Price': 0,\n",
       " 'Current_Price': 241.25,\n",
       " 'Bought_Quantity': 0,\n",
       " 'Sold_Price': 224.9,\n",
       " 'Sold_Quantity': 45,\n",
       " 'Investment': 0,\n",
       " 'Current_Valuation': 0.0,\n",
       " 'Status': 0,\n",
       " 'Short_Gains': -184.49999999999974}"
      ]
     },
     "metadata": {},
     "output_type": "display_data"
    },
    {
     "data": {
      "text/plain": [
       "2806056.3000000003"
      ]
     },
     "metadata": {},
     "output_type": "display_data"
    },
    {
     "data": {
      "text/plain": [
       "2773832.7"
      ]
     },
     "metadata": {},
     "output_type": "display_data"
    },
    {
     "name": "stdout",
     "output_type": "stream",
     "text": [
      "\n"
     ]
    },
    {
     "data": {
      "text/plain": [
       "'EICHERMOT'"
      ]
     },
     "metadata": {},
     "output_type": "display_data"
    },
    {
     "data": {
      "text/plain": [
       "{'Bought_Price': 23099.0,\n",
       " 'Current_Price': 23195.1,\n",
       " 'Bought_Quantity': 2,\n",
       " 'Sold_Price': 20200.0,\n",
       " 'Sold_Quantity': 0,\n",
       " 'Investment': 46198.0,\n",
       " 'Current_Valuation': 46390.2,\n",
       " 'Status': 0.004160353262045913,\n",
       " 'Short_Gains': -0.0}"
      ]
     },
     "metadata": {},
     "output_type": "display_data"
    },
    {
     "data": {
      "text/plain": [
       "2852254.3000000003"
      ]
     },
     "metadata": {},
     "output_type": "display_data"
    },
    {
     "data": {
      "text/plain": [
       "2820222.9000000004"
      ]
     },
     "metadata": {},
     "output_type": "display_data"
    },
    {
     "name": "stdout",
     "output_type": "stream",
     "text": [
      "\n"
     ]
    },
    {
     "data": {
      "text/plain": [
       "'NH'"
      ]
     },
     "metadata": {},
     "output_type": "display_data"
    },
    {
     "data": {
      "text/plain": [
       "{'Bought_Price': 193.675,\n",
       " 'Current_Price': 191.15,\n",
       " 'Bought_Quantity': 104,\n",
       " 'Sold_Price': 282.0,\n",
       " 'Sold_Quantity': 0,\n",
       " 'Investment': 20142.2,\n",
       " 'Current_Valuation': 19879.600000000002,\n",
       " 'Status': -0.013037304763134043,\n",
       " 'Short_Gains': -0.0}"
      ]
     },
     "metadata": {},
     "output_type": "display_data"
    },
    {
     "data": {
      "text/plain": [
       "2872396.5000000005"
      ]
     },
     "metadata": {},
     "output_type": "display_data"
    },
    {
     "data": {
      "text/plain": [
       "2840102.5000000005"
      ]
     },
     "metadata": {},
     "output_type": "display_data"
    },
    {
     "name": "stdout",
     "output_type": "stream",
     "text": [
      "\n"
     ]
    },
    {
     "data": {
      "text/plain": [
       "'ENDURANCE'"
      ]
     },
     "metadata": {},
     "output_type": "display_data"
    },
    {
     "data": {
      "text/plain": [
       "{'Bought_Price': 1267.425,\n",
       " 'Current_Price': 1260.2,\n",
       " 'Bought_Quantity': 16,\n",
       " 'Sold_Price': 884.0,\n",
       " 'Sold_Quantity': 0,\n",
       " 'Investment': 20278.8,\n",
       " 'Current_Valuation': 20163.2,\n",
       " 'Status': -0.005700534548395297,\n",
       " 'Short_Gains': -0.0}"
      ]
     },
     "metadata": {},
     "output_type": "display_data"
    },
    {
     "data": {
      "text/plain": [
       "2892675.3000000003"
      ]
     },
     "metadata": {},
     "output_type": "display_data"
    },
    {
     "data": {
      "text/plain": [
       "2860265.7000000007"
      ]
     },
     "metadata": {},
     "output_type": "display_data"
    },
    {
     "name": "stdout",
     "output_type": "stream",
     "text": [
      "\n"
     ]
    },
    {
     "data": {
      "text/plain": [
       "'CHOLAHLDNG'"
      ]
     },
     "metadata": {},
     "output_type": "display_data"
    },
    {
     "data": {
      "text/plain": [
       "{'Bought_Price': 0,\n",
       " 'Current_Price': 515.9,\n",
       " 'Bought_Quantity': 0,\n",
       " 'Sold_Price': 524.1,\n",
       " 'Sold_Quantity': 0,\n",
       " 'Investment': 0,\n",
       " 'Current_Valuation': 0.0,\n",
       " 'Status': 0,\n",
       " 'Short_Gains': 0.0}"
      ]
     },
     "metadata": {},
     "output_type": "display_data"
    },
    {
     "data": {
      "text/plain": [
       "2892675.3000000003"
      ]
     },
     "metadata": {},
     "output_type": "display_data"
    },
    {
     "data": {
      "text/plain": [
       "2860265.7000000007"
      ]
     },
     "metadata": {},
     "output_type": "display_data"
    },
    {
     "name": "stdout",
     "output_type": "stream",
     "text": [
      "\n"
     ]
    },
    {
     "data": {
      "text/plain": [
       "'TIMETECHNO'"
      ]
     },
     "metadata": {},
     "output_type": "display_data"
    },
    {
     "data": {
      "text/plain": [
       "{'Bought_Price': 102.55,\n",
       " 'Current_Price': 103.45,\n",
       " 'Bought_Quantity': 196,\n",
       " 'Sold_Price': 40.8,\n",
       " 'Sold_Quantity': 0,\n",
       " 'Investment': 20099.8,\n",
       " 'Current_Valuation': 20276.2,\n",
       " 'Status': 0.008776206728425232,\n",
       " 'Short_Gains': -0.0}"
      ]
     },
     "metadata": {},
     "output_type": "display_data"
    },
    {
     "data": {
      "text/plain": [
       "2912775.1"
      ]
     },
     "metadata": {},
     "output_type": "display_data"
    },
    {
     "data": {
      "text/plain": [
       "2880541.900000001"
      ]
     },
     "metadata": {},
     "output_type": "display_data"
    },
    {
     "name": "stdout",
     "output_type": "stream",
     "text": [
      "\n"
     ]
    },
    {
     "data": {
      "text/plain": [
       "'EIHOTEL'"
      ]
     },
     "metadata": {},
     "output_type": "display_data"
    },
    {
     "data": {
      "text/plain": [
       "{'Bought_Price': 0,\n",
       " 'Current_Price': 62.7,\n",
       " 'Bought_Quantity': 0,\n",
       " 'Sold_Price': 196.6,\n",
       " 'Sold_Quantity': 102,\n",
       " 'Investment': 0,\n",
       " 'Current_Valuation': 0,\n",
       " 'Status': 0,\n",
       " 'Short_Gains': 102.0}"
      ]
     },
     "metadata": {},
     "output_type": "display_data"
    },
    {
     "data": {
      "text/plain": [
       "2849863.1"
      ]
     },
     "metadata": {},
     "output_type": "display_data"
    },
    {
     "data": {
      "text/plain": [
       "2817629.900000001"
      ]
     },
     "metadata": {},
     "output_type": "display_data"
    },
    {
     "name": "stdout",
     "output_type": "stream",
     "text": [
      "\n"
     ]
    },
    {
     "data": {
      "text/plain": [
       "'DRREDDY'"
      ]
     },
     "metadata": {},
     "output_type": "display_data"
    },
    {
     "data": {
      "text/plain": [
       "{'Bought_Price': 0,\n",
       " 'Current_Price': 2607.05,\n",
       " 'Bought_Quantity': 0,\n",
       " 'Sold_Price': 2618.1,\n",
       " 'Sold_Quantity': 0,\n",
       " 'Investment': 0,\n",
       " 'Current_Valuation': 0.0,\n",
       " 'Status': 0,\n",
       " 'Short_Gains': 0.0}"
      ]
     },
     "metadata": {},
     "output_type": "display_data"
    },
    {
     "data": {
      "text/plain": [
       "2849863.1"
      ]
     },
     "metadata": {},
     "output_type": "display_data"
    },
    {
     "data": {
      "text/plain": [
       "2817629.900000001"
      ]
     },
     "metadata": {},
     "output_type": "display_data"
    },
    {
     "name": "stdout",
     "output_type": "stream",
     "text": [
      "\n"
     ]
    },
    {
     "data": {
      "text/plain": [
       "'WELSPUNIND'"
      ]
     },
     "metadata": {},
     "output_type": "display_data"
    },
    {
     "data": {
      "text/plain": [
       "{'Bought_Price': 39.49648488830486,\n",
       " 'Current_Price': 60.5,\n",
       " 'Bought_Quantity': 761,\n",
       " 'Sold_Price': 0,\n",
       " 'Sold_Quantity': 0,\n",
       " 'Investment': 30056.825,\n",
       " 'Current_Valuation': 46040.5,\n",
       " 'Status': 0.5317818831496673,\n",
       " 'Short_Gains': 0}"
      ]
     },
     "metadata": {},
     "output_type": "display_data"
    },
    {
     "data": {
      "text/plain": [
       "2859887.275"
      ]
     },
     "metadata": {},
     "output_type": "display_data"
    },
    {
     "data": {
      "text/plain": [
       "2827733.400000001"
      ]
     },
     "metadata": {},
     "output_type": "display_data"
    },
    {
     "name": "stdout",
     "output_type": "stream",
     "text": [
      "\n"
     ]
    },
    {
     "data": {
      "text/plain": [
       "'WHIRLPOOL'"
      ]
     },
     "metadata": {},
     "output_type": "display_data"
    },
    {
     "data": {
      "text/plain": [
       "{'Bought_Price': 0,\n",
       " 'Current_Price': 2225.45,\n",
       " 'Bought_Quantity': 0,\n",
       " 'Sold_Price': 1419.75,\n",
       " 'Sold_Quantity': 16,\n",
       " 'Investment': 0,\n",
       " 'Current_Valuation': 0,\n",
       " 'Status': 0,\n",
       " 'Short_Gains': 242.40000000000146}"
      ]
     },
     "metadata": {},
     "output_type": "display_data"
    },
    {
     "data": {
      "text/plain": [
       "2810196.025"
      ]
     },
     "metadata": {},
     "output_type": "display_data"
    },
    {
     "data": {
      "text/plain": [
       "2778042.150000001"
      ]
     },
     "metadata": {},
     "output_type": "display_data"
    },
    {
     "name": "stdout",
     "output_type": "stream",
     "text": [
      "\n"
     ]
    },
    {
     "data": {
      "text/plain": [
       "'SUZLON'"
      ]
     },
     "metadata": {},
     "output_type": "display_data"
    },
    {
     "data": {
      "text/plain": [
       "{'Bought_Price': 0,\n",
       " 'Current_Price': 5.45,\n",
       " 'Bought_Quantity': 0,\n",
       " 'Sold_Price': 5.45,\n",
       " 'Sold_Quantity': 0,\n",
       " 'Investment': 0,\n",
       " 'Current_Valuation': 0.0,\n",
       " 'Status': 0,\n",
       " 'Short_Gains': 0.0}"
      ]
     },
     "metadata": {},
     "output_type": "display_data"
    },
    {
     "data": {
      "text/plain": [
       "2810196.025"
      ]
     },
     "metadata": {},
     "output_type": "display_data"
    },
    {
     "data": {
      "text/plain": [
       "2778042.150000001"
      ]
     },
     "metadata": {},
     "output_type": "display_data"
    },
    {
     "name": "stdout",
     "output_type": "stream",
     "text": [
      "\n"
     ]
    },
    {
     "data": {
      "text/plain": [
       "'KENNAMET'"
      ]
     },
     "metadata": {},
     "output_type": "display_data"
    },
    {
     "data": {
      "text/plain": [
       "{'Bought_Price': 967.5,\n",
       " 'Current_Price': 942.5,\n",
       " 'Bought_Quantity': 22,\n",
       " 'Sold_Price': 744.7,\n",
       " 'Sold_Quantity': 28,\n",
       " 'Investment': 21285.0,\n",
       " 'Current_Valuation': 20735.0,\n",
       " 'Status': -0.025839793281653745,\n",
       " 'Short_Gains': 308.0}"
      ]
     },
     "metadata": {},
     "output_type": "display_data"
    },
    {
     "data": {
      "text/plain": [
       "2831481.025"
      ]
     },
     "metadata": {},
     "output_type": "display_data"
    },
    {
     "data": {
      "text/plain": [
       "2798777.150000001"
      ]
     },
     "metadata": {},
     "output_type": "display_data"
    },
    {
     "name": "stdout",
     "output_type": "stream",
     "text": [
      "\n"
     ]
    },
    {
     "data": {
      "text/plain": [
       "'IDEA'"
      ]
     },
     "metadata": {},
     "output_type": "display_data"
    },
    {
     "data": {
      "text/plain": [
       "{'Bought_Price': 0,\n",
       " 'Current_Price': 37.75,\n",
       " 'Bought_Quantity': 0,\n",
       " 'Sold_Price': 38.0,\n",
       " 'Sold_Quantity': 0,\n",
       " 'Investment': 0,\n",
       " 'Current_Valuation': 0.0,\n",
       " 'Status': 0,\n",
       " 'Short_Gains': 0.0}"
      ]
     },
     "metadata": {},
     "output_type": "display_data"
    },
    {
     "data": {
      "text/plain": [
       "2831481.025"
      ]
     },
     "metadata": {},
     "output_type": "display_data"
    },
    {
     "data": {
      "text/plain": [
       "2798777.150000001"
      ]
     },
     "metadata": {},
     "output_type": "display_data"
    },
    {
     "name": "stdout",
     "output_type": "stream",
     "text": [
      "\n"
     ]
    },
    {
     "data": {
      "text/plain": [
       "'TVSMOTOR'"
      ]
     },
     "metadata": {},
     "output_type": "display_data"
    },
    {
     "data": {
      "text/plain": [
       "{'Bought_Price': 497.1491935483871,\n",
       " 'Current_Price': 564.55,\n",
       " 'Bought_Quantity': 62,\n",
       " 'Sold_Price': 398.75,\n",
       " 'Sold_Quantity': 0,\n",
       " 'Investment': 30823.25,\n",
       " 'Current_Valuation': 35002.1,\n",
       " 'Status': 0.1355746068308825,\n",
       " 'Short_Gains': -0.0}"
      ]
     },
     "metadata": {},
     "output_type": "display_data"
    },
    {
     "data": {
      "text/plain": [
       "2851910.125"
      ]
     },
     "metadata": {},
     "output_type": "display_data"
    },
    {
     "data": {
      "text/plain": [
       "2819100.9500000007"
      ]
     },
     "metadata": {},
     "output_type": "display_data"
    },
    {
     "name": "stdout",
     "output_type": "stream",
     "text": [
      "\n"
     ]
    },
    {
     "data": {
      "text/plain": [
       "'SHK'"
      ]
     },
     "metadata": {},
     "output_type": "display_data"
    },
    {
     "data": {
      "text/plain": [
       "{'Bought_Price': 0,\n",
       " 'Current_Price': 171.55,\n",
       " 'Bought_Quantity': 0,\n",
       " 'Sold_Price': 171.6,\n",
       " 'Sold_Quantity': 0,\n",
       " 'Investment': 0,\n",
       " 'Current_Valuation': 0.0,\n",
       " 'Status': 0,\n",
       " 'Short_Gains': 0.0}"
      ]
     },
     "metadata": {},
     "output_type": "display_data"
    },
    {
     "data": {
      "text/plain": [
       "2851910.125"
      ]
     },
     "metadata": {},
     "output_type": "display_data"
    },
    {
     "data": {
      "text/plain": [
       "2819100.9500000007"
      ]
     },
     "metadata": {},
     "output_type": "display_data"
    },
    {
     "name": "stdout",
     "output_type": "stream",
     "text": [
      "\n"
     ]
    },
    {
     "data": {
      "text/plain": [
       "'PRESTIGE'"
      ]
     },
     "metadata": {},
     "output_type": "display_data"
    },
    {
     "data": {
      "text/plain": [
       "{'Bought_Price': 230.625,\n",
       " 'Current_Price': 235.7,\n",
       " 'Bought_Quantity': 88,\n",
       " 'Sold_Price': 180.2,\n",
       " 'Sold_Quantity': 0,\n",
       " 'Investment': 20295.0,\n",
       " 'Current_Valuation': 20741.6,\n",
       " 'Status': 0.02200542005420047,\n",
       " 'Short_Gains': 0.0}"
      ]
     },
     "metadata": {},
     "output_type": "display_data"
    },
    {
     "data": {
      "text/plain": [
       "2872205.125"
      ]
     },
     "metadata": {},
     "output_type": "display_data"
    },
    {
     "data": {
      "text/plain": [
       "2839842.5500000007"
      ]
     },
     "metadata": {},
     "output_type": "display_data"
    },
    {
     "name": "stdout",
     "output_type": "stream",
     "text": [
      "\n"
     ]
    },
    {
     "data": {
      "text/plain": [
       "'PEL'"
      ]
     },
     "metadata": {},
     "output_type": "display_data"
    },
    {
     "data": {
      "text/plain": [
       "{'Bought_Price': 2377.0,\n",
       " 'Current_Price': 2395.3,\n",
       " 'Bought_Quantity': 10,\n",
       " 'Sold_Price': 1481.0,\n",
       " 'Sold_Quantity': 0,\n",
       " 'Investment': 23770.0,\n",
       " 'Current_Valuation': 23953.0,\n",
       " 'Status': 0.007698779974758098,\n",
       " 'Short_Gains': -0.0}"
      ]
     },
     "metadata": {},
     "output_type": "display_data"
    },
    {
     "data": {
      "text/plain": [
       "2895975.125"
      ]
     },
     "metadata": {},
     "output_type": "display_data"
    },
    {
     "data": {
      "text/plain": [
       "2863795.5500000007"
      ]
     },
     "metadata": {},
     "output_type": "display_data"
    },
    {
     "name": "stdout",
     "output_type": "stream",
     "text": [
      "\n"
     ]
    },
    {
     "data": {
      "text/plain": [
       "'PNBHOUSING'"
      ]
     },
     "metadata": {},
     "output_type": "display_data"
    },
    {
     "data": {
      "text/plain": [
       "{'Bought_Price': 921.9749999999999,\n",
       " 'Current_Price': 926.6,\n",
       " 'Bought_Quantity': 11,\n",
       " 'Sold_Price': 220.6,\n",
       " 'Sold_Quantity': 0,\n",
       " 'Investment': 10141.724999999999,\n",
       " 'Current_Valuation': 10192.6,\n",
       " 'Status': 0.005016405000135758,\n",
       " 'Short_Gains': 0.0}"
      ]
     },
     "metadata": {},
     "output_type": "display_data"
    },
    {
     "data": {
      "text/plain": [
       "2906116.85"
      ]
     },
     "metadata": {},
     "output_type": "display_data"
    },
    {
     "data": {
      "text/plain": [
       "2873988.150000001"
      ]
     },
     "metadata": {},
     "output_type": "display_data"
    },
    {
     "name": "stdout",
     "output_type": "stream",
     "text": [
      "\n"
     ]
    },
    {
     "data": {
      "text/plain": [
       "'TCNSBRANDS'"
      ]
     },
     "metadata": {},
     "output_type": "display_data"
    },
    {
     "data": {
      "text/plain": [
       "{'Bought_Price': 0,\n",
       " 'Current_Price': 0,\n",
       " 'Bought_Quantity': 0,\n",
       " 'Sold_Price': 665.1,\n",
       " 'Sold_Quantity': 30,\n",
       " 'Investment': 0,\n",
       " 'Current_Valuation': 0,\n",
       " 'Status': 0,\n",
       " 'Short_Gains': -1453.499999999998}"
      ]
     },
     "metadata": {},
     "output_type": "display_data"
    },
    {
     "data": {
      "text/plain": [
       "2906116.85"
      ]
     },
     "metadata": {},
     "output_type": "display_data"
    },
    {
     "data": {
      "text/plain": [
       "2873988.150000001"
      ]
     },
     "metadata": {},
     "output_type": "display_data"
    },
    {
     "name": "stdout",
     "output_type": "stream",
     "text": [
      "\n"
     ]
    },
    {
     "data": {
      "text/plain": [
       "'OBEROIRLTY'"
      ]
     },
     "metadata": {},
     "output_type": "display_data"
    },
    {
     "data": {
      "text/plain": [
       "{'Bought_Price': 0,\n",
       " 'Current_Price': 454.7,\n",
       " 'Bought_Quantity': 0,\n",
       " 'Sold_Price': 444.9,\n",
       " 'Sold_Quantity': 0,\n",
       " 'Investment': 0,\n",
       " 'Current_Valuation': 0.0,\n",
       " 'Status': 0,\n",
       " 'Short_Gains': -0.0}"
      ]
     },
     "metadata": {},
     "output_type": "display_data"
    },
    {
     "data": {
      "text/plain": [
       "2906116.85"
      ]
     },
     "metadata": {},
     "output_type": "display_data"
    },
    {
     "data": {
      "text/plain": [
       "2873988.150000001"
      ]
     },
     "metadata": {},
     "output_type": "display_data"
    },
    {
     "name": "stdout",
     "output_type": "stream",
     "text": [
      "\n"
     ]
    },
    {
     "data": {
      "text/plain": [
       "'NMDC'"
      ]
     },
     "metadata": {},
     "output_type": "display_data"
    },
    {
     "data": {
      "text/plain": [
       "{'Bought_Price': 96.30000000000001,\n",
       " 'Current_Price': 95.75,\n",
       " 'Bought_Quantity': 208,\n",
       " 'Sold_Price': 86.2,\n",
       " 'Sold_Quantity': 0,\n",
       " 'Investment': 20030.4,\n",
       " 'Current_Valuation': 19916.0,\n",
       " 'Status': -0.005711318795431017,\n",
       " 'Short_Gains': 0.0}"
      ]
     },
     "metadata": {},
     "output_type": "display_data"
    },
    {
     "data": {
      "text/plain": [
       "2926147.25"
      ]
     },
     "metadata": {},
     "output_type": "display_data"
    },
    {
     "data": {
      "text/plain": [
       "2893904.150000001"
      ]
     },
     "metadata": {},
     "output_type": "display_data"
    },
    {
     "name": "stdout",
     "output_type": "stream",
     "text": [
      "\n"
     ]
    },
    {
     "data": {
      "text/plain": [
       "'TECHNOE'"
      ]
     },
     "metadata": {},
     "output_type": "display_data"
    },
    {
     "data": {
      "text/plain": [
       "{'Bought_Price': 0,\n",
       " 'Current_Price': 0,\n",
       " 'Bought_Quantity': 0,\n",
       " 'Sold_Price': 266.5,\n",
       " 'Sold_Quantity': 76,\n",
       " 'Investment': 0,\n",
       " 'Current_Valuation': 0,\n",
       " 'Status': 0,\n",
       " 'Short_Gains': 368.6000000000017}"
      ]
     },
     "metadata": {},
     "output_type": "display_data"
    },
    {
     "data": {
      "text/plain": [
       "2926147.25"
      ]
     },
     "metadata": {},
     "output_type": "display_data"
    },
    {
     "data": {
      "text/plain": [
       "2893904.150000001"
      ]
     },
     "metadata": {},
     "output_type": "display_data"
    },
    {
     "name": "stdout",
     "output_type": "stream",
     "text": [
      "\n"
     ]
    },
    {
     "data": {
      "text/plain": [
       "'GULFOILLUB'"
      ]
     },
     "metadata": {},
     "output_type": "display_data"
    },
    {
     "data": {
      "text/plain": [
       "{'Bought_Price': 811.7,\n",
       " 'Current_Price': 804.95,\n",
       " 'Bought_Quantity': 26,\n",
       " 'Sold_Price': 576.0,\n",
       " 'Sold_Quantity': 0,\n",
       " 'Investment': 21104.2,\n",
       " 'Current_Valuation': 20928.7,\n",
       " 'Status': -0.008315880251324381,\n",
       " 'Short_Gains': -0.0}"
      ]
     },
     "metadata": {},
     "output_type": "display_data"
    },
    {
     "data": {
      "text/plain": [
       "2947251.45"
      ]
     },
     "metadata": {},
     "output_type": "display_data"
    },
    {
     "data": {
      "text/plain": [
       "2914832.850000001"
      ]
     },
     "metadata": {},
     "output_type": "display_data"
    },
    {
     "name": "stdout",
     "output_type": "stream",
     "text": [
      "\n"
     ]
    },
    {
     "data": {
      "text/plain": [
       "'MINDTREE'"
      ]
     },
     "metadata": {},
     "output_type": "display_data"
    },
    {
     "data": {
      "text/plain": [
       "{'Bought_Price': 860.25,\n",
       " 'Current_Price': 863.4,\n",
       " 'Bought_Quantity': 24,\n",
       " 'Sold_Price': 1014.9,\n",
       " 'Sold_Quantity': 0,\n",
       " 'Investment': 20646.0,\n",
       " 'Current_Valuation': 20721.6,\n",
       " 'Status': 0.003661726242371333,\n",
       " 'Short_Gains': -0.0}"
      ]
     },
     "metadata": {},
     "output_type": "display_data"
    },
    {
     "data": {
      "text/plain": [
       "2967897.45"
      ]
     },
     "metadata": {},
     "output_type": "display_data"
    },
    {
     "data": {
      "text/plain": [
       "2935554.450000001"
      ]
     },
     "metadata": {},
     "output_type": "display_data"
    },
    {
     "name": "stdout",
     "output_type": "stream",
     "text": [
      "\n"
     ]
    },
    {
     "data": {
      "text/plain": [
       "'MARICO'"
      ]
     },
     "metadata": {},
     "output_type": "display_data"
    },
    {
     "data": {
      "text/plain": [
       "{'Bought_Price': 372.95,\n",
       " 'Current_Price': 372.3,\n",
       " 'Bought_Quantity': 54,\n",
       " 'Sold_Price': 352.0,\n",
       " 'Sold_Quantity': 0,\n",
       " 'Investment': 20139.3,\n",
       " 'Current_Valuation': 20104.2,\n",
       " 'Status': -0.0017428609733207484,\n",
       " 'Short_Gains': -0.0}"
      ]
     },
     "metadata": {},
     "output_type": "display_data"
    },
    {
     "data": {
      "text/plain": [
       "2988036.75"
      ]
     },
     "metadata": {},
     "output_type": "display_data"
    },
    {
     "data": {
      "text/plain": [
       "2955658.6500000013"
      ]
     },
     "metadata": {},
     "output_type": "display_data"
    },
    {
     "name": "stdout",
     "output_type": "stream",
     "text": [
      "\n"
     ]
    },
    {
     "data": {
      "text/plain": [
       "'KEC'"
      ]
     },
     "metadata": {},
     "output_type": "display_data"
    },
    {
     "data": {
      "text/plain": [
       "{'Bought_Price': 0,\n",
       " 'Current_Price': 272.05,\n",
       " 'Bought_Quantity': 0,\n",
       " 'Sold_Price': 300.1,\n",
       " 'Sold_Quantity': 66,\n",
       " 'Investment': 0,\n",
       " 'Current_Valuation': 0.0,\n",
       " 'Status': 0,\n",
       " 'Short_Gains': -151.799999999997}"
      ]
     },
     "metadata": {},
     "output_type": "display_data"
    },
    {
     "data": {
      "text/plain": [
       "2988036.75"
      ]
     },
     "metadata": {},
     "output_type": "display_data"
    },
    {
     "data": {
      "text/plain": [
       "2955658.6500000013"
      ]
     },
     "metadata": {},
     "output_type": "display_data"
    },
    {
     "name": "stdout",
     "output_type": "stream",
     "text": [
      "\n"
     ]
    },
    {
     "data": {
      "text/plain": [
       "'KPRMILL'"
      ]
     },
     "metadata": {},
     "output_type": "display_data"
    },
    {
     "data": {
      "text/plain": [
       "{'Bought_Price': 0,\n",
       " 'Current_Price': 0,\n",
       " 'Bought_Quantity': 0,\n",
       " 'Sold_Price': 560.4,\n",
       " 'Sold_Quantity': 36,\n",
       " 'Investment': 0,\n",
       " 'Current_Valuation': 0,\n",
       " 'Status': 0,\n",
       " 'Short_Gains': 5.3999999999991815}"
      ]
     },
     "metadata": {},
     "output_type": "display_data"
    },
    {
     "data": {
      "text/plain": [
       "2988036.75"
      ]
     },
     "metadata": {},
     "output_type": "display_data"
    },
    {
     "data": {
      "text/plain": [
       "2955658.6500000013"
      ]
     },
     "metadata": {},
     "output_type": "display_data"
    },
    {
     "name": "stdout",
     "output_type": "stream",
     "text": [
      "\n"
     ]
    },
    {
     "data": {
      "text/plain": [
       "'JINDALSAW'"
      ]
     },
     "metadata": {},
     "output_type": "display_data"
    },
    {
     "data": {
      "text/plain": [
       "{'Bought_Price': 0,\n",
       " 'Current_Price': 85.3,\n",
       " 'Bought_Quantity': 0,\n",
       " 'Sold_Price': 85.1,\n",
       " 'Sold_Quantity': 0,\n",
       " 'Investment': 0,\n",
       " 'Current_Valuation': 0.0,\n",
       " 'Status': 0,\n",
       " 'Short_Gains': -0.0}"
      ]
     },
     "metadata": {},
     "output_type": "display_data"
    },
    {
     "data": {
      "text/plain": [
       "2988036.75"
      ]
     },
     "metadata": {},
     "output_type": "display_data"
    },
    {
     "data": {
      "text/plain": [
       "2955658.6500000013"
      ]
     },
     "metadata": {},
     "output_type": "display_data"
    },
    {
     "name": "stdout",
     "output_type": "stream",
     "text": [
      "\n"
     ]
    },
    {
     "data": {
      "text/plain": [
       "'IPCALAB'"
      ]
     },
     "metadata": {},
     "output_type": "display_data"
    },
    {
     "data": {
      "text/plain": [
       "{'Bought_Price': 806.075,\n",
       " 'Current_Price': 816.35,\n",
       " 'Bought_Quantity': 26,\n",
       " 'Sold_Price': 1771.0,\n",
       " 'Sold_Quantity': 0,\n",
       " 'Investment': 20957.95,\n",
       " 'Current_Valuation': 21225.100000000002,\n",
       " 'Status': 0.012746952826970264,\n",
       " 'Short_Gains': -0.0}"
      ]
     },
     "metadata": {},
     "output_type": "display_data"
    },
    {
     "data": {
      "text/plain": [
       "3008994.7"
      ]
     },
     "metadata": {},
     "output_type": "display_data"
    },
    {
     "data": {
      "text/plain": [
       "2976883.7500000014"
      ]
     },
     "metadata": {},
     "output_type": "display_data"
    },
    {
     "name": "stdout",
     "output_type": "stream",
     "text": [
      "\n"
     ]
    },
    {
     "data": {
      "text/plain": [
       "'NAUKRI'"
      ]
     },
     "metadata": {},
     "output_type": "display_data"
    },
    {
     "data": {
      "text/plain": [
       "{'Bought_Price': 1838.3583333333336,\n",
       " 'Current_Price': 1439.0,\n",
       " 'Bought_Quantity': 18,\n",
       " 'Sold_Price': 3190.0,\n",
       " 'Sold_Quantity': 0,\n",
       " 'Investment': 33090.450000000004,\n",
       " 'Current_Valuation': 25902.0,\n",
       " 'Status': -0.21723639297743014,\n",
       " 'Short_Gains': -0.0}"
      ]
     },
     "metadata": {},
     "output_type": "display_data"
    },
    {
     "data": {
      "text/plain": [
       "3029186.5500000003"
      ]
     },
     "metadata": {},
     "output_type": "display_data"
    },
    {
     "data": {
      "text/plain": [
       "2997029.7500000014"
      ]
     },
     "metadata": {},
     "output_type": "display_data"
    },
    {
     "name": "stdout",
     "output_type": "stream",
     "text": [
      "\n"
     ]
    },
    {
     "data": {
      "text/plain": [
       "'MIDHANI'"
      ]
     },
     "metadata": {},
     "output_type": "display_data"
    },
    {
     "data": {
      "text/plain": [
       "{'Bought_Price': 0,\n",
       " 'Current_Price': 214.05,\n",
       " 'Bought_Quantity': 0,\n",
       " 'Sold_Price': 133.6,\n",
       " 'Sold_Quantity': 150,\n",
       " 'Investment': 0,\n",
       " 'Current_Valuation': 0.0,\n",
       " 'Status': 0,\n",
       " 'Short_Gains': -217.50000000000256}"
      ]
     },
     "metadata": {},
     "output_type": "display_data"
    },
    {
     "data": {
      "text/plain": [
       "3029186.5500000003"
      ]
     },
     "metadata": {},
     "output_type": "display_data"
    },
    {
     "data": {
      "text/plain": [
       "2997029.7500000014"
      ]
     },
     "metadata": {},
     "output_type": "display_data"
    },
    {
     "name": "stdout",
     "output_type": "stream",
     "text": [
      "\n"
     ]
    },
    {
     "data": {
      "text/plain": [
       "'3MINDIA'"
      ]
     },
     "metadata": {},
     "output_type": "display_data"
    },
    {
     "data": {
      "text/plain": [
       "{'Bought_Price': 0,\n",
       " 'Current_Price': 20666.35,\n",
       " 'Bought_Quantity': 0,\n",
       " 'Sold_Price': 20854.95,\n",
       " 'Sold_Quantity': 0,\n",
       " 'Investment': 0,\n",
       " 'Current_Valuation': 0.0,\n",
       " 'Status': 0,\n",
       " 'Short_Gains': 0.0}"
      ]
     },
     "metadata": {},
     "output_type": "display_data"
    },
    {
     "data": {
      "text/plain": [
       "3029186.5500000003"
      ]
     },
     "metadata": {},
     "output_type": "display_data"
    },
    {
     "data": {
      "text/plain": [
       "2997029.7500000014"
      ]
     },
     "metadata": {},
     "output_type": "display_data"
    },
    {
     "name": "stdout",
     "output_type": "stream",
     "text": [
      "\n"
     ]
    },
    {
     "data": {
      "text/plain": [
       "'ADANITRANS'"
      ]
     },
     "metadata": {},
     "output_type": "display_data"
    },
    {
     "data": {
      "text/plain": [
       "{'Bought_Price': 0,\n",
       " 'Current_Price': 233.05,\n",
       " 'Bought_Quantity': 0,\n",
       " 'Sold_Price': 199.2,\n",
       " 'Sold_Quantity': 50,\n",
       " 'Investment': 0,\n",
       " 'Current_Valuation': 0.0,\n",
       " 'Status': 0,\n",
       " 'Short_Gains': -65.00000000000057}"
      ]
     },
     "metadata": {},
     "output_type": "display_data"
    },
    {
     "data": {
      "text/plain": [
       "3029186.5500000003"
      ]
     },
     "metadata": {},
     "output_type": "display_data"
    },
    {
     "data": {
      "text/plain": [
       "2997029.7500000014"
      ]
     },
     "metadata": {},
     "output_type": "display_data"
    },
    {
     "name": "stdout",
     "output_type": "stream",
     "text": [
      "\n"
     ]
    },
    {
     "data": {
      "text/plain": [
       "'AIAENG'"
      ]
     },
     "metadata": {},
     "output_type": "display_data"
    },
    {
     "data": {
      "text/plain": [
       "{'Bought_Price': 1677.4000000000003,\n",
       " 'Current_Price': 1674.4,\n",
       " 'Bought_Quantity': 12,\n",
       " 'Sold_Price': 1680.0,\n",
       " 'Sold_Quantity': 0,\n",
       " 'Investment': 20128.800000000003,\n",
       " 'Current_Valuation': 20092.800000000003,\n",
       " 'Status': -0.0017884821747943243,\n",
       " 'Short_Gains': -0.0}"
      ]
     },
     "metadata": {},
     "output_type": "display_data"
    },
    {
     "data": {
      "text/plain": [
       "3049315.35"
      ]
     },
     "metadata": {},
     "output_type": "display_data"
    },
    {
     "data": {
      "text/plain": [
       "3017122.550000001"
      ]
     },
     "metadata": {},
     "output_type": "display_data"
    },
    {
     "name": "stdout",
     "output_type": "stream",
     "text": [
      "\n"
     ]
    },
    {
     "data": {
      "text/plain": [
       "'ASHOKLEY'"
      ]
     },
     "metadata": {},
     "output_type": "display_data"
    },
    {
     "data": {
      "text/plain": [
       "{'Bought_Price': 0,\n",
       " 'Current_Price': 50.4,\n",
       " 'Bought_Quantity': 0,\n",
       " 'Sold_Price': 102.85,\n",
       " 'Sold_Quantity': 198,\n",
       " 'Investment': 0,\n",
       " 'Current_Valuation': 0.0,\n",
       " 'Status': 0,\n",
       " 'Short_Gains': 69.29999999999887}"
      ]
     },
     "metadata": {},
     "output_type": "display_data"
    },
    {
     "data": {
      "text/plain": [
       "3049315.35"
      ]
     },
     "metadata": {},
     "output_type": "display_data"
    },
    {
     "data": {
      "text/plain": [
       "3017122.550000001"
      ]
     },
     "metadata": {},
     "output_type": "display_data"
    },
    {
     "name": "stdout",
     "output_type": "stream",
     "text": [
      "\n"
     ]
    },
    {
     "data": {
      "text/plain": [
       "'BANKBARODA'"
      ]
     },
     "metadata": {},
     "output_type": "display_data"
    },
    {
     "data": {
      "text/plain": [
       "{'Bought_Price': 0,\n",
       " 'Current_Price': 123.3,\n",
       " 'Bought_Quantity': 0,\n",
       " 'Sold_Price': 119.45,\n",
       " 'Sold_Quantity': 0,\n",
       " 'Investment': 0,\n",
       " 'Current_Valuation': 0.0,\n",
       " 'Status': 0,\n",
       " 'Short_Gains': -0.0}"
      ]
     },
     "metadata": {},
     "output_type": "display_data"
    },
    {
     "data": {
      "text/plain": [
       "3049315.35"
      ]
     },
     "metadata": {},
     "output_type": "display_data"
    },
    {
     "data": {
      "text/plain": [
       "3017122.550000001"
      ]
     },
     "metadata": {},
     "output_type": "display_data"
    },
    {
     "name": "stdout",
     "output_type": "stream",
     "text": [
      "\n"
     ]
    },
    {
     "data": {
      "text/plain": [
       "'BPCL'"
      ]
     },
     "metadata": {},
     "output_type": "display_data"
    },
    {
     "data": {
      "text/plain": [
       "{'Bought_Price': 390.779746835443,\n",
       " 'Current_Price': 367.2,\n",
       " 'Bought_Quantity': 79,\n",
       " 'Sold_Price': 446.0,\n",
       " 'Sold_Quantity': 0,\n",
       " 'Investment': 30871.6,\n",
       " 'Current_Valuation': 29008.8,\n",
       " 'Status': -0.060340247994920874,\n",
       " 'Short_Gains': -0.0}"
      ]
     },
     "metadata": {},
     "output_type": "display_data"
    },
    {
     "data": {
      "text/plain": [
       "3069735.75"
      ]
     },
     "metadata": {},
     "output_type": "display_data"
    },
    {
     "data": {
      "text/plain": [
       "3037685.7500000014"
      ]
     },
     "metadata": {},
     "output_type": "display_data"
    },
    {
     "name": "stdout",
     "output_type": "stream",
     "text": [
      "\n"
     ]
    },
    {
     "data": {
      "text/plain": [
       "'AMBUJACEM'"
      ]
     },
     "metadata": {},
     "output_type": "display_data"
    },
    {
     "data": {
      "text/plain": [
       "{'Bought_Price': 225.025,\n",
       " 'Current_Price': 222.9,\n",
       " 'Bought_Quantity': 90,\n",
       " 'Sold_Price': 197.95,\n",
       " 'Sold_Quantity': 0,\n",
       " 'Investment': 20252.25,\n",
       " 'Current_Valuation': 20061.0,\n",
       " 'Status': -0.00944339517831352,\n",
       " 'Short_Gains': -0.0}"
      ]
     },
     "metadata": {},
     "output_type": "display_data"
    },
    {
     "data": {
      "text/plain": [
       "3089988.0"
      ]
     },
     "metadata": {},
     "output_type": "display_data"
    },
    {
     "data": {
      "text/plain": [
       "3057746.7500000014"
      ]
     },
     "metadata": {},
     "output_type": "display_data"
    },
    {
     "name": "stdout",
     "output_type": "stream",
     "text": [
      "\n"
     ]
    },
    {
     "data": {
      "text/plain": [
       "'ABCAPITAL'"
      ]
     },
     "metadata": {},
     "output_type": "display_data"
    },
    {
     "data": {
      "text/plain": [
       "{'Bought_Price': 0,\n",
       " 'Current_Price': 58.85,\n",
       " 'Bought_Quantity': 0,\n",
       " 'Sold_Price': 100.6,\n",
       " 'Sold_Quantity': 200,\n",
       " 'Investment': 0,\n",
       " 'Current_Valuation': 0.0,\n",
       " 'Status': 0,\n",
       " 'Short_Gains': 100.0}"
      ]
     },
     "metadata": {},
     "output_type": "display_data"
    },
    {
     "data": {
      "text/plain": [
       "3089988.0"
      ]
     },
     "metadata": {},
     "output_type": "display_data"
    },
    {
     "data": {
      "text/plain": [
       "3057746.7500000014"
      ]
     },
     "metadata": {},
     "output_type": "display_data"
    },
    {
     "name": "stdout",
     "output_type": "stream",
     "text": [
      "\n"
     ]
    },
    {
     "data": {
      "text/plain": [
       "'TEAMLEASE'"
      ]
     },
     "metadata": {},
     "output_type": "display_data"
    },
    {
     "data": {
      "text/plain": [
       "{'Bought_Price': 2827.3999999999996,\n",
       " 'Current_Price': 2827.65,\n",
       " 'Bought_Quantity': 8,\n",
       " 'Sold_Price': 1854.4,\n",
       " 'Sold_Quantity': 12,\n",
       " 'Investment': 22619.199999999997,\n",
       " 'Current_Valuation': 22621.2,\n",
       " 'Status': 8.84204569570824e-05,\n",
       " 'Short_Gains': -353.3999999999978}"
      ]
     },
     "metadata": {},
     "output_type": "display_data"
    },
    {
     "data": {
      "text/plain": [
       "3112607.2"
      ]
     },
     "metadata": {},
     "output_type": "display_data"
    },
    {
     "data": {
      "text/plain": [
       "3080367.9500000016"
      ]
     },
     "metadata": {},
     "output_type": "display_data"
    },
    {
     "name": "stdout",
     "output_type": "stream",
     "text": [
      "\n"
     ]
    },
    {
     "data": {
      "text/plain": [
       "'RELAXO'"
      ]
     },
     "metadata": {},
     "output_type": "display_data"
    },
    {
     "data": {
      "text/plain": [
       "{'Bought_Price': 0,\n",
       " 'Current_Price': 738.65,\n",
       " 'Bought_Quantity': 0,\n",
       " 'Sold_Price': 729.5,\n",
       " 'Sold_Quantity': 0,\n",
       " 'Investment': 0,\n",
       " 'Current_Valuation': 0,\n",
       " 'Status': 0,\n",
       " 'Short_Gains': -0.0}"
      ]
     },
     "metadata": {},
     "output_type": "display_data"
    },
    {
     "data": {
      "text/plain": [
       "3089263.2"
      ]
     },
     "metadata": {},
     "output_type": "display_data"
    },
    {
     "data": {
      "text/plain": [
       "3060673.550000001"
      ]
     },
     "metadata": {},
     "output_type": "display_data"
    },
    {
     "name": "stdout",
     "output_type": "stream",
     "text": [
      "\n"
     ]
    },
    {
     "data": {
      "text/plain": [
       "'GLAXO'"
      ]
     },
     "metadata": {},
     "output_type": "display_data"
    },
    {
     "data": {
      "text/plain": [
       "{'Bought_Price': 1500.475,\n",
       " 'Current_Price': 1498.0,\n",
       " 'Bought_Quantity': 14,\n",
       " 'Sold_Price': 1474.0,\n",
       " 'Sold_Quantity': 0,\n",
       " 'Investment': 21006.649999999998,\n",
       " 'Current_Valuation': 20972.0,\n",
       " 'Status': -0.001649477665405851,\n",
       " 'Short_Gains': 0.0}"
      ]
     },
     "metadata": {},
     "output_type": "display_data"
    },
    {
     "data": {
      "text/plain": [
       "3110269.85"
      ]
     },
     "metadata": {},
     "output_type": "display_data"
    },
    {
     "data": {
      "text/plain": [
       "3081645.550000001"
      ]
     },
     "metadata": {},
     "output_type": "display_data"
    },
    {
     "name": "stdout",
     "output_type": "stream",
     "text": [
      "\n"
     ]
    },
    {
     "data": {
      "text/plain": [
       "'JSWENERGY'"
      ]
     },
     "metadata": {},
     "output_type": "display_data"
    },
    {
     "data": {
      "text/plain": [
       "{'Bought_Price': 0,\n",
       " 'Current_Price': 45.5,\n",
       " 'Bought_Quantity': 0,\n",
       " 'Sold_Price': 69.1,\n",
       " 'Sold_Quantity': 290,\n",
       " 'Investment': 0,\n",
       " 'Current_Valuation': 0.0,\n",
       " 'Status': 0,\n",
       " 'Short_Gains': -188.50000000000165}"
      ]
     },
     "metadata": {},
     "output_type": "display_data"
    },
    {
     "data": {
      "text/plain": [
       "3110269.85"
      ]
     },
     "metadata": {},
     "output_type": "display_data"
    },
    {
     "data": {
      "text/plain": [
       "3081645.550000001"
      ]
     },
     "metadata": {},
     "output_type": "display_data"
    },
    {
     "name": "stdout",
     "output_type": "stream",
     "text": [
      "\n"
     ]
    },
    {
     "data": {
      "text/plain": [
       "'BATAINDIA'"
      ]
     },
     "metadata": {},
     "output_type": "display_data"
    },
    {
     "data": {
      "text/plain": [
       "{'Bought_Price': 1129.125,\n",
       " 'Current_Price': 1126.05,\n",
       " 'Bought_Quantity': 18,\n",
       " 'Sold_Price': 1309.95,\n",
       " 'Sold_Quantity': 0,\n",
       " 'Investment': 20324.25,\n",
       " 'Current_Valuation': 20268.899999999998,\n",
       " 'Status': -0.00272334772500841,\n",
       " 'Short_Gains': 0.0}"
      ]
     },
     "metadata": {},
     "output_type": "display_data"
    },
    {
     "data": {
      "text/plain": [
       "3130594.1"
      ]
     },
     "metadata": {},
     "output_type": "display_data"
    },
    {
     "data": {
      "text/plain": [
       "3101914.450000001"
      ]
     },
     "metadata": {},
     "output_type": "display_data"
    },
    {
     "name": "stdout",
     "output_type": "stream",
     "text": [
      "\n"
     ]
    },
    {
     "data": {
      "text/plain": [
       "'CGCL'"
      ]
     },
     "metadata": {},
     "output_type": "display_data"
    },
    {
     "data": {
      "text/plain": [
       "{'Bought_Price': 0,\n",
       " 'Current_Price': 155.3,\n",
       " 'Bought_Quantity': 0,\n",
       " 'Sold_Price': 127.35,\n",
       " 'Sold_Quantity': 79,\n",
       " 'Investment': 0,\n",
       " 'Current_Valuation': 0.0,\n",
       " 'Status': 0,\n",
       " 'Short_Gains': -3.950000000000898}"
      ]
     },
     "metadata": {},
     "output_type": "display_data"
    },
    {
     "data": {
      "text/plain": [
       "3130594.1"
      ]
     },
     "metadata": {},
     "output_type": "display_data"
    },
    {
     "data": {
      "text/plain": [
       "3101914.450000001"
      ]
     },
     "metadata": {},
     "output_type": "display_data"
    },
    {
     "name": "stdout",
     "output_type": "stream",
     "text": [
      "\n"
     ]
    },
    {
     "data": {
      "text/plain": [
       "'ACC'"
      ]
     },
     "metadata": {},
     "output_type": "display_data"
    },
    {
     "data": {
      "text/plain": [
       "{'Bought_Price': 0,\n",
       " 'Current_Price': 1488.8,\n",
       " 'Bought_Quantity': 0,\n",
       " 'Sold_Price': 1516.9,\n",
       " 'Sold_Quantity': 0,\n",
       " 'Investment': 0,\n",
       " 'Current_Valuation': 0.0,\n",
       " 'Status': 0,\n",
       " 'Short_Gains': 0.0}"
      ]
     },
     "metadata": {},
     "output_type": "display_data"
    },
    {
     "data": {
      "text/plain": [
       "3130594.1"
      ]
     },
     "metadata": {},
     "output_type": "display_data"
    },
    {
     "data": {
      "text/plain": [
       "3101914.450000001"
      ]
     },
     "metadata": {},
     "output_type": "display_data"
    },
    {
     "name": "stdout",
     "output_type": "stream",
     "text": [
      "\n"
     ]
    },
    {
     "data": {
      "text/plain": [
       "'JCHAC'"
      ]
     },
     "metadata": {},
     "output_type": "display_data"
    },
    {
     "data": {
      "text/plain": [
       "{'Bought_Price': 0,\n",
       " 'Current_Price': 0,\n",
       " 'Bought_Quantity': 0,\n",
       " 'Sold_Price': 1797.95,\n",
       " 'Sold_Quantity': 6,\n",
       " 'Investment': 0,\n",
       " 'Current_Valuation': 0,\n",
       " 'Status': 0,\n",
       " 'Short_Gains': -82.79999999999973}"
      ]
     },
     "metadata": {},
     "output_type": "display_data"
    },
    {
     "data": {
      "text/plain": [
       "3130594.1"
      ]
     },
     "metadata": {},
     "output_type": "display_data"
    },
    {
     "data": {
      "text/plain": [
       "3101914.450000001"
      ]
     },
     "metadata": {},
     "output_type": "display_data"
    },
    {
     "name": "stdout",
     "output_type": "stream",
     "text": [
      "\n"
     ]
    },
    {
     "data": {
      "text/plain": [
       "'PNB'"
      ]
     },
     "metadata": {},
     "output_type": "display_data"
    },
    {
     "data": {
      "text/plain": [
       "{'Bought_Price': 0,\n",
       " 'Current_Price': 33.55,\n",
       " 'Bought_Quantity': 0,\n",
       " 'Sold_Price': 78.6,\n",
       " 'Sold_Quantity': 127,\n",
       " 'Investment': 0,\n",
       " 'Current_Valuation': 0,\n",
       " 'Status': 0,\n",
       " 'Short_Gains': -152.40000000000038}"
      ]
     },
     "metadata": {},
     "output_type": "display_data"
    },
    {
     "data": {
      "text/plain": [
       "3130594.1"
      ]
     },
     "metadata": {},
     "output_type": "display_data"
    },
    {
     "data": {
      "text/plain": [
       "3101914.450000001"
      ]
     },
     "metadata": {},
     "output_type": "display_data"
    },
    {
     "name": "stdout",
     "output_type": "stream",
     "text": [
      "\n"
     ]
    },
    {
     "data": {
      "text/plain": [
       "'JUSTDIAL'"
      ]
     },
     "metadata": {},
     "output_type": "display_data"
    },
    {
     "data": {
      "text/plain": [
       "{'Bought_Price': 0,\n",
       " 'Current_Price': 377.8,\n",
       " 'Bought_Quantity': 0,\n",
       " 'Sold_Price': 502.0,\n",
       " 'Sold_Quantity': 42,\n",
       " 'Investment': 0,\n",
       " 'Current_Valuation': 0.0,\n",
       " 'Status': 0,\n",
       " 'Short_Gains': 79.79999999999905}"
      ]
     },
     "metadata": {},
     "output_type": "display_data"
    },
    {
     "data": {
      "text/plain": [
       "3130594.1"
      ]
     },
     "metadata": {},
     "output_type": "display_data"
    },
    {
     "data": {
      "text/plain": [
       "3101914.450000001"
      ]
     },
     "metadata": {},
     "output_type": "display_data"
    },
    {
     "name": "stdout",
     "output_type": "stream",
     "text": [
      "\n"
     ]
    },
    {
     "data": {
      "text/plain": [
       "'SUNDARMFIN'"
      ]
     },
     "metadata": {},
     "output_type": "display_data"
    },
    {
     "data": {
      "text/plain": [
       "{'Bought_Price': 0,\n",
       " 'Current_Price': 0,\n",
       " 'Bought_Quantity': 0,\n",
       " 'Sold_Price': 1435.15,\n",
       " 'Sold_Quantity': 16,\n",
       " 'Investment': 0,\n",
       " 'Current_Valuation': 0,\n",
       " 'Status': 0,\n",
       " 'Short_Gains': 236.0}"
      ]
     },
     "metadata": {},
     "output_type": "display_data"
    },
    {
     "data": {
      "text/plain": [
       "3130594.1"
      ]
     },
     "metadata": {},
     "output_type": "display_data"
    },
    {
     "data": {
      "text/plain": [
       "3101914.450000001"
      ]
     },
     "metadata": {},
     "output_type": "display_data"
    },
    {
     "name": "stdout",
     "output_type": "stream",
     "text": [
      "\n"
     ]
    },
    {
     "data": {
      "text/plain": [
       "'PFC'"
      ]
     },
     "metadata": {},
     "output_type": "display_data"
    },
    {
     "data": {
      "text/plain": [
       "{'Bought_Price': 0,\n",
       " 'Current_Price': 82.7,\n",
       " 'Bought_Quantity': 0,\n",
       " 'Sold_Price': 106.8,\n",
       " 'Sold_Quantity': 94,\n",
       " 'Investment': 0,\n",
       " 'Current_Valuation': 0.0,\n",
       " 'Status': 0,\n",
       " 'Short_Gains': -56.4000000000008}"
      ]
     },
     "metadata": {},
     "output_type": "display_data"
    },
    {
     "data": {
      "text/plain": [
       "3130594.1"
      ]
     },
     "metadata": {},
     "output_type": "display_data"
    },
    {
     "data": {
      "text/plain": [
       "3101914.450000001"
      ]
     },
     "metadata": {},
     "output_type": "display_data"
    },
    {
     "name": "stdout",
     "output_type": "stream",
     "text": [
      "\n"
     ]
    },
    {
     "data": {
      "text/plain": [
       "'BIRLACORPN'"
      ]
     },
     "metadata": {},
     "output_type": "display_data"
    },
    {
     "data": {
      "text/plain": [
       "{'Bought_Price': 0,\n",
       " 'Current_Price': 593.65,\n",
       " 'Bought_Quantity': 0,\n",
       " 'Sold_Price': 614.5,\n",
       " 'Sold_Quantity': 0,\n",
       " 'Investment': 0,\n",
       " 'Current_Valuation': 0.0,\n",
       " 'Status': 0,\n",
       " 'Short_Gains': 0.0}"
      ]
     },
     "metadata": {},
     "output_type": "display_data"
    },
    {
     "data": {
      "text/plain": [
       "3130594.1"
      ]
     },
     "metadata": {},
     "output_type": "display_data"
    },
    {
     "data": {
      "text/plain": [
       "3101914.450000001"
      ]
     },
     "metadata": {},
     "output_type": "display_data"
    },
    {
     "name": "stdout",
     "output_type": "stream",
     "text": [
      "\n"
     ]
    },
    {
     "data": {
      "text/plain": [
       "'INFY'"
      ]
     },
     "metadata": {},
     "output_type": "display_data"
    },
    {
     "data": {
      "text/plain": [
       "{'Bought_Price': 660.2249999999999,\n",
       " 'Current_Price': 665.05,\n",
       " 'Bought_Quantity': 32,\n",
       " 'Sold_Price': 903.25,\n",
       " 'Sold_Quantity': 0,\n",
       " 'Investment': 21127.199999999997,\n",
       " 'Current_Valuation': 21281.6,\n",
       " 'Status': 0.007308114657881852,\n",
       " 'Short_Gains': -0.0}"
      ]
     },
     "metadata": {},
     "output_type": "display_data"
    },
    {
     "data": {
      "text/plain": [
       "3151721.3000000003"
      ]
     },
     "metadata": {},
     "output_type": "display_data"
    },
    {
     "data": {
      "text/plain": [
       "3123196.050000001"
      ]
     },
     "metadata": {},
     "output_type": "display_data"
    },
    {
     "name": "stdout",
     "output_type": "stream",
     "text": [
      "\n"
     ]
    },
    {
     "data": {
      "text/plain": [
       "'RELINFRA'"
      ]
     },
     "metadata": {},
     "output_type": "display_data"
    },
    {
     "data": {
      "text/plain": [
       "{'Bought_Price': 0,\n",
       " 'Current_Price': 32.25,\n",
       " 'Bought_Quantity': 0,\n",
       " 'Sold_Price': 315.55,\n",
       " 'Sold_Quantity': 32,\n",
       " 'Investment': 0,\n",
       " 'Current_Valuation': 0.0,\n",
       " 'Status': 0,\n",
       " 'Short_Gains': -33.600000000000364}"
      ]
     },
     "metadata": {},
     "output_type": "display_data"
    },
    {
     "data": {
      "text/plain": [
       "3151721.3000000003"
      ]
     },
     "metadata": {},
     "output_type": "display_data"
    },
    {
     "data": {
      "text/plain": [
       "3123196.050000001"
      ]
     },
     "metadata": {},
     "output_type": "display_data"
    },
    {
     "name": "stdout",
     "output_type": "stream",
     "text": [
      "\n"
     ]
    },
    {
     "data": {
      "text/plain": [
       "'FCONSUMER'"
      ]
     },
     "metadata": {},
     "output_type": "display_data"
    },
    {
     "data": {
      "text/plain": [
       "{'Bought_Price': 0,\n",
       " 'Current_Price': 10.0,\n",
       " 'Bought_Quantity': 0,\n",
       " 'Sold_Price': 45.55,\n",
       " 'Sold_Quantity': 219,\n",
       " 'Investment': 0,\n",
       " 'Current_Valuation': 0.0,\n",
       " 'Status': 0,\n",
       " 'Short_Gains': -76.65000000000032}"
      ]
     },
     "metadata": {},
     "output_type": "display_data"
    },
    {
     "data": {
      "text/plain": [
       "3151721.3000000003"
      ]
     },
     "metadata": {},
     "output_type": "display_data"
    },
    {
     "data": {
      "text/plain": [
       "3123196.050000001"
      ]
     },
     "metadata": {},
     "output_type": "display_data"
    },
    {
     "name": "stdout",
     "output_type": "stream",
     "text": [
      "\n"
     ]
    },
    {
     "data": {
      "text/plain": [
       "'TATAINVEST'"
      ]
     },
     "metadata": {},
     "output_type": "display_data"
    },
    {
     "data": {
      "text/plain": [
       "{'Bought_Price': 0,\n",
       " 'Current_Price': 0,\n",
       " 'Bought_Quantity': 0,\n",
       " 'Sold_Price': 893.0,\n",
       " 'Sold_Quantity': 12,\n",
       " 'Investment': 0,\n",
       " 'Current_Valuation': 0,\n",
       " 'Status': 0,\n",
       " 'Short_Gains': -76.20000000000027}"
      ]
     },
     "metadata": {},
     "output_type": "display_data"
    },
    {
     "data": {
      "text/plain": [
       "3151721.3000000003"
      ]
     },
     "metadata": {},
     "output_type": "display_data"
    },
    {
     "data": {
      "text/plain": [
       "3123196.050000001"
      ]
     },
     "metadata": {},
     "output_type": "display_data"
    },
    {
     "name": "stdout",
     "output_type": "stream",
     "text": [
      "\n"
     ]
    },
    {
     "data": {
      "text/plain": [
       "'RESPONIND'"
      ]
     },
     "metadata": {},
     "output_type": "display_data"
    },
    {
     "data": {
      "text/plain": [
       "{'Bought_Price': 92.15,\n",
       " 'Current_Price': 89.8,\n",
       " 'Bought_Quantity': 218,\n",
       " 'Sold_Price': 91.4,\n",
       " 'Sold_Quantity': 0,\n",
       " 'Investment': 20088.7,\n",
       " 'Current_Valuation': 19576.399999999998,\n",
       " 'Status': -0.02550189907759103,\n",
       " 'Short_Gains': 0.0}"
      ]
     },
     "metadata": {},
     "output_type": "display_data"
    },
    {
     "data": {
      "text/plain": [
       "3171810.0000000005"
      ]
     },
     "metadata": {},
     "output_type": "display_data"
    },
    {
     "data": {
      "text/plain": [
       "3142772.450000001"
      ]
     },
     "metadata": {},
     "output_type": "display_data"
    },
    {
     "name": "stdout",
     "output_type": "stream",
     "text": [
      "\n"
     ]
    },
    {
     "data": {
      "text/plain": [
       "'IGL'"
      ]
     },
     "metadata": {},
     "output_type": "display_data"
    },
    {
     "data": {
      "text/plain": [
       "{'Bought_Price': 0,\n",
       " 'Current_Price': 407.55,\n",
       " 'Bought_Quantity': 0,\n",
       " 'Sold_Price': 268.0,\n",
       " 'Sold_Quantity': 74,\n",
       " 'Investment': 0,\n",
       " 'Current_Valuation': 0.0,\n",
       " 'Status': 0,\n",
       " 'Short_Gains': -270.0999999999983}"
      ]
     },
     "metadata": {},
     "output_type": "display_data"
    },
    {
     "data": {
      "text/plain": [
       "3171810.0000000005"
      ]
     },
     "metadata": {},
     "output_type": "display_data"
    },
    {
     "data": {
      "text/plain": [
       "3142772.450000001"
      ]
     },
     "metadata": {},
     "output_type": "display_data"
    },
    {
     "name": "stdout",
     "output_type": "stream",
     "text": [
      "\n"
     ]
    },
    {
     "data": {
      "text/plain": [
       "'GPPL'"
      ]
     },
     "metadata": {},
     "output_type": "display_data"
    },
    {
     "data": {
      "text/plain": [
       "{'Bought_Price': 102.875,\n",
       " 'Current_Price': 102.35,\n",
       " 'Bought_Quantity': 196,\n",
       " 'Sold_Price': 80.8,\n",
       " 'Sold_Quantity': 0,\n",
       " 'Investment': 20163.5,\n",
       " 'Current_Valuation': 20060.6,\n",
       " 'Status': -0.005103280680437496,\n",
       " 'Short_Gains': 0.0}"
      ]
     },
     "metadata": {},
     "output_type": "display_data"
    },
    {
     "data": {
      "text/plain": [
       "3191973.5000000005"
      ]
     },
     "metadata": {},
     "output_type": "display_data"
    },
    {
     "data": {
      "text/plain": [
       "3162833.050000001"
      ]
     },
     "metadata": {},
     "output_type": "display_data"
    },
    {
     "name": "stdout",
     "output_type": "stream",
     "text": [
      "\n"
     ]
    },
    {
     "data": {
      "text/plain": [
       "'BOSCHLTD'"
      ]
     },
     "metadata": {},
     "output_type": "display_data"
    },
    {
     "data": {
      "text/plain": [
       "{'Bought_Price': 19605.425,\n",
       " 'Current_Price': 19576.5,\n",
       " 'Bought_Quantity': 2,\n",
       " 'Sold_Price': 13328.0,\n",
       " 'Sold_Quantity': 0,\n",
       " 'Investment': 39210.85,\n",
       " 'Current_Valuation': 39153.0,\n",
       " 'Status': -0.001475356948395624,\n",
       " 'Short_Gains': 0.0}"
      ]
     },
     "metadata": {},
     "output_type": "display_data"
    },
    {
     "data": {
      "text/plain": [
       "3231184.3500000006"
      ]
     },
     "metadata": {},
     "output_type": "display_data"
    },
    {
     "data": {
      "text/plain": [
       "3201986.050000001"
      ]
     },
     "metadata": {},
     "output_type": "display_data"
    },
    {
     "name": "stdout",
     "output_type": "stream",
     "text": [
      "\n"
     ]
    },
    {
     "data": {
      "text/plain": [
       "'HCLTECH'"
      ]
     },
     "metadata": {},
     "output_type": "display_data"
    },
    {
     "data": {
      "text/plain": [
       "{'Bought_Price': 783.4731481481481,\n",
       " 'Current_Price': 959.85,\n",
       " 'Bought_Quantity': 27,\n",
       " 'Sold_Price': 650.0,\n",
       " 'Sold_Quantity': 0,\n",
       " 'Investment': 21153.774999999998,\n",
       " 'Current_Valuation': 25915.95,\n",
       " 'Status': 0.225121757227729,\n",
       " 'Short_Gains': -0.0}"
      ]
     },
     "metadata": {},
     "output_type": "display_data"
    },
    {
     "data": {
      "text/plain": [
       "3241732.5250000004"
      ]
     },
     "metadata": {},
     "output_type": "display_data"
    },
    {
     "data": {
      "text/plain": [
       "3212544.4000000013"
      ]
     },
     "metadata": {},
     "output_type": "display_data"
    },
    {
     "name": "stdout",
     "output_type": "stream",
     "text": [
      "\n"
     ]
    },
    {
     "data": {
      "text/plain": [
       "'IRB'"
      ]
     },
     "metadata": {},
     "output_type": "display_data"
    },
    {
     "data": {
      "text/plain": [
       "{'Bought_Price': 164.075,\n",
       " 'Current_Price': 164.85,\n",
       " 'Bought_Quantity': 61,\n",
       " 'Sold_Price': 113.7,\n",
       " 'Sold_Quantity': 0,\n",
       " 'Investment': 10008.574999999999,\n",
       " 'Current_Valuation': 10055.85,\n",
       " 'Status': 0.004723449641932189,\n",
       " 'Short_Gains': -0.0}"
      ]
     },
     "metadata": {},
     "output_type": "display_data"
    },
    {
     "data": {
      "text/plain": [
       "3251741.1000000006"
      ]
     },
     "metadata": {},
     "output_type": "display_data"
    },
    {
     "data": {
      "text/plain": [
       "3222600.2500000014"
      ]
     },
     "metadata": {},
     "output_type": "display_data"
    },
    {
     "name": "stdout",
     "output_type": "stream",
     "text": [
      "\n"
     ]
    },
    {
     "data": {
      "text/plain": [
       "'IFBIND'"
      ]
     },
     "metadata": {},
     "output_type": "display_data"
    },
    {
     "data": {
      "text/plain": [
       "{'Bought_Price': 0,\n",
       " 'Current_Price': 0,\n",
       " 'Bought_Quantity': 0,\n",
       " 'Sold_Price': 846.1,\n",
       " 'Sold_Quantity': 24,\n",
       " 'Investment': 0,\n",
       " 'Current_Valuation': 0,\n",
       " 'Status': 0,\n",
       " 'Short_Gains': -188.40000000000055}"
      ]
     },
     "metadata": {},
     "output_type": "display_data"
    },
    {
     "data": {
      "text/plain": [
       "3251741.1000000006"
      ]
     },
     "metadata": {},
     "output_type": "display_data"
    },
    {
     "data": {
      "text/plain": [
       "3222600.2500000014"
      ]
     },
     "metadata": {},
     "output_type": "display_data"
    },
    {
     "name": "stdout",
     "output_type": "stream",
     "text": [
      "\n"
     ]
    },
    {
     "data": {
      "text/plain": [
       "'IDFC'"
      ]
     },
     "metadata": {},
     "output_type": "display_data"
    },
    {
     "data": {
      "text/plain": [
       "{'Bought_Price': 43.525,\n",
       " 'Current_Price': 43.45,\n",
       " 'Bought_Quantity': 460,\n",
       " 'Sold_Price': 18.9,\n",
       " 'Sold_Quantity': 0,\n",
       " 'Investment': 20021.5,\n",
       " 'Current_Valuation': 19987.0,\n",
       " 'Status': -0.0017231476163124641,\n",
       " 'Short_Gains': 0.0}"
      ]
     },
     "metadata": {},
     "output_type": "display_data"
    },
    {
     "data": {
      "text/plain": [
       "3271762.6000000006"
      ]
     },
     "metadata": {},
     "output_type": "display_data"
    },
    {
     "data": {
      "text/plain": [
       "3242587.2500000014"
      ]
     },
     "metadata": {},
     "output_type": "display_data"
    },
    {
     "name": "stdout",
     "output_type": "stream",
     "text": [
      "\n"
     ]
    },
    {
     "data": {
      "text/plain": [
       "'TCIEXP'"
      ]
     },
     "metadata": {},
     "output_type": "display_data"
    },
    {
     "data": {
      "text/plain": [
       "{'Bought_Price': 627.875,\n",
       " 'Current_Price': 633.05,\n",
       " 'Bought_Quantity': 32,\n",
       " 'Sold_Price': 684.95,\n",
       " 'Sold_Quantity': 0,\n",
       " 'Investment': 20092.0,\n",
       " 'Current_Valuation': 20257.6,\n",
       " 'Status': 0.008242086402548206,\n",
       " 'Short_Gains': 0.0}"
      ]
     },
     "metadata": {},
     "output_type": "display_data"
    },
    {
     "data": {
      "text/plain": [
       "3291854.6000000006"
      ]
     },
     "metadata": {},
     "output_type": "display_data"
    },
    {
     "data": {
      "text/plain": [
       "3262844.8500000015"
      ]
     },
     "metadata": {},
     "output_type": "display_data"
    },
    {
     "name": "stdout",
     "output_type": "stream",
     "text": [
      "\n"
     ]
    },
    {
     "data": {
      "text/plain": [
       "'ICRA'"
      ]
     },
     "metadata": {},
     "output_type": "display_data"
    },
    {
     "data": {
      "text/plain": [
       "{'Bought_Price': 2862.9125,\n",
       " 'Current_Price': 3196.45,\n",
       " 'Bought_Quantity': 16,\n",
       " 'Sold_Price': 0,\n",
       " 'Sold_Quantity': 0,\n",
       " 'Investment': 45806.6,\n",
       " 'Current_Valuation': 51143.2,\n",
       " 'Status': 0.11650286203298212,\n",
       " 'Short_Gains': 0}"
      ]
     },
     "metadata": {},
     "output_type": "display_data"
    },
    {
     "data": {
      "text/plain": [
       "3317374.2000000007"
      ]
     },
     "metadata": {},
     "output_type": "display_data"
    },
    {
     "data": {
      "text/plain": [
       "3288416.4500000016"
      ]
     },
     "metadata": {},
     "output_type": "display_data"
    },
    {
     "name": "stdout",
     "output_type": "stream",
     "text": [
      "\n"
     ]
    },
    {
     "data": {
      "text/plain": [
       "'SUNPHARMA'"
      ]
     },
     "metadata": {},
     "output_type": "display_data"
    },
    {
     "data": {
      "text/plain": [
       "{'Bought_Price': 434.2250000000001,\n",
       " 'Current_Price': 433.55,\n",
       " 'Bought_Quantity': 24,\n",
       " 'Sold_Price': 490.0,\n",
       " 'Sold_Quantity': 0,\n",
       " 'Investment': 10421.400000000001,\n",
       " 'Current_Valuation': 10405.2,\n",
       " 'Status': -0.0015544936380909211,\n",
       " 'Short_Gains': 0.0}"
      ]
     },
     "metadata": {},
     "output_type": "display_data"
    },
    {
     "data": {
      "text/plain": [
       "3327795.6000000006"
      ]
     },
     "metadata": {},
     "output_type": "display_data"
    },
    {
     "data": {
      "text/plain": [
       "3298821.650000002"
      ]
     },
     "metadata": {},
     "output_type": "display_data"
    },
    {
     "name": "stdout",
     "output_type": "stream",
     "text": [
      "\n"
     ]
    },
    {
     "data": {
      "text/plain": [
       "'HINDPETRO'"
      ]
     },
     "metadata": {},
     "output_type": "display_data"
    },
    {
     "data": {
      "text/plain": [
       "{'Bought_Price': 0,\n",
       " 'Current_Price': 228.4,\n",
       " 'Bought_Quantity': 0,\n",
       " 'Sold_Price': 253.6,\n",
       " 'Sold_Quantity': 80,\n",
       " 'Investment': 0,\n",
       " 'Current_Valuation': 0.0,\n",
       " 'Status': 0,\n",
       " 'Short_Gains': -247.99999999999955}"
      ]
     },
     "metadata": {},
     "output_type": "display_data"
    },
    {
     "data": {
      "text/plain": [
       "3327795.6000000006"
      ]
     },
     "metadata": {},
     "output_type": "display_data"
    },
    {
     "data": {
      "text/plain": [
       "3298821.650000002"
      ]
     },
     "metadata": {},
     "output_type": "display_data"
    },
    {
     "name": "stdout",
     "output_type": "stream",
     "text": [
      "\n"
     ]
    },
    {
     "data": {
      "text/plain": [
       "'CENTURYPLY'"
      ]
     },
     "metadata": {},
     "output_type": "display_data"
    },
    {
     "data": {
      "text/plain": [
       "{'Bought_Price': 177.1,\n",
       " 'Current_Price': 176.45,\n",
       " 'Bought_Quantity': 114,\n",
       " 'Sold_Price': 127.9,\n",
       " 'Sold_Quantity': 0,\n",
       " 'Investment': 20189.399999999998,\n",
       " 'Current_Valuation': 20115.3,\n",
       " 'Status': -0.0036702428006775115,\n",
       " 'Short_Gains': 0.0}"
      ]
     },
     "metadata": {},
     "output_type": "display_data"
    },
    {
     "data": {
      "text/plain": [
       "3347985.0000000005"
      ]
     },
     "metadata": {},
     "output_type": "display_data"
    },
    {
     "data": {
      "text/plain": [
       "3318936.9500000016"
      ]
     },
     "metadata": {},
     "output_type": "display_data"
    },
    {
     "name": "stdout",
     "output_type": "stream",
     "text": [
      "\n"
     ]
    },
    {
     "data": {
      "text/plain": [
       "'JYOTHYLAB'"
      ]
     },
     "metadata": {},
     "output_type": "display_data"
    },
    {
     "data": {
      "text/plain": [
       "{'Bought_Price': 212.19999999999996,\n",
       " 'Current_Price': 211.4,\n",
       " 'Bought_Quantity': 96,\n",
       " 'Sold_Price': 123.3,\n",
       " 'Sold_Quantity': 164,\n",
       " 'Investment': 20371.199999999997,\n",
       " 'Current_Valuation': 20294.4,\n",
       " 'Status': -0.00377002827521185,\n",
       " 'Short_Gains': -32.800000000000466}"
      ]
     },
     "metadata": {},
     "output_type": "display_data"
    },
    {
     "data": {
      "text/plain": [
       "3368356.2000000007"
      ]
     },
     "metadata": {},
     "output_type": "display_data"
    },
    {
     "data": {
      "text/plain": [
       "3339231.3500000015"
      ]
     },
     "metadata": {},
     "output_type": "display_data"
    },
    {
     "name": "stdout",
     "output_type": "stream",
     "text": [
      "\n"
     ]
    },
    {
     "data": {
      "text/plain": [
       "'LT'"
      ]
     },
     "metadata": {},
     "output_type": "display_data"
    },
    {
     "data": {
      "text/plain": [
       "{'Bought_Price': 0,\n",
       " 'Current_Price': 904.4,\n",
       " 'Bought_Quantity': 0,\n",
       " 'Sold_Price': 1445.0,\n",
       " 'Sold_Quantity': 7,\n",
       " 'Investment': 0,\n",
       " 'Current_Valuation': 0.0,\n",
       " 'Status': 0,\n",
       " 'Short_Gains': 21.699999999999363}"
      ]
     },
     "metadata": {},
     "output_type": "display_data"
    },
    {
     "data": {
      "text/plain": [
       "3368356.2000000007"
      ]
     },
     "metadata": {},
     "output_type": "display_data"
    },
    {
     "data": {
      "text/plain": [
       "3339231.3500000015"
      ]
     },
     "metadata": {},
     "output_type": "display_data"
    },
    {
     "name": "stdout",
     "output_type": "stream",
     "text": [
      "\n"
     ]
    },
    {
     "data": {
      "text/plain": [
       "'VIPIND'"
      ]
     },
     "metadata": {},
     "output_type": "display_data"
    },
    {
     "data": {
      "text/plain": [
       "{'Bought_Price': 417.15,\n",
       " 'Current_Price': 515.65,\n",
       " 'Bought_Quantity': 74,\n",
       " 'Sold_Price': 0,\n",
       " 'Sold_Quantity': 0,\n",
       " 'Investment': 30869.1,\n",
       " 'Current_Valuation': 38158.1,\n",
       " 'Status': 0.23612609373127175,\n",
       " 'Short_Gains': 0}"
      ]
     },
     "metadata": {},
     "output_type": "display_data"
    },
    {
     "data": {
      "text/plain": [
       "3389037.2000000007"
      ]
     },
     "metadata": {},
     "output_type": "display_data"
    },
    {
     "data": {
      "text/plain": [
       "3359857.3500000015"
      ]
     },
     "metadata": {},
     "output_type": "display_data"
    },
    {
     "name": "stdout",
     "output_type": "stream",
     "text": [
      "\n"
     ]
    },
    {
     "data": {
      "text/plain": [
       "'DISHTV'"
      ]
     },
     "metadata": {},
     "output_type": "display_data"
    },
    {
     "data": {
      "text/plain": [
       "{'Bought_Price': 0,\n",
       " 'Current_Price': 7.65,\n",
       " 'Bought_Quantity': 0,\n",
       " 'Sold_Price': 38.3,\n",
       " 'Sold_Quantity': 526,\n",
       " 'Investment': 0,\n",
       " 'Current_Valuation': 0.0,\n",
       " 'Status': 0,\n",
       " 'Short_Gains': 131.5}"
      ]
     },
     "metadata": {},
     "output_type": "display_data"
    },
    {
     "data": {
      "text/plain": [
       "3389037.2000000007"
      ]
     },
     "metadata": {},
     "output_type": "display_data"
    },
    {
     "data": {
      "text/plain": [
       "3359857.3500000015"
      ]
     },
     "metadata": {},
     "output_type": "display_data"
    },
    {
     "name": "stdout",
     "output_type": "stream",
     "text": [
      "\n"
     ]
    },
    {
     "data": {
      "text/plain": [
       "'VOLTAS'"
      ]
     },
     "metadata": {},
     "output_type": "display_data"
    },
    {
     "data": {
      "text/plain": [
       "{'Bought_Price': 554.7249999999999,\n",
       " 'Current_Price': 555.45,\n",
       " 'Bought_Quantity': 38,\n",
       " 'Sold_Price': 594.5,\n",
       " 'Sold_Quantity': 0,\n",
       " 'Investment': 21079.549999999996,\n",
       " 'Current_Valuation': 21107.100000000002,\n",
       " 'Status': 0.0013069538960749426,\n",
       " 'Short_Gains': 0.0}"
      ]
     },
     "metadata": {},
     "output_type": "display_data"
    },
    {
     "data": {
      "text/plain": [
       "3410116.7500000005"
      ]
     },
     "metadata": {},
     "output_type": "display_data"
    },
    {
     "data": {
      "text/plain": [
       "3380964.4500000016"
      ]
     },
     "metadata": {},
     "output_type": "display_data"
    },
    {
     "name": "stdout",
     "output_type": "stream",
     "text": [
      "\n"
     ]
    },
    {
     "data": {
      "text/plain": [
       "'VEDL'"
      ]
     },
     "metadata": {},
     "output_type": "display_data"
    },
    {
     "data": {
      "text/plain": [
       "{'Bought_Price': 201.6,\n",
       " 'Current_Price': 202.1,\n",
       " 'Bought_Quantity': 100,\n",
       " 'Sold_Price': 113.0,\n",
       " 'Sold_Quantity': 0,\n",
       " 'Investment': 20160.0,\n",
       " 'Current_Valuation': 20210.0,\n",
       " 'Status': 0.00248015873015873,\n",
       " 'Short_Gains': 0.0}"
      ]
     },
     "metadata": {},
     "output_type": "display_data"
    },
    {
     "data": {
      "text/plain": [
       "3430276.7500000005"
      ]
     },
     "metadata": {},
     "output_type": "display_data"
    },
    {
     "data": {
      "text/plain": [
       "3401174.4500000016"
      ]
     },
     "metadata": {},
     "output_type": "display_data"
    },
    {
     "name": "stdout",
     "output_type": "stream",
     "text": [
      "\n"
     ]
    },
    {
     "data": {
      "text/plain": [
       "'NIITTECH'"
      ]
     },
     "metadata": {},
     "output_type": "display_data"
    },
    {
     "data": {
      "text/plain": [
       "{'Bought_Price': 1148.275,\n",
       " 'Current_Price': 1151.5,\n",
       " 'Bought_Quantity': 18,\n",
       " 'Sold_Price': 1619.95,\n",
       " 'Sold_Quantity': 0,\n",
       " 'Investment': 20668.95,\n",
       " 'Current_Valuation': 20727.0,\n",
       " 'Status': 0.0028085606670875526,\n",
       " 'Short_Gains': -0.0}"
      ]
     },
     "metadata": {},
     "output_type": "display_data"
    },
    {
     "data": {
      "text/plain": [
       "3450945.7000000007"
      ]
     },
     "metadata": {},
     "output_type": "display_data"
    },
    {
     "data": {
      "text/plain": [
       "3421901.4500000016"
      ]
     },
     "metadata": {},
     "output_type": "display_data"
    },
    {
     "name": "stdout",
     "output_type": "stream",
     "text": [
      "\n"
     ]
    },
    {
     "data": {
      "text/plain": [
       "'M&MFIN'"
      ]
     },
     "metadata": {},
     "output_type": "display_data"
    },
    {
     "data": {
      "text/plain": [
       "{'Bought_Price': 0,\n",
       " 'Current_Price': 141.55,\n",
       " 'Bought_Quantity': 0,\n",
       " 'Sold_Price': 476.8,\n",
       " 'Sold_Quantity': 22,\n",
       " 'Investment': 0,\n",
       " 'Current_Valuation': 0.0,\n",
       " 'Status': 0,\n",
       " 'Short_Gains': 110.0}"
      ]
     },
     "metadata": {},
     "output_type": "display_data"
    },
    {
     "data": {
      "text/plain": [
       "3450945.7000000007"
      ]
     },
     "metadata": {},
     "output_type": "display_data"
    },
    {
     "data": {
      "text/plain": [
       "3421901.4500000016"
      ]
     },
     "metadata": {},
     "output_type": "display_data"
    },
    {
     "name": "stdout",
     "output_type": "stream",
     "text": [
      "\n"
     ]
    },
    {
     "data": {
      "text/plain": [
       "'COCHINSHIP'"
      ]
     },
     "metadata": {},
     "output_type": "display_data"
    },
    {
     "data": {
      "text/plain": [
       "{'Bought_Price': 351.50086206896555,\n",
       " 'Current_Price': 372.7,\n",
       " 'Bought_Quantity': 116,\n",
       " 'Sold_Price': 0,\n",
       " 'Sold_Quantity': 0,\n",
       " 'Investment': 40774.100000000006,\n",
       " 'Current_Valuation': 43233.2,\n",
       " 'Status': 0.060310344066453726,\n",
       " 'Short_Gains': 0}"
      ]
     },
     "metadata": {},
     "output_type": "display_data"
    },
    {
     "data": {
      "text/plain": [
       "3471160.6000000006"
      ]
     },
     "metadata": {},
     "output_type": "display_data"
    },
    {
     "data": {
      "text/plain": [
       "3442027.2500000014"
      ]
     },
     "metadata": {},
     "output_type": "display_data"
    },
    {
     "name": "stdout",
     "output_type": "stream",
     "text": [
      "\n"
     ]
    },
    {
     "data": {
      "text/plain": [
       "'LAXMIMACH'"
      ]
     },
     "metadata": {},
     "output_type": "display_data"
    },
    {
     "data": {
      "text/plain": [
       "{'Bought_Price': 5757.2,\n",
       " 'Current_Price': 5761.15,\n",
       " 'Bought_Quantity': 4,\n",
       " 'Sold_Price': 2867.0,\n",
       " 'Sold_Quantity': 0,\n",
       " 'Investment': 23028.8,\n",
       " 'Current_Valuation': 23044.6,\n",
       " 'Status': 0.0006860974084624155,\n",
       " 'Short_Gains': 0.0}"
      ]
     },
     "metadata": {},
     "output_type": "display_data"
    },
    {
     "data": {
      "text/plain": [
       "3494189.4000000004"
      ]
     },
     "metadata": {},
     "output_type": "display_data"
    },
    {
     "data": {
      "text/plain": [
       "3465071.8500000015"
      ]
     },
     "metadata": {},
     "output_type": "display_data"
    },
    {
     "name": "stdout",
     "output_type": "stream",
     "text": [
      "\n"
     ]
    },
    {
     "data": {
      "text/plain": [
       "'LTTS'"
      ]
     },
     "metadata": {},
     "output_type": "display_data"
    },
    {
     "data": {
      "text/plain": [
       "{'Bought_Price': 1707.5,\n",
       " 'Current_Price': 1716.65,\n",
       " 'Bought_Quantity': 12,\n",
       " 'Sold_Price': 1397.95,\n",
       " 'Sold_Quantity': 0,\n",
       " 'Investment': 20490.0,\n",
       " 'Current_Valuation': 20599.800000000003,\n",
       " 'Status': 0.005358711566618005,\n",
       " 'Short_Gains': -0.0}"
      ]
     },
     "metadata": {},
     "output_type": "display_data"
    },
    {
     "data": {
      "text/plain": [
       "3514679.4000000004"
      ]
     },
     "metadata": {},
     "output_type": "display_data"
    },
    {
     "data": {
      "text/plain": [
       "3485671.6500000013"
      ]
     },
     "metadata": {},
     "output_type": "display_data"
    },
    {
     "name": "stdout",
     "output_type": "stream",
     "text": [
      "\n"
     ]
    },
    {
     "data": {
      "text/plain": [
       "'KOTAKBANK'"
      ]
     },
     "metadata": {},
     "output_type": "display_data"
    },
    {
     "data": {
      "text/plain": [
       "{'Bought_Price': 0,\n",
       " 'Current_Price': 1350.0,\n",
       " 'Bought_Quantity': 0,\n",
       " 'Sold_Price': 1254.0,\n",
       " 'Sold_Quantity': 18,\n",
       " 'Investment': 0,\n",
       " 'Current_Valuation': 0.0,\n",
       " 'Status': 0,\n",
       " 'Short_Gains': 63.89999999999918}"
      ]
     },
     "metadata": {},
     "output_type": "display_data"
    },
    {
     "data": {
      "text/plain": [
       "3514679.4000000004"
      ]
     },
     "metadata": {},
     "output_type": "display_data"
    },
    {
     "data": {
      "text/plain": [
       "3485671.6500000013"
      ]
     },
     "metadata": {},
     "output_type": "display_data"
    },
    {
     "name": "stdout",
     "output_type": "stream",
     "text": [
      "\n"
     ]
    },
    {
     "data": {
      "text/plain": [
       "'EMAMILTD'"
      ]
     },
     "metadata": {},
     "output_type": "display_data"
    },
    {
     "data": {
      "text/plain": [
       "{'Bought_Price': 337.88,\n",
       " 'Current_Price': 418.05,\n",
       " 'Bought_Quantity': 90,\n",
       " 'Sold_Price': 242.5,\n",
       " 'Sold_Quantity': 82,\n",
       " 'Investment': 30409.2,\n",
       " 'Current_Valuation': 37624.5,\n",
       " 'Status': 0.2372735882561856,\n",
       " 'Short_Gains': -135.30000000000047}"
      ]
     },
     "metadata": {},
     "output_type": "display_data"
    },
    {
     "data": {
      "text/plain": [
       "3534857.4000000004"
      ]
     },
     "metadata": {},
     "output_type": "display_data"
    },
    {
     "data": {
      "text/plain": [
       "3505738.050000001"
      ]
     },
     "metadata": {},
     "output_type": "display_data"
    },
    {
     "name": "stdout",
     "output_type": "stream",
     "text": [
      "\n"
     ]
    },
    {
     "data": {
      "text/plain": [
       "'BEML'"
      ]
     },
     "metadata": {},
     "output_type": "display_data"
    },
    {
     "data": {
      "text/plain": [
       "{'Bought_Price': 900.0,\n",
       " 'Current_Price': 903.35,\n",
       " 'Bought_Quantity': 12,\n",
       " 'Sold_Price': 659.4,\n",
       " 'Sold_Quantity': 0,\n",
       " 'Investment': 10800.0,\n",
       " 'Current_Valuation': 10840.2,\n",
       " 'Status': 0.0037222222222222895,\n",
       " 'Short_Gains': -0.0}"
      ]
     },
     "metadata": {},
     "output_type": "display_data"
    },
    {
     "data": {
      "text/plain": [
       "3545657.4000000004"
      ]
     },
     "metadata": {},
     "output_type": "display_data"
    },
    {
     "data": {
      "text/plain": [
       "3516578.2500000014"
      ]
     },
     "metadata": {},
     "output_type": "display_data"
    },
    {
     "name": "stdout",
     "output_type": "stream",
     "text": [
      "\n"
     ]
    },
    {
     "data": {
      "text/plain": [
       "'ABBOTINDIA'"
      ]
     },
     "metadata": {},
     "output_type": "display_data"
    },
    {
     "data": {
      "text/plain": [
       "{'Bought_Price': 0,\n",
       " 'Current_Price': 15136.65,\n",
       " 'Bought_Quantity': 0,\n",
       " 'Sold_Price': 7550.0,\n",
       " 'Sold_Quantity': 4,\n",
       " 'Investment': 0,\n",
       " 'Current_Valuation': 0.0,\n",
       " 'Status': 0,\n",
       " 'Short_Gains': -120.20000000000073}"
      ]
     },
     "metadata": {},
     "output_type": "display_data"
    },
    {
     "data": {
      "text/plain": [
       "3545657.4000000004"
      ]
     },
     "metadata": {},
     "output_type": "display_data"
    },
    {
     "data": {
      "text/plain": [
       "3516578.2500000014"
      ]
     },
     "metadata": {},
     "output_type": "display_data"
    },
    {
     "name": "stdout",
     "output_type": "stream",
     "text": [
      "\n"
     ]
    },
    {
     "data": {
      "text/plain": [
       "'APLAPOLLO'"
      ]
     },
     "metadata": {},
     "output_type": "display_data"
    },
    {
     "data": {
      "text/plain": [
       "{'Bought_Price': 1440.1899999999998,\n",
       " 'Current_Price': 1172.8,\n",
       " 'Bought_Quantity': 15,\n",
       " 'Sold_Price': 0,\n",
       " 'Sold_Quantity': 0,\n",
       " 'Investment': 21602.85,\n",
       " 'Current_Valuation': 17592.0,\n",
       " 'Status': -0.18566300279824186,\n",
       " 'Short_Gains': 0}"
      ]
     },
     "metadata": {},
     "output_type": "display_data"
    },
    {
     "data": {
      "text/plain": [
       "3556205.4000000004"
      ]
     },
     "metadata": {},
     "output_type": "display_data"
    },
    {
     "data": {
      "text/plain": [
       "3527133.4500000016"
      ]
     },
     "metadata": {},
     "output_type": "display_data"
    },
    {
     "name": "stdout",
     "output_type": "stream",
     "text": [
      "\n"
     ]
    },
    {
     "data": {
      "text/plain": [
       "'DCMSHRIRAM'"
      ]
     },
     "metadata": {},
     "output_type": "display_data"
    },
    {
     "data": {
      "text/plain": [
       "{'Bought_Price': 340.5,\n",
       " 'Current_Price': 343.05,\n",
       " 'Bought_Quantity': 60,\n",
       " 'Sold_Price': 336.0,\n",
       " 'Sold_Quantity': 60,\n",
       " 'Investment': 20430.0,\n",
       " 'Current_Valuation': 20583.0,\n",
       " 'Status': 0.007488986784140969,\n",
       " 'Short_Gains': -251.99999999999932}"
      ]
     },
     "metadata": {},
     "output_type": "display_data"
    },
    {
     "data": {
      "text/plain": [
       "3576635.4000000004"
      ]
     },
     "metadata": {},
     "output_type": "display_data"
    },
    {
     "data": {
      "text/plain": [
       "3547716.4500000016"
      ]
     },
     "metadata": {},
     "output_type": "display_data"
    },
    {
     "name": "stdout",
     "output_type": "stream",
     "text": [
      "\n"
     ]
    },
    {
     "data": {
      "text/plain": [
       "'FINPIPE'"
      ]
     },
     "metadata": {},
     "output_type": "display_data"
    },
    {
     "data": {
      "text/plain": [
       "{'Bought_Price': 0,\n",
       " 'Current_Price': 465.05,\n",
       " 'Bought_Quantity': 0,\n",
       " 'Sold_Price': 545.0,\n",
       " 'Sold_Quantity': 38,\n",
       " 'Investment': 0,\n",
       " 'Current_Valuation': 0.0,\n",
       " 'Status': 0,\n",
       " 'Short_Gains': -150.10000000000173}"
      ]
     },
     "metadata": {},
     "output_type": "display_data"
    },
    {
     "data": {
      "text/plain": [
       "3576635.4000000004"
      ]
     },
     "metadata": {},
     "output_type": "display_data"
    },
    {
     "data": {
      "text/plain": [
       "3547716.4500000016"
      ]
     },
     "metadata": {},
     "output_type": "display_data"
    },
    {
     "name": "stdout",
     "output_type": "stream",
     "text": [
      "\n"
     ]
    },
    {
     "data": {
      "text/plain": [
       "'PFIZER'"
      ]
     },
     "metadata": {},
     "output_type": "display_data"
    },
    {
     "data": {
      "text/plain": [
       "{'Bought_Price': 0,\n",
       " 'Current_Price': 2871.55,\n",
       " 'Bought_Quantity': 0,\n",
       " 'Sold_Price': 2860.0,\n",
       " 'Sold_Quantity': 0,\n",
       " 'Investment': 0,\n",
       " 'Current_Valuation': 0.0,\n",
       " 'Status': 0,\n",
       " 'Short_Gains': -0.0}"
      ]
     },
     "metadata": {},
     "output_type": "display_data"
    },
    {
     "data": {
      "text/plain": [
       "3576635.4000000004"
      ]
     },
     "metadata": {},
     "output_type": "display_data"
    },
    {
     "data": {
      "text/plain": [
       "3547716.4500000016"
      ]
     },
     "metadata": {},
     "output_type": "display_data"
    },
    {
     "name": "stdout",
     "output_type": "stream",
     "text": [
      "\n"
     ]
    },
    {
     "data": {
      "text/plain": [
       "'DMART'"
      ]
     },
     "metadata": {},
     "output_type": "display_data"
    },
    {
     "data": {
      "text/plain": [
       "{'Bought_Price': 0,\n",
       " 'Current_Price': 2031.4,\n",
       " 'Bought_Quantity': 0,\n",
       " 'Sold_Price': 1610.0,\n",
       " 'Sold_Quantity': 14,\n",
       " 'Investment': 0,\n",
       " 'Current_Valuation': 0.0,\n",
       " 'Status': 0,\n",
       " 'Short_Gains': 269.5}"
      ]
     },
     "metadata": {},
     "output_type": "display_data"
    },
    {
     "data": {
      "text/plain": [
       "3576635.4000000004"
      ]
     },
     "metadata": {},
     "output_type": "display_data"
    },
    {
     "data": {
      "text/plain": [
       "3547716.4500000016"
      ]
     },
     "metadata": {},
     "output_type": "display_data"
    },
    {
     "name": "stdout",
     "output_type": "stream",
     "text": [
      "\n"
     ]
    },
    {
     "data": {
      "text/plain": [
       "'PARAGMILK'"
      ]
     },
     "metadata": {},
     "output_type": "display_data"
    },
    {
     "data": {
      "text/plain": [
       "{'Bought_Price': 246.72500000000002,\n",
       " 'Current_Price': 244.9,\n",
       " 'Bought_Quantity': 82,\n",
       " 'Sold_Price': 88.35,\n",
       " 'Sold_Quantity': 0,\n",
       " 'Investment': 20231.45,\n",
       " 'Current_Valuation': 20081.8,\n",
       " 'Status': -0.007396899381903,\n",
       " 'Short_Gains': 0.0}"
      ]
     },
     "metadata": {},
     "output_type": "display_data"
    },
    {
     "data": {
      "text/plain": [
       "3596866.8500000006"
      ]
     },
     "metadata": {},
     "output_type": "display_data"
    },
    {
     "data": {
      "text/plain": [
       "3567798.2500000014"
      ]
     },
     "metadata": {},
     "output_type": "display_data"
    },
    {
     "name": "stdout",
     "output_type": "stream",
     "text": [
      "\n"
     ]
    },
    {
     "data": {
      "text/plain": [
       "'VGUARD'"
      ]
     },
     "metadata": {},
     "output_type": "display_data"
    },
    {
     "data": {
      "text/plain": [
       "{'Bought_Price': 0,\n",
       " 'Current_Price': 228.15,\n",
       " 'Bought_Quantity': 0,\n",
       " 'Sold_Price': 226.65,\n",
       " 'Sold_Quantity': 0,\n",
       " 'Investment': 0,\n",
       " 'Current_Valuation': 0.0,\n",
       " 'Status': 0,\n",
       " 'Short_Gains': -0.0}"
      ]
     },
     "metadata": {},
     "output_type": "display_data"
    },
    {
     "data": {
      "text/plain": [
       "3596866.8500000006"
      ]
     },
     "metadata": {},
     "output_type": "display_data"
    },
    {
     "data": {
      "text/plain": [
       "3567798.2500000014"
      ]
     },
     "metadata": {},
     "output_type": "display_data"
    },
    {
     "name": "stdout",
     "output_type": "stream",
     "text": [
      "\n"
     ]
    },
    {
     "data": {
      "text/plain": [
       "'VMART'"
      ]
     },
     "metadata": {},
     "output_type": "display_data"
    },
    {
     "data": {
      "text/plain": [
       "{'Bought_Price': 2606.5,\n",
       " 'Current_Price': 2617.95,\n",
       " 'Bought_Quantity': 8,\n",
       " 'Sold_Price': 1798.35,\n",
       " 'Sold_Quantity': 0,\n",
       " 'Investment': 20852.0,\n",
       " 'Current_Valuation': 20943.6,\n",
       " 'Status': 0.00439286399386143,\n",
       " 'Short_Gains': 0.0}"
      ]
     },
     "metadata": {},
     "output_type": "display_data"
    },
    {
     "data": {
      "text/plain": [
       "3617718.8500000006"
      ]
     },
     "metadata": {},
     "output_type": "display_data"
    },
    {
     "data": {
      "text/plain": [
       "3588741.8500000015"
      ]
     },
     "metadata": {},
     "output_type": "display_data"
    },
    {
     "name": "stdout",
     "output_type": "stream",
     "text": [
      "\n"
     ]
    },
    {
     "data": {
      "text/plain": [
       "'ESCORTS'"
      ]
     },
     "metadata": {},
     "output_type": "display_data"
    },
    {
     "data": {
      "text/plain": [
       "{'Bought_Price': 0,\n",
       " 'Current_Price': 719.8,\n",
       " 'Bought_Quantity': 0,\n",
       " 'Sold_Price': 708.5,\n",
       " 'Sold_Quantity': 0,\n",
       " 'Investment': 0,\n",
       " 'Current_Valuation': 0.0,\n",
       " 'Status': 0,\n",
       " 'Short_Gains': -0.0}"
      ]
     },
     "metadata": {},
     "output_type": "display_data"
    },
    {
     "data": {
      "text/plain": [
       "3617718.8500000006"
      ]
     },
     "metadata": {},
     "output_type": "display_data"
    },
    {
     "data": {
      "text/plain": [
       "3588741.8500000015"
      ]
     },
     "metadata": {},
     "output_type": "display_data"
    },
    {
     "name": "stdout",
     "output_type": "stream",
     "text": [
      "\n"
     ]
    },
    {
     "data": {
      "text/plain": [
       "'MUTHOOTFIN'"
      ]
     },
     "metadata": {},
     "output_type": "display_data"
    },
    {
     "data": {
      "text/plain": [
       "{'Bought_Price': 1098.875,\n",
       " 'Current_Price': 512.5,\n",
       " 'Bought_Quantity': 88,\n",
       " 'Sold_Price': 0,\n",
       " 'Sold_Quantity': 0,\n",
       " 'Investment': 96701.0,\n",
       " 'Current_Valuation': 45100.0,\n",
       " 'Status': -0.5336139233306791,\n",
       " 'Short_Gains': 0}"
      ]
     },
     "metadata": {},
     "output_type": "display_data"
    },
    {
     "data": {
      "text/plain": [
       "3628003.8500000006"
      ]
     },
     "metadata": {},
     "output_type": "display_data"
    },
    {
     "data": {
      "text/plain": [
       "3598991.8500000015"
      ]
     },
     "metadata": {},
     "output_type": "display_data"
    },
    {
     "name": "stdout",
     "output_type": "stream",
     "text": [
      "\n"
     ]
    },
    {
     "data": {
      "text/plain": [
       "'INDHOTEL'"
      ]
     },
     "metadata": {},
     "output_type": "display_data"
    },
    {
     "data": {
      "text/plain": [
       "{'Bought_Price': 0,\n",
       " 'Current_Price': 79.15,\n",
       " 'Bought_Quantity': 0,\n",
       " 'Sold_Price': 148.2,\n",
       " 'Sold_Quantity': 138,\n",
       " 'Investment': 0,\n",
       " 'Current_Valuation': 0,\n",
       " 'Status': 0,\n",
       " 'Short_Gains': 303.59999999999843}"
      ]
     },
     "metadata": {},
     "output_type": "display_data"
    },
    {
     "data": {
      "text/plain": [
       "3628003.8500000006"
      ]
     },
     "metadata": {},
     "output_type": "display_data"
    },
    {
     "data": {
      "text/plain": [
       "3598991.8500000015"
      ]
     },
     "metadata": {},
     "output_type": "display_data"
    },
    {
     "name": "stdout",
     "output_type": "stream",
     "text": [
      "\n"
     ]
    },
    {
     "data": {
      "text/plain": [
       "'BALMLAWRIE'"
      ]
     },
     "metadata": {},
     "output_type": "display_data"
    },
    {
     "data": {
      "text/plain": [
       "{'Bought_Price': 151.65970149253732,\n",
       " 'Current_Price': 202.7,\n",
       " 'Bought_Quantity': 268,\n",
       " 'Sold_Price': 0,\n",
       " 'Sold_Quantity': 0,\n",
       " 'Investment': 40644.8,\n",
       " 'Current_Valuation': 54323.6,\n",
       " 'Status': 0.3365448962720937,\n",
       " 'Short_Gains': 0}"
      ]
     },
     "metadata": {},
     "output_type": "display_data"
    },
    {
     "data": {
      "text/plain": [
       "3648408.8500000006"
      ]
     },
     "metadata": {},
     "output_type": "display_data"
    },
    {
     "data": {
      "text/plain": [
       "3619261.8500000015"
      ]
     },
     "metadata": {},
     "output_type": "display_data"
    },
    {
     "name": "stdout",
     "output_type": "stream",
     "text": [
      "\n"
     ]
    },
    {
     "data": {
      "text/plain": [
       "'IFCI'"
      ]
     },
     "metadata": {},
     "output_type": "display_data"
    },
    {
     "data": {
      "text/plain": [
       "{'Bought_Price': 0,\n",
       " 'Current_Price': 15.05,\n",
       " 'Bought_Quantity': 0,\n",
       " 'Sold_Price': 15.1,\n",
       " 'Sold_Quantity': 0,\n",
       " 'Investment': 0,\n",
       " 'Current_Valuation': 0.0,\n",
       " 'Status': 0,\n",
       " 'Short_Gains': 0.0}"
      ]
     },
     "metadata": {},
     "output_type": "display_data"
    },
    {
     "data": {
      "text/plain": [
       "3648408.8500000006"
      ]
     },
     "metadata": {},
     "output_type": "display_data"
    },
    {
     "data": {
      "text/plain": [
       "3619261.8500000015"
      ]
     },
     "metadata": {},
     "output_type": "display_data"
    },
    {
     "name": "stdout",
     "output_type": "stream",
     "text": [
      "\n"
     ]
    },
    {
     "data": {
      "text/plain": [
       "'HONAUT'"
      ]
     },
     "metadata": {},
     "output_type": "display_data"
    },
    {
     "data": {
      "text/plain": [
       "{'Bought_Price': 0,\n",
       " 'Current_Price': 21885.8,\n",
       " 'Bought_Quantity': 0,\n",
       " 'Sold_Price': 21988.1,\n",
       " 'Sold_Quantity': 0,\n",
       " 'Investment': 0,\n",
       " 'Current_Valuation': 0.0,\n",
       " 'Status': 0,\n",
       " 'Short_Gains': 0.0}"
      ]
     },
     "metadata": {},
     "output_type": "display_data"
    },
    {
     "data": {
      "text/plain": [
       "3648408.8500000006"
      ]
     },
     "metadata": {},
     "output_type": "display_data"
    },
    {
     "data": {
      "text/plain": [
       "3619261.8500000015"
      ]
     },
     "metadata": {},
     "output_type": "display_data"
    },
    {
     "name": "stdout",
     "output_type": "stream",
     "text": [
      "\n"
     ]
    },
    {
     "data": {
      "text/plain": [
       "'NTPC'"
      ]
     },
     "metadata": {},
     "output_type": "display_data"
    },
    {
     "data": {
      "text/plain": [
       "{'Bought_Price': 148.0,\n",
       " 'Current_Price': 148.7,\n",
       " 'Bought_Quantity': 136,\n",
       " 'Sold_Price': 90.3,\n",
       " 'Sold_Quantity': 0,\n",
       " 'Investment': 20128.0,\n",
       " 'Current_Valuation': 20223.199999999997,\n",
       " 'Status': 0.004729729729729585,\n",
       " 'Short_Gains': 0.0}"
      ]
     },
     "metadata": {},
     "output_type": "display_data"
    },
    {
     "data": {
      "text/plain": [
       "3668536.8500000006"
      ]
     },
     "metadata": {},
     "output_type": "display_data"
    },
    {
     "data": {
      "text/plain": [
       "3639485.0500000017"
      ]
     },
     "metadata": {},
     "output_type": "display_data"
    },
    {
     "name": "stdout",
     "output_type": "stream",
     "text": [
      "\n"
     ]
    },
    {
     "data": {
      "text/plain": [
       "'SHILPAMED'"
      ]
     },
     "metadata": {},
     "output_type": "display_data"
    },
    {
     "data": {
      "text/plain": [
       "{'Bought_Price': 0,\n",
       " 'Current_Price': 392.6,\n",
       " 'Bought_Quantity': 0,\n",
       " 'Sold_Price': 395.0,\n",
       " 'Sold_Quantity': 0,\n",
       " 'Investment': 0,\n",
       " 'Current_Valuation': 0.0,\n",
       " 'Status': 0,\n",
       " 'Short_Gains': 0.0}"
      ]
     },
     "metadata": {},
     "output_type": "display_data"
    },
    {
     "data": {
      "text/plain": [
       "3668536.8500000006"
      ]
     },
     "metadata": {},
     "output_type": "display_data"
    },
    {
     "data": {
      "text/plain": [
       "3639485.0500000017"
      ]
     },
     "metadata": {},
     "output_type": "display_data"
    },
    {
     "name": "stdout",
     "output_type": "stream",
     "text": [
      "\n"
     ]
    },
    {
     "data": {
      "text/plain": [
       "'CYIENT'"
      ]
     },
     "metadata": {},
     "output_type": "display_data"
    },
    {
     "data": {
      "text/plain": [
       "{'Bought_Price': 618.875,\n",
       " 'Current_Price': 618.3,\n",
       " 'Bought_Quantity': 17,\n",
       " 'Sold_Price': 299.8,\n",
       " 'Sold_Quantity': 0,\n",
       " 'Investment': 10520.875,\n",
       " 'Current_Valuation': 10511.099999999999,\n",
       " 'Status': -0.0009291052312665492,\n",
       " 'Short_Gains': -0.0}"
      ]
     },
     "metadata": {},
     "output_type": "display_data"
    },
    {
     "data": {
      "text/plain": [
       "3679057.7250000006"
      ]
     },
     "metadata": {},
     "output_type": "display_data"
    },
    {
     "data": {
      "text/plain": [
       "3649996.150000002"
      ]
     },
     "metadata": {},
     "output_type": "display_data"
    },
    {
     "name": "stdout",
     "output_type": "stream",
     "text": [
      "\n"
     ]
    },
    {
     "data": {
      "text/plain": [
       "'KPITTECH'"
      ]
     },
     "metadata": {},
     "output_type": "display_data"
    },
    {
     "data": {
      "text/plain": [
       "{'Bought_Price': 0,\n",
       " 'Current_Price': 67.05,\n",
       " 'Bought_Quantity': 0,\n",
       " 'Sold_Price': 94.1,\n",
       " 'Sold_Quantity': 214,\n",
       " 'Investment': 0,\n",
       " 'Current_Valuation': 0,\n",
       " 'Status': 0,\n",
       " 'Short_Gains': -406.6000000000012}"
      ]
     },
     "metadata": {},
     "output_type": "display_data"
    },
    {
     "data": {
      "text/plain": [
       "3651015.9250000007"
      ]
     },
     "metadata": {},
     "output_type": "display_data"
    },
    {
     "data": {
      "text/plain": [
       "3621954.350000002"
      ]
     },
     "metadata": {},
     "output_type": "display_data"
    },
    {
     "name": "stdout",
     "output_type": "stream",
     "text": [
      "\n"
     ]
    },
    {
     "data": {
      "text/plain": [
       "'MRF'"
      ]
     },
     "metadata": {},
     "output_type": "display_data"
    },
    {
     "data": {
      "text/plain": [
       "{'Bought_Price': 0,\n",
       " 'Current_Price': 62976.5,\n",
       " 'Bought_Quantity': 0,\n",
       " 'Sold_Price': 67299.0,\n",
       " 'Sold_Quantity': 1,\n",
       " 'Investment': 0,\n",
       " 'Current_Valuation': 0.0,\n",
       " 'Status': 0,\n",
       " 'Short_Gains': 497.8000000000029}"
      ]
     },
     "metadata": {},
     "output_type": "display_data"
    },
    {
     "data": {
      "text/plain": [
       "3651015.9250000007"
      ]
     },
     "metadata": {},
     "output_type": "display_data"
    },
    {
     "data": {
      "text/plain": [
       "3621954.350000002"
      ]
     },
     "metadata": {},
     "output_type": "display_data"
    },
    {
     "name": "stdout",
     "output_type": "stream",
     "text": [
      "\n"
     ]
    },
    {
     "data": {
      "text/plain": [
       "'IOC'"
      ]
     },
     "metadata": {},
     "output_type": "display_data"
    },
    {
     "data": {
      "text/plain": [
       "{'Bought_Price': 0,\n",
       " 'Current_Price': 137.7,\n",
       " 'Bought_Quantity': 0,\n",
       " 'Sold_Price': 137.2,\n",
       " 'Sold_Quantity': 0,\n",
       " 'Investment': 0,\n",
       " 'Current_Valuation': 0.0,\n",
       " 'Status': 0,\n",
       " 'Short_Gains': -0.0}"
      ]
     },
     "metadata": {},
     "output_type": "display_data"
    },
    {
     "data": {
      "text/plain": [
       "3651015.9250000007"
      ]
     },
     "metadata": {},
     "output_type": "display_data"
    },
    {
     "data": {
      "text/plain": [
       "3621954.350000002"
      ]
     },
     "metadata": {},
     "output_type": "display_data"
    },
    {
     "name": "stdout",
     "output_type": "stream",
     "text": [
      "\n"
     ]
    },
    {
     "data": {
      "text/plain": [
       "'SKFINDIA'"
      ]
     },
     "metadata": {},
     "output_type": "display_data"
    },
    {
     "data": {
      "text/plain": [
       "{'Bought_Price': 0,\n",
       " 'Current_Price': 1906.4,\n",
       " 'Bought_Quantity': 0,\n",
       " 'Sold_Price': 1901.0,\n",
       " 'Sold_Quantity': 0,\n",
       " 'Investment': 0,\n",
       " 'Current_Valuation': 0.0,\n",
       " 'Status': 0,\n",
       " 'Short_Gains': -0.0}"
      ]
     },
     "metadata": {},
     "output_type": "display_data"
    },
    {
     "data": {
      "text/plain": [
       "3651015.9250000007"
      ]
     },
     "metadata": {},
     "output_type": "display_data"
    },
    {
     "data": {
      "text/plain": [
       "3621954.350000002"
      ]
     },
     "metadata": {},
     "output_type": "display_data"
    },
    {
     "name": "stdout",
     "output_type": "stream",
     "text": [
      "\n"
     ]
    },
    {
     "data": {
      "text/plain": [
       "'BAJAJCON'"
      ]
     },
     "metadata": {},
     "output_type": "display_data"
    },
    {
     "data": {
      "text/plain": [
       "{'Bought_Price': 0,\n",
       " 'Current_Price': 173.75,\n",
       " 'Bought_Quantity': 0,\n",
       " 'Sold_Price': 370.0,\n",
       " 'Sold_Quantity': 54,\n",
       " 'Investment': 0,\n",
       " 'Current_Valuation': 0.0,\n",
       " 'Status': 0,\n",
       " 'Short_Gains': -183.59999999999877}"
      ]
     },
     "metadata": {},
     "output_type": "display_data"
    },
    {
     "data": {
      "text/plain": [
       "3651015.9250000007"
      ]
     },
     "metadata": {},
     "output_type": "display_data"
    },
    {
     "data": {
      "text/plain": [
       "3621954.350000002"
      ]
     },
     "metadata": {},
     "output_type": "display_data"
    },
    {
     "name": "stdout",
     "output_type": "stream",
     "text": [
      "\n"
     ]
    },
    {
     "data": {
      "text/plain": [
       "'ARVINDFASN'"
      ]
     },
     "metadata": {},
     "output_type": "display_data"
    },
    {
     "data": {
      "text/plain": [
       "{'Bought_Price': 0,\n",
       " 'Current_Price': 1058.5,\n",
       " 'Bought_Quantity': 0,\n",
       " 'Sold_Price': 1024.0,\n",
       " 'Sold_Quantity': 0,\n",
       " 'Investment': 0,\n",
       " 'Current_Valuation': 0.0,\n",
       " 'Status': 0,\n",
       " 'Short_Gains': -0.0}"
      ]
     },
     "metadata": {},
     "output_type": "display_data"
    },
    {
     "data": {
      "text/plain": [
       "3651015.9250000007"
      ]
     },
     "metadata": {},
     "output_type": "display_data"
    },
    {
     "data": {
      "text/plain": [
       "3621954.350000002"
      ]
     },
     "metadata": {},
     "output_type": "display_data"
    },
    {
     "name": "stdout",
     "output_type": "stream",
     "text": [
      "\n"
     ]
    },
    {
     "data": {
      "text/plain": [
       "'OMAXE'"
      ]
     },
     "metadata": {},
     "output_type": "display_data"
    },
    {
     "data": {
      "text/plain": [
       "{'Bought_Price': 0,\n",
       " 'Current_Price': 213.6,\n",
       " 'Bought_Quantity': 0,\n",
       " 'Sold_Price': 214.8,\n",
       " 'Sold_Quantity': 0,\n",
       " 'Investment': 0,\n",
       " 'Current_Valuation': 0.0,\n",
       " 'Status': 0,\n",
       " 'Short_Gains': 0.0}"
      ]
     },
     "metadata": {},
     "output_type": "display_data"
    },
    {
     "data": {
      "text/plain": [
       "3651015.9250000007"
      ]
     },
     "metadata": {},
     "output_type": "display_data"
    },
    {
     "data": {
      "text/plain": [
       "3621954.350000002"
      ]
     },
     "metadata": {},
     "output_type": "display_data"
    },
    {
     "name": "stdout",
     "output_type": "stream",
     "text": [
      "\n"
     ]
    },
    {
     "data": {
      "text/plain": [
       "'PHOENIXLTD'"
      ]
     },
     "metadata": {},
     "output_type": "display_data"
    },
    {
     "data": {
      "text/plain": [
       "{'Bought_Price': 577.2249999999999,\n",
       " 'Current_Price': 576.45,\n",
       " 'Bought_Quantity': 72,\n",
       " 'Sold_Price': 0,\n",
       " 'Sold_Quantity': 0,\n",
       " 'Investment': 41560.2,\n",
       " 'Current_Valuation': 41504.4,\n",
       " 'Status': -0.001342630689938827,\n",
       " 'Short_Gains': 0}"
      ]
     },
     "metadata": {},
     "output_type": "display_data"
    },
    {
     "data": {
      "text/plain": [
       "3671525.125000001"
      ]
     },
     "metadata": {},
     "output_type": "display_data"
    },
    {
     "data": {
      "text/plain": [
       "3642706.550000002"
      ]
     },
     "metadata": {},
     "output_type": "display_data"
    },
    {
     "name": "stdout",
     "output_type": "stream",
     "text": [
      "\n"
     ]
    },
    {
     "data": {
      "text/plain": [
       "'INOXLEISUR'"
      ]
     },
     "metadata": {},
     "output_type": "display_data"
    },
    {
     "data": {
      "text/plain": [
       "{'Bought_Price': 244.60000000000002,\n",
       " 'Current_Price': 246.2,\n",
       " 'Bought_Quantity': 82,\n",
       " 'Sold_Price': 239.8,\n",
       " 'Sold_Quantity': 0,\n",
       " 'Investment': 20057.2,\n",
       " 'Current_Valuation': 20188.399999999998,\n",
       " 'Status': 0.006541291905151122,\n",
       " 'Short_Gains': -0.0}"
      ]
     },
     "metadata": {},
     "output_type": "display_data"
    },
    {
     "data": {
      "text/plain": [
       "3691582.325000001"
      ]
     },
     "metadata": {},
     "output_type": "display_data"
    },
    {
     "data": {
      "text/plain": [
       "3662894.950000002"
      ]
     },
     "metadata": {},
     "output_type": "display_data"
    },
    {
     "name": "stdout",
     "output_type": "stream",
     "text": [
      "\n"
     ]
    },
    {
     "data": {
      "text/plain": [
       "'RELIANCE'"
      ]
     },
     "metadata": {},
     "output_type": "display_data"
    },
    {
     "data": {
      "text/plain": [
       "{'Bought_Price': 1472.8785714285714,\n",
       " 'Current_Price': 1121.0,\n",
       " 'Bought_Quantity': 14,\n",
       " 'Sold_Price': 2003.95,\n",
       " 'Sold_Quantity': 0,\n",
       " 'Investment': 20620.3,\n",
       " 'Current_Valuation': 15694.0,\n",
       " 'Status': -0.23890535055261075,\n",
       " 'Short_Gains': -0.0}"
      ]
     },
     "metadata": {},
     "output_type": "display_data"
    },
    {
     "data": {
      "text/plain": [
       "3701650.625000001"
      ]
     },
     "metadata": {},
     "output_type": "display_data"
    },
    {
     "data": {
      "text/plain": [
       "3672983.950000002"
      ]
     },
     "metadata": {},
     "output_type": "display_data"
    },
    {
     "name": "stdout",
     "output_type": "stream",
     "text": [
      "\n"
     ]
    },
    {
     "data": {
      "text/plain": [
       "'ASAHIINDIA'"
      ]
     },
     "metadata": {},
     "output_type": "display_data"
    },
    {
     "data": {
      "text/plain": [
       "{'Bought_Price': 0,\n",
       " 'Current_Price': 175.3,\n",
       " 'Bought_Quantity': 0,\n",
       " 'Sold_Price': 258.0,\n",
       " 'Sold_Quantity': 39,\n",
       " 'Investment': 0,\n",
       " 'Current_Valuation': 0.0,\n",
       " 'Status': 0,\n",
       " 'Short_Gains': -214.5}"
      ]
     },
     "metadata": {},
     "output_type": "display_data"
    },
    {
     "data": {
      "text/plain": [
       "3701650.625000001"
      ]
     },
     "metadata": {},
     "output_type": "display_data"
    },
    {
     "data": {
      "text/plain": [
       "3672983.950000002"
      ]
     },
     "metadata": {},
     "output_type": "display_data"
    },
    {
     "name": "stdout",
     "output_type": "stream",
     "text": [
      "\n"
     ]
    },
    {
     "data": {
      "text/plain": [
       "'AXISBANK'"
      ]
     },
     "metadata": {},
     "output_type": "display_data"
    },
    {
     "data": {
      "text/plain": [
       "{'Bought_Price': 0,\n",
       " 'Current_Price': 627.3,\n",
       " 'Bought_Quantity': 0,\n",
       " 'Sold_Price': 621.9,\n",
       " 'Sold_Quantity': 0,\n",
       " 'Investment': 0,\n",
       " 'Current_Valuation': 0.0,\n",
       " 'Status': 0,\n",
       " 'Short_Gains': -0.0}"
      ]
     },
     "metadata": {},
     "output_type": "display_data"
    },
    {
     "data": {
      "text/plain": [
       "3701650.625000001"
      ]
     },
     "metadata": {},
     "output_type": "display_data"
    },
    {
     "data": {
      "text/plain": [
       "3672983.950000002"
      ]
     },
     "metadata": {},
     "output_type": "display_data"
    },
    {
     "name": "stdout",
     "output_type": "stream",
     "text": [
      "\n"
     ]
    },
    {
     "data": {
      "text/plain": [
       "'KARURVYSYA'"
      ]
     },
     "metadata": {},
     "output_type": "display_data"
    },
    {
     "data": {
      "text/plain": [
       "{'Bought_Price': 0,\n",
       " 'Current_Price': 31.05,\n",
       " 'Bought_Quantity': 0,\n",
       " 'Sold_Price': 88.5,\n",
       " 'Sold_Quantity': 112,\n",
       " 'Investment': 0,\n",
       " 'Current_Valuation': 0.0,\n",
       " 'Status': 0,\n",
       " 'Short_Gains': -212.80000000000064}"
      ]
     },
     "metadata": {},
     "output_type": "display_data"
    },
    {
     "data": {
      "text/plain": [
       "3701650.625000001"
      ]
     },
     "metadata": {},
     "output_type": "display_data"
    },
    {
     "data": {
      "text/plain": [
       "3672983.950000002"
      ]
     },
     "metadata": {},
     "output_type": "display_data"
    },
    {
     "name": "stdout",
     "output_type": "stream",
     "text": [
      "\n"
     ]
    },
    {
     "data": {
      "text/plain": [
       "'BIOCON'"
      ]
     },
     "metadata": {},
     "output_type": "display_data"
    },
    {
     "data": {
      "text/plain": [
       "{'Bought_Price': 0,\n",
       " 'Current_Price': 625.8,\n",
       " 'Bought_Quantity': 0,\n",
       " 'Sold_Price': 631.45,\n",
       " 'Sold_Quantity': 0,\n",
       " 'Investment': 0,\n",
       " 'Current_Valuation': 0.0,\n",
       " 'Status': 0,\n",
       " 'Short_Gains': 0.0}"
      ]
     },
     "metadata": {},
     "output_type": "display_data"
    },
    {
     "data": {
      "text/plain": [
       "3701650.625000001"
      ]
     },
     "metadata": {},
     "output_type": "display_data"
    },
    {
     "data": {
      "text/plain": [
       "3672983.950000002"
      ]
     },
     "metadata": {},
     "output_type": "display_data"
    },
    {
     "name": "stdout",
     "output_type": "stream",
     "text": [
      "\n"
     ]
    },
    {
     "data": {
      "text/plain": [
       "'PERSISTENT'"
      ]
     },
     "metadata": {},
     "output_type": "display_data"
    },
    {
     "data": {
      "text/plain": [
       "{'Bought_Price': 626.75,\n",
       " 'Current_Price': 626.1,\n",
       " 'Bought_Quantity': 16,\n",
       " 'Sold_Price': 724.0,\n",
       " 'Sold_Quantity': 0,\n",
       " 'Investment': 10028.0,\n",
       " 'Current_Valuation': 10017.6,\n",
       " 'Status': -0.0010370961308336295,\n",
       " 'Short_Gains': -0.0}"
      ]
     },
     "metadata": {},
     "output_type": "display_data"
    },
    {
     "data": {
      "text/plain": [
       "3711678.625000001"
      ]
     },
     "metadata": {},
     "output_type": "display_data"
    },
    {
     "data": {
      "text/plain": [
       "3683001.550000002"
      ]
     },
     "metadata": {},
     "output_type": "display_data"
    },
    {
     "name": "stdout",
     "output_type": "stream",
     "text": [
      "\n"
     ]
    },
    {
     "data": {
      "text/plain": [
       "'HAL'"
      ]
     },
     "metadata": {},
     "output_type": "display_data"
    },
    {
     "data": {
      "text/plain": [
       "{'Bought_Price': 863.5197916666666,\n",
       " 'Current_Price': 798.6,\n",
       " 'Bought_Quantity': 48,\n",
       " 'Sold_Price': 0,\n",
       " 'Sold_Quantity': 0,\n",
       " 'Investment': 41448.95,\n",
       " 'Current_Valuation': 38332.8,\n",
       " 'Status': -0.07518043279745312,\n",
       " 'Short_Gains': 0}"
      ]
     },
     "metadata": {},
     "output_type": "display_data"
    },
    {
     "data": {
      "text/plain": [
       "3732652.1750000007"
      ]
     },
     "metadata": {},
     "output_type": "display_data"
    },
    {
     "data": {
      "text/plain": [
       "3703765.1500000022"
      ]
     },
     "metadata": {},
     "output_type": "display_data"
    },
    {
     "name": "stdout",
     "output_type": "stream",
     "text": [
      "\n"
     ]
    },
    {
     "data": {
      "text/plain": [
       "'BANKINDIA'"
      ]
     },
     "metadata": {},
     "output_type": "display_data"
    },
    {
     "data": {
      "text/plain": [
       "{'Bought_Price': 0,\n",
       " 'Current_Price': 47.45,\n",
       " 'Bought_Quantity': 0,\n",
       " 'Sold_Price': 104.55,\n",
       " 'Sold_Quantity': 95,\n",
       " 'Investment': 0,\n",
       " 'Current_Valuation': 0.0,\n",
       " 'Status': 0,\n",
       " 'Short_Gains': -170.99999999999972}"
      ]
     },
     "metadata": {},
     "output_type": "display_data"
    },
    {
     "data": {
      "text/plain": [
       "3732652.1750000007"
      ]
     },
     "metadata": {},
     "output_type": "display_data"
    },
    {
     "data": {
      "text/plain": [
       "3703765.1500000022"
      ]
     },
     "metadata": {},
     "output_type": "display_data"
    },
    {
     "name": "stdout",
     "output_type": "stream",
     "text": [
      "\n"
     ]
    },
    {
     "data": {
      "text/plain": [
       "'SUNDRMFAST'"
      ]
     },
     "metadata": {},
     "output_type": "display_data"
    },
    {
     "data": {
      "text/plain": [
       "{'Bought_Price': 0,\n",
       " 'Current_Price': 544.6,\n",
       " 'Bought_Quantity': 0,\n",
       " 'Sold_Price': 535.0,\n",
       " 'Sold_Quantity': 0,\n",
       " 'Investment': 0,\n",
       " 'Current_Valuation': 0.0,\n",
       " 'Status': 0,\n",
       " 'Short_Gains': -0.0}"
      ]
     },
     "metadata": {},
     "output_type": "display_data"
    },
    {
     "data": {
      "text/plain": [
       "3732652.1750000007"
      ]
     },
     "metadata": {},
     "output_type": "display_data"
    },
    {
     "data": {
      "text/plain": [
       "3703765.1500000022"
      ]
     },
     "metadata": {},
     "output_type": "display_data"
    },
    {
     "name": "stdout",
     "output_type": "stream",
     "text": [
      "\n"
     ]
    },
    {
     "data": {
      "text/plain": [
       "'TTKPRESTIG'"
      ]
     },
     "metadata": {},
     "output_type": "display_data"
    },
    {
     "data": {
      "text/plain": [
       "{'Bought_Price': 0,\n",
       " 'Current_Price': 5512.05,\n",
       " 'Bought_Quantity': 0,\n",
       " 'Sold_Price': 7480.0,\n",
       " 'Sold_Quantity': 4,\n",
       " 'Investment': 0,\n",
       " 'Current_Valuation': 0.0,\n",
       " 'Status': 0,\n",
       " 'Short_Gains': -35.400000000001455}"
      ]
     },
     "metadata": {},
     "output_type": "display_data"
    },
    {
     "data": {
      "text/plain": [
       "3732652.1750000007"
      ]
     },
     "metadata": {},
     "output_type": "display_data"
    },
    {
     "data": {
      "text/plain": [
       "3703765.1500000022"
      ]
     },
     "metadata": {},
     "output_type": "display_data"
    },
    {
     "name": "stdout",
     "output_type": "stream",
     "text": [
      "\n"
     ]
    },
    {
     "data": {
      "text/plain": [
       "'GMDCLTD'"
      ]
     },
     "metadata": {},
     "output_type": "display_data"
    },
    {
     "data": {
      "text/plain": [
       "{'Bought_Price': 0,\n",
       " 'Current_Price': 0,\n",
       " 'Bought_Quantity': 0,\n",
       " 'Sold_Price': 89.0,\n",
       " 'Sold_Quantity': 224,\n",
       " 'Investment': 0,\n",
       " 'Current_Valuation': 0,\n",
       " 'Status': 0,\n",
       " 'Short_Gains': -324.80000000000064}"
      ]
     },
     "metadata": {},
     "output_type": "display_data"
    },
    {
     "data": {
      "text/plain": [
       "3732652.1750000007"
      ]
     },
     "metadata": {},
     "output_type": "display_data"
    },
    {
     "data": {
      "text/plain": [
       "3703765.1500000022"
      ]
     },
     "metadata": {},
     "output_type": "display_data"
    },
    {
     "name": "stdout",
     "output_type": "stream",
     "text": [
      "\n"
     ]
    },
    {
     "data": {
      "text/plain": [
       "'TASTYBITE'"
      ]
     },
     "metadata": {},
     "output_type": "display_data"
    },
    {
     "data": {
      "text/plain": [
       "{'Bought_Price': 0,\n",
       " 'Current_Price': 8889.75,\n",
       " 'Bought_Quantity': 0,\n",
       " 'Sold_Price': 8973.95,\n",
       " 'Sold_Quantity': 0,\n",
       " 'Investment': 0,\n",
       " 'Current_Valuation': 0,\n",
       " 'Status': 0,\n",
       " 'Short_Gains': 0.0}"
      ]
     },
     "metadata": {},
     "output_type": "display_data"
    },
    {
     "data": {
      "text/plain": [
       "3714704.275000001"
      ]
     },
     "metadata": {},
     "output_type": "display_data"
    },
    {
     "data": {
      "text/plain": [
       "3680173.4500000025"
      ]
     },
     "metadata": {},
     "output_type": "display_data"
    },
    {
     "name": "stdout",
     "output_type": "stream",
     "text": [
      "\n"
     ]
    },
    {
     "data": {
      "text/plain": [
       "'GSFC'"
      ]
     },
     "metadata": {},
     "output_type": "display_data"
    },
    {
     "data": {
      "text/plain": [
       "{'Bought_Price': 89.18473451327434,\n",
       " 'Current_Price': 116.3,\n",
       " 'Bought_Quantity': 339,\n",
       " 'Sold_Price': 0,\n",
       " 'Sold_Quantity': 0,\n",
       " 'Investment': 30233.625,\n",
       " 'Current_Valuation': 39425.7,\n",
       " 'Status': 0.3040348287709462,\n",
       " 'Short_Gains': 0}"
      ]
     },
     "metadata": {},
     "output_type": "display_data"
    },
    {
     "data": {
      "text/plain": [
       "3734910.025000001"
      ]
     },
     "metadata": {},
     "output_type": "display_data"
    },
    {
     "data": {
      "text/plain": [
       "3700409.6500000027"
      ]
     },
     "metadata": {},
     "output_type": "display_data"
    },
    {
     "name": "stdout",
     "output_type": "stream",
     "text": [
      "\n"
     ]
    },
    {
     "data": {
      "text/plain": [
       "'WABAG'"
      ]
     },
     "metadata": {},
     "output_type": "display_data"
    },
    {
     "data": {
      "text/plain": [
       "{'Bought_Price': 174.9728448275862,\n",
       " 'Current_Price': 260.95,\n",
       " 'Bought_Quantity': 116,\n",
       " 'Sold_Price': 0,\n",
       " 'Sold_Quantity': 0,\n",
       " 'Investment': 20296.85,\n",
       " 'Current_Valuation': 30270.199999999997,\n",
       " 'Status': 0.49137427728933303,\n",
       " 'Short_Gains': 0}"
      ]
     },
     "metadata": {},
     "output_type": "display_data"
    },
    {
     "data": {
      "text/plain": [
       "3745092.9250000007"
      ]
     },
     "metadata": {},
     "output_type": "display_data"
    },
    {
     "data": {
      "text/plain": [
       "3710586.7000000025"
      ]
     },
     "metadata": {},
     "output_type": "display_data"
    },
    {
     "name": "stdout",
     "output_type": "stream",
     "text": [
      "\n"
     ]
    },
    {
     "data": {
      "text/plain": [
       "'CANFINHOME'"
      ]
     },
     "metadata": {},
     "output_type": "display_data"
    },
    {
     "data": {
      "text/plain": [
       "{'Bought_Price': 286.55,\n",
       " 'Current_Price': 286.8,\n",
       " 'Bought_Quantity': 35,\n",
       " 'Sold_Price': 383.95,\n",
       " 'Sold_Quantity': 0,\n",
       " 'Investment': 10029.25,\n",
       " 'Current_Valuation': 10038.0,\n",
       " 'Status': 0.0008724480893386843,\n",
       " 'Short_Gains': -0.0}"
      ]
     },
     "metadata": {},
     "output_type": "display_data"
    },
    {
     "data": {
      "text/plain": [
       "3755122.1750000007"
      ]
     },
     "metadata": {},
     "output_type": "display_data"
    },
    {
     "data": {
      "text/plain": [
       "3720624.7000000025"
      ]
     },
     "metadata": {},
     "output_type": "display_data"
    },
    {
     "name": "stdout",
     "output_type": "stream",
     "text": [
      "\n"
     ]
    },
    {
     "data": {
      "text/plain": [
       "'GODREJPROP'"
      ]
     },
     "metadata": {},
     "output_type": "display_data"
    },
    {
     "data": {
      "text/plain": [
       "{'Bought_Price': 661.675,\n",
       " 'Current_Price': 660.3,\n",
       " 'Bought_Quantity': 32,\n",
       " 'Sold_Price': 888.4,\n",
       " 'Sold_Quantity': 0,\n",
       " 'Investment': 21173.6,\n",
       " 'Current_Valuation': 21129.6,\n",
       " 'Status': -0.0020780594702837496,\n",
       " 'Short_Gains': -0.0}"
      ]
     },
     "metadata": {},
     "output_type": "display_data"
    },
    {
     "data": {
      "text/plain": [
       "3776295.775000001"
      ]
     },
     "metadata": {},
     "output_type": "display_data"
    },
    {
     "data": {
      "text/plain": [
       "3741754.3000000026"
      ]
     },
     "metadata": {},
     "output_type": "display_data"
    },
    {
     "name": "stdout",
     "output_type": "stream",
     "text": [
      "\n"
     ]
    },
    {
     "data": {
      "text/plain": [
       "'TV18BRDCST'"
      ]
     },
     "metadata": {},
     "output_type": "display_data"
    },
    {
     "data": {
      "text/plain": [
       "{'Bought_Price': 0,\n",
       " 'Current_Price': 38.4,\n",
       " 'Bought_Quantity': 0,\n",
       " 'Sold_Price': 38.35,\n",
       " 'Sold_Quantity': 0,\n",
       " 'Investment': 0,\n",
       " 'Current_Valuation': 0,\n",
       " 'Status': 0,\n",
       " 'Short_Gains': -0.0}"
      ]
     },
     "metadata": {},
     "output_type": "display_data"
    },
    {
     "data": {
      "text/plain": [
       "3754819.775000001"
      ]
     },
     "metadata": {},
     "output_type": "display_data"
    },
    {
     "data": {
      "text/plain": [
       "3721734.3000000026"
      ]
     },
     "metadata": {},
     "output_type": "display_data"
    },
    {
     "name": "stdout",
     "output_type": "stream",
     "text": [
      "\n"
     ]
    },
    {
     "data": {
      "text/plain": [
       "'UPL'"
      ]
     },
     "metadata": {},
     "output_type": "display_data"
    },
    {
     "data": {
      "text/plain": [
       "{'Bought_Price': 0,\n",
       " 'Current_Price': 753.5,\n",
       " 'Bought_Quantity': 0,\n",
       " 'Sold_Price': 760.0,\n",
       " 'Sold_Quantity': 0,\n",
       " 'Investment': 0,\n",
       " 'Current_Valuation': 0,\n",
       " 'Status': 0,\n",
       " 'Short_Gains': 0.0}"
      ]
     },
     "metadata": {},
     "output_type": "display_data"
    },
    {
     "data": {
      "text/plain": [
       "3737339.775000001"
      ]
     },
     "metadata": {},
     "output_type": "display_data"
    },
    {
     "data": {
      "text/plain": [
       "3711139.3500000024"
      ]
     },
     "metadata": {},
     "output_type": "display_data"
    },
    {
     "name": "stdout",
     "output_type": "stream",
     "text": [
      "\n"
     ]
    },
    {
     "data": {
      "text/plain": [
       "'FORTIS'"
      ]
     },
     "metadata": {},
     "output_type": "display_data"
    },
    {
     "data": {
      "text/plain": [
       "{'Bought_Price': 0,\n",
       " 'Current_Price': 140.2,\n",
       " 'Bought_Quantity': 0,\n",
       " 'Sold_Price': 140.5,\n",
       " 'Sold_Quantity': 0,\n",
       " 'Investment': 0,\n",
       " 'Current_Valuation': 0.0,\n",
       " 'Status': 0,\n",
       " 'Short_Gains': 0.0}"
      ]
     },
     "metadata": {},
     "output_type": "display_data"
    },
    {
     "data": {
      "text/plain": [
       "3737339.775000001"
      ]
     },
     "metadata": {},
     "output_type": "display_data"
    },
    {
     "data": {
      "text/plain": [
       "3711139.3500000024"
      ]
     },
     "metadata": {},
     "output_type": "display_data"
    },
    {
     "name": "stdout",
     "output_type": "stream",
     "text": [
      "\n"
     ]
    },
    {
     "data": {
      "text/plain": [
       "'RAMCOCEM'"
      ]
     },
     "metadata": {},
     "output_type": "display_data"
    },
    {
     "data": {
      "text/plain": [
       "{'Bought_Price': 0,\n",
       " 'Current_Price': 641.25,\n",
       " 'Bought_Quantity': 0,\n",
       " 'Sold_Price': 643.7,\n",
       " 'Sold_Quantity': 0,\n",
       " 'Investment': 0,\n",
       " 'Current_Valuation': 0,\n",
       " 'Status': 0,\n",
       " 'Short_Gains': 0.0}"
      ]
     },
     "metadata": {},
     "output_type": "display_data"
    },
    {
     "data": {
      "text/plain": [
       "3679406.775000001"
      ]
     },
     "metadata": {},
     "output_type": "display_data"
    },
    {
     "data": {
      "text/plain": [
       "3648899.8500000024"
      ]
     },
     "metadata": {},
     "output_type": "display_data"
    },
    {
     "name": "stdout",
     "output_type": "stream",
     "text": [
      "\n"
     ]
    },
    {
     "data": {
      "text/plain": [
       "'THYROCARE'"
      ]
     },
     "metadata": {},
     "output_type": "display_data"
    },
    {
     "data": {
      "text/plain": [
       "{'Bought_Price': 0,\n",
       " 'Current_Price': 539.1,\n",
       " 'Bought_Quantity': 0,\n",
       " 'Sold_Price': 535.0,\n",
       " 'Sold_Quantity': 0,\n",
       " 'Investment': 0,\n",
       " 'Current_Valuation': 0.0,\n",
       " 'Status': 0,\n",
       " 'Short_Gains': -0.0}"
      ]
     },
     "metadata": {},
     "output_type": "display_data"
    },
    {
     "data": {
      "text/plain": [
       "3679406.775000001"
      ]
     },
     "metadata": {},
     "output_type": "display_data"
    },
    {
     "data": {
      "text/plain": [
       "3648899.8500000024"
      ]
     },
     "metadata": {},
     "output_type": "display_data"
    },
    {
     "name": "stdout",
     "output_type": "stream",
     "text": [
      "\n"
     ]
    },
    {
     "data": {
      "text/plain": [
       "'HDFCBANK'"
      ]
     },
     "metadata": {},
     "output_type": "display_data"
    },
    {
     "data": {
      "text/plain": [
       "{'Bought_Price': 0,\n",
       " 'Current_Price': 2148.1,\n",
       " 'Bought_Quantity': 0,\n",
       " 'Sold_Price': 2127.65,\n",
       " 'Sold_Quantity': 0,\n",
       " 'Investment': 0,\n",
       " 'Current_Valuation': 0.0,\n",
       " 'Status': 0,\n",
       " 'Short_Gains': -0.0}"
      ]
     },
     "metadata": {},
     "output_type": "display_data"
    },
    {
     "data": {
      "text/plain": [
       "3679406.775000001"
      ]
     },
     "metadata": {},
     "output_type": "display_data"
    },
    {
     "data": {
      "text/plain": [
       "3648899.8500000024"
      ]
     },
     "metadata": {},
     "output_type": "display_data"
    },
    {
     "name": "stdout",
     "output_type": "stream",
     "text": [
      "\n"
     ]
    },
    {
     "data": {
      "text/plain": [
       "'TVTODAY'"
      ]
     },
     "metadata": {},
     "output_type": "display_data"
    },
    {
     "data": {
      "text/plain": [
       "{'Bought_Price': 373.425,\n",
       " 'Current_Price': 373.55,\n",
       " 'Bought_Quantity': 54,\n",
       " 'Sold_Price': 206.0,\n",
       " 'Sold_Quantity': 0,\n",
       " 'Investment': 20164.95,\n",
       " 'Current_Valuation': 20171.7,\n",
       " 'Status': 0.000334739238133494,\n",
       " 'Short_Gains': -0.0}"
      ]
     },
     "metadata": {},
     "output_type": "display_data"
    },
    {
     "data": {
      "text/plain": [
       "3699571.725000001"
      ]
     },
     "metadata": {},
     "output_type": "display_data"
    },
    {
     "data": {
      "text/plain": [
       "3669071.5500000026"
      ]
     },
     "metadata": {},
     "output_type": "display_data"
    },
    {
     "name": "stdout",
     "output_type": "stream",
     "text": [
      "\n"
     ]
    },
    {
     "data": {
      "text/plain": [
       "'GUJGASLTD'"
      ]
     },
     "metadata": {},
     "output_type": "display_data"
    },
    {
     "data": {
      "text/plain": [
       "{'Bought_Price': 0,\n",
       " 'Current_Price': 669.05,\n",
       " 'Bought_Quantity': 0,\n",
       " 'Sold_Price': 675.0,\n",
       " 'Sold_Quantity': 0,\n",
       " 'Investment': 0,\n",
       " 'Current_Valuation': 0.0,\n",
       " 'Status': 0,\n",
       " 'Short_Gains': 0.0}"
      ]
     },
     "metadata": {},
     "output_type": "display_data"
    },
    {
     "data": {
      "text/plain": [
       "3699571.725000001"
      ]
     },
     "metadata": {},
     "output_type": "display_data"
    },
    {
     "data": {
      "text/plain": [
       "3669071.5500000026"
      ]
     },
     "metadata": {},
     "output_type": "display_data"
    },
    {
     "name": "stdout",
     "output_type": "stream",
     "text": [
      "\n"
     ]
    },
    {
     "data": {
      "text/plain": [
       "'DIVISLAB'"
      ]
     },
     "metadata": {},
     "output_type": "display_data"
    },
    {
     "data": {
      "text/plain": [
       "{'Bought_Price': 1480.05,\n",
       " 'Current_Price': 1475.45,\n",
       " 'Bought_Quantity': 7,\n",
       " 'Sold_Price': 2390.0,\n",
       " 'Sold_Quantity': 0,\n",
       " 'Investment': 10360.35,\n",
       " 'Current_Valuation': 10328.15,\n",
       " 'Status': -0.0031080031080031783,\n",
       " 'Short_Gains': 0.0}"
      ]
     },
     "metadata": {},
     "output_type": "display_data"
    },
    {
     "data": {
      "text/plain": [
       "3709932.075000001"
      ]
     },
     "metadata": {},
     "output_type": "display_data"
    },
    {
     "data": {
      "text/plain": [
       "3679399.7000000025"
      ]
     },
     "metadata": {},
     "output_type": "display_data"
    },
    {
     "name": "stdout",
     "output_type": "stream",
     "text": [
      "\n"
     ]
    },
    {
     "data": {
      "text/plain": [
       "'DHFL'"
      ]
     },
     "metadata": {},
     "output_type": "display_data"
    },
    {
     "data": {
      "text/plain": [
       "{'Bought_Price': 0,\n",
       " 'Current_Price': 14.45,\n",
       " 'Bought_Quantity': 0,\n",
       " 'Sold_Price': 249.9,\n",
       " 'Sold_Quantity': 41,\n",
       " 'Investment': 0,\n",
       " 'Current_Valuation': 0.0,\n",
       " 'Status': 0,\n",
       " 'Short_Gains': 145.55000000000047}"
      ]
     },
     "metadata": {},
     "output_type": "display_data"
    },
    {
     "data": {
      "text/plain": [
       "3709932.075000001"
      ]
     },
     "metadata": {},
     "output_type": "display_data"
    },
    {
     "data": {
      "text/plain": [
       "3679399.7000000025"
      ]
     },
     "metadata": {},
     "output_type": "display_data"
    },
    {
     "name": "stdout",
     "output_type": "stream",
     "text": [
      "\n"
     ]
    },
    {
     "data": {
      "text/plain": [
       "'GILLETTE'"
      ]
     },
     "metadata": {},
     "output_type": "display_data"
    },
    {
     "data": {
      "text/plain": [
       "{'Bought_Price': 5532.741666666666,\n",
       " 'Current_Price': 6467.7,\n",
       " 'Bought_Quantity': 6,\n",
       " 'Sold_Price': 0,\n",
       " 'Sold_Quantity': 0,\n",
       " 'Investment': 33196.45,\n",
       " 'Current_Valuation': 38806.2,\n",
       " 'Status': 0.16898644282747102,\n",
       " 'Short_Gains': 0}"
      ]
     },
     "metadata": {},
     "output_type": "display_data"
    },
    {
     "data": {
      "text/plain": [
       "3722900.625000001"
      ]
     },
     "metadata": {},
     "output_type": "display_data"
    },
    {
     "data": {
      "text/plain": [
       "3692335.1000000024"
      ]
     },
     "metadata": {},
     "output_type": "display_data"
    },
    {
     "name": "stdout",
     "output_type": "stream",
     "text": [
      "\n"
     ]
    },
    {
     "data": {
      "text/plain": [
       "'SUNTECK'"
      ]
     },
     "metadata": {},
     "output_type": "display_data"
    },
    {
     "data": {
      "text/plain": [
       "{'Bought_Price': 347.325,\n",
       " 'Current_Price': 348.15,\n",
       " 'Bought_Quantity': 58,\n",
       " 'Sold_Price': 177.5,\n",
       " 'Sold_Quantity': 0,\n",
       " 'Investment': 20144.85,\n",
       " 'Current_Valuation': 20192.699999999997,\n",
       " 'Status': 0.0023752969121139424,\n",
       " 'Short_Gains': -0.0}"
      ]
     },
     "metadata": {},
     "output_type": "display_data"
    },
    {
     "data": {
      "text/plain": [
       "3743045.475000001"
      ]
     },
     "metadata": {},
     "output_type": "display_data"
    },
    {
     "data": {
      "text/plain": [
       "3712527.8000000026"
      ]
     },
     "metadata": {},
     "output_type": "display_data"
    },
    {
     "name": "stdout",
     "output_type": "stream",
     "text": [
      "\n"
     ]
    },
    {
     "data": {
      "text/plain": [
       "'TRIDENT'"
      ]
     },
     "metadata": {},
     "output_type": "display_data"
    },
    {
     "data": {
      "text/plain": [
       "{'Bought_Price': 67.575,\n",
       " 'Current_Price': 68.2,\n",
       " 'Bought_Quantity': 148,\n",
       " 'Sold_Price': 6.35,\n",
       " 'Sold_Quantity': 3042,\n",
       " 'Investment': 10001.1,\n",
       " 'Current_Valuation': 10093.6,\n",
       " 'Status': 0.00924898261191269,\n",
       " 'Short_Gains': -1368.9000000000005}"
      ]
     },
     "metadata": {},
     "output_type": "display_data"
    },
    {
     "data": {
      "text/plain": [
       "3753046.575000001"
      ]
     },
     "metadata": {},
     "output_type": "display_data"
    },
    {
     "data": {
      "text/plain": [
       "3722621.4000000027"
      ]
     },
     "metadata": {},
     "output_type": "display_data"
    },
    {
     "name": "stdout",
     "output_type": "stream",
     "text": [
      "\n"
     ]
    },
    {
     "data": {
      "text/plain": [
       "'APLLTD'"
      ]
     },
     "metadata": {},
     "output_type": "display_data"
    },
    {
     "data": {
      "text/plain": [
       "{'Bought_Price': 0,\n",
       " 'Current_Price': 586.85,\n",
       " 'Bought_Quantity': 0,\n",
       " 'Sold_Price': 603.0,\n",
       " 'Sold_Quantity': 0,\n",
       " 'Investment': 0,\n",
       " 'Current_Valuation': 0.0,\n",
       " 'Status': 0,\n",
       " 'Short_Gains': 0.0}"
      ]
     },
     "metadata": {},
     "output_type": "display_data"
    },
    {
     "data": {
      "text/plain": [
       "3753046.575000001"
      ]
     },
     "metadata": {},
     "output_type": "display_data"
    },
    {
     "data": {
      "text/plain": [
       "3722621.4000000027"
      ]
     },
     "metadata": {},
     "output_type": "display_data"
    },
    {
     "name": "stdout",
     "output_type": "stream",
     "text": [
      "\n"
     ]
    },
    {
     "data": {
      "text/plain": [
       "'GHCL'"
      ]
     },
     "metadata": {},
     "output_type": "display_data"
    },
    {
     "data": {
      "text/plain": [
       "{'Bought_Price': 245.94999999999996,\n",
       " 'Current_Price': 245.35,\n",
       " 'Bought_Quantity': 82,\n",
       " 'Sold_Price': 153.95,\n",
       " 'Sold_Quantity': 0,\n",
       " 'Investment': 20167.899999999998,\n",
       " 'Current_Valuation': 20118.7,\n",
       " 'Status': -0.0024395202276884104,\n",
       " 'Short_Gains': -0.0}"
      ]
     },
     "metadata": {},
     "output_type": "display_data"
    },
    {
     "data": {
      "text/plain": [
       "3773214.475000001"
      ]
     },
     "metadata": {},
     "output_type": "display_data"
    },
    {
     "data": {
      "text/plain": [
       "3742740.100000003"
      ]
     },
     "metadata": {},
     "output_type": "display_data"
    },
    {
     "name": "stdout",
     "output_type": "stream",
     "text": [
      "\n"
     ]
    },
    {
     "data": {
      "text/plain": [
       "'AUBANK'"
      ]
     },
     "metadata": {},
     "output_type": "display_data"
    },
    {
     "data": {
      "text/plain": [
       "{'Bought_Price': 618.4749999999999,\n",
       " 'Current_Price': 621.95,\n",
       " 'Bought_Quantity': 17,\n",
       " 'Sold_Price': 764.0,\n",
       " 'Sold_Quantity': 0,\n",
       " 'Investment': 10514.074999999999,\n",
       " 'Current_Valuation': 10573.150000000001,\n",
       " 'Status': 0.005618658797849792,\n",
       " 'Short_Gains': -0.0}"
      ]
     },
     "metadata": {},
     "output_type": "display_data"
    },
    {
     "data": {
      "text/plain": [
       "3783728.550000001"
      ]
     },
     "metadata": {},
     "output_type": "display_data"
    },
    {
     "data": {
      "text/plain": [
       "3753313.250000003"
      ]
     },
     "metadata": {},
     "output_type": "display_data"
    },
    {
     "name": "stdout",
     "output_type": "stream",
     "text": [
      "\n"
     ]
    },
    {
     "data": {
      "text/plain": [
       "'SYNGENE'"
      ]
     },
     "metadata": {},
     "output_type": "display_data"
    },
    {
     "data": {
      "text/plain": [
       "{'Bought_Price': 559.375,\n",
       " 'Current_Price': 557.45,\n",
       " 'Bought_Quantity': 18,\n",
       " 'Sold_Price': 444.0,\n",
       " 'Sold_Quantity': 0,\n",
       " 'Investment': 10068.75,\n",
       " 'Current_Valuation': 10034.1,\n",
       " 'Status': -0.003441340782122869,\n",
       " 'Short_Gains': -0.0}"
      ]
     },
     "metadata": {},
     "output_type": "display_data"
    },
    {
     "data": {
      "text/plain": [
       "3793797.300000001"
      ]
     },
     "metadata": {},
     "output_type": "display_data"
    },
    {
     "data": {
      "text/plain": [
       "3763347.350000003"
      ]
     },
     "metadata": {},
     "output_type": "display_data"
    },
    {
     "name": "stdout",
     "output_type": "stream",
     "text": [
      "\n"
     ]
    },
    {
     "data": {
      "text/plain": [
       "'AJANTPHARM'"
      ]
     },
     "metadata": {},
     "output_type": "display_data"
    },
    {
     "data": {
      "text/plain": [
       "{'Bought_Price': 1324.35625,\n",
       " 'Current_Price': 1181.7,\n",
       " 'Bought_Quantity': 16,\n",
       " 'Sold_Price': 1466.0,\n",
       " 'Sold_Quantity': 0,\n",
       " 'Investment': 21189.7,\n",
       " 'Current_Valuation': 18907.2,\n",
       " 'Status': -0.10771742875076099,\n",
       " 'Short_Gains': -0.0}"
      ]
     },
     "metadata": {},
     "output_type": "display_data"
    },
    {
     "data": {
      "text/plain": [
       "3804406.5000000014"
      ]
     },
     "metadata": {},
     "output_type": "display_data"
    },
    {
     "data": {
      "text/plain": [
       "3773982.6500000027"
      ]
     },
     "metadata": {},
     "output_type": "display_data"
    },
    {
     "name": "stdout",
     "output_type": "stream",
     "text": [
      "\n"
     ]
    },
    {
     "data": {
      "text/plain": [
       "'ZYDUSWELL'"
      ]
     },
     "metadata": {},
     "output_type": "display_data"
    },
    {
     "data": {
      "text/plain": [
       "{'Bought_Price': 1451.7066666666665,\n",
       " 'Current_Price': 1366.5,\n",
       " 'Bought_Quantity': 15,\n",
       " 'Sold_Price': 0,\n",
       " 'Sold_Quantity': 0,\n",
       " 'Investment': 21775.6,\n",
       " 'Current_Valuation': 20497.5,\n",
       " 'Status': -0.058694134719594344,\n",
       " 'Short_Gains': 0}"
      ]
     },
     "metadata": {},
     "output_type": "display_data"
    },
    {
     "data": {
      "text/plain": [
       "3815291.5000000014"
      ]
     },
     "metadata": {},
     "output_type": "display_data"
    },
    {
     "data": {
      "text/plain": [
       "3784914.6500000027"
      ]
     },
     "metadata": {},
     "output_type": "display_data"
    },
    {
     "name": "stdout",
     "output_type": "stream",
     "text": [
      "\n"
     ]
    },
    {
     "data": {
      "text/plain": [
       "'EXIDEIND'"
      ]
     },
     "metadata": {},
     "output_type": "display_data"
    },
    {
     "data": {
      "text/plain": [
       "{'Bought_Price': 0,\n",
       " 'Current_Price': 267.5,\n",
       " 'Bought_Quantity': 0,\n",
       " 'Sold_Price': 268.5,\n",
       " 'Sold_Quantity': 0,\n",
       " 'Investment': 0,\n",
       " 'Current_Valuation': 0.0,\n",
       " 'Status': 0,\n",
       " 'Short_Gains': 0.0}"
      ]
     },
     "metadata": {},
     "output_type": "display_data"
    },
    {
     "data": {
      "text/plain": [
       "3815291.5000000014"
      ]
     },
     "metadata": {},
     "output_type": "display_data"
    },
    {
     "data": {
      "text/plain": [
       "3784914.6500000027"
      ]
     },
     "metadata": {},
     "output_type": "display_data"
    },
    {
     "name": "stdout",
     "output_type": "stream",
     "text": [
      "\n"
     ]
    },
    {
     "data": {
      "text/plain": [
       "'VRLLOG'"
      ]
     },
     "metadata": {},
     "output_type": "display_data"
    },
    {
     "data": {
      "text/plain": [
       "{'Bought_Price': 0,\n",
       " 'Current_Price': 0,\n",
       " 'Bought_Quantity': 0,\n",
       " 'Sold_Price': 294.0,\n",
       " 'Sold_Quantity': 35,\n",
       " 'Investment': 0,\n",
       " 'Current_Valuation': 0,\n",
       " 'Status': 0,\n",
       " 'Short_Gains': 43.75}"
      ]
     },
     "metadata": {},
     "output_type": "display_data"
    },
    {
     "data": {
      "text/plain": [
       "3815291.5000000014"
      ]
     },
     "metadata": {},
     "output_type": "display_data"
    },
    {
     "data": {
      "text/plain": [
       "3784914.6500000027"
      ]
     },
     "metadata": {},
     "output_type": "display_data"
    },
    {
     "name": "stdout",
     "output_type": "stream",
     "text": [
      "\n"
     ]
    },
    {
     "data": {
      "text/plain": [
       "'ERIS'"
      ]
     },
     "metadata": {},
     "output_type": "display_data"
    },
    {
     "data": {
      "text/plain": [
       "{'Bought_Price': 0,\n",
       " 'Current_Price': 419.1,\n",
       " 'Bought_Quantity': 0,\n",
       " 'Sold_Price': 689.5,\n",
       " 'Sold_Quantity': 15,\n",
       " 'Investment': 0,\n",
       " 'Current_Valuation': 0.0,\n",
       " 'Status': 0,\n",
       " 'Short_Gains': -39.74999999999966}"
      ]
     },
     "metadata": {},
     "output_type": "display_data"
    },
    {
     "data": {
      "text/plain": [
       "3815291.5000000014"
      ]
     },
     "metadata": {},
     "output_type": "display_data"
    },
    {
     "data": {
      "text/plain": [
       "3784914.6500000027"
      ]
     },
     "metadata": {},
     "output_type": "display_data"
    },
    {
     "name": "stdout",
     "output_type": "stream",
     "text": [
      "\n"
     ]
    },
    {
     "data": {
      "text/plain": [
       "'MCDOWELL-N'"
      ]
     },
     "metadata": {},
     "output_type": "display_data"
    },
    {
     "data": {
      "text/plain": [
       "{'Bought_Price': 626.5,\n",
       " 'Current_Price': 621.0,\n",
       " 'Bought_Quantity': 32,\n",
       " 'Sold_Price': 605.0,\n",
       " 'Sold_Quantity': 0,\n",
       " 'Investment': 20048.0,\n",
       " 'Current_Valuation': 19872.0,\n",
       " 'Status': -0.008778930566640064,\n",
       " 'Short_Gains': 0.0}"
      ]
     },
     "metadata": {},
     "output_type": "display_data"
    },
    {
     "data": {
      "text/plain": [
       "3835339.5000000014"
      ]
     },
     "metadata": {},
     "output_type": "display_data"
    },
    {
     "data": {
      "text/plain": [
       "3804786.6500000027"
      ]
     },
     "metadata": {},
     "output_type": "display_data"
    },
    {
     "name": "stdout",
     "output_type": "stream",
     "text": [
      "\n"
     ]
    },
    {
     "data": {
      "text/plain": [
       "'FDC'"
      ]
     },
     "metadata": {},
     "output_type": "display_data"
    },
    {
     "data": {
      "text/plain": [
       "{'Bought_Price': 174.925,\n",
       " 'Current_Price': 173.05,\n",
       " 'Bought_Quantity': 116,\n",
       " 'Sold_Price': 263.25,\n",
       " 'Sold_Quantity': 0,\n",
       " 'Investment': 20291.300000000003,\n",
       " 'Current_Valuation': 20073.800000000003,\n",
       " 'Status': -0.010718879519794196,\n",
       " 'Short_Gains': -0.0}"
      ]
     },
     "metadata": {},
     "output_type": "display_data"
    },
    {
     "data": {
      "text/plain": [
       "3855630.800000001"
      ]
     },
     "metadata": {},
     "output_type": "display_data"
    },
    {
     "data": {
      "text/plain": [
       "3824860.4500000025"
      ]
     },
     "metadata": {},
     "output_type": "display_data"
    },
    {
     "name": "stdout",
     "output_type": "stream",
     "text": [
      "\n"
     ]
    },
    {
     "data": {
      "text/plain": [
       "'FMGOETZE'"
      ]
     },
     "metadata": {},
     "output_type": "display_data"
    },
    {
     "data": {
      "text/plain": [
       "{'Bought_Price': 0,\n",
       " 'Current_Price': 0,\n",
       " 'Bought_Quantity': 0,\n",
       " 'Sold_Price': 498.55,\n",
       " 'Sold_Quantity': 21,\n",
       " 'Investment': 0,\n",
       " 'Current_Valuation': 0,\n",
       " 'Status': 0,\n",
       " 'Short_Gains': -12.599999999999284}"
      ]
     },
     "metadata": {},
     "output_type": "display_data"
    },
    {
     "data": {
      "text/plain": [
       "3855630.800000001"
      ]
     },
     "metadata": {},
     "output_type": "display_data"
    },
    {
     "data": {
      "text/plain": [
       "3824860.4500000025"
      ]
     },
     "metadata": {},
     "output_type": "display_data"
    },
    {
     "name": "stdout",
     "output_type": "stream",
     "text": [
      "\n"
     ]
    },
    {
     "data": {
      "text/plain": [
       "'CENTRALBK'"
      ]
     },
     "metadata": {},
     "output_type": "display_data"
    },
    {
     "data": {
      "text/plain": [
       "{'Bought_Price': 0,\n",
       " 'Current_Price': 17.65,\n",
       " 'Bought_Quantity': 0,\n",
       " 'Sold_Price': 37.5,\n",
       " 'Sold_Quantity': 269,\n",
       " 'Investment': 0,\n",
       " 'Current_Valuation': 0.0,\n",
       " 'Status': 0,\n",
       " 'Short_Gains': 80.69999999999924}"
      ]
     },
     "metadata": {},
     "output_type": "display_data"
    },
    {
     "data": {
      "text/plain": [
       "3855630.800000001"
      ]
     },
     "metadata": {},
     "output_type": "display_data"
    },
    {
     "data": {
      "text/plain": [
       "3824860.4500000025"
      ]
     },
     "metadata": {},
     "output_type": "display_data"
    },
    {
     "name": "stdout",
     "output_type": "stream",
     "text": [
      "\n"
     ]
    },
    {
     "data": {
      "text/plain": [
       "'JUBLFOOD'"
      ]
     },
     "metadata": {},
     "output_type": "display_data"
    },
    {
     "data": {
      "text/plain": [
       "{'Bought_Price': 0,\n",
       " 'Current_Price': 1725.85,\n",
       " 'Bought_Quantity': 0,\n",
       " 'Sold_Price': 1256.6,\n",
       " 'Sold_Quantity': 16,\n",
       " 'Investment': 0,\n",
       " 'Current_Valuation': 0.0,\n",
       " 'Status': 0,\n",
       " 'Short_Gains': 92.0}"
      ]
     },
     "metadata": {},
     "output_type": "display_data"
    },
    {
     "data": {
      "text/plain": [
       "3855630.800000001"
      ]
     },
     "metadata": {},
     "output_type": "display_data"
    },
    {
     "data": {
      "text/plain": [
       "3824860.4500000025"
      ]
     },
     "metadata": {},
     "output_type": "display_data"
    },
    {
     "name": "stdout",
     "output_type": "stream",
     "text": [
      "\n"
     ]
    },
    {
     "data": {
      "text/plain": [
       "'UCOBANK'"
      ]
     },
     "metadata": {},
     "output_type": "display_data"
    },
    {
     "data": {
      "text/plain": [
       "{'Bought_Price': 0,\n",
       " 'Current_Price': 14.15,\n",
       " 'Bought_Quantity': 0,\n",
       " 'Sold_Price': 21.45,\n",
       " 'Sold_Quantity': 449,\n",
       " 'Investment': 0,\n",
       " 'Current_Valuation': 0.0,\n",
       " 'Status': 0,\n",
       " 'Short_Gains': -561.25}"
      ]
     },
     "metadata": {},
     "output_type": "display_data"
    },
    {
     "data": {
      "text/plain": [
       "3855630.800000001"
      ]
     },
     "metadata": {},
     "output_type": "display_data"
    },
    {
     "data": {
      "text/plain": [
       "3824860.4500000025"
      ]
     },
     "metadata": {},
     "output_type": "display_data"
    },
    {
     "name": "stdout",
     "output_type": "stream",
     "text": [
      "\n"
     ]
    },
    {
     "data": {
      "text/plain": [
       "'CHOLAFIN'"
      ]
     },
     "metadata": {},
     "output_type": "display_data"
    },
    {
     "data": {
      "text/plain": [
       "{'Bought_Price': 0,\n",
       " 'Current_Price': 212.35,\n",
       " 'Bought_Quantity': 0,\n",
       " 'Sold_Price': 1262.0,\n",
       " 'Sold_Quantity': 8,\n",
       " 'Investment': 0,\n",
       " 'Current_Valuation': 0,\n",
       " 'Status': 0,\n",
       " 'Short_Gains': 54.79999999999927}"
      ]
     },
     "metadata": {},
     "output_type": "display_data"
    },
    {
     "data": {
      "text/plain": [
       "3855630.800000001"
      ]
     },
     "metadata": {},
     "output_type": "display_data"
    },
    {
     "data": {
      "text/plain": [
       "3824860.4500000025"
      ]
     },
     "metadata": {},
     "output_type": "display_data"
    },
    {
     "name": "stdout",
     "output_type": "stream",
     "text": [
      "\n"
     ]
    },
    {
     "data": {
      "text/plain": [
       "'AUROPHARMA'"
      ]
     },
     "metadata": {},
     "output_type": "display_data"
    },
    {
     "data": {
      "text/plain": [
       "{'Bought_Price': 733.55,\n",
       " 'Current_Price': 733.15,\n",
       " 'Bought_Quantity': 28,\n",
       " 'Sold_Price': 817.9,\n",
       " 'Sold_Quantity': 0,\n",
       " 'Investment': 20539.399999999998,\n",
       " 'Current_Valuation': 20528.2,\n",
       " 'Status': -0.0005452934360301221,\n",
       " 'Short_Gains': 0.0}"
      ]
     },
     "metadata": {},
     "output_type": "display_data"
    },
    {
     "data": {
      "text/plain": [
       "3876170.200000001"
      ]
     },
     "metadata": {},
     "output_type": "display_data"
    },
    {
     "data": {
      "text/plain": [
       "3845388.6500000027"
      ]
     },
     "metadata": {},
     "output_type": "display_data"
    },
    {
     "name": "stdout",
     "output_type": "stream",
     "text": [
      "\n"
     ]
    },
    {
     "data": {
      "text/plain": [
       "'CUB'"
      ]
     },
     "metadata": {},
     "output_type": "display_data"
    },
    {
     "data": {
      "text/plain": [
       "{'Bought_Price': 0,\n",
       " 'Current_Price': 126.05,\n",
       " 'Bought_Quantity': 0,\n",
       " 'Sold_Price': 195.0,\n",
       " 'Sold_Quantity': 104,\n",
       " 'Investment': 0,\n",
       " 'Current_Valuation': 0.0,\n",
       " 'Status': 0,\n",
       " 'Short_Gains': 124.79999999999882}"
      ]
     },
     "metadata": {},
     "output_type": "display_data"
    },
    {
     "data": {
      "text/plain": [
       "3876170.200000001"
      ]
     },
     "metadata": {},
     "output_type": "display_data"
    },
    {
     "data": {
      "text/plain": [
       "3845388.6500000027"
      ]
     },
     "metadata": {},
     "output_type": "display_data"
    },
    {
     "name": "stdout",
     "output_type": "stream",
     "text": [
      "\n"
     ]
    },
    {
     "data": {
      "text/plain": [
       "'KIRLOSENG'"
      ]
     },
     "metadata": {},
     "output_type": "display_data"
    },
    {
     "data": {
      "text/plain": [
       "{'Bought_Price': 0,\n",
       " 'Current_Price': 204.8,\n",
       " 'Bought_Quantity': 0,\n",
       " 'Sold_Price': 208.05,\n",
       " 'Sold_Quantity': 0,\n",
       " 'Investment': 0,\n",
       " 'Current_Valuation': 0.0,\n",
       " 'Status': 0,\n",
       " 'Short_Gains': 0.0}"
      ]
     },
     "metadata": {},
     "output_type": "display_data"
    },
    {
     "data": {
      "text/plain": [
       "3876170.200000001"
      ]
     },
     "metadata": {},
     "output_type": "display_data"
    },
    {
     "data": {
      "text/plain": [
       "3845388.6500000027"
      ]
     },
     "metadata": {},
     "output_type": "display_data"
    },
    {
     "name": "stdout",
     "output_type": "stream",
     "text": [
      "\n"
     ]
    },
    {
     "data": {
      "text/plain": [
       "'KOLTEPATIL'"
      ]
     },
     "metadata": {},
     "output_type": "display_data"
    },
    {
     "data": {
      "text/plain": [
       "{'Bought_Price': 0,\n",
       " 'Current_Price': 146.9,\n",
       " 'Bought_Quantity': 0,\n",
       " 'Sold_Price': 242.9,\n",
       " 'Sold_Quantity': 80,\n",
       " 'Investment': 0,\n",
       " 'Current_Valuation': 0.0,\n",
       " 'Status': 0,\n",
       " 'Short_Gains': -1443.9999999999986}"
      ]
     },
     "metadata": {},
     "output_type": "display_data"
    },
    {
     "data": {
      "text/plain": [
       "3876170.200000001"
      ]
     },
     "metadata": {},
     "output_type": "display_data"
    },
    {
     "data": {
      "text/plain": [
       "3845388.6500000027"
      ]
     },
     "metadata": {},
     "output_type": "display_data"
    },
    {
     "name": "stdout",
     "output_type": "stream",
     "text": [
      "\n"
     ]
    },
    {
     "data": {
      "text/plain": [
       "'MARUTI'"
      ]
     },
     "metadata": {},
     "output_type": "display_data"
    },
    {
     "data": {
      "text/plain": [
       "{'Bought_Price': 0,\n",
       " 'Current_Price': 6000.7,\n",
       " 'Bought_Quantity': 0,\n",
       " 'Sold_Price': 7449.75,\n",
       " 'Sold_Quantity': 4,\n",
       " 'Investment': 0,\n",
       " 'Current_Valuation': 0.0,\n",
       " 'Status': 0,\n",
       " 'Short_Gains': -108.20000000000073}"
      ]
     },
     "metadata": {},
     "output_type": "display_data"
    },
    {
     "data": {
      "text/plain": [
       "3876170.200000001"
      ]
     },
     "metadata": {},
     "output_type": "display_data"
    },
    {
     "data": {
      "text/plain": [
       "3845388.6500000027"
      ]
     },
     "metadata": {},
     "output_type": "display_data"
    },
    {
     "name": "stdout",
     "output_type": "stream",
     "text": [
      "\n"
     ]
    },
    {
     "data": {
      "text/plain": [
       "'BALKRISIND'"
      ]
     },
     "metadata": {},
     "output_type": "display_data"
    },
    {
     "data": {
      "text/plain": [
       "{'Bought_Price': 929.5,\n",
       " 'Current_Price': 928.85,\n",
       " 'Bought_Quantity': 22,\n",
       " 'Sold_Price': 1264.85,\n",
       " 'Sold_Quantity': 0,\n",
       " 'Investment': 20449.0,\n",
       " 'Current_Valuation': 20434.7,\n",
       " 'Status': -0.0006993006993006637,\n",
       " 'Short_Gains': 0.0}"
      ]
     },
     "metadata": {},
     "output_type": "display_data"
    },
    {
     "data": {
      "text/plain": [
       "3896619.200000001"
      ]
     },
     "metadata": {},
     "output_type": "display_data"
    },
    {
     "data": {
      "text/plain": [
       "3865823.350000003"
      ]
     },
     "metadata": {},
     "output_type": "display_data"
    },
    {
     "name": "stdout",
     "output_type": "stream",
     "text": [
      "\n"
     ]
    },
    {
     "data": {
      "text/plain": [
       "'MAHINDCIE'"
      ]
     },
     "metadata": {},
     "output_type": "display_data"
    },
    {
     "data": {
      "text/plain": [
       "{'Bought_Price': 0,\n",
       " 'Current_Price': 0,\n",
       " 'Bought_Quantity': 0,\n",
       " 'Sold_Price': 258.0,\n",
       " 'Sold_Quantity': 40,\n",
       " 'Investment': 0,\n",
       " 'Current_Valuation': 0,\n",
       " 'Status': 0,\n",
       " 'Short_Gains': 116.00000000000023}"
      ]
     },
     "metadata": {},
     "output_type": "display_data"
    },
    {
     "data": {
      "text/plain": [
       "3896619.200000001"
      ]
     },
     "metadata": {},
     "output_type": "display_data"
    },
    {
     "data": {
      "text/plain": [
       "3865823.350000003"
      ]
     },
     "metadata": {},
     "output_type": "display_data"
    },
    {
     "name": "stdout",
     "output_type": "stream",
     "text": [
      "\n"
     ]
    },
    {
     "data": {
      "text/plain": [
       "'BAYERCROP'"
      ]
     },
     "metadata": {},
     "output_type": "display_data"
    },
    {
     "data": {
      "text/plain": [
       "{'Bought_Price': 4217.4,\n",
       " 'Current_Price': 4212.95,\n",
       " 'Bought_Quantity': 6,\n",
       " 'Sold_Price': 5815.0,\n",
       " 'Sold_Quantity': 0,\n",
       " 'Investment': 25304.399999999998,\n",
       " 'Current_Valuation': 25277.699999999997,\n",
       " 'Status': -0.0010551524636031966,\n",
       " 'Short_Gains': 0.0}"
      ]
     },
     "metadata": {},
     "output_type": "display_data"
    },
    {
     "data": {
      "text/plain": [
       "3921923.600000001"
      ]
     },
     "metadata": {},
     "output_type": "display_data"
    },
    {
     "data": {
      "text/plain": [
       "3891101.050000003"
      ]
     },
     "metadata": {},
     "output_type": "display_data"
    },
    {
     "name": "stdout",
     "output_type": "stream",
     "text": [
      "\n"
     ]
    },
    {
     "data": {
      "text/plain": [
       "'CREDITACC'"
      ]
     },
     "metadata": {},
     "output_type": "display_data"
    },
    {
     "data": {
      "text/plain": [
       "{'Bought_Price': 0,\n",
       " 'Current_Price': 574.15,\n",
       " 'Bought_Quantity': 0,\n",
       " 'Sold_Price': 387.2,\n",
       " 'Sold_Quantity': 52,\n",
       " 'Investment': 0,\n",
       " 'Current_Valuation': 0.0,\n",
       " 'Status': 0,\n",
       " 'Short_Gains': 20.799999999998818}"
      ]
     },
     "metadata": {},
     "output_type": "display_data"
    },
    {
     "data": {
      "text/plain": [
       "3921923.600000001"
      ]
     },
     "metadata": {},
     "output_type": "display_data"
    },
    {
     "data": {
      "text/plain": [
       "3891101.050000003"
      ]
     },
     "metadata": {},
     "output_type": "display_data"
    },
    {
     "name": "stdout",
     "output_type": "stream",
     "text": [
      "\n"
     ]
    },
    {
     "data": {
      "text/plain": [
       "'AARTIIND'"
      ]
     },
     "metadata": {},
     "output_type": "display_data"
    },
    {
     "data": {
      "text/plain": [
       "{'Bought_Price': 0,\n",
       " 'Current_Price': 1448.6,\n",
       " 'Bought_Quantity': 0,\n",
       " 'Sold_Price': 1450.0,\n",
       " 'Sold_Quantity': 0,\n",
       " 'Investment': 0,\n",
       " 'Current_Valuation': 0.0,\n",
       " 'Status': 0,\n",
       " 'Short_Gains': 0.0}"
      ]
     },
     "metadata": {},
     "output_type": "display_data"
    },
    {
     "data": {
      "text/plain": [
       "3921923.600000001"
      ]
     },
     "metadata": {},
     "output_type": "display_data"
    },
    {
     "data": {
      "text/plain": [
       "3891101.050000003"
      ]
     },
     "metadata": {},
     "output_type": "display_data"
    },
    {
     "name": "stdout",
     "output_type": "stream",
     "text": [
      "\n"
     ]
    },
    {
     "data": {
      "text/plain": [
       "'BAJAJELEC'"
      ]
     },
     "metadata": {},
     "output_type": "display_data"
    },
    {
     "data": {
      "text/plain": [
       "{'Bought_Price': 0,\n",
       " 'Current_Price': 513.55,\n",
       " 'Bought_Quantity': 0,\n",
       " 'Sold_Price': 506.5,\n",
       " 'Sold_Quantity': 0,\n",
       " 'Investment': 0,\n",
       " 'Current_Valuation': 0.0,\n",
       " 'Status': 0,\n",
       " 'Short_Gains': -0.0}"
      ]
     },
     "metadata": {},
     "output_type": "display_data"
    },
    {
     "data": {
      "text/plain": [
       "3921923.600000001"
      ]
     },
     "metadata": {},
     "output_type": "display_data"
    },
    {
     "data": {
      "text/plain": [
       "3891101.050000003"
      ]
     },
     "metadata": {},
     "output_type": "display_data"
    },
    {
     "name": "stdout",
     "output_type": "stream",
     "text": [
      "\n"
     ]
    },
    {
     "data": {
      "text/plain": [
       "'MOIL'"
      ]
     },
     "metadata": {},
     "output_type": "display_data"
    },
    {
     "data": {
      "text/plain": [
       "{'Bought_Price': 0,\n",
       " 'Current_Price': 142.15,\n",
       " 'Bought_Quantity': 0,\n",
       " 'Sold_Price': 171.2,\n",
       " 'Sold_Quantity': 59,\n",
       " 'Investment': 0,\n",
       " 'Current_Valuation': 0.0,\n",
       " 'Status': 0,\n",
       " 'Short_Gains': 20.649999999999665}"
      ]
     },
     "metadata": {},
     "output_type": "display_data"
    },
    {
     "data": {
      "text/plain": [
       "3921923.600000001"
      ]
     },
     "metadata": {},
     "output_type": "display_data"
    },
    {
     "data": {
      "text/plain": [
       "3891101.050000003"
      ]
     },
     "metadata": {},
     "output_type": "display_data"
    },
    {
     "name": "stdout",
     "output_type": "stream",
     "text": [
      "\n"
     ]
    },
    {
     "data": {
      "text/plain": [
       "'CONCOR'"
      ]
     },
     "metadata": {},
     "output_type": "display_data"
    },
    {
     "data": {
      "text/plain": [
       "{'Bought_Price': 0,\n",
       " 'Current_Price': 685.3,\n",
       " 'Bought_Quantity': 0,\n",
       " 'Sold_Price': 690.0,\n",
       " 'Sold_Quantity': 0,\n",
       " 'Investment': 0,\n",
       " 'Current_Valuation': 0.0,\n",
       " 'Status': 0,\n",
       " 'Short_Gains': 0.0}"
      ]
     },
     "metadata": {},
     "output_type": "display_data"
    },
    {
     "data": {
      "text/plain": [
       "3921923.600000001"
      ]
     },
     "metadata": {},
     "output_type": "display_data"
    },
    {
     "data": {
      "text/plain": [
       "3891101.050000003"
      ]
     },
     "metadata": {},
     "output_type": "display_data"
    },
    {
     "name": "stdout",
     "output_type": "stream",
     "text": [
      "\n"
     ]
    },
    {
     "data": {
      "text/plain": [
       "'BAJAJ-AUTO'"
      ]
     },
     "metadata": {},
     "output_type": "display_data"
    },
    {
     "data": {
      "text/plain": [
       "{'Bought_Price': 0,\n",
       " 'Current_Price': 2985.5,\n",
       " 'Bought_Quantity': 0,\n",
       " 'Sold_Price': 2735.0,\n",
       " 'Sold_Quantity': 8,\n",
       " 'Investment': 0,\n",
       " 'Current_Valuation': 0.0,\n",
       " 'Status': 0,\n",
       " 'Short_Gains': 66.79999999999927}"
      ]
     },
     "metadata": {},
     "output_type": "display_data"
    },
    {
     "data": {
      "text/plain": [
       "3921923.600000001"
      ]
     },
     "metadata": {},
     "output_type": "display_data"
    },
    {
     "data": {
      "text/plain": [
       "3891101.050000003"
      ]
     },
     "metadata": {},
     "output_type": "display_data"
    },
    {
     "name": "stdout",
     "output_type": "stream",
     "text": [
      "\n"
     ]
    },
    {
     "data": {
      "text/plain": [
       "'NETWORK18'"
      ]
     },
     "metadata": {},
     "output_type": "display_data"
    },
    {
     "data": {
      "text/plain": [
       "{'Bought_Price': 0,\n",
       " 'Current_Price': 40.3,\n",
       " 'Bought_Quantity': 0,\n",
       " 'Sold_Price': 40.95,\n",
       " 'Sold_Quantity': 0,\n",
       " 'Investment': 0,\n",
       " 'Current_Valuation': 0.0,\n",
       " 'Status': 0,\n",
       " 'Short_Gains': 0.0}"
      ]
     },
     "metadata": {},
     "output_type": "display_data"
    },
    {
     "data": {
      "text/plain": [
       "3921923.600000001"
      ]
     },
     "metadata": {},
     "output_type": "display_data"
    },
    {
     "data": {
      "text/plain": [
       "3891101.050000003"
      ]
     },
     "metadata": {},
     "output_type": "display_data"
    },
    {
     "name": "stdout",
     "output_type": "stream",
     "text": [
      "\n"
     ]
    },
    {
     "data": {
      "text/plain": [
       "'NAM-INDIA'"
      ]
     },
     "metadata": {},
     "output_type": "display_data"
    },
    {
     "data": {
      "text/plain": [
       "{'Bought_Price': 0,\n",
       " 'Current_Price': 279.8,\n",
       " 'Bought_Quantity': 0,\n",
       " 'Sold_Price': 160.0,\n",
       " 'Sold_Quantity': 63,\n",
       " 'Investment': 0,\n",
       " 'Current_Valuation': 0.0,\n",
       " 'Status': 0,\n",
       " 'Short_Gains': 56.70000000000036}"
      ]
     },
     "metadata": {},
     "output_type": "display_data"
    },
    {
     "data": {
      "text/plain": [
       "3921923.600000001"
      ]
     },
     "metadata": {},
     "output_type": "display_data"
    },
    {
     "data": {
      "text/plain": [
       "3891101.050000003"
      ]
     },
     "metadata": {},
     "output_type": "display_data"
    },
    {
     "name": "stdout",
     "output_type": "stream",
     "text": [
      "\n"
     ]
    },
    {
     "data": {
      "text/plain": [
       "'ORIENTELEC'"
      ]
     },
     "metadata": {},
     "output_type": "display_data"
    },
    {
     "data": {
      "text/plain": [
       "{'Bought_Price': 0,\n",
       " 'Current_Price': 182.3,\n",
       " 'Bought_Quantity': 0,\n",
       " 'Sold_Price': 145.0,\n",
       " 'Sold_Quantity': 138,\n",
       " 'Investment': 0,\n",
       " 'Current_Valuation': 0.0,\n",
       " 'Status': 0,\n",
       " 'Short_Gains': -255.29999999999922}"
      ]
     },
     "metadata": {},
     "output_type": "display_data"
    },
    {
     "data": {
      "text/plain": [
       "3921923.600000001"
      ]
     },
     "metadata": {},
     "output_type": "display_data"
    },
    {
     "data": {
      "text/plain": [
       "3891101.050000003"
      ]
     },
     "metadata": {},
     "output_type": "display_data"
    },
    {
     "name": "stdout",
     "output_type": "stream",
     "text": [
      "\n"
     ]
    },
    {
     "data": {
      "text/plain": [
       "'LAKSHVILAS'"
      ]
     },
     "metadata": {},
     "output_type": "display_data"
    },
    {
     "data": {
      "text/plain": [
       "{'Bought_Price': 0,\n",
       " 'Current_Price': 20.9,\n",
       " 'Bought_Quantity': 0,\n",
       " 'Sold_Price': 87.15,\n",
       " 'Sold_Quantity': 115,\n",
       " 'Investment': 0,\n",
       " 'Current_Valuation': 0.0,\n",
       " 'Status': 0,\n",
       " 'Short_Gains': 34.50000000000131}"
      ]
     },
     "metadata": {},
     "output_type": "display_data"
    },
    {
     "data": {
      "text/plain": [
       "3921923.600000001"
      ]
     },
     "metadata": {},
     "output_type": "display_data"
    },
    {
     "data": {
      "text/plain": [
       "3891101.050000003"
      ]
     },
     "metadata": {},
     "output_type": "display_data"
    },
    {
     "name": "stdout",
     "output_type": "stream",
     "text": [
      "\n"
     ]
    },
    {
     "data": {
      "text/plain": [
       "'RADICO'"
      ]
     },
     "metadata": {},
     "output_type": "display_data"
    },
    {
     "data": {
      "text/plain": [
       "{'Bought_Price': 0,\n",
       " 'Current_Price': 402.5,\n",
       " 'Bought_Quantity': 0,\n",
       " 'Sold_Price': 402.0,\n",
       " 'Sold_Quantity': 0,\n",
       " 'Investment': 0,\n",
       " 'Current_Valuation': 0.0,\n",
       " 'Status': 0,\n",
       " 'Short_Gains': -0.0}"
      ]
     },
     "metadata": {},
     "output_type": "display_data"
    },
    {
     "data": {
      "text/plain": [
       "3921923.600000001"
      ]
     },
     "metadata": {},
     "output_type": "display_data"
    },
    {
     "data": {
      "text/plain": [
       "3891101.050000003"
      ]
     },
     "metadata": {},
     "output_type": "display_data"
    },
    {
     "name": "stdout",
     "output_type": "stream",
     "text": [
      "\n"
     ]
    },
    {
     "data": {
      "text/plain": [
       "'L&TFH'"
      ]
     },
     "metadata": {},
     "output_type": "display_data"
    },
    {
     "data": {
      "text/plain": [
       "{'Bought_Price': 0,\n",
       " 'Current_Price': 61.15,\n",
       " 'Bought_Quantity': 0,\n",
       " 'Sold_Price': 153.4,\n",
       " 'Sold_Quantity': 66,\n",
       " 'Investment': 0,\n",
       " 'Current_Valuation': 0.0,\n",
       " 'Status': 0,\n",
       " 'Short_Gains': 16.5}"
      ]
     },
     "metadata": {},
     "output_type": "display_data"
    },
    {
     "data": {
      "text/plain": [
       "3921923.600000001"
      ]
     },
     "metadata": {},
     "output_type": "display_data"
    },
    {
     "data": {
      "text/plain": [
       "3891101.050000003"
      ]
     },
     "metadata": {},
     "output_type": "display_data"
    },
    {
     "name": "stdout",
     "output_type": "stream",
     "text": [
      "\n"
     ]
    },
    {
     "data": {
      "text/plain": [
       "'CIPLA'"
      ]
     },
     "metadata": {},
     "output_type": "display_data"
    },
    {
     "data": {
      "text/plain": [
       "{'Bought_Price': 521.325,\n",
       " 'Current_Price': 523.05,\n",
       " 'Bought_Quantity': 40,\n",
       " 'Sold_Price': 673.0,\n",
       " 'Sold_Quantity': 0,\n",
       " 'Investment': 20853.0,\n",
       " 'Current_Valuation': 20922.0,\n",
       " 'Status': 0.003308876420658898,\n",
       " 'Short_Gains': 0.0}"
      ]
     },
     "metadata": {},
     "output_type": "display_data"
    },
    {
     "data": {
      "text/plain": [
       "3942776.600000001"
      ]
     },
     "metadata": {},
     "output_type": "display_data"
    },
    {
     "data": {
      "text/plain": [
       "3912023.050000003"
      ]
     },
     "metadata": {},
     "output_type": "display_data"
    },
    {
     "name": "stdout",
     "output_type": "stream",
     "text": [
      "\n"
     ]
    },
    {
     "data": {
      "text/plain": [
       "'QUESS'"
      ]
     },
     "metadata": {},
     "output_type": "display_data"
    },
    {
     "data": {
      "text/plain": [
       "{'Bought_Price': 679.825,\n",
       " 'Current_Price': 700.45,\n",
       " 'Bought_Quantity': 30,\n",
       " 'Sold_Price': 336.85,\n",
       " 'Sold_Quantity': 0,\n",
       " 'Investment': 20394.75,\n",
       " 'Current_Valuation': 21013.5,\n",
       " 'Status': 0.0303386901040709,\n",
       " 'Short_Gains': -0.0}"
      ]
     },
     "metadata": {},
     "output_type": "display_data"
    },
    {
     "data": {
      "text/plain": [
       "3963171.350000001"
      ]
     },
     "metadata": {},
     "output_type": "display_data"
    },
    {
     "data": {
      "text/plain": [
       "3933036.550000003"
      ]
     },
     "metadata": {},
     "output_type": "display_data"
    },
    {
     "name": "stdout",
     "output_type": "stream",
     "text": [
      "\n"
     ]
    },
    {
     "data": {
      "text/plain": [
       "'RAIN'"
      ]
     },
     "metadata": {},
     "output_type": "display_data"
    },
    {
     "data": {
      "text/plain": [
       "{'Bought_Price': 0,\n",
       " 'Current_Price': 0,\n",
       " 'Bought_Quantity': 0,\n",
       " 'Sold_Price': 133.8,\n",
       " 'Sold_Quantity': 75,\n",
       " 'Investment': 0,\n",
       " 'Current_Valuation': 0,\n",
       " 'Status': 0,\n",
       " 'Short_Gains': -127.49999999999915}"
      ]
     },
     "metadata": {},
     "output_type": "display_data"
    },
    {
     "data": {
      "text/plain": [
       "3963171.350000001"
      ]
     },
     "metadata": {},
     "output_type": "display_data"
    },
    {
     "data": {
      "text/plain": [
       "3933036.550000003"
      ]
     },
     "metadata": {},
     "output_type": "display_data"
    },
    {
     "name": "stdout",
     "output_type": "stream",
     "text": [
      "\n"
     ]
    },
    {
     "data": {
      "text/plain": [
       "'SFL'"
      ]
     },
     "metadata": {},
     "output_type": "display_data"
    },
    {
     "data": {
      "text/plain": [
       "{'Bought_Price': 0,\n",
       " 'Current_Price': 1482.5,\n",
       " 'Bought_Quantity': 0,\n",
       " 'Sold_Price': 1470.4,\n",
       " 'Sold_Quantity': 0,\n",
       " 'Investment': 0,\n",
       " 'Current_Valuation': 0.0,\n",
       " 'Status': 0,\n",
       " 'Short_Gains': -0.0}"
      ]
     },
     "metadata": {},
     "output_type": "display_data"
    },
    {
     "data": {
      "text/plain": [
       "3963171.350000001"
      ]
     },
     "metadata": {},
     "output_type": "display_data"
    },
    {
     "data": {
      "text/plain": [
       "3933036.550000003"
      ]
     },
     "metadata": {},
     "output_type": "display_data"
    },
    {
     "name": "stdout",
     "output_type": "stream",
     "text": [
      "\n"
     ]
    },
    {
     "data": {
      "text/plain": [
       "'IRCON'"
      ]
     },
     "metadata": {},
     "output_type": "display_data"
    },
    {
     "data": {
      "text/plain": [
       "{'Bought_Price': 155.32824427480915,\n",
       " 'Current_Price': 447.15,\n",
       " 'Bought_Quantity': 262,\n",
       " 'Sold_Price': 0,\n",
       " 'Sold_Quantity': 0,\n",
       " 'Investment': 40696.0,\n",
       " 'Current_Valuation': 117153.29999999999,\n",
       " 'Status': 1.8787423825437386,\n",
       " 'Short_Gains': 0}"
      ]
     },
     "metadata": {},
     "output_type": "display_data"
    },
    {
     "data": {
      "text/plain": [
       "3983779.350000001"
      ]
     },
     "metadata": {},
     "output_type": "display_data"
    },
    {
     "data": {
      "text/plain": [
       "3953605.450000003"
      ]
     },
     "metadata": {},
     "output_type": "display_data"
    },
    {
     "name": "stdout",
     "output_type": "stream",
     "text": [
      "\n"
     ]
    },
    {
     "data": {
      "text/plain": [
       "'BOMDYEING'"
      ]
     },
     "metadata": {},
     "output_type": "display_data"
    },
    {
     "data": {
      "text/plain": [
       "{'Bought_Price': 0,\n",
       " 'Current_Price': 0,\n",
       " 'Bought_Quantity': 0,\n",
       " 'Sold_Price': 113.75,\n",
       " 'Sold_Quantity': 87,\n",
       " 'Investment': 0,\n",
       " 'Current_Valuation': 0,\n",
       " 'Status': 0,\n",
       " 'Short_Gains': -174.0}"
      ]
     },
     "metadata": {},
     "output_type": "display_data"
    },
    {
     "data": {
      "text/plain": [
       "3983779.350000001"
      ]
     },
     "metadata": {},
     "output_type": "display_data"
    },
    {
     "data": {
      "text/plain": [
       "3953605.450000003"
      ]
     },
     "metadata": {},
     "output_type": "display_data"
    },
    {
     "name": "stdout",
     "output_type": "stream",
     "text": [
      "\n"
     ]
    },
    {
     "data": {
      "text/plain": [
       "'SRF'"
      ]
     },
     "metadata": {},
     "output_type": "display_data"
    },
    {
     "data": {
      "text/plain": [
       "{'Bought_Price': 1977.9749999999997,\n",
       " 'Current_Price': 1989.0,\n",
       " 'Bought_Quantity': 12,\n",
       " 'Sold_Price': 3830.0,\n",
       " 'Sold_Quantity': 0,\n",
       " 'Investment': 23735.699999999997,\n",
       " 'Current_Valuation': 23868.0,\n",
       " 'Status': 0.005573882379706642,\n",
       " 'Short_Gains': 0.0}"
      ]
     },
     "metadata": {},
     "output_type": "display_data"
    },
    {
     "data": {
      "text/plain": [
       "4007515.050000001"
      ]
     },
     "metadata": {},
     "output_type": "display_data"
    },
    {
     "data": {
      "text/plain": [
       "3977473.450000003"
      ]
     },
     "metadata": {},
     "output_type": "display_data"
    },
    {
     "name": "stdout",
     "output_type": "stream",
     "text": [
      "\n"
     ]
    },
    {
     "data": {
      "text/plain": [
       "'AEGISCHEM'"
      ]
     },
     "metadata": {},
     "output_type": "display_data"
    },
    {
     "data": {
      "text/plain": [
       "{'Bought_Price': 0,\n",
       " 'Current_Price': 191.45,\n",
       " 'Bought_Quantity': 0,\n",
       " 'Sold_Price': 204.5,\n",
       " 'Sold_Quantity': 50,\n",
       " 'Investment': 0,\n",
       " 'Current_Valuation': 0,\n",
       " 'Status': 0,\n",
       " 'Short_Gains': 25.0}"
      ]
     },
     "metadata": {},
     "output_type": "display_data"
    },
    {
     "data": {
      "text/plain": [
       "3986247.050000001"
      ]
     },
     "metadata": {},
     "output_type": "display_data"
    },
    {
     "data": {
      "text/plain": [
       "3956205.450000003"
      ]
     },
     "metadata": {},
     "output_type": "display_data"
    },
    {
     "name": "stdout",
     "output_type": "stream",
     "text": [
      "\n"
     ]
    },
    {
     "data": {
      "text/plain": [
       "'GMRINFRA'"
      ]
     },
     "metadata": {},
     "output_type": "display_data"
    },
    {
     "data": {
      "text/plain": [
       "{'Bought_Price': 0,\n",
       " 'Current_Price': 16.4,\n",
       " 'Bought_Quantity': 0,\n",
       " 'Sold_Price': 16.5,\n",
       " 'Sold_Quantity': 0,\n",
       " 'Investment': 0,\n",
       " 'Current_Valuation': 0.0,\n",
       " 'Status': 0,\n",
       " 'Short_Gains': 0.0}"
      ]
     },
     "metadata": {},
     "output_type": "display_data"
    },
    {
     "data": {
      "text/plain": [
       "3986247.050000001"
      ]
     },
     "metadata": {},
     "output_type": "display_data"
    },
    {
     "data": {
      "text/plain": [
       "3956205.450000003"
      ]
     },
     "metadata": {},
     "output_type": "display_data"
    },
    {
     "name": "stdout",
     "output_type": "stream",
     "text": [
      "\n"
     ]
    },
    {
     "data": {
      "text/plain": [
       "'SHOPERSTOP'"
      ]
     },
     "metadata": {},
     "output_type": "display_data"
    },
    {
     "data": {
      "text/plain": [
       "{'Bought_Price': 0,\n",
       " 'Current_Price': 160.3,\n",
       " 'Bought_Quantity': 0,\n",
       " 'Sold_Price': 540.2,\n",
       " 'Sold_Quantity': 19,\n",
       " 'Investment': 0,\n",
       " 'Current_Valuation': 0,\n",
       " 'Status': 0,\n",
       " 'Short_Gains': 145.35000000000173}"
      ]
     },
     "metadata": {},
     "output_type": "display_data"
    },
    {
     "data": {
      "text/plain": [
       "3918181.850000001"
      ]
     },
     "metadata": {},
     "output_type": "display_data"
    },
    {
     "data": {
      "text/plain": [
       "3888140.250000003"
      ]
     },
     "metadata": {},
     "output_type": "display_data"
    },
    {
     "name": "stdout",
     "output_type": "stream",
     "text": [
      "\n"
     ]
    },
    {
     "data": {
      "text/plain": [
       "'ITDCEM'"
      ]
     },
     "metadata": {},
     "output_type": "display_data"
    },
    {
     "data": {
      "text/plain": [
       "{'Bought_Price': 0,\n",
       " 'Current_Price': 0,\n",
       " 'Bought_Quantity': 0,\n",
       " 'Sold_Price': 112.95,\n",
       " 'Sold_Quantity': 89,\n",
       " 'Investment': 0,\n",
       " 'Current_Valuation': 0,\n",
       " 'Status': 0,\n",
       " 'Short_Gains': -97.8999999999995}"
      ]
     },
     "metadata": {},
     "output_type": "display_data"
    },
    {
     "data": {
      "text/plain": [
       "3918181.850000001"
      ]
     },
     "metadata": {},
     "output_type": "display_data"
    },
    {
     "data": {
      "text/plain": [
       "3888140.250000003"
      ]
     },
     "metadata": {},
     "output_type": "display_data"
    },
    {
     "name": "stdout",
     "output_type": "stream",
     "text": [
      "\n"
     ]
    },
    {
     "data": {
      "text/plain": [
       "'HDFCAMC'"
      ]
     },
     "metadata": {},
     "output_type": "display_data"
    },
    {
     "data": {
      "text/plain": [
       "{'Bought_Price': 0,\n",
       " 'Current_Price': 2465.25,\n",
       " 'Bought_Quantity': 0,\n",
       " 'Sold_Price': 1504.95,\n",
       " 'Sold_Quantity': 7,\n",
       " 'Investment': 0,\n",
       " 'Current_Valuation': 0.0,\n",
       " 'Status': 0,\n",
       " 'Short_Gains': -65.79999999999905}"
      ]
     },
     "metadata": {},
     "output_type": "display_data"
    },
    {
     "data": {
      "text/plain": [
       "3918181.850000001"
      ]
     },
     "metadata": {},
     "output_type": "display_data"
    },
    {
     "data": {
      "text/plain": [
       "3888140.250000003"
      ]
     },
     "metadata": {},
     "output_type": "display_data"
    },
    {
     "name": "stdout",
     "output_type": "stream",
     "text": [
      "\n"
     ]
    },
    {
     "data": {
      "text/plain": [
       "'GRINDWELL'"
      ]
     },
     "metadata": {},
     "output_type": "display_data"
    },
    {
     "data": {
      "text/plain": [
       "{'Bought_Price': 0,\n",
       " 'Current_Price': 492.95,\n",
       " 'Bought_Quantity': 0,\n",
       " 'Sold_Price': 559.85,\n",
       " 'Sold_Quantity': 36,\n",
       " 'Investment': 0,\n",
       " 'Current_Valuation': 0.0,\n",
       " 'Status': 0,\n",
       " 'Short_Gains': 21.60000000000082}"
      ]
     },
     "metadata": {},
     "output_type": "display_data"
    },
    {
     "data": {
      "text/plain": [
       "3918181.850000001"
      ]
     },
     "metadata": {},
     "output_type": "display_data"
    },
    {
     "data": {
      "text/plain": [
       "3888140.250000003"
      ]
     },
     "metadata": {},
     "output_type": "display_data"
    },
    {
     "name": "stdout",
     "output_type": "stream",
     "text": [
      "\n"
     ]
    },
    {
     "data": {
      "text/plain": [
       "'CADILAHC'"
      ]
     },
     "metadata": {},
     "output_type": "display_data"
    },
    {
     "data": {
      "text/plain": [
       "{'Bought_Price': 350.625,\n",
       " 'Current_Price': 350.05,\n",
       " 'Bought_Quantity': 58,\n",
       " 'Sold_Price': 370.0,\n",
       " 'Sold_Quantity': 0,\n",
       " 'Investment': 20336.25,\n",
       " 'Current_Valuation': 20302.9,\n",
       " 'Status': -0.0016399286987521565,\n",
       " 'Short_Gains': 0.0}"
      ]
     },
     "metadata": {},
     "output_type": "display_data"
    },
    {
     "data": {
      "text/plain": [
       "3938518.100000001"
      ]
     },
     "metadata": {},
     "output_type": "display_data"
    },
    {
     "data": {
      "text/plain": [
       "3908443.1500000027"
      ]
     },
     "metadata": {},
     "output_type": "display_data"
    },
    {
     "name": "stdout",
     "output_type": "stream",
     "text": [
      "\n"
     ]
    },
    {
     "data": {
      "text/plain": [
       "'HEIDELBERG'"
      ]
     },
     "metadata": {},
     "output_type": "display_data"
    },
    {
     "data": {
      "text/plain": [
       "{'Bought_Price': 0,\n",
       " 'Current_Price': 176.25,\n",
       " 'Bought_Quantity': 0,\n",
       " 'Sold_Price': 150.7,\n",
       " 'Sold_Quantity': 66,\n",
       " 'Investment': 0,\n",
       " 'Current_Valuation': 0.0,\n",
       " 'Status': 0,\n",
       " 'Short_Gains': -148.5}"
      ]
     },
     "metadata": {},
     "output_type": "display_data"
    },
    {
     "data": {
      "text/plain": [
       "3938518.100000001"
      ]
     },
     "metadata": {},
     "output_type": "display_data"
    },
    {
     "data": {
      "text/plain": [
       "3908443.1500000027"
      ]
     },
     "metadata": {},
     "output_type": "display_data"
    },
    {
     "name": "stdout",
     "output_type": "stream",
     "text": [
      "\n"
     ]
    },
    {
     "data": {
      "text/plain": [
       "'SBIN'"
      ]
     },
     "metadata": {},
     "output_type": "display_data"
    },
    {
     "data": {
      "text/plain": [
       "{'Bought_Price': 0,\n",
       " 'Current_Price': 191.95,\n",
       " 'Bought_Quantity': 0,\n",
       " 'Sold_Price': 297.5,\n",
       " 'Sold_Quantity': 68,\n",
       " 'Investment': 0,\n",
       " 'Current_Valuation': 0.0,\n",
       " 'Status': 0,\n",
       " 'Short_Gains': -142.80000000000155}"
      ]
     },
     "metadata": {},
     "output_type": "display_data"
    },
    {
     "data": {
      "text/plain": [
       "3938518.100000001"
      ]
     },
     "metadata": {},
     "output_type": "display_data"
    },
    {
     "data": {
      "text/plain": [
       "3908443.1500000027"
      ]
     },
     "metadata": {},
     "output_type": "display_data"
    },
    {
     "name": "stdout",
     "output_type": "stream",
     "text": [
      "\n"
     ]
    },
    {
     "data": {
      "text/plain": [
       "'ICICIGI'"
      ]
     },
     "metadata": {},
     "output_type": "display_data"
    },
    {
     "data": {
      "text/plain": [
       "{'Bought_Price': 0,\n",
       " 'Current_Price': 873.25,\n",
       " 'Bought_Quantity': 0,\n",
       " 'Sold_Price': 854.0,\n",
       " 'Sold_Quantity': 0,\n",
       " 'Investment': 0,\n",
       " 'Current_Valuation': 0.0,\n",
       " 'Status': 0,\n",
       " 'Short_Gains': -0.0}"
      ]
     },
     "metadata": {},
     "output_type": "display_data"
    },
    {
     "data": {
      "text/plain": [
       "3938518.100000001"
      ]
     },
     "metadata": {},
     "output_type": "display_data"
    },
    {
     "data": {
      "text/plain": [
       "3908443.1500000027"
      ]
     },
     "metadata": {},
     "output_type": "display_data"
    },
    {
     "name": "stdout",
     "output_type": "stream",
     "text": [
      "\n"
     ]
    },
    {
     "data": {
      "text/plain": [
       "'CCL'"
      ]
     },
     "metadata": {},
     "output_type": "display_data"
    },
    {
     "data": {
      "text/plain": [
       "{'Bought_Price': 0,\n",
       " 'Current_Price': 251.15,\n",
       " 'Bought_Quantity': 0,\n",
       " 'Sold_Price': 268.0,\n",
       " 'Sold_Quantity': 76,\n",
       " 'Investment': 0,\n",
       " 'Current_Valuation': 0,\n",
       " 'Status': 0,\n",
       " 'Short_Gains': -136.80000000000086}"
      ]
     },
     "metadata": {},
     "output_type": "display_data"
    },
    {
     "data": {
      "text/plain": [
       "3916542.100000001"
      ]
     },
     "metadata": {},
     "output_type": "display_data"
    },
    {
     "data": {
      "text/plain": [
       "3886467.1500000027"
      ]
     },
     "metadata": {},
     "output_type": "display_data"
    },
    {
     "name": "stdout",
     "output_type": "stream",
     "text": [
      "\n"
     ]
    },
    {
     "data": {
      "text/plain": [
       "'ALKEM'"
      ]
     },
     "metadata": {},
     "output_type": "display_data"
    },
    {
     "data": {
      "text/plain": [
       "{'Bought_Price': 1936.0,\n",
       " 'Current_Price': 1940.3,\n",
       " 'Bought_Quantity': 12,\n",
       " 'Sold_Price': 2508.0,\n",
       " 'Sold_Quantity': 0,\n",
       " 'Investment': 23232.0,\n",
       " 'Current_Valuation': 23283.6,\n",
       " 'Status': 0.0022210743801652265,\n",
       " 'Short_Gains': 0.0}"
      ]
     },
     "metadata": {},
     "output_type": "display_data"
    },
    {
     "data": {
      "text/plain": [
       "3939774.100000001"
      ]
     },
     "metadata": {},
     "output_type": "display_data"
    },
    {
     "data": {
      "text/plain": [
       "3909750.750000003"
      ]
     },
     "metadata": {},
     "output_type": "display_data"
    },
    {
     "name": "stdout",
     "output_type": "stream",
     "text": [
      "\n"
     ]
    },
    {
     "data": {
      "text/plain": [
       "'TATACONSUM'"
      ]
     },
     "metadata": {},
     "output_type": "display_data"
    },
    {
     "data": {
      "text/plain": [
       "{'Bought_Price': 219.55,\n",
       " 'Current_Price': 219.1,\n",
       " 'Bought_Quantity': 92,\n",
       " 'Sold_Price': 404.7,\n",
       " 'Sold_Quantity': 0,\n",
       " 'Investment': 20198.600000000002,\n",
       " 'Current_Valuation': 20157.2,\n",
       " 'Status': -0.0020496470052380586,\n",
       " 'Short_Gains': -0.0}"
      ]
     },
     "metadata": {},
     "output_type": "display_data"
    },
    {
     "data": {
      "text/plain": [
       "3959972.700000001"
      ]
     },
     "metadata": {},
     "output_type": "display_data"
    },
    {
     "data": {
      "text/plain": [
       "3929907.950000003"
      ]
     },
     "metadata": {},
     "output_type": "display_data"
    },
    {
     "name": "stdout",
     "output_type": "stream",
     "text": [
      "\n"
     ]
    },
    {
     "data": {
      "text/plain": [
       "'SOUTHBANK'"
      ]
     },
     "metadata": {},
     "output_type": "display_data"
    },
    {
     "data": {
      "text/plain": [
       "{'Bought_Price': 0,\n",
       " 'Current_Price': 7.35,\n",
       " 'Bought_Quantity': 0,\n",
       " 'Sold_Price': 15.5,\n",
       " 'Sold_Quantity': 643,\n",
       " 'Investment': 0,\n",
       " 'Current_Valuation': 0.0,\n",
       " 'Status': 0,\n",
       " 'Short_Gains': -96.45000000000023}"
      ]
     },
     "metadata": {},
     "output_type": "display_data"
    },
    {
     "data": {
      "text/plain": [
       "3959972.700000001"
      ]
     },
     "metadata": {},
     "output_type": "display_data"
    },
    {
     "data": {
      "text/plain": [
       "3929907.950000003"
      ]
     },
     "metadata": {},
     "output_type": "display_data"
    },
    {
     "name": "stdout",
     "output_type": "stream",
     "text": [
      "\n"
     ]
    },
    {
     "data": {
      "text/plain": [
       "'BLUESTARCO'"
      ]
     },
     "metadata": {},
     "output_type": "display_data"
    },
    {
     "data": {
      "text/plain": [
       "{'Bought_Price': 0,\n",
       " 'Current_Price': 489.6,\n",
       " 'Bought_Quantity': 0,\n",
       " 'Sold_Price': 627.95,\n",
       " 'Sold_Quantity': 32,\n",
       " 'Investment': 0,\n",
       " 'Current_Valuation': 0.0,\n",
       " 'Status': 0,\n",
       " 'Short_Gains': 76.80000000000291}"
      ]
     },
     "metadata": {},
     "output_type": "display_data"
    },
    {
     "data": {
      "text/plain": [
       "3959972.700000001"
      ]
     },
     "metadata": {},
     "output_type": "display_data"
    },
    {
     "data": {
      "text/plain": [
       "3929907.950000003"
      ]
     },
     "metadata": {},
     "output_type": "display_data"
    },
    {
     "name": "stdout",
     "output_type": "stream",
     "text": [
      "\n"
     ]
    },
    {
     "data": {
      "text/plain": [
       "'RAJESHEXPO'"
      ]
     },
     "metadata": {},
     "output_type": "display_data"
    },
    {
     "data": {
      "text/plain": [
       "{'Bought_Price': 0,\n",
       " 'Current_Price': 468.95,\n",
       " 'Bought_Quantity': 0,\n",
       " 'Sold_Price': 572.95,\n",
       " 'Sold_Quantity': 36,\n",
       " 'Investment': 0,\n",
       " 'Current_Valuation': 0,\n",
       " 'Status': 0,\n",
       " 'Short_Gains': 28.800000000002456}"
      ]
     },
     "metadata": {},
     "output_type": "display_data"
    },
    {
     "data": {
      "text/plain": [
       "3959972.700000001"
      ]
     },
     "metadata": {},
     "output_type": "display_data"
    },
    {
     "data": {
      "text/plain": [
       "3929907.950000003"
      ]
     },
     "metadata": {},
     "output_type": "display_data"
    },
    {
     "name": "stdout",
     "output_type": "stream",
     "text": [
      "\n"
     ]
    },
    {
     "data": {
      "text/plain": [
       "'ASTRAZEN'"
      ]
     },
     "metadata": {},
     "output_type": "display_data"
    },
    {
     "data": {
      "text/plain": [
       "{'Bought_Price': 0,\n",
       " 'Current_Price': 1443.6,\n",
       " 'Bought_Quantity': 0,\n",
       " 'Sold_Price': 1453.0,\n",
       " 'Sold_Quantity': 0,\n",
       " 'Investment': 0,\n",
       " 'Current_Valuation': 0,\n",
       " 'Status': 0,\n",
       " 'Short_Gains': 0.0}"
      ]
     },
     "metadata": {},
     "output_type": "display_data"
    },
    {
     "data": {
      "text/plain": [
       "3951254.700000001"
      ]
     },
     "metadata": {},
     "output_type": "display_data"
    },
    {
     "data": {
      "text/plain": [
       "3909460.2500000033"
      ]
     },
     "metadata": {},
     "output_type": "display_data"
    },
    {
     "name": "stdout",
     "output_type": "stream",
     "text": [
      "\n"
     ]
    },
    {
     "data": {
      "text/plain": [
       "'JSWSTEEL'"
      ]
     },
     "metadata": {},
     "output_type": "display_data"
    },
    {
     "data": {
      "text/plain": [
       "{'Bought_Price': 0,\n",
       " 'Current_Price': 205.0,\n",
       " 'Bought_Quantity': 0,\n",
       " 'Sold_Price': 308.9,\n",
       " 'Sold_Quantity': 66,\n",
       " 'Investment': 0,\n",
       " 'Current_Valuation': 0,\n",
       " 'Status': 0,\n",
       " 'Short_Gains': 326.69999999999925}"
      ]
     },
     "metadata": {},
     "output_type": "display_data"
    },
    {
     "data": {
      "text/plain": [
       "3936118.600000001"
      ]
     },
     "metadata": {},
     "output_type": "display_data"
    },
    {
     "data": {
      "text/plain": [
       "3894324.150000003"
      ]
     },
     "metadata": {},
     "output_type": "display_data"
    },
    {
     "name": "stdout",
     "output_type": "stream",
     "text": [
      "\n"
     ]
    },
    {
     "data": {
      "text/plain": [
       "'TECHM'"
      ]
     },
     "metadata": {},
     "output_type": "display_data"
    },
    {
     "data": {
      "text/plain": [
       "{'Bought_Price': 0,\n",
       " 'Current_Price': 719.1,\n",
       " 'Bought_Quantity': 0,\n",
       " 'Sold_Price': 715.0,\n",
       " 'Sold_Quantity': 0,\n",
       " 'Investment': 0,\n",
       " 'Current_Valuation': 0.0,\n",
       " 'Status': 0,\n",
       " 'Short_Gains': -0.0}"
      ]
     },
     "metadata": {},
     "output_type": "display_data"
    },
    {
     "data": {
      "text/plain": [
       "3936118.600000001"
      ]
     },
     "metadata": {},
     "output_type": "display_data"
    },
    {
     "data": {
      "text/plain": [
       "3894324.150000003"
      ]
     },
     "metadata": {},
     "output_type": "display_data"
    },
    {
     "name": "stdout",
     "output_type": "stream",
     "text": [
      "\n"
     ]
    },
    {
     "data": {
      "text/plain": [
       "'TRENT'"
      ]
     },
     "metadata": {},
     "output_type": "display_data"
    },
    {
     "data": {
      "text/plain": [
       "{'Bought_Price': 0,\n",
       " 'Current_Price': 577.45,\n",
       " 'Bought_Quantity': 0,\n",
       " 'Sold_Price': 362.3,\n",
       " 'Sold_Quantity': 28,\n",
       " 'Investment': 0,\n",
       " 'Current_Valuation': 0.0,\n",
       " 'Status': 0,\n",
       " 'Short_Gains': 9.800000000000637}"
      ]
     },
     "metadata": {},
     "output_type": "display_data"
    },
    {
     "data": {
      "text/plain": [
       "3936118.600000001"
      ]
     },
     "metadata": {},
     "output_type": "display_data"
    },
    {
     "data": {
      "text/plain": [
       "3894324.150000003"
      ]
     },
     "metadata": {},
     "output_type": "display_data"
    },
    {
     "name": "stdout",
     "output_type": "stream",
     "text": [
      "\n"
     ]
    },
    {
     "data": {
      "text/plain": [
       "'TATAMTRDVR'"
      ]
     },
     "metadata": {},
     "output_type": "display_data"
    },
    {
     "data": {
      "text/plain": [
       "{'Bought_Price': 0,\n",
       " 'Current_Price': 40.1,\n",
       " 'Bought_Quantity': 0,\n",
       " 'Sold_Price': 92.65,\n",
       " 'Sold_Quantity': 108,\n",
       " 'Investment': 0,\n",
       " 'Current_Valuation': 0.0,\n",
       " 'Status': 0,\n",
       " 'Short_Gains': -48.59999999999877}"
      ]
     },
     "metadata": {},
     "output_type": "display_data"
    },
    {
     "data": {
      "text/plain": [
       "3936118.600000001"
      ]
     },
     "metadata": {},
     "output_type": "display_data"
    },
    {
     "data": {
      "text/plain": [
       "3894324.150000003"
      ]
     },
     "metadata": {},
     "output_type": "display_data"
    },
    {
     "name": "stdout",
     "output_type": "stream",
     "text": [
      "\n"
     ]
    },
    {
     "data": {
      "text/plain": [
       "'J&KBANK'"
      ]
     },
     "metadata": {},
     "output_type": "display_data"
    },
    {
     "data": {
      "text/plain": [
       "{'Bought_Price': 0,\n",
       " 'Current_Price': 38.6,\n",
       " 'Bought_Quantity': 0,\n",
       " 'Sold_Price': 37.9,\n",
       " 'Sold_Quantity': 0,\n",
       " 'Investment': 0,\n",
       " 'Current_Valuation': 0.0,\n",
       " 'Status': 0,\n",
       " 'Short_Gains': -0.0}"
      ]
     },
     "metadata": {},
     "output_type": "display_data"
    },
    {
     "data": {
      "text/plain": [
       "3936118.600000001"
      ]
     },
     "metadata": {},
     "output_type": "display_data"
    },
    {
     "data": {
      "text/plain": [
       "3894324.150000003"
      ]
     },
     "metadata": {},
     "output_type": "display_data"
    },
    {
     "name": "stdout",
     "output_type": "stream",
     "text": [
      "\n"
     ]
    },
    {
     "data": {
      "text/plain": [
       "'TATAPOWER'"
      ]
     },
     "metadata": {},
     "output_type": "display_data"
    },
    {
     "data": {
      "text/plain": [
       "{'Bought_Price': 0,\n",
       " 'Current_Price': 48.9,\n",
       " 'Bought_Quantity': 0,\n",
       " 'Sold_Price': 77.0,\n",
       " 'Sold_Quantity': 262,\n",
       " 'Investment': 0,\n",
       " 'Current_Valuation': 0.0,\n",
       " 'Status': 0,\n",
       " 'Short_Gains': 78.59999999999926}"
      ]
     },
     "metadata": {},
     "output_type": "display_data"
    },
    {
     "data": {
      "text/plain": [
       "3936118.600000001"
      ]
     },
     "metadata": {},
     "output_type": "display_data"
    },
    {
     "data": {
      "text/plain": [
       "3894324.150000003"
      ]
     },
     "metadata": {},
     "output_type": "display_data"
    },
    {
     "name": "stdout",
     "output_type": "stream",
     "text": [
      "\n"
     ]
    },
    {
     "data": {
      "text/plain": [
       "'SWSOLAR'"
      ]
     },
     "metadata": {},
     "output_type": "display_data"
    },
    {
     "data": {
      "text/plain": [
       "{'Bought_Price': 0,\n",
       " 'Current_Price': 726.2,\n",
       " 'Bought_Quantity': 0,\n",
       " 'Sold_Price': 706.0,\n",
       " 'Sold_Quantity': 0,\n",
       " 'Investment': 0,\n",
       " 'Current_Valuation': 0.0,\n",
       " 'Status': 0,\n",
       " 'Short_Gains': -0.0}"
      ]
     },
     "metadata": {},
     "output_type": "display_data"
    },
    {
     "data": {
      "text/plain": [
       "3936118.600000001"
      ]
     },
     "metadata": {},
     "output_type": "display_data"
    },
    {
     "data": {
      "text/plain": [
       "3894324.150000003"
      ]
     },
     "metadata": {},
     "output_type": "display_data"
    },
    {
     "name": "stdout",
     "output_type": "stream",
     "text": [
      "\n"
     ]
    },
    {
     "data": {
      "text/plain": [
       "'SAIL'"
      ]
     },
     "metadata": {},
     "output_type": "display_data"
    },
    {
     "data": {
      "text/plain": [
       "{'Bought_Price': 0,\n",
       " 'Current_Price': 55.75,\n",
       " 'Bought_Quantity': 0,\n",
       " 'Sold_Price': 56.7,\n",
       " 'Sold_Quantity': 0,\n",
       " 'Investment': 0,\n",
       " 'Current_Valuation': 0.0,\n",
       " 'Status': 0,\n",
       " 'Short_Gains': 0.0}"
      ]
     },
     "metadata": {},
     "output_type": "display_data"
    },
    {
     "data": {
      "text/plain": [
       "3936118.600000001"
      ]
     },
     "metadata": {},
     "output_type": "display_data"
    },
    {
     "data": {
      "text/plain": [
       "3894324.150000003"
      ]
     },
     "metadata": {},
     "output_type": "display_data"
    },
    {
     "name": "stdout",
     "output_type": "stream",
     "text": [
      "\n"
     ]
    },
    {
     "data": {
      "text/plain": [
       "'SOBHA'"
      ]
     },
     "metadata": {},
     "output_type": "display_data"
    },
    {
     "data": {
      "text/plain": [
       "{'Bought_Price': 0,\n",
       " 'Current_Price': 461.15,\n",
       " 'Bought_Quantity': 0,\n",
       " 'Sold_Price': 458.05,\n",
       " 'Sold_Quantity': 0,\n",
       " 'Investment': 0,\n",
       " 'Current_Valuation': 0.0,\n",
       " 'Status': 0,\n",
       " 'Short_Gains': -0.0}"
      ]
     },
     "metadata": {},
     "output_type": "display_data"
    },
    {
     "data": {
      "text/plain": [
       "3936118.600000001"
      ]
     },
     "metadata": {},
     "output_type": "display_data"
    },
    {
     "data": {
      "text/plain": [
       "3894324.150000003"
      ]
     },
     "metadata": {},
     "output_type": "display_data"
    },
    {
     "name": "stdout",
     "output_type": "stream",
     "text": [
      "\n"
     ]
    },
    {
     "data": {
      "text/plain": [
       "'MOTHERSUMI'"
      ]
     },
     "metadata": {},
     "output_type": "display_data"
    },
    {
     "data": {
      "text/plain": [
       "{'Bought_Price': 0,\n",
       " 'Current_Price': 165.45,\n",
       " 'Bought_Quantity': 0,\n",
       " 'Sold_Price': 167.75,\n",
       " 'Sold_Quantity': 0,\n",
       " 'Investment': 0,\n",
       " 'Current_Valuation': 0.0,\n",
       " 'Status': 0,\n",
       " 'Short_Gains': 0.0}"
      ]
     },
     "metadata": {},
     "output_type": "display_data"
    },
    {
     "data": {
      "text/plain": [
       "3936118.600000001"
      ]
     },
     "metadata": {},
     "output_type": "display_data"
    },
    {
     "data": {
      "text/plain": [
       "3894324.150000003"
      ]
     },
     "metadata": {},
     "output_type": "display_data"
    },
    {
     "name": "stdout",
     "output_type": "stream",
     "text": [
      "\n"
     ]
    },
    {
     "data": {
      "text/plain": [
       "'TRITURBINE'"
      ]
     },
     "metadata": {},
     "output_type": "display_data"
    },
    {
     "data": {
      "text/plain": [
       "{'Bought_Price': 0,\n",
       " 'Current_Price': 109.25,\n",
       " 'Bought_Quantity': 0,\n",
       " 'Sold_Price': 110.0,\n",
       " 'Sold_Quantity': 0,\n",
       " 'Investment': 0,\n",
       " 'Current_Valuation': 0.0,\n",
       " 'Status': 0,\n",
       " 'Short_Gains': 0.0}"
      ]
     },
     "metadata": {},
     "output_type": "display_data"
    },
    {
     "data": {
      "text/plain": [
       "3936118.600000001"
      ]
     },
     "metadata": {},
     "output_type": "display_data"
    },
    {
     "data": {
      "text/plain": [
       "3894324.150000003"
      ]
     },
     "metadata": {},
     "output_type": "display_data"
    },
    {
     "name": "stdout",
     "output_type": "stream",
     "text": [
      "\n"
     ]
    },
    {
     "data": {
      "text/plain": [
       "'NHPC'"
      ]
     },
     "metadata": {},
     "output_type": "display_data"
    },
    {
     "data": {
      "text/plain": [
       "{'Bought_Price': 0,\n",
       " 'Current_Price': 25.95,\n",
       " 'Bought_Quantity': 0,\n",
       " 'Sold_Price': 26.1,\n",
       " 'Sold_Quantity': 0,\n",
       " 'Investment': 0,\n",
       " 'Current_Valuation': 0.0,\n",
       " 'Status': 0,\n",
       " 'Short_Gains': 0.0}"
      ]
     },
     "metadata": {},
     "output_type": "display_data"
    },
    {
     "data": {
      "text/plain": [
       "3936118.600000001"
      ]
     },
     "metadata": {},
     "output_type": "display_data"
    },
    {
     "data": {
      "text/plain": [
       "3894324.150000003"
      ]
     },
     "metadata": {},
     "output_type": "display_data"
    },
    {
     "name": "stdout",
     "output_type": "stream",
     "text": [
      "\n"
     ]
    },
    {
     "data": {
      "text/plain": [
       "'SUNCLAYLTD'"
      ]
     },
     "metadata": {},
     "output_type": "display_data"
    },
    {
     "data": {
      "text/plain": [
       "{'Bought_Price': 0,\n",
       " 'Current_Price': 3571.1,\n",
       " 'Bought_Quantity': 0,\n",
       " 'Sold_Price': 3602.05,\n",
       " 'Sold_Quantity': 0,\n",
       " 'Investment': 0,\n",
       " 'Current_Valuation': 0.0,\n",
       " 'Status': 0,\n",
       " 'Short_Gains': 0.0}"
      ]
     },
     "metadata": {},
     "output_type": "display_data"
    },
    {
     "data": {
      "text/plain": [
       "3936118.600000001"
      ]
     },
     "metadata": {},
     "output_type": "display_data"
    },
    {
     "data": {
      "text/plain": [
       "3894324.150000003"
      ]
     },
     "metadata": {},
     "output_type": "display_data"
    },
    {
     "name": "stdout",
     "output_type": "stream",
     "text": [
      "\n"
     ]
    },
    {
     "data": {
      "text/plain": [
       "'SPANDANA'"
      ]
     },
     "metadata": {},
     "output_type": "display_data"
    },
    {
     "data": {
      "text/plain": [
       "{'Bought_Price': 0,\n",
       " 'Current_Price': 847.8,\n",
       " 'Bought_Quantity': 0,\n",
       " 'Sold_Price': 825.0,\n",
       " 'Sold_Quantity': 0,\n",
       " 'Investment': 0,\n",
       " 'Current_Valuation': 0.0,\n",
       " 'Status': 0,\n",
       " 'Short_Gains': -0.0}"
      ]
     },
     "metadata": {},
     "output_type": "display_data"
    },
    {
     "data": {
      "text/plain": [
       "3936118.600000001"
      ]
     },
     "metadata": {},
     "output_type": "display_data"
    },
    {
     "data": {
      "text/plain": [
       "3894324.150000003"
      ]
     },
     "metadata": {},
     "output_type": "display_data"
    },
    {
     "name": "stdout",
     "output_type": "stream",
     "text": [
      "\n"
     ]
    },
    {
     "data": {
      "text/plain": [
       "'MINDACORP'"
      ]
     },
     "metadata": {},
     "output_type": "display_data"
    },
    {
     "data": {
      "text/plain": [
       "{'Bought_Price': 0,\n",
       " 'Current_Price': 148.0,\n",
       " 'Bought_Quantity': 0,\n",
       " 'Sold_Price': 147.9,\n",
       " 'Sold_Quantity': 0,\n",
       " 'Investment': 0,\n",
       " 'Current_Valuation': 0.0,\n",
       " 'Status': 0,\n",
       " 'Short_Gains': -0.0}"
      ]
     },
     "metadata": {},
     "output_type": "display_data"
    },
    {
     "data": {
      "text/plain": [
       "3936118.600000001"
      ]
     },
     "metadata": {},
     "output_type": "display_data"
    },
    {
     "data": {
      "text/plain": [
       "3894324.150000003"
      ]
     },
     "metadata": {},
     "output_type": "display_data"
    },
    {
     "name": "stdout",
     "output_type": "stream",
     "text": [
      "\n"
     ]
    },
    {
     "data": {
      "text/plain": [
       "'WESTLIFE'"
      ]
     },
     "metadata": {},
     "output_type": "display_data"
    },
    {
     "data": {
      "text/plain": [
       "{'Bought_Price': 0,\n",
       " 'Current_Price': 282.05,\n",
       " 'Bought_Quantity': 0,\n",
       " 'Sold_Price': 288.8,\n",
       " 'Sold_Quantity': 0,\n",
       " 'Investment': 0,\n",
       " 'Current_Valuation': 0.0,\n",
       " 'Status': 0,\n",
       " 'Short_Gains': 0.0}"
      ]
     },
     "metadata": {},
     "output_type": "display_data"
    },
    {
     "data": {
      "text/plain": [
       "3936118.600000001"
      ]
     },
     "metadata": {},
     "output_type": "display_data"
    },
    {
     "data": {
      "text/plain": [
       "3894324.150000003"
      ]
     },
     "metadata": {},
     "output_type": "display_data"
    },
    {
     "name": "stdout",
     "output_type": "stream",
     "text": [
      "\n"
     ]
    },
    {
     "data": {
      "text/plain": [
       "'NBVENTURES'"
      ]
     },
     "metadata": {},
     "output_type": "display_data"
    },
    {
     "data": {
      "text/plain": [
       "{'Bought_Price': 0,\n",
       " 'Current_Price': 119.8,\n",
       " 'Bought_Quantity': 0,\n",
       " 'Sold_Price': 120.2,\n",
       " 'Sold_Quantity': 0,\n",
       " 'Investment': 0,\n",
       " 'Current_Valuation': 0.0,\n",
       " 'Status': 0,\n",
       " 'Short_Gains': 0.0}"
      ]
     },
     "metadata": {},
     "output_type": "display_data"
    },
    {
     "data": {
      "text/plain": [
       "3936118.600000001"
      ]
     },
     "metadata": {},
     "output_type": "display_data"
    },
    {
     "data": {
      "text/plain": [
       "3894324.150000003"
      ]
     },
     "metadata": {},
     "output_type": "display_data"
    },
    {
     "name": "stdout",
     "output_type": "stream",
     "text": [
      "\n"
     ]
    },
    {
     "data": {
      "text/plain": [
       "'SRTRANSFIN'"
      ]
     },
     "metadata": {},
     "output_type": "display_data"
    },
    {
     "data": {
      "text/plain": [
       "{'Bought_Price': 0,\n",
       " 'Current_Price': 1229.75,\n",
       " 'Bought_Quantity': 0,\n",
       " 'Sold_Price': 1244.95,\n",
       " 'Sold_Quantity': 0,\n",
       " 'Investment': 0,\n",
       " 'Current_Valuation': 0.0,\n",
       " 'Status': 0,\n",
       " 'Short_Gains': 0.0}"
      ]
     },
     "metadata": {},
     "output_type": "display_data"
    },
    {
     "data": {
      "text/plain": [
       "3936118.600000001"
      ]
     },
     "metadata": {},
     "output_type": "display_data"
    },
    {
     "data": {
      "text/plain": [
       "3894324.150000003"
      ]
     },
     "metadata": {},
     "output_type": "display_data"
    },
    {
     "name": "stdout",
     "output_type": "stream",
     "text": [
      "\n"
     ]
    },
    {
     "data": {
      "text/plain": [
       "'RCF'"
      ]
     },
     "metadata": {},
     "output_type": "display_data"
    },
    {
     "data": {
      "text/plain": [
       "{'Bought_Price': 0,\n",
       " 'Current_Price': 64.3,\n",
       " 'Bought_Quantity': 0,\n",
       " 'Sold_Price': 64.2,\n",
       " 'Sold_Quantity': 0,\n",
       " 'Investment': 0,\n",
       " 'Current_Valuation': 0,\n",
       " 'Status': 0,\n",
       " 'Short_Gains': -0.0}"
      ]
     },
     "metadata": {},
     "output_type": "display_data"
    },
    {
     "data": {
      "text/plain": [
       "3910053.400000001"
      ]
     },
     "metadata": {},
     "output_type": "display_data"
    },
    {
     "data": {
      "text/plain": [
       "3874105.350000003"
      ]
     },
     "metadata": {},
     "output_type": "display_data"
    },
    {
     "name": "stdout",
     "output_type": "stream",
     "text": [
      "\n"
     ]
    },
    {
     "data": {
      "text/plain": [
       "'PIDILITIND'"
      ]
     },
     "metadata": {},
     "output_type": "display_data"
    },
    {
     "data": {
      "text/plain": [
       "{'Bought_Price': 0,\n",
       " 'Current_Price': 1101.95,\n",
       " 'Bought_Quantity': 0,\n",
       " 'Sold_Price': 1112.7,\n",
       " 'Sold_Quantity': 0,\n",
       " 'Investment': 0,\n",
       " 'Current_Valuation': 0.0,\n",
       " 'Status': 0,\n",
       " 'Short_Gains': 0.0}"
      ]
     },
     "metadata": {},
     "output_type": "display_data"
    },
    {
     "data": {
      "text/plain": [
       "3910053.400000001"
      ]
     },
     "metadata": {},
     "output_type": "display_data"
    },
    {
     "data": {
      "text/plain": [
       "3874105.350000003"
      ]
     },
     "metadata": {},
     "output_type": "display_data"
    },
    {
     "name": "stdout",
     "output_type": "stream",
     "text": [
      "\n"
     ]
    },
    {
     "data": {
      "text/plain": [
       "'SHRIRAMCIT'"
      ]
     },
     "metadata": {},
     "output_type": "display_data"
    },
    {
     "data": {
      "text/plain": [
       "{'Bought_Price': 0,\n",
       " 'Current_Price': 1591.3,\n",
       " 'Bought_Quantity': 0,\n",
       " 'Sold_Price': 1580.0,\n",
       " 'Sold_Quantity': 0,\n",
       " 'Investment': 0,\n",
       " 'Current_Valuation': 0.0,\n",
       " 'Status': 0,\n",
       " 'Short_Gains': -0.0}"
      ]
     },
     "metadata": {},
     "output_type": "display_data"
    },
    {
     "data": {
      "text/plain": [
       "3910053.400000001"
      ]
     },
     "metadata": {},
     "output_type": "display_data"
    },
    {
     "data": {
      "text/plain": [
       "3874105.350000003"
      ]
     },
     "metadata": {},
     "output_type": "display_data"
    },
    {
     "name": "stdout",
     "output_type": "stream",
     "text": [
      "\n"
     ]
    },
    {
     "data": {
      "text/plain": [
       "'VBL'"
      ]
     },
     "metadata": {},
     "output_type": "display_data"
    },
    {
     "data": {
      "text/plain": [
       "{'Bought_Price': 0,\n",
       " 'Current_Price': 815.25,\n",
       " 'Bought_Quantity': 0,\n",
       " 'Sold_Price': 790.0,\n",
       " 'Sold_Quantity': 0,\n",
       " 'Investment': 0,\n",
       " 'Current_Valuation': 0.0,\n",
       " 'Status': 0,\n",
       " 'Short_Gains': -0.0}"
      ]
     },
     "metadata": {},
     "output_type": "display_data"
    },
    {
     "data": {
      "text/plain": [
       "3910053.400000001"
      ]
     },
     "metadata": {},
     "output_type": "display_data"
    },
    {
     "data": {
      "text/plain": [
       "3874105.350000003"
      ]
     },
     "metadata": {},
     "output_type": "display_data"
    },
    {
     "name": "stdout",
     "output_type": "stream",
     "text": [
      "\n"
     ]
    },
    {
     "data": {
      "text/plain": [
       "'OFSS'"
      ]
     },
     "metadata": {},
     "output_type": "display_data"
    },
    {
     "data": {
      "text/plain": [
       "{'Bought_Price': 0,\n",
       " 'Current_Price': 3729.45,\n",
       " 'Bought_Quantity': 0,\n",
       " 'Sold_Price': 3700.1,\n",
       " 'Sold_Quantity': 0,\n",
       " 'Investment': 0,\n",
       " 'Current_Valuation': 0.0,\n",
       " 'Status': 0,\n",
       " 'Short_Gains': -0.0}"
      ]
     },
     "metadata": {},
     "output_type": "display_data"
    },
    {
     "data": {
      "text/plain": [
       "3910053.400000001"
      ]
     },
     "metadata": {},
     "output_type": "display_data"
    },
    {
     "data": {
      "text/plain": [
       "3874105.350000003"
      ]
     },
     "metadata": {},
     "output_type": "display_data"
    },
    {
     "name": "stdout",
     "output_type": "stream",
     "text": [
      "\n"
     ]
    },
    {
     "data": {
      "text/plain": [
       "'VARROC'"
      ]
     },
     "metadata": {},
     "output_type": "display_data"
    },
    {
     "data": {
      "text/plain": [
       "{'Bought_Price': 0,\n",
       " 'Current_Price': 734.8,\n",
       " 'Bought_Quantity': 0,\n",
       " 'Sold_Price': 738.9,\n",
       " 'Sold_Quantity': 0,\n",
       " 'Investment': 0,\n",
       " 'Current_Valuation': 0.0,\n",
       " 'Status': 0,\n",
       " 'Short_Gains': 0.0}"
      ]
     },
     "metadata": {},
     "output_type": "display_data"
    },
    {
     "data": {
      "text/plain": [
       "3910053.400000001"
      ]
     },
     "metadata": {},
     "output_type": "display_data"
    },
    {
     "data": {
      "text/plain": [
       "3874105.350000003"
      ]
     },
     "metadata": {},
     "output_type": "display_data"
    },
    {
     "name": "stdout",
     "output_type": "stream",
     "text": [
      "\n"
     ]
    },
    {
     "data": {
      "text/plain": [
       "'TATASTEEL'"
      ]
     },
     "metadata": {},
     "output_type": "display_data"
    },
    {
     "data": {
      "text/plain": [
       "{'Bought_Price': 0,\n",
       " 'Current_Price': 515.75,\n",
       " 'Bought_Quantity': 0,\n",
       " 'Sold_Price': 524.0,\n",
       " 'Sold_Quantity': 0,\n",
       " 'Investment': 0,\n",
       " 'Current_Valuation': 0.0,\n",
       " 'Status': 0,\n",
       " 'Short_Gains': 0.0}"
      ]
     },
     "metadata": {},
     "output_type": "display_data"
    },
    {
     "data": {
      "text/plain": [
       "3910053.400000001"
      ]
     },
     "metadata": {},
     "output_type": "display_data"
    },
    {
     "data": {
      "text/plain": [
       "3874105.350000003"
      ]
     },
     "metadata": {},
     "output_type": "display_data"
    },
    {
     "name": "stdout",
     "output_type": "stream",
     "text": [
      "\n"
     ]
    },
    {
     "data": {
      "text/plain": [
       "'UBL'"
      ]
     },
     "metadata": {},
     "output_type": "display_data"
    },
    {
     "data": {
      "text/plain": [
       "{'Bought_Price': 0,\n",
       " 'Current_Price': 1362.7,\n",
       " 'Bought_Quantity': 0,\n",
       " 'Sold_Price': 1372.5,\n",
       " 'Sold_Quantity': 0,\n",
       " 'Investment': 0,\n",
       " 'Current_Valuation': 0.0,\n",
       " 'Status': 0,\n",
       " 'Short_Gains': 0.0}"
      ]
     },
     "metadata": {},
     "output_type": "display_data"
    },
    {
     "data": {
      "text/plain": [
       "3910053.400000001"
      ]
     },
     "metadata": {},
     "output_type": "display_data"
    },
    {
     "data": {
      "text/plain": [
       "3874105.350000003"
      ]
     },
     "metadata": {},
     "output_type": "display_data"
    },
    {
     "name": "stdout",
     "output_type": "stream",
     "text": [
      "\n"
     ]
    },
    {
     "data": {
      "text/plain": [
       "'APOLLOTYRE'"
      ]
     },
     "metadata": {},
     "output_type": "display_data"
    },
    {
     "data": {
      "text/plain": [
       "{'Bought_Price': 0,\n",
       " 'Current_Price': 234.4,\n",
       " 'Bought_Quantity': 0,\n",
       " 'Sold_Price': 236.5,\n",
       " 'Sold_Quantity': 0,\n",
       " 'Investment': 0,\n",
       " 'Current_Valuation': 0.0,\n",
       " 'Status': 0,\n",
       " 'Short_Gains': 0.0}"
      ]
     },
     "metadata": {},
     "output_type": "display_data"
    },
    {
     "data": {
      "text/plain": [
       "3910053.400000001"
      ]
     },
     "metadata": {},
     "output_type": "display_data"
    },
    {
     "data": {
      "text/plain": [
       "3874105.350000003"
      ]
     },
     "metadata": {},
     "output_type": "display_data"
    },
    {
     "name": "stdout",
     "output_type": "stream",
     "text": [
      "\n"
     ]
    },
    {
     "data": {
      "text/plain": [
       "'ORIENTREF'"
      ]
     },
     "metadata": {},
     "output_type": "display_data"
    },
    {
     "data": {
      "text/plain": [
       "{'Bought_Price': 0,\n",
       " 'Current_Price': 231.9,\n",
       " 'Bought_Quantity': 0,\n",
       " 'Sold_Price': 234.45,\n",
       " 'Sold_Quantity': 0,\n",
       " 'Investment': 0,\n",
       " 'Current_Valuation': 0.0,\n",
       " 'Status': 0,\n",
       " 'Short_Gains': 0.0}"
      ]
     },
     "metadata": {},
     "output_type": "display_data"
    },
    {
     "data": {
      "text/plain": [
       "3910053.400000001"
      ]
     },
     "metadata": {},
     "output_type": "display_data"
    },
    {
     "data": {
      "text/plain": [
       "3874105.350000003"
      ]
     },
     "metadata": {},
     "output_type": "display_data"
    },
    {
     "name": "stdout",
     "output_type": "stream",
     "text": [
      "\n"
     ]
    },
    {
     "data": {
      "text/plain": [
       "'SCHAEFFLER'"
      ]
     },
     "metadata": {},
     "output_type": "display_data"
    },
    {
     "data": {
      "text/plain": [
       "{'Bought_Price': 0,\n",
       " 'Current_Price': 5646.2,\n",
       " 'Bought_Quantity': 0,\n",
       " 'Sold_Price': 5688.05,\n",
       " 'Sold_Quantity': 0,\n",
       " 'Investment': 0,\n",
       " 'Current_Valuation': 0.0,\n",
       " 'Status': 0,\n",
       " 'Short_Gains': 0.0}"
      ]
     },
     "metadata": {},
     "output_type": "display_data"
    },
    {
     "data": {
      "text/plain": [
       "3910053.400000001"
      ]
     },
     "metadata": {},
     "output_type": "display_data"
    },
    {
     "data": {
      "text/plain": [
       "3874105.350000003"
      ]
     },
     "metadata": {},
     "output_type": "display_data"
    },
    {
     "name": "stdout",
     "output_type": "stream",
     "text": [
      "\n"
     ]
    },
    {
     "data": {
      "text/plain": [
       "'TATASTLBSL'"
      ]
     },
     "metadata": {},
     "output_type": "display_data"
    },
    {
     "data": {
      "text/plain": [
       "{'Bought_Price': 0,\n",
       " 'Current_Price': 39.95,\n",
       " 'Bought_Quantity': 0,\n",
       " 'Sold_Price': 39.6,\n",
       " 'Sold_Quantity': 0,\n",
       " 'Investment': 0,\n",
       " 'Current_Valuation': 0.0,\n",
       " 'Status': 0,\n",
       " 'Short_Gains': -0.0}"
      ]
     },
     "metadata": {},
     "output_type": "display_data"
    },
    {
     "data": {
      "text/plain": [
       "3910053.400000001"
      ]
     },
     "metadata": {},
     "output_type": "display_data"
    },
    {
     "data": {
      "text/plain": [
       "3874105.350000003"
      ]
     },
     "metadata": {},
     "output_type": "display_data"
    },
    {
     "name": "stdout",
     "output_type": "stream",
     "text": [
      "\n"
     ]
    },
    {
     "data": {
      "text/plain": [
       "'RPOWER'"
      ]
     },
     "metadata": {},
     "output_type": "display_data"
    },
    {
     "data": {
      "text/plain": [
       "{'Bought_Price': 0,\n",
       " 'Current_Price': 28.85,\n",
       " 'Bought_Quantity': 0,\n",
       " 'Sold_Price': 28.95,\n",
       " 'Sold_Quantity': 0,\n",
       " 'Investment': 0,\n",
       " 'Current_Valuation': 0.0,\n",
       " 'Status': 0,\n",
       " 'Short_Gains': 0.0}"
      ]
     },
     "metadata": {},
     "output_type": "display_data"
    },
    {
     "data": {
      "text/plain": [
       "3910053.400000001"
      ]
     },
     "metadata": {},
     "output_type": "display_data"
    },
    {
     "data": {
      "text/plain": [
       "3874105.350000003"
      ]
     },
     "metadata": {},
     "output_type": "display_data"
    },
    {
     "name": "stdout",
     "output_type": "stream",
     "text": [
      "\n"
     ]
    },
    {
     "data": {
      "text/plain": [
       "'SBILIFE'"
      ]
     },
     "metadata": {},
     "output_type": "display_data"
    },
    {
     "data": {
      "text/plain": [
       "{'Bought_Price': 0,\n",
       " 'Current_Price': 598.85,\n",
       " 'Bought_Quantity': 0,\n",
       " 'Sold_Price': 595.25,\n",
       " 'Sold_Quantity': 0,\n",
       " 'Investment': 0,\n",
       " 'Current_Valuation': 0,\n",
       " 'Status': 0,\n",
       " 'Short_Gains': -0.0}"
      ]
     },
     "metadata": {},
     "output_type": "display_data"
    },
    {
     "data": {
      "text/plain": [
       "3902910.400000001"
      ]
     },
     "metadata": {},
     "output_type": "display_data"
    },
    {
     "data": {
      "text/plain": [
       "3863739.7500000033"
      ]
     },
     "metadata": {},
     "output_type": "display_data"
    },
    {
     "name": "stdout",
     "output_type": "stream",
     "text": [
      "\n"
     ]
    },
    {
     "data": {
      "text/plain": [
       "'RVNL'"
      ]
     },
     "metadata": {},
     "output_type": "display_data"
    },
    {
     "data": {
      "text/plain": [
       "{'Bought_Price': 0,\n",
       " 'Current_Price': 19.05,\n",
       " 'Bought_Quantity': 0,\n",
       " 'Sold_Price': 19.0,\n",
       " 'Sold_Quantity': 0,\n",
       " 'Investment': 0,\n",
       " 'Current_Valuation': 0.0,\n",
       " 'Status': 0,\n",
       " 'Short_Gains': -0.0}"
      ]
     },
     "metadata": {},
     "output_type": "display_data"
    },
    {
     "data": {
      "text/plain": [
       "3902910.400000001"
      ]
     },
     "metadata": {},
     "output_type": "display_data"
    },
    {
     "data": {
      "text/plain": [
       "3863739.7500000033"
      ]
     },
     "metadata": {},
     "output_type": "display_data"
    },
    {
     "name": "stdout",
     "output_type": "stream",
     "text": [
      "\n"
     ]
    },
    {
     "data": {
      "text/plain": [
       "'CUMMINSIND'"
      ]
     },
     "metadata": {},
     "output_type": "display_data"
    },
    {
     "data": {
      "text/plain": [
       "{'Bought_Price': 0,\n",
       " 'Current_Price': 848.45,\n",
       " 'Bought_Quantity': 0,\n",
       " 'Sold_Price': 847.0,\n",
       " 'Sold_Quantity': 0,\n",
       " 'Investment': 0,\n",
       " 'Current_Valuation': 0.0,\n",
       " 'Status': 0,\n",
       " 'Short_Gains': -0.0}"
      ]
     },
     "metadata": {},
     "output_type": "display_data"
    },
    {
     "data": {
      "text/plain": [
       "3902910.400000001"
      ]
     },
     "metadata": {},
     "output_type": "display_data"
    },
    {
     "data": {
      "text/plain": [
       "3863739.7500000033"
      ]
     },
     "metadata": {},
     "output_type": "display_data"
    },
    {
     "name": "stdout",
     "output_type": "stream",
     "text": [
      "\n"
     ]
    },
    {
     "data": {
      "text/plain": [
       "'MFSL'"
      ]
     },
     "metadata": {},
     "output_type": "display_data"
    },
    {
     "data": {
      "text/plain": [
       "{'Bought_Price': 0,\n",
       " 'Current_Price': 443.55,\n",
       " 'Bought_Quantity': 0,\n",
       " 'Sold_Price': 449.25,\n",
       " 'Sold_Quantity': 0,\n",
       " 'Investment': 0,\n",
       " 'Current_Valuation': 0.0,\n",
       " 'Status': 0,\n",
       " 'Short_Gains': 0.0}"
      ]
     },
     "metadata": {},
     "output_type": "display_data"
    },
    {
     "data": {
      "text/plain": [
       "3902910.400000001"
      ]
     },
     "metadata": {},
     "output_type": "display_data"
    },
    {
     "data": {
      "text/plain": [
       "3863739.7500000033"
      ]
     },
     "metadata": {},
     "output_type": "display_data"
    },
    {
     "name": "stdout",
     "output_type": "stream",
     "text": [
      "\n"
     ]
    },
    {
     "data": {
      "text/plain": [
       "'HUDCO'"
      ]
     },
     "metadata": {},
     "output_type": "display_data"
    },
    {
     "data": {
      "text/plain": [
       "{'Bought_Price': 0,\n",
       " 'Current_Price': 43.6,\n",
       " 'Bought_Quantity': 0,\n",
       " 'Sold_Price': 43.0,\n",
       " 'Sold_Quantity': 0,\n",
       " 'Investment': 0,\n",
       " 'Current_Valuation': 0.0,\n",
       " 'Status': 0,\n",
       " 'Short_Gains': -0.0}"
      ]
     },
     "metadata": {},
     "output_type": "display_data"
    },
    {
     "data": {
      "text/plain": [
       "3902910.400000001"
      ]
     },
     "metadata": {},
     "output_type": "display_data"
    },
    {
     "data": {
      "text/plain": [
       "3863739.7500000033"
      ]
     },
     "metadata": {},
     "output_type": "display_data"
    },
    {
     "name": "stdout",
     "output_type": "stream",
     "text": [
      "\n"
     ]
    },
    {
     "data": {
      "text/plain": [
       "'KAJARIACER'"
      ]
     },
     "metadata": {},
     "output_type": "display_data"
    },
    {
     "data": {
      "text/plain": [
       "{'Bought_Price': 0,\n",
       " 'Current_Price': 494.25,\n",
       " 'Bought_Quantity': 0,\n",
       " 'Sold_Price': 496.0,\n",
       " 'Sold_Quantity': 0,\n",
       " 'Investment': 0,\n",
       " 'Current_Valuation': 0.0,\n",
       " 'Status': 0,\n",
       " 'Short_Gains': 0.0}"
      ]
     },
     "metadata": {},
     "output_type": "display_data"
    },
    {
     "data": {
      "text/plain": [
       "3902910.400000001"
      ]
     },
     "metadata": {},
     "output_type": "display_data"
    },
    {
     "data": {
      "text/plain": [
       "3863739.7500000033"
      ]
     },
     "metadata": {},
     "output_type": "display_data"
    },
    {
     "name": "stdout",
     "output_type": "stream",
     "text": [
      "\n"
     ]
    },
    {
     "data": {
      "text/plain": [
       "'KRBL'"
      ]
     },
     "metadata": {},
     "output_type": "display_data"
    },
    {
     "data": {
      "text/plain": [
       "{'Bought_Price': 0,\n",
       " 'Current_Price': 280.25,\n",
       " 'Bought_Quantity': 0,\n",
       " 'Sold_Price': 282.0,\n",
       " 'Sold_Quantity': 0,\n",
       " 'Investment': 0,\n",
       " 'Current_Valuation': 0,\n",
       " 'Status': 0,\n",
       " 'Short_Gains': 0.0}"
      ]
     },
     "metadata": {},
     "output_type": "display_data"
    },
    {
     "data": {
      "text/plain": [
       "3880914.400000001"
      ]
     },
     "metadata": {},
     "output_type": "display_data"
    },
    {
     "data": {
      "text/plain": [
       "3843541.650000003"
      ]
     },
     "metadata": {},
     "output_type": "display_data"
    },
    {
     "name": "stdout",
     "output_type": "stream",
     "text": [
      "\n"
     ]
    },
    {
     "data": {
      "text/plain": [
       "'KNRCON'"
      ]
     },
     "metadata": {},
     "output_type": "display_data"
    },
    {
     "data": {
      "text/plain": [
       "{'Bought_Price': 0,\n",
       " 'Current_Price': 210.0,\n",
       " 'Bought_Quantity': 0,\n",
       " 'Sold_Price': 213.15,\n",
       " 'Sold_Quantity': 0,\n",
       " 'Investment': 0,\n",
       " 'Current_Valuation': 0.0,\n",
       " 'Status': 0,\n",
       " 'Short_Gains': 0.0}"
      ]
     },
     "metadata": {},
     "output_type": "display_data"
    },
    {
     "data": {
      "text/plain": [
       "3880914.400000001"
      ]
     },
     "metadata": {},
     "output_type": "display_data"
    },
    {
     "data": {
      "text/plain": [
       "3843541.650000003"
      ]
     },
     "metadata": {},
     "output_type": "display_data"
    },
    {
     "name": "stdout",
     "output_type": "stream",
     "text": [
      "\n"
     ]
    },
    {
     "data": {
      "text/plain": [
       "'INFRATEL'"
      ]
     },
     "metadata": {},
     "output_type": "display_data"
    },
    {
     "data": {
      "text/plain": [
       "{'Bought_Price': 0,\n",
       " 'Current_Price': 262.25,\n",
       " 'Bought_Quantity': 0,\n",
       " 'Sold_Price': 259.95,\n",
       " 'Sold_Quantity': 0,\n",
       " 'Investment': 0,\n",
       " 'Current_Valuation': 0.0,\n",
       " 'Status': 0,\n",
       " 'Short_Gains': -0.0}"
      ]
     },
     "metadata": {},
     "output_type": "display_data"
    },
    {
     "data": {
      "text/plain": [
       "3880914.400000001"
      ]
     },
     "metadata": {},
     "output_type": "display_data"
    },
    {
     "data": {
      "text/plain": [
       "3843541.650000003"
      ]
     },
     "metadata": {},
     "output_type": "display_data"
    },
    {
     "name": "stdout",
     "output_type": "stream",
     "text": [
      "\n"
     ]
    },
    {
     "data": {
      "text/plain": [
       "'JAMNAAUTO'"
      ]
     },
     "metadata": {},
     "output_type": "display_data"
    },
    {
     "data": {
      "text/plain": [
       "{'Bought_Price': 0,\n",
       " 'Current_Price': 65.2,\n",
       " 'Bought_Quantity': 0,\n",
       " 'Sold_Price': 65.05,\n",
       " 'Sold_Quantity': 0,\n",
       " 'Investment': 0,\n",
       " 'Current_Valuation': 0.0,\n",
       " 'Status': 0,\n",
       " 'Short_Gains': -0.0}"
      ]
     },
     "metadata": {},
     "output_type": "display_data"
    },
    {
     "data": {
      "text/plain": [
       "3880914.400000001"
      ]
     },
     "metadata": {},
     "output_type": "display_data"
    },
    {
     "data": {
      "text/plain": [
       "3843541.650000003"
      ]
     },
     "metadata": {},
     "output_type": "display_data"
    },
    {
     "name": "stdout",
     "output_type": "stream",
     "text": [
      "\n"
     ]
    },
    {
     "data": {
      "text/plain": [
       "'JAICORPLTD'"
      ]
     },
     "metadata": {},
     "output_type": "display_data"
    },
    {
     "data": {
      "text/plain": [
       "{'Bought_Price': 0,\n",
       " 'Current_Price': 117.1,\n",
       " 'Bought_Quantity': 0,\n",
       " 'Sold_Price': 111.0,\n",
       " 'Sold_Quantity': 0,\n",
       " 'Investment': 0,\n",
       " 'Current_Valuation': 0.0,\n",
       " 'Status': 0,\n",
       " 'Short_Gains': -0.0}"
      ]
     },
     "metadata": {},
     "output_type": "display_data"
    },
    {
     "data": {
      "text/plain": [
       "3880914.400000001"
      ]
     },
     "metadata": {},
     "output_type": "display_data"
    },
    {
     "data": {
      "text/plain": [
       "3843541.650000003"
      ]
     },
     "metadata": {},
     "output_type": "display_data"
    },
    {
     "name": "stdout",
     "output_type": "stream",
     "text": [
      "\n"
     ]
    },
    {
     "data": {
      "text/plain": [
       "'JKPAPER'"
      ]
     },
     "metadata": {},
     "output_type": "display_data"
    },
    {
     "data": {
      "text/plain": [
       "{'Bought_Price': 0,\n",
       " 'Current_Price': 155.6,\n",
       " 'Bought_Quantity': 0,\n",
       " 'Sold_Price': 153.35,\n",
       " 'Sold_Quantity': 0,\n",
       " 'Investment': 0,\n",
       " 'Current_Valuation': 0.0,\n",
       " 'Status': 0,\n",
       " 'Short_Gains': -0.0}"
      ]
     },
     "metadata": {},
     "output_type": "display_data"
    },
    {
     "data": {
      "text/plain": [
       "3880914.400000001"
      ]
     },
     "metadata": {},
     "output_type": "display_data"
    },
    {
     "data": {
      "text/plain": [
       "3843541.650000003"
      ]
     },
     "metadata": {},
     "output_type": "display_data"
    },
    {
     "name": "stdout",
     "output_type": "stream",
     "text": [
      "\n"
     ]
    },
    {
     "data": {
      "text/plain": [
       "'JKCEMENT'"
      ]
     },
     "metadata": {},
     "output_type": "display_data"
    },
    {
     "data": {
      "text/plain": [
       "{'Bought_Price': 0,\n",
       " 'Current_Price': 719.25,\n",
       " 'Bought_Quantity': 0,\n",
       " 'Sold_Price': 713.65,\n",
       " 'Sold_Quantity': 0,\n",
       " 'Investment': 0,\n",
       " 'Current_Valuation': 0,\n",
       " 'Status': 0,\n",
       " 'Short_Gains': -0.0}"
      ]
     },
     "metadata": {},
     "output_type": "display_data"
    },
    {
     "data": {
      "text/plain": [
       "3870923.3000000007"
      ]
     },
     "metadata": {},
     "output_type": "display_data"
    },
    {
     "data": {
      "text/plain": [
       "3822119.550000003"
      ]
     },
     "metadata": {},
     "output_type": "display_data"
    },
    {
     "name": "stdout",
     "output_type": "stream",
     "text": [
      "\n"
     ]
    },
    {
     "data": {
      "text/plain": [
       "'INDUSINDBK'"
      ]
     },
     "metadata": {},
     "output_type": "display_data"
    },
    {
     "data": {
      "text/plain": [
       "{'Bought_Price': 0,\n",
       " 'Current_Price': 1595.6,\n",
       " 'Bought_Quantity': 0,\n",
       " 'Sold_Price': 1600.0,\n",
       " 'Sold_Quantity': 0,\n",
       " 'Investment': 0,\n",
       " 'Current_Valuation': 0.0,\n",
       " 'Status': 0,\n",
       " 'Short_Gains': 0.0}"
      ]
     },
     "metadata": {},
     "output_type": "display_data"
    },
    {
     "data": {
      "text/plain": [
       "3870923.3000000007"
      ]
     },
     "metadata": {},
     "output_type": "display_data"
    },
    {
     "data": {
      "text/plain": [
       "3822119.550000003"
      ]
     },
     "metadata": {},
     "output_type": "display_data"
    },
    {
     "name": "stdout",
     "output_type": "stream",
     "text": [
      "\n"
     ]
    },
    {
     "data": {
      "text/plain": [
       "'INDIANB'"
      ]
     },
     "metadata": {},
     "output_type": "display_data"
    },
    {
     "data": {
      "text/plain": [
       "{'Bought_Price': 0,\n",
       " 'Current_Price': 251.35,\n",
       " 'Bought_Quantity': 0,\n",
       " 'Sold_Price': 243.85,\n",
       " 'Sold_Quantity': 0,\n",
       " 'Investment': 0,\n",
       " 'Current_Valuation': 0.0,\n",
       " 'Status': 0,\n",
       " 'Short_Gains': -0.0}"
      ]
     },
     "metadata": {},
     "output_type": "display_data"
    },
    {
     "data": {
      "text/plain": [
       "3870923.3000000007"
      ]
     },
     "metadata": {},
     "output_type": "display_data"
    },
    {
     "data": {
      "text/plain": [
       "3822119.550000003"
      ]
     },
     "metadata": {},
     "output_type": "display_data"
    },
    {
     "name": "stdout",
     "output_type": "stream",
     "text": [
      "\n"
     ]
    },
    {
     "data": {
      "text/plain": [
       "'IBVENTURES'"
      ]
     },
     "metadata": {},
     "output_type": "display_data"
    },
    {
     "data": {
      "text/plain": [
       "{'Bought_Price': 0,\n",
       " 'Current_Price': 394.25,\n",
       " 'Bought_Quantity': 0,\n",
       " 'Sold_Price': 390.0,\n",
       " 'Sold_Quantity': 0,\n",
       " 'Investment': 0,\n",
       " 'Current_Valuation': 0.0,\n",
       " 'Status': 0,\n",
       " 'Short_Gains': -0.0}"
      ]
     },
     "metadata": {},
     "output_type": "display_data"
    },
    {
     "data": {
      "text/plain": [
       "3870923.3000000007"
      ]
     },
     "metadata": {},
     "output_type": "display_data"
    },
    {
     "data": {
      "text/plain": [
       "3822119.550000003"
      ]
     },
     "metadata": {},
     "output_type": "display_data"
    },
    {
     "name": "stdout",
     "output_type": "stream",
     "text": [
      "\n"
     ]
    },
    {
     "data": {
      "text/plain": [
       "'IBULHSGFIN'"
      ]
     },
     "metadata": {},
     "output_type": "display_data"
    },
    {
     "data": {
      "text/plain": [
       "{'Bought_Price': 0,\n",
       " 'Current_Price': 844.75,\n",
       " 'Bought_Quantity': 0,\n",
       " 'Sold_Price': 852.6,\n",
       " 'Sold_Quantity': 0,\n",
       " 'Investment': 0,\n",
       " 'Current_Valuation': 0.0,\n",
       " 'Status': 0,\n",
       " 'Short_Gains': 0.0}"
      ]
     },
     "metadata": {},
     "output_type": "display_data"
    },
    {
     "data": {
      "text/plain": [
       "3870923.3000000007"
      ]
     },
     "metadata": {},
     "output_type": "display_data"
    },
    {
     "data": {
      "text/plain": [
       "3822119.550000003"
      ]
     },
     "metadata": {},
     "output_type": "display_data"
    },
    {
     "name": "stdout",
     "output_type": "stream",
     "text": [
      "\n"
     ]
    },
    {
     "data": {
      "text/plain": [
       "'INDIACEM'"
      ]
     },
     "metadata": {},
     "output_type": "display_data"
    },
    {
     "data": {
      "text/plain": [
       "{'Bought_Price': 0,\n",
       " 'Current_Price': 96.0,\n",
       " 'Bought_Quantity': 0,\n",
       " 'Sold_Price': 96.5,\n",
       " 'Sold_Quantity': 0,\n",
       " 'Investment': 0,\n",
       " 'Current_Valuation': 0.0,\n",
       " 'Status': 0,\n",
       " 'Short_Gains': 0.0}"
      ]
     },
     "metadata": {},
     "output_type": "display_data"
    },
    {
     "data": {
      "text/plain": [
       "3870923.3000000007"
      ]
     },
     "metadata": {},
     "output_type": "display_data"
    },
    {
     "data": {
      "text/plain": [
       "3822119.550000003"
      ]
     },
     "metadata": {},
     "output_type": "display_data"
    },
    {
     "name": "stdout",
     "output_type": "stream",
     "text": [
      "\n"
     ]
    },
    {
     "data": {
      "text/plain": [
       "'BRIGADE'"
      ]
     },
     "metadata": {},
     "output_type": "display_data"
    },
    {
     "data": {
      "text/plain": [
       "{'Bought_Price': 0,\n",
       " 'Current_Price': 221.0,\n",
       " 'Bought_Quantity': 0,\n",
       " 'Sold_Price': 219.8,\n",
       " 'Sold_Quantity': 0,\n",
       " 'Investment': 0,\n",
       " 'Current_Valuation': 0.0,\n",
       " 'Status': 0,\n",
       " 'Short_Gains': -0.0}"
      ]
     },
     "metadata": {},
     "output_type": "display_data"
    },
    {
     "data": {
      "text/plain": [
       "3870923.3000000007"
      ]
     },
     "metadata": {},
     "output_type": "display_data"
    },
    {
     "data": {
      "text/plain": [
       "3822119.550000003"
      ]
     },
     "metadata": {},
     "output_type": "display_data"
    },
    {
     "name": "stdout",
     "output_type": "stream",
     "text": [
      "\n"
     ]
    },
    {
     "data": {
      "text/plain": [
       "'HATSUN'"
      ]
     },
     "metadata": {},
     "output_type": "display_data"
    },
    {
     "data": {
      "text/plain": [
       "{'Bought_Price': 0,\n",
       " 'Current_Price': 620.0,\n",
       " 'Bought_Quantity': 0,\n",
       " 'Sold_Price': 622.95,\n",
       " 'Sold_Quantity': 0,\n",
       " 'Investment': 0,\n",
       " 'Current_Valuation': 0.0,\n",
       " 'Status': 0,\n",
       " 'Short_Gains': 0.0}"
      ]
     },
     "metadata": {},
     "output_type": "display_data"
    },
    {
     "data": {
      "text/plain": [
       "3870923.3000000007"
      ]
     },
     "metadata": {},
     "output_type": "display_data"
    },
    {
     "data": {
      "text/plain": [
       "3822119.550000003"
      ]
     },
     "metadata": {},
     "output_type": "display_data"
    },
    {
     "name": "stdout",
     "output_type": "stream",
     "text": [
      "\n"
     ]
    },
    {
     "data": {
      "text/plain": [
       "'LICHSGFIN'"
      ]
     },
     "metadata": {},
     "output_type": "display_data"
    },
    {
     "data": {
      "text/plain": [
       "{'Bought_Price': 0,\n",
       " 'Current_Price': 486.55,\n",
       " 'Bought_Quantity': 0,\n",
       " 'Sold_Price': 486.05,\n",
       " 'Sold_Quantity': 0,\n",
       " 'Investment': 0,\n",
       " 'Current_Valuation': 0.0,\n",
       " 'Status': 0,\n",
       " 'Short_Gains': -0.0}"
      ]
     },
     "metadata": {},
     "output_type": "display_data"
    },
    {
     "data": {
      "text/plain": [
       "3870923.3000000007"
      ]
     },
     "metadata": {},
     "output_type": "display_data"
    },
    {
     "data": {
      "text/plain": [
       "3822119.550000003"
      ]
     },
     "metadata": {},
     "output_type": "display_data"
    },
    {
     "name": "stdout",
     "output_type": "stream",
     "text": [
      "\n"
     ]
    },
    {
     "data": {
      "text/plain": [
       "'GSPL'"
      ]
     },
     "metadata": {},
     "output_type": "display_data"
    },
    {
     "data": {
      "text/plain": [
       "{'Bought_Price': 0,\n",
       " 'Current_Price': 175.4,\n",
       " 'Bought_Quantity': 0,\n",
       " 'Sold_Price': 176.0,\n",
       " 'Sold_Quantity': 0,\n",
       " 'Investment': 0,\n",
       " 'Current_Valuation': 0.0,\n",
       " 'Status': 0,\n",
       " 'Short_Gains': 0.0}"
      ]
     },
     "metadata": {},
     "output_type": "display_data"
    },
    {
     "data": {
      "text/plain": [
       "3870923.3000000007"
      ]
     },
     "metadata": {},
     "output_type": "display_data"
    },
    {
     "data": {
      "text/plain": [
       "3822119.550000003"
      ]
     },
     "metadata": {},
     "output_type": "display_data"
    },
    {
     "name": "stdout",
     "output_type": "stream",
     "text": [
      "\n"
     ]
    },
    {
     "data": {
      "text/plain": [
       "'GESHIP'"
      ]
     },
     "metadata": {},
     "output_type": "display_data"
    },
    {
     "data": {
      "text/plain": [
       "{'Bought_Price': 0,\n",
       " 'Current_Price': 314.35,\n",
       " 'Bought_Quantity': 0,\n",
       " 'Sold_Price': 315.8,\n",
       " 'Sold_Quantity': 0,\n",
       " 'Investment': 0,\n",
       " 'Current_Valuation': 0,\n",
       " 'Status': 0,\n",
       " 'Short_Gains': 0.0}"
      ]
     },
     "metadata": {},
     "output_type": "display_data"
    },
    {
     "data": {
      "text/plain": [
       "3841238.1000000006"
      ]
     },
     "metadata": {},
     "output_type": "display_data"
    },
    {
     "data": {
      "text/plain": [
       "3802012.950000003"
      ]
     },
     "metadata": {},
     "output_type": "display_data"
    },
    {
     "name": "stdout",
     "output_type": "stream",
     "text": [
      "\n"
     ]
    },
    {
     "data": {
      "text/plain": [
       "'CANBK'"
      ]
     },
     "metadata": {},
     "output_type": "display_data"
    },
    {
     "data": {
      "text/plain": [
       "{'Bought_Price': 0,\n",
       " 'Current_Price': 281.5,\n",
       " 'Bought_Quantity': 0,\n",
       " 'Sold_Price': 276.5,\n",
       " 'Sold_Quantity': 0,\n",
       " 'Investment': 0,\n",
       " 'Current_Valuation': 0.0,\n",
       " 'Status': 0,\n",
       " 'Short_Gains': -0.0}"
      ]
     },
     "metadata": {},
     "output_type": "display_data"
    },
    {
     "data": {
      "text/plain": [
       "3841238.1000000006"
      ]
     },
     "metadata": {},
     "output_type": "display_data"
    },
    {
     "data": {
      "text/plain": [
       "3802012.950000003"
      ]
     },
     "metadata": {},
     "output_type": "display_data"
    },
    {
     "name": "stdout",
     "output_type": "stream",
     "text": [
      "\n"
     ]
    },
    {
     "data": {
      "text/plain": [
       "'CARBORUNIV'"
      ]
     },
     "metadata": {},
     "output_type": "display_data"
    },
    {
     "data": {
      "text/plain": [
       "{'Bought_Price': 0,\n",
       " 'Current_Price': 360.6,\n",
       " 'Bought_Quantity': 0,\n",
       " 'Sold_Price': 355.45,\n",
       " 'Sold_Quantity': 0,\n",
       " 'Investment': 0,\n",
       " 'Current_Valuation': 0.0,\n",
       " 'Status': 0,\n",
       " 'Short_Gains': -0.0}"
      ]
     },
     "metadata": {},
     "output_type": "display_data"
    },
    {
     "data": {
      "text/plain": [
       "3841238.1000000006"
      ]
     },
     "metadata": {},
     "output_type": "display_data"
    },
    {
     "data": {
      "text/plain": [
       "3802012.950000003"
      ]
     },
     "metadata": {},
     "output_type": "display_data"
    },
    {
     "name": "stdout",
     "output_type": "stream",
     "text": [
      "\n"
     ]
    },
    {
     "data": {
      "text/plain": [
       "'GICRE'"
      ]
     },
     "metadata": {},
     "output_type": "display_data"
    },
    {
     "data": {
      "text/plain": [
       "{'Bought_Price': 0,\n",
       " 'Current_Price': 259.4,\n",
       " 'Bought_Quantity': 0,\n",
       " 'Sold_Price': 260.0,\n",
       " 'Sold_Quantity': 0,\n",
       " 'Investment': 0,\n",
       " 'Current_Valuation': 0.0,\n",
       " 'Status': 0,\n",
       " 'Short_Gains': 0.0}"
      ]
     },
     "metadata": {},
     "output_type": "display_data"
    },
    {
     "data": {
      "text/plain": [
       "3841238.1000000006"
      ]
     },
     "metadata": {},
     "output_type": "display_data"
    },
    {
     "data": {
      "text/plain": [
       "3802012.950000003"
      ]
     },
     "metadata": {},
     "output_type": "display_data"
    },
    {
     "name": "stdout",
     "output_type": "stream",
     "text": [
      "\n"
     ]
    },
    {
     "data": {
      "text/plain": [
       "'GARFIBRES'"
      ]
     },
     "metadata": {},
     "output_type": "display_data"
    },
    {
     "data": {
      "text/plain": [
       "{'Bought_Price': 0,\n",
       " 'Current_Price': 1190.25,\n",
       " 'Bought_Quantity': 0,\n",
       " 'Sold_Price': 1190.05,\n",
       " 'Sold_Quantity': 0,\n",
       " 'Investment': 0,\n",
       " 'Current_Valuation': 0,\n",
       " 'Status': 0,\n",
       " 'Short_Gains': -0.0}"
      ]
     },
     "metadata": {},
     "output_type": "display_data"
    },
    {
     "data": {
      "text/plain": [
       "3826957.5000000005"
      ]
     },
     "metadata": {},
     "output_type": "display_data"
    },
    {
     "data": {
      "text/plain": [
       "3781885.950000003"
      ]
     },
     "metadata": {},
     "output_type": "display_data"
    },
    {
     "name": "stdout",
     "output_type": "stream",
     "text": [
      "\n"
     ]
    },
    {
     "data": {
      "text/plain": [
       "'GAIL'"
      ]
     },
     "metadata": {},
     "output_type": "display_data"
    },
    {
     "data": {
      "text/plain": [
       "{'Bought_Price': 0,\n",
       " 'Current_Price': 362.15,\n",
       " 'Bought_Quantity': 0,\n",
       " 'Sold_Price': 359.0,\n",
       " 'Sold_Quantity': 0,\n",
       " 'Investment': 0,\n",
       " 'Current_Valuation': 0.0,\n",
       " 'Status': 0,\n",
       " 'Short_Gains': -0.0}"
      ]
     },
     "metadata": {},
     "output_type": "display_data"
    },
    {
     "data": {
      "text/plain": [
       "3826957.5000000005"
      ]
     },
     "metadata": {},
     "output_type": "display_data"
    },
    {
     "data": {
      "text/plain": [
       "3781885.950000003"
      ]
     },
     "metadata": {},
     "output_type": "display_data"
    },
    {
     "name": "stdout",
     "output_type": "stream",
     "text": [
      "\n"
     ]
    },
    {
     "data": {
      "text/plain": [
       "'ESSELPACK'"
      ]
     },
     "metadata": {},
     "output_type": "display_data"
    },
    {
     "data": {
      "text/plain": [
       "{'Bought_Price': 0,\n",
       " 'Current_Price': 109.4,\n",
       " 'Bought_Quantity': 0,\n",
       " 'Sold_Price': 110.8,\n",
       " 'Sold_Quantity': 0,\n",
       " 'Investment': 0,\n",
       " 'Current_Valuation': 0,\n",
       " 'Status': 0,\n",
       " 'Short_Gains': 0.0}"
      ]
     },
     "metadata": {},
     "output_type": "display_data"
    },
    {
     "data": {
      "text/plain": [
       "3815655.9000000004"
      ]
     },
     "metadata": {},
     "output_type": "display_data"
    },
    {
     "data": {
      "text/plain": [
       "3761154.4500000025"
      ]
     },
     "metadata": {},
     "output_type": "display_data"
    },
    {
     "name": "stdout",
     "output_type": "stream",
     "text": [
      "\n"
     ]
    },
    {
     "data": {
      "text/plain": [
       "'COALINDIA'"
      ]
     },
     "metadata": {},
     "output_type": "display_data"
    },
    {
     "data": {
      "text/plain": [
       "{'Bought_Price': 0,\n",
       " 'Current_Price': 241.5,\n",
       " 'Bought_Quantity': 0,\n",
       " 'Sold_Price': 241.0,\n",
       " 'Sold_Quantity': 0,\n",
       " 'Investment': 0,\n",
       " 'Current_Valuation': 0.0,\n",
       " 'Status': 0,\n",
       " 'Short_Gains': -0.0}"
      ]
     },
     "metadata": {},
     "output_type": "display_data"
    },
    {
     "data": {
      "text/plain": [
       "3815655.9000000004"
      ]
     },
     "metadata": {},
     "output_type": "display_data"
    },
    {
     "data": {
      "text/plain": [
       "3761154.4500000025"
      ]
     },
     "metadata": {},
     "output_type": "display_data"
    },
    {
     "name": "stdout",
     "output_type": "stream",
     "text": [
      "\n"
     ]
    },
    {
     "data": {
      "text/plain": [
       "'LALPATHLAB'"
      ]
     },
     "metadata": {},
     "output_type": "display_data"
    },
    {
     "data": {
      "text/plain": [
       "{'Bought_Price': 0,\n",
       " 'Current_Price': 924.8,\n",
       " 'Bought_Quantity': 0,\n",
       " 'Sold_Price': 909.95,\n",
       " 'Sold_Quantity': 0,\n",
       " 'Investment': 0,\n",
       " 'Current_Valuation': 0.0,\n",
       " 'Status': 0,\n",
       " 'Short_Gains': -0.0}"
      ]
     },
     "metadata": {},
     "output_type": "display_data"
    },
    {
     "data": {
      "text/plain": [
       "3815655.9000000004"
      ]
     },
     "metadata": {},
     "output_type": "display_data"
    },
    {
     "data": {
      "text/plain": [
       "3761154.4500000025"
      ]
     },
     "metadata": {},
     "output_type": "display_data"
    },
    {
     "name": "stdout",
     "output_type": "stream",
     "text": [
      "\n"
     ]
    },
    {
     "data": {
      "text/plain": [
       "'DCAL'"
      ]
     },
     "metadata": {},
     "output_type": "display_data"
    },
    {
     "data": {
      "text/plain": [
       "{'Bought_Price': 0,\n",
       " 'Current_Price': 233.15,\n",
       " 'Bought_Quantity': 0,\n",
       " 'Sold_Price': 231.25,\n",
       " 'Sold_Quantity': 0,\n",
       " 'Investment': 0,\n",
       " 'Current_Valuation': 0,\n",
       " 'Status': 0,\n",
       " 'Short_Gains': -0.0}"
      ]
     },
     "metadata": {},
     "output_type": "display_data"
    },
    {
     "data": {
      "text/plain": [
       "3789755.9000000004"
      ]
     },
     "metadata": {},
     "output_type": "display_data"
    },
    {
     "data": {
      "text/plain": [
       "3741302.4500000025"
      ]
     },
     "metadata": {},
     "output_type": "display_data"
    },
    {
     "name": "stdout",
     "output_type": "stream",
     "text": [
      "\n"
     ]
    },
    {
     "data": {
      "text/plain": [
       "'DALBHARAT'"
      ]
     },
     "metadata": {},
     "output_type": "display_data"
    },
    {
     "data": {
      "text/plain": [
       "{'Bought_Price': 0,\n",
       " 'Current_Price': 1047.2,\n",
       " 'Bought_Quantity': 0,\n",
       " 'Sold_Price': 1030.0,\n",
       " 'Sold_Quantity': 0,\n",
       " 'Investment': 0,\n",
       " 'Current_Valuation': 0,\n",
       " 'Status': 0,\n",
       " 'Short_Gains': -0.0}"
      ]
     },
     "metadata": {},
     "output_type": "display_data"
    },
    {
     "data": {
      "text/plain": [
       "3732075.9000000004"
      ]
     },
     "metadata": {},
     "output_type": "display_data"
    },
    {
     "data": {
      "text/plain": [
       "3702564.4500000025"
      ]
     },
     "metadata": {},
     "output_type": "display_data"
    },
    {
     "name": "stdout",
     "output_type": "stream",
     "text": [
      "\n"
     ]
    },
    {
     "data": {
      "text/plain": [
       "'DABUR'"
      ]
     },
     "metadata": {},
     "output_type": "display_data"
    },
    {
     "data": {
      "text/plain": [
       "{'Bought_Price': 0,\n",
       " 'Current_Price': 421.85,\n",
       " 'Bought_Quantity': 0,\n",
       " 'Sold_Price': 431.75,\n",
       " 'Sold_Quantity': 0,\n",
       " 'Investment': 0,\n",
       " 'Current_Valuation': 0.0,\n",
       " 'Status': 0,\n",
       " 'Short_Gains': 0.0}"
      ]
     },
     "metadata": {},
     "output_type": "display_data"
    },
    {
     "data": {
      "text/plain": [
       "3732075.9000000004"
      ]
     },
     "metadata": {},
     "output_type": "display_data"
    },
    {
     "data": {
      "text/plain": [
       "3702564.4500000025"
      ]
     },
     "metadata": {},
     "output_type": "display_data"
    },
    {
     "name": "stdout",
     "output_type": "stream",
     "text": [
      "\n"
     ]
    },
    {
     "data": {
      "text/plain": [
       "'DLF'"
      ]
     },
     "metadata": {},
     "output_type": "display_data"
    },
    {
     "data": {
      "text/plain": [
       "{'Bought_Price': 0,\n",
       " 'Current_Price': 180.3,\n",
       " 'Bought_Quantity': 0,\n",
       " 'Sold_Price': 177.1,\n",
       " 'Sold_Quantity': 0,\n",
       " 'Investment': 0,\n",
       " 'Current_Valuation': 0.0,\n",
       " 'Status': 0,\n",
       " 'Short_Gains': -0.0}"
      ]
     },
     "metadata": {},
     "output_type": "display_data"
    },
    {
     "data": {
      "text/plain": [
       "3732075.9000000004"
      ]
     },
     "metadata": {},
     "output_type": "display_data"
    },
    {
     "data": {
      "text/plain": [
       "3702564.4500000025"
      ]
     },
     "metadata": {},
     "output_type": "display_data"
    },
    {
     "name": "stdout",
     "output_type": "stream",
     "text": [
      "\n"
     ]
    },
    {
     "data": {
      "text/plain": [
       "'KANSAINER'"
      ]
     },
     "metadata": {},
     "output_type": "display_data"
    },
    {
     "data": {
      "text/plain": [
       "{'Bought_Price': 0,\n",
       " 'Current_Price': 493.45,\n",
       " 'Bought_Quantity': 0,\n",
       " 'Sold_Price': 490.75,\n",
       " 'Sold_Quantity': 0,\n",
       " 'Investment': 0,\n",
       " 'Current_Valuation': 0.0,\n",
       " 'Status': 0,\n",
       " 'Short_Gains': -0.0}"
      ]
     },
     "metadata": {},
     "output_type": "display_data"
    },
    {
     "data": {
      "text/plain": [
       "3732075.9000000004"
      ]
     },
     "metadata": {},
     "output_type": "display_data"
    },
    {
     "data": {
      "text/plain": [
       "3702564.4500000025"
      ]
     },
     "metadata": {},
     "output_type": "display_data"
    },
    {
     "name": "stdout",
     "output_type": "stream",
     "text": [
      "\n"
     ]
    },
    {
     "data": {
      "text/plain": [
       "'JAGRAN'"
      ]
     },
     "metadata": {},
     "output_type": "display_data"
    },
    {
     "data": {
      "text/plain": [
       "{'Bought_Price': 0,\n",
       " 'Current_Price': 115.05,\n",
       " 'Bought_Quantity': 0,\n",
       " 'Sold_Price': 116.75,\n",
       " 'Sold_Quantity': 0,\n",
       " 'Investment': 0,\n",
       " 'Current_Valuation': 0,\n",
       " 'Status': 0,\n",
       " 'Short_Gains': 0.0}"
      ]
     },
     "metadata": {},
     "output_type": "display_data"
    },
    {
     "data": {
      "text/plain": [
       "3673233.9000000004"
      ]
     },
     "metadata": {},
     "output_type": "display_data"
    },
    {
     "data": {
      "text/plain": [
       "3681648.4500000025"
      ]
     },
     "metadata": {},
     "output_type": "display_data"
    },
    {
     "name": "stdout",
     "output_type": "stream",
     "text": [
      "\n"
     ]
    },
    {
     "data": {
      "text/plain": [
       "'BDL'"
      ]
     },
     "metadata": {},
     "output_type": "display_data"
    },
    {
     "data": {
      "text/plain": [
       "{'Bought_Price': 0,\n",
       " 'Current_Price': 276.3,\n",
       " 'Bought_Quantity': 0,\n",
       " 'Sold_Price': 279.3,\n",
       " 'Sold_Quantity': 0,\n",
       " 'Investment': 0,\n",
       " 'Current_Valuation': 0.0,\n",
       " 'Status': 0,\n",
       " 'Short_Gains': 0.0}"
      ]
     },
     "metadata": {},
     "output_type": "display_data"
    },
    {
     "data": {
      "text/plain": [
       "3673233.9000000004"
      ]
     },
     "metadata": {},
     "output_type": "display_data"
    },
    {
     "data": {
      "text/plain": [
       "3681648.4500000025"
      ]
     },
     "metadata": {},
     "output_type": "display_data"
    },
    {
     "name": "stdout",
     "output_type": "stream",
     "text": [
      "\n"
     ]
    },
    {
     "data": {
      "text/plain": [
       "'MAHLOG'"
      ]
     },
     "metadata": {},
     "output_type": "display_data"
    },
    {
     "data": {
      "text/plain": [
       "{'Bought_Price': 0,\n",
       " 'Current_Price': 516.75,\n",
       " 'Bought_Quantity': 0,\n",
       " 'Sold_Price': 517.9,\n",
       " 'Sold_Quantity': 0,\n",
       " 'Investment': 0,\n",
       " 'Current_Valuation': 0.0,\n",
       " 'Status': 0,\n",
       " 'Short_Gains': 0.0}"
      ]
     },
     "metadata": {},
     "output_type": "display_data"
    },
    {
     "data": {
      "text/plain": [
       "3673233.9000000004"
      ]
     },
     "metadata": {},
     "output_type": "display_data"
    },
    {
     "data": {
      "text/plain": [
       "3681648.4500000025"
      ]
     },
     "metadata": {},
     "output_type": "display_data"
    },
    {
     "name": "stdout",
     "output_type": "stream",
     "text": [
      "\n"
     ]
    },
    {
     "data": {
      "text/plain": [
       "'SOLARINDS'"
      ]
     },
     "metadata": {},
     "output_type": "display_data"
    },
    {
     "data": {
      "text/plain": [
       "{'Bought_Price': 0,\n",
       " 'Current_Price': 1086.85,\n",
       " 'Bought_Quantity': 0,\n",
       " 'Sold_Price': 1088.55,\n",
       " 'Sold_Quantity': 0,\n",
       " 'Investment': 0,\n",
       " 'Current_Valuation': 0.0,\n",
       " 'Status': 0,\n",
       " 'Short_Gains': 0.0}"
      ]
     },
     "metadata": {},
     "output_type": "display_data"
    },
    {
     "data": {
      "text/plain": [
       "3673233.9000000004"
      ]
     },
     "metadata": {},
     "output_type": "display_data"
    },
    {
     "data": {
      "text/plain": [
       "3681648.4500000025"
      ]
     },
     "metadata": {},
     "output_type": "display_data"
    },
    {
     "name": "stdout",
     "output_type": "stream",
     "text": [
      "\n"
     ]
    },
    {
     "data": {
      "text/plain": [
       "'MHRIL'"
      ]
     },
     "metadata": {},
     "output_type": "display_data"
    },
    {
     "data": {
      "text/plain": [
       "{'Bought_Price': 0,\n",
       " 'Current_Price': 213.2,\n",
       " 'Bought_Quantity': 0,\n",
       " 'Sold_Price': 213.9,\n",
       " 'Sold_Quantity': 0,\n",
       " 'Investment': 0,\n",
       " 'Current_Valuation': 0.0,\n",
       " 'Status': 0,\n",
       " 'Short_Gains': 0.0}"
      ]
     },
     "metadata": {},
     "output_type": "display_data"
    },
    {
     "data": {
      "text/plain": [
       "3673233.9000000004"
      ]
     },
     "metadata": {},
     "output_type": "display_data"
    },
    {
     "data": {
      "text/plain": [
       "3681648.4500000025"
      ]
     },
     "metadata": {},
     "output_type": "display_data"
    },
    {
     "name": "stdout",
     "output_type": "stream",
     "text": [
      "\n"
     ]
    },
    {
     "data": {
      "text/plain": [
       "'SUNTV'"
      ]
     },
     "metadata": {},
     "output_type": "display_data"
    },
    {
     "data": {
      "text/plain": [
       "{'Bought_Price': 0,\n",
       " 'Current_Price': 607.85,\n",
       " 'Bought_Quantity': 0,\n",
       " 'Sold_Price': 610.8,\n",
       " 'Sold_Quantity': 0,\n",
       " 'Investment': 0,\n",
       " 'Current_Valuation': 0.0,\n",
       " 'Status': 0,\n",
       " 'Short_Gains': 0.0}"
      ]
     },
     "metadata": {},
     "output_type": "display_data"
    },
    {
     "data": {
      "text/plain": [
       "3673233.9000000004"
      ]
     },
     "metadata": {},
     "output_type": "display_data"
    },
    {
     "data": {
      "text/plain": [
       "3681648.4500000025"
      ]
     },
     "metadata": {},
     "output_type": "display_data"
    },
    {
     "name": "stdout",
     "output_type": "stream",
     "text": [
      "\n"
     ]
    },
    {
     "data": {
      "text/plain": [
       "'FINCABLES'"
      ]
     },
     "metadata": {},
     "output_type": "display_data"
    },
    {
     "data": {
      "text/plain": [
       "{'Bought_Price': 0,\n",
       " 'Current_Price': 454.6,\n",
       " 'Bought_Quantity': 0,\n",
       " 'Sold_Price': 452.9,\n",
       " 'Sold_Quantity': 0,\n",
       " 'Investment': 0,\n",
       " 'Current_Valuation': 0.0,\n",
       " 'Status': 0,\n",
       " 'Short_Gains': -0.0}"
      ]
     },
     "metadata": {},
     "output_type": "display_data"
    },
    {
     "data": {
      "text/plain": [
       "3673233.9000000004"
      ]
     },
     "metadata": {},
     "output_type": "display_data"
    },
    {
     "data": {
      "text/plain": [
       "3681648.4500000025"
      ]
     },
     "metadata": {},
     "output_type": "display_data"
    },
    {
     "name": "stdout",
     "output_type": "stream",
     "text": [
      "\n"
     ]
    },
    {
     "data": {
      "text/plain": [
       "'FEDERALBNK'"
      ]
     },
     "metadata": {},
     "output_type": "display_data"
    },
    {
     "data": {
      "text/plain": [
       "{'Bought_Price': 0,\n",
       " 'Current_Price': 93.0,\n",
       " 'Bought_Quantity': 0,\n",
       " 'Sold_Price': 93.75,\n",
       " 'Sold_Quantity': 0,\n",
       " 'Investment': 0,\n",
       " 'Current_Valuation': 0.0,\n",
       " 'Status': 0,\n",
       " 'Short_Gains': 0.0}"
      ]
     },
     "metadata": {},
     "output_type": "display_data"
    },
    {
     "data": {
      "text/plain": [
       "3673233.9000000004"
      ]
     },
     "metadata": {},
     "output_type": "display_data"
    },
    {
     "data": {
      "text/plain": [
       "3681648.4500000025"
      ]
     },
     "metadata": {},
     "output_type": "display_data"
    },
    {
     "name": "stdout",
     "output_type": "stream",
     "text": [
      "\n"
     ]
    },
    {
     "data": {
      "text/plain": [
       "'BRITANNIA'"
      ]
     },
     "metadata": {},
     "output_type": "display_data"
    },
    {
     "data": {
      "text/plain": [
       "{'Bought_Price': 0,\n",
       " 'Current_Price': 3103.05,\n",
       " 'Bought_Quantity': 0,\n",
       " 'Sold_Price': 3120.0,\n",
       " 'Sold_Quantity': 0,\n",
       " 'Investment': 0,\n",
       " 'Current_Valuation': 0.0,\n",
       " 'Status': 0,\n",
       " 'Short_Gains': 0.0}"
      ]
     },
     "metadata": {},
     "output_type": "display_data"
    },
    {
     "data": {
      "text/plain": [
       "3673233.9000000004"
      ]
     },
     "metadata": {},
     "output_type": "display_data"
    },
    {
     "data": {
      "text/plain": [
       "3681648.4500000025"
      ]
     },
     "metadata": {},
     "output_type": "display_data"
    },
    {
     "name": "stdout",
     "output_type": "stream",
     "text": [
      "\n"
     ]
    },
    {
     "data": {
      "text/plain": [
       "'ENGINERSIN'"
      ]
     },
     "metadata": {},
     "output_type": "display_data"
    },
    {
     "data": {
      "text/plain": [
       "{'Bought_Price': 0,\n",
       " 'Current_Price': 126.65,\n",
       " 'Bought_Quantity': 0,\n",
       " 'Sold_Price': 125.0,\n",
       " 'Sold_Quantity': 0,\n",
       " 'Investment': 0,\n",
       " 'Current_Valuation': 0.0,\n",
       " 'Status': 0,\n",
       " 'Short_Gains': -0.0}"
      ]
     },
     "metadata": {},
     "output_type": "display_data"
    },
    {
     "data": {
      "text/plain": [
       "3673233.9000000004"
      ]
     },
     "metadata": {},
     "output_type": "display_data"
    },
    {
     "data": {
      "text/plain": [
       "3681648.4500000025"
      ]
     },
     "metadata": {},
     "output_type": "display_data"
    },
    {
     "name": "stdout",
     "output_type": "stream",
     "text": [
      "\n"
     ]
    },
    {
     "data": {
      "text/plain": [
       "'IDBI'"
      ]
     },
     "metadata": {},
     "output_type": "display_data"
    },
    {
     "data": {
      "text/plain": [
       "{'Bought_Price': 0,\n",
       " 'Current_Price': 61.45,\n",
       " 'Bought_Quantity': 0,\n",
       " 'Sold_Price': 61.45,\n",
       " 'Sold_Quantity': 0,\n",
       " 'Investment': 0,\n",
       " 'Current_Valuation': 0.0,\n",
       " 'Status': 0,\n",
       " 'Short_Gains': 0.0}"
      ]
     },
     "metadata": {},
     "output_type": "display_data"
    },
    {
     "data": {
      "text/plain": [
       "3673233.9000000004"
      ]
     },
     "metadata": {},
     "output_type": "display_data"
    },
    {
     "data": {
      "text/plain": [
       "3681648.4500000025"
      ]
     },
     "metadata": {},
     "output_type": "display_data"
    },
    {
     "name": "stdout",
     "output_type": "stream",
     "text": [
      "\n"
     ]
    },
    {
     "data": {
      "text/plain": [
       "'VAKRANGEE'"
      ]
     },
     "metadata": {},
     "output_type": "display_data"
    },
    {
     "data": {
      "text/plain": [
       "{'Bought_Price': 0,\n",
       " 'Current_Price': 34.95,\n",
       " 'Bought_Quantity': 0,\n",
       " 'Sold_Price': 33.4,\n",
       " 'Sold_Quantity': 0,\n",
       " 'Investment': 0,\n",
       " 'Current_Valuation': 0.0,\n",
       " 'Status': 0,\n",
       " 'Short_Gains': -0.0}"
      ]
     },
     "metadata": {},
     "output_type": "display_data"
    },
    {
     "data": {
      "text/plain": [
       "3673233.9000000004"
      ]
     },
     "metadata": {},
     "output_type": "display_data"
    },
    {
     "data": {
      "text/plain": [
       "3681648.4500000025"
      ]
     },
     "metadata": {},
     "output_type": "display_data"
    },
    {
     "name": "stdout",
     "output_type": "stream",
     "text": [
      "\n"
     ]
    },
    {
     "data": {
      "text/plain": [
       "'ADANIGAS'"
      ]
     },
     "metadata": {},
     "output_type": "display_data"
    },
    {
     "data": {
      "text/plain": [
       "{'Bought_Price': 0,\n",
       " 'Current_Price': 101.85,\n",
       " 'Bought_Quantity': 0,\n",
       " 'Sold_Price': 101.25,\n",
       " 'Sold_Quantity': 0,\n",
       " 'Investment': 0,\n",
       " 'Current_Valuation': 0.0,\n",
       " 'Status': 0,\n",
       " 'Short_Gains': -0.0}"
      ]
     },
     "metadata": {},
     "output_type": "display_data"
    },
    {
     "data": {
      "text/plain": [
       "3673233.9000000004"
      ]
     },
     "metadata": {},
     "output_type": "display_data"
    },
    {
     "data": {
      "text/plain": [
       "3681648.4500000025"
      ]
     },
     "metadata": {},
     "output_type": "display_data"
    },
    {
     "name": "stdout",
     "output_type": "stream",
     "text": [
      "\n"
     ]
    },
    {
     "data": {
      "text/plain": [
       "'SUPRAJIT'"
      ]
     },
     "metadata": {},
     "output_type": "display_data"
    },
    {
     "data": {
      "text/plain": [
       "{'Bought_Price': 0,\n",
       " 'Current_Price': 230.75,\n",
       " 'Bought_Quantity': 0,\n",
       " 'Sold_Price': 228.65,\n",
       " 'Sold_Quantity': 0,\n",
       " 'Investment': 0,\n",
       " 'Current_Valuation': 0.0,\n",
       " 'Status': 0,\n",
       " 'Short_Gains': -0.0}"
      ]
     },
     "metadata": {},
     "output_type": "display_data"
    },
    {
     "data": {
      "text/plain": [
       "3673233.9000000004"
      ]
     },
     "metadata": {},
     "output_type": "display_data"
    },
    {
     "data": {
      "text/plain": [
       "3681648.4500000025"
      ]
     },
     "metadata": {},
     "output_type": "display_data"
    },
    {
     "name": "stdout",
     "output_type": "stream",
     "text": [
      "\n"
     ]
    },
    {
     "data": {
      "text/plain": [
       "'RENUKA'"
      ]
     },
     "metadata": {},
     "output_type": "display_data"
    },
    {
     "data": {
      "text/plain": [
       "{'Bought_Price': 0,\n",
       " 'Current_Price': 11.05,\n",
       " 'Bought_Quantity': 0,\n",
       " 'Sold_Price': 10.8,\n",
       " 'Sold_Quantity': 0,\n",
       " 'Investment': 0,\n",
       " 'Current_Valuation': 0.0,\n",
       " 'Status': 0,\n",
       " 'Short_Gains': -0.0}"
      ]
     },
     "metadata": {},
     "output_type": "display_data"
    },
    {
     "data": {
      "text/plain": [
       "3673233.9000000004"
      ]
     },
     "metadata": {},
     "output_type": "display_data"
    },
    {
     "data": {
      "text/plain": [
       "3681648.4500000025"
      ]
     },
     "metadata": {},
     "output_type": "display_data"
    },
    {
     "name": "stdout",
     "output_type": "stream",
     "text": [
      "\n"
     ]
    },
    {
     "data": {
      "text/plain": [
       "'ITI'"
      ]
     },
     "metadata": {},
     "output_type": "display_data"
    },
    {
     "data": {
      "text/plain": [
       "{'Bought_Price': 0,\n",
       " 'Current_Price': 94.6,\n",
       " 'Bought_Quantity': 0,\n",
       " 'Sold_Price': 94.0,\n",
       " 'Sold_Quantity': 0,\n",
       " 'Investment': 0,\n",
       " 'Current_Valuation': 0.0,\n",
       " 'Status': 0,\n",
       " 'Short_Gains': -0.0}"
      ]
     },
     "metadata": {},
     "output_type": "display_data"
    },
    {
     "data": {
      "text/plain": [
       "3673233.9000000004"
      ]
     },
     "metadata": {},
     "output_type": "display_data"
    },
    {
     "data": {
      "text/plain": [
       "3681648.4500000025"
      ]
     },
     "metadata": {},
     "output_type": "display_data"
    },
    {
     "name": "stdout",
     "output_type": "stream",
     "text": [
      "\n"
     ]
    },
    {
     "data": {
      "text/plain": [
       "'MAGMA'"
      ]
     },
     "metadata": {},
     "output_type": "display_data"
    },
    {
     "data": {
      "text/plain": [
       "{'Bought_Price': 0,\n",
       " 'Current_Price': 110.5,\n",
       " 'Bought_Quantity': 0,\n",
       " 'Sold_Price': 110.0,\n",
       " 'Sold_Quantity': 0,\n",
       " 'Investment': 0,\n",
       " 'Current_Valuation': 0.0,\n",
       " 'Status': 0,\n",
       " 'Short_Gains': -0.0}"
      ]
     },
     "metadata": {},
     "output_type": "display_data"
    },
    {
     "data": {
      "text/plain": [
       "3673233.9000000004"
      ]
     },
     "metadata": {},
     "output_type": "display_data"
    },
    {
     "data": {
      "text/plain": [
       "3681648.4500000025"
      ]
     },
     "metadata": {},
     "output_type": "display_data"
    },
    {
     "name": "stdout",
     "output_type": "stream",
     "text": [
      "\n"
     ]
    },
    {
     "data": {
      "text/plain": [
       "'IBREALEST'"
      ]
     },
     "metadata": {},
     "output_type": "display_data"
    },
    {
     "data": {
      "text/plain": [
       "{'Bought_Price': 0,\n",
       " 'Current_Price': 88.5,\n",
       " 'Bought_Quantity': 0,\n",
       " 'Sold_Price': 87.6,\n",
       " 'Sold_Quantity': 0,\n",
       " 'Investment': 0,\n",
       " 'Current_Valuation': 0.0,\n",
       " 'Status': 0,\n",
       " 'Short_Gains': -0.0}"
      ]
     },
     "metadata": {},
     "output_type": "display_data"
    },
    {
     "data": {
      "text/plain": [
       "3673233.9000000004"
      ]
     },
     "metadata": {},
     "output_type": "display_data"
    },
    {
     "data": {
      "text/plain": [
       "3681648.4500000025"
      ]
     },
     "metadata": {},
     "output_type": "display_data"
    },
    {
     "name": "stdout",
     "output_type": "stream",
     "text": [
      "\n"
     ]
    },
    {
     "data": {
      "text/plain": [
       "'SADBHAV'"
      ]
     },
     "metadata": {},
     "output_type": "display_data"
    },
    {
     "data": {
      "text/plain": [
       "{'Bought_Price': 0,\n",
       " 'Current_Price': 210.6,\n",
       " 'Bought_Quantity': 0,\n",
       " 'Sold_Price': 211.5,\n",
       " 'Sold_Quantity': 0,\n",
       " 'Investment': 0,\n",
       " 'Current_Valuation': 0.0,\n",
       " 'Status': 0,\n",
       " 'Short_Gains': 0.0}"
      ]
     },
     "metadata": {},
     "output_type": "display_data"
    },
    {
     "data": {
      "text/plain": [
       "3673233.9000000004"
      ]
     },
     "metadata": {},
     "output_type": "display_data"
    },
    {
     "data": {
      "text/plain": [
       "3681648.4500000025"
      ]
     },
     "metadata": {},
     "output_type": "display_data"
    },
    {
     "name": "stdout",
     "output_type": "stream",
     "text": [
      "\n"
     ]
    },
    {
     "data": {
      "text/plain": [
       "'HSCL'"
      ]
     },
     "metadata": {},
     "output_type": "display_data"
    },
    {
     "data": {
      "text/plain": [
       "{'Bought_Price': 0,\n",
       " 'Current_Price': 131.4,\n",
       " 'Bought_Quantity': 0,\n",
       " 'Sold_Price': 132.2,\n",
       " 'Sold_Quantity': 0,\n",
       " 'Investment': 0,\n",
       " 'Current_Valuation': 0.0,\n",
       " 'Status': 0,\n",
       " 'Short_Gains': 0.0}"
      ]
     },
     "metadata": {},
     "output_type": "display_data"
    },
    {
     "data": {
      "text/plain": [
       "3673233.9000000004"
      ]
     },
     "metadata": {},
     "output_type": "display_data"
    },
    {
     "data": {
      "text/plain": [
       "3681648.4500000025"
      ]
     },
     "metadata": {},
     "output_type": "display_data"
    },
    {
     "name": "stdout",
     "output_type": "stream",
     "text": [
      "\n"
     ]
    },
    {
     "data": {
      "text/plain": [
       "'SUPREMEIND'"
      ]
     },
     "metadata": {},
     "output_type": "display_data"
    },
    {
     "data": {
      "text/plain": [
       "{'Bought_Price': 0,\n",
       " 'Current_Price': 1151.6,\n",
       " 'Bought_Quantity': 0,\n",
       " 'Sold_Price': 1178.0,\n",
       " 'Sold_Quantity': 0,\n",
       " 'Investment': 0,\n",
       " 'Current_Valuation': 0.0,\n",
       " 'Status': 0,\n",
       " 'Short_Gains': 0.0}"
      ]
     },
     "metadata": {},
     "output_type": "display_data"
    },
    {
     "data": {
      "text/plain": [
       "3673233.9000000004"
      ]
     },
     "metadata": {},
     "output_type": "display_data"
    },
    {
     "data": {
      "text/plain": [
       "3681648.4500000025"
      ]
     },
     "metadata": {},
     "output_type": "display_data"
    },
    {
     "name": "stdout",
     "output_type": "stream",
     "text": [
      "\n"
     ]
    },
    {
     "data": {
      "text/plain": [
       "'INTELLECT'"
      ]
     },
     "metadata": {},
     "output_type": "display_data"
    },
    {
     "data": {
      "text/plain": [
       "{'Bought_Price': 0,\n",
       " 'Current_Price': 228.9,\n",
       " 'Bought_Quantity': 0,\n",
       " 'Sold_Price': 225.05,\n",
       " 'Sold_Quantity': 0,\n",
       " 'Investment': 0,\n",
       " 'Current_Valuation': 0,\n",
       " 'Status': 0,\n",
       " 'Short_Gains': -0.0}"
      ]
     },
     "metadata": {},
     "output_type": "display_data"
    },
    {
     "data": {
      "text/plain": [
       "3643977.4000000004"
      ]
     },
     "metadata": {},
     "output_type": "display_data"
    },
    {
     "data": {
      "text/plain": [
       "3661979.4500000025"
      ]
     },
     "metadata": {},
     "output_type": "display_data"
    },
    {
     "name": "stdout",
     "output_type": "stream",
     "text": [
      "\n"
     ]
    },
    {
     "data": {
      "text/plain": [
       "'ABFRL'"
      ]
     },
     "metadata": {},
     "output_type": "display_data"
    },
    {
     "data": {
      "text/plain": [
       "{'Bought_Price': 0,\n",
       " 'Current_Price': 199.55,\n",
       " 'Bought_Quantity': 0,\n",
       " 'Sold_Price': 202.45,\n",
       " 'Sold_Quantity': 0,\n",
       " 'Investment': 0,\n",
       " 'Current_Valuation': 0.0,\n",
       " 'Status': 0,\n",
       " 'Short_Gains': 0.0}"
      ]
     },
     "metadata": {},
     "output_type": "display_data"
    },
    {
     "data": {
      "text/plain": [
       "3643977.4000000004"
      ]
     },
     "metadata": {},
     "output_type": "display_data"
    },
    {
     "data": {
      "text/plain": [
       "3661979.4500000025"
      ]
     },
     "metadata": {},
     "output_type": "display_data"
    },
    {
     "name": "stdout",
     "output_type": "stream",
     "text": [
      "\n"
     ]
    },
    {
     "data": {
      "text/plain": [
       "'CEATLTD'"
      ]
     },
     "metadata": {},
     "output_type": "display_data"
    },
    {
     "data": {
      "text/plain": [
       "{'Bought_Price': 0,\n",
       " 'Current_Price': 1293.6,\n",
       " 'Bought_Quantity': 0,\n",
       " 'Sold_Price': 1305.3,\n",
       " 'Sold_Quantity': 0,\n",
       " 'Investment': 0,\n",
       " 'Current_Valuation': 0.0,\n",
       " 'Status': 0,\n",
       " 'Short_Gains': 0.0}"
      ]
     },
     "metadata": {},
     "output_type": "display_data"
    },
    {
     "data": {
      "text/plain": [
       "3643977.4000000004"
      ]
     },
     "metadata": {},
     "output_type": "display_data"
    },
    {
     "data": {
      "text/plain": [
       "3661979.4500000025"
      ]
     },
     "metadata": {},
     "output_type": "display_data"
    },
    {
     "name": "stdout",
     "output_type": "stream",
     "text": [
      "\n"
     ]
    },
    {
     "data": {
      "text/plain": [
       "'CASTROLIND'"
      ]
     },
     "metadata": {},
     "output_type": "display_data"
    },
    {
     "data": {
      "text/plain": [
       "{'Bought_Price': 0,\n",
       " 'Current_Price': 151.15,\n",
       " 'Bought_Quantity': 0,\n",
       " 'Sold_Price': 152.0,\n",
       " 'Sold_Quantity': 0,\n",
       " 'Investment': 0,\n",
       " 'Current_Valuation': 0.0,\n",
       " 'Status': 0,\n",
       " 'Short_Gains': 0.0}"
      ]
     },
     "metadata": {},
     "output_type": "display_data"
    },
    {
     "data": {
      "text/plain": [
       "3643977.4000000004"
      ]
     },
     "metadata": {},
     "output_type": "display_data"
    },
    {
     "data": {
      "text/plain": [
       "3661979.4500000025"
      ]
     },
     "metadata": {},
     "output_type": "display_data"
    },
    {
     "name": "stdout",
     "output_type": "stream",
     "text": [
      "\n"
     ]
    },
    {
     "data": {
      "text/plain": [
       "'TITAN'"
      ]
     },
     "metadata": {},
     "output_type": "display_data"
    },
    {
     "data": {
      "text/plain": [
       "{'Bought_Price': 0,\n",
       " 'Current_Price': 928.0,\n",
       " 'Bought_Quantity': 0,\n",
       " 'Sold_Price': 931.75,\n",
       " 'Sold_Quantity': 0,\n",
       " 'Investment': 0,\n",
       " 'Current_Valuation': 0.0,\n",
       " 'Status': 0,\n",
       " 'Short_Gains': 0.0}"
      ]
     },
     "metadata": {},
     "output_type": "display_data"
    },
    {
     "data": {
      "text/plain": [
       "3643977.4000000004"
      ]
     },
     "metadata": {},
     "output_type": "display_data"
    },
    {
     "data": {
      "text/plain": [
       "3661979.4500000025"
      ]
     },
     "metadata": {},
     "output_type": "display_data"
    },
    {
     "name": "stdout",
     "output_type": "stream",
     "text": [
      "\n"
     ]
    },
    {
     "data": {
      "text/plain": [
       "'TIMKEN'"
      ]
     },
     "metadata": {},
     "output_type": "display_data"
    },
    {
     "data": {
      "text/plain": [
       "{'Bought_Price': 0,\n",
       " 'Current_Price': 610.9,\n",
       " 'Bought_Quantity': 0,\n",
       " 'Sold_Price': 580.75,\n",
       " 'Sold_Quantity': 0,\n",
       " 'Investment': 0,\n",
       " 'Current_Valuation': 0.0,\n",
       " 'Status': 0,\n",
       " 'Short_Gains': -0.0}"
      ]
     },
     "metadata": {},
     "output_type": "display_data"
    },
    {
     "data": {
      "text/plain": [
       "3643977.4000000004"
      ]
     },
     "metadata": {},
     "output_type": "display_data"
    },
    {
     "data": {
      "text/plain": [
       "3661979.4500000025"
      ]
     },
     "metadata": {},
     "output_type": "display_data"
    },
    {
     "name": "stdout",
     "output_type": "stream",
     "text": [
      "\n"
     ]
    },
    {
     "data": {
      "text/plain": [
       "'NESCO'"
      ]
     },
     "metadata": {},
     "output_type": "display_data"
    },
    {
     "data": {
      "text/plain": [
       "{'Bought_Price': 0,\n",
       " 'Current_Price': 440.7,\n",
       " 'Bought_Quantity': 0,\n",
       " 'Sold_Price': 443.8,\n",
       " 'Sold_Quantity': 0,\n",
       " 'Investment': 0,\n",
       " 'Current_Valuation': 0,\n",
       " 'Status': 0,\n",
       " 'Short_Gains': 0.0}"
      ]
     },
     "metadata": {},
     "output_type": "display_data"
    },
    {
     "data": {
      "text/plain": [
       "3634213.8000000003"
      ]
     },
     "metadata": {},
     "output_type": "display_data"
    },
    {
     "data": {
      "text/plain": [
       "3651907.8500000024"
      ]
     },
     "metadata": {},
     "output_type": "display_data"
    },
    {
     "name": "stdout",
     "output_type": "stream",
     "text": [
      "\n"
     ]
    },
    {
     "data": {
      "text/plain": [
       "'ADANIPORTS'"
      ]
     },
     "metadata": {},
     "output_type": "display_data"
    },
    {
     "data": {
      "text/plain": [
       "{'Bought_Price': 0,\n",
       " 'Current_Price': 389.0,\n",
       " 'Bought_Quantity': 0,\n",
       " 'Sold_Price': 386.3,\n",
       " 'Sold_Quantity': 0,\n",
       " 'Investment': 0,\n",
       " 'Current_Valuation': 0.0,\n",
       " 'Status': 0,\n",
       " 'Short_Gains': -0.0}"
      ]
     },
     "metadata": {},
     "output_type": "display_data"
    },
    {
     "data": {
      "text/plain": [
       "3634213.8000000003"
      ]
     },
     "metadata": {},
     "output_type": "display_data"
    },
    {
     "data": {
      "text/plain": [
       "3651907.8500000024"
      ]
     },
     "metadata": {},
     "output_type": "display_data"
    },
    {
     "name": "stdout",
     "output_type": "stream",
     "text": [
      "\n"
     ]
    },
    {
     "data": {
      "text/plain": [
       "'NIACL'"
      ]
     },
     "metadata": {},
     "output_type": "display_data"
    },
    {
     "data": {
      "text/plain": [
       "{'Bought_Price': 0,\n",
       " 'Current_Price': 179.75,\n",
       " 'Bought_Quantity': 0,\n",
       " 'Sold_Price': 178.55,\n",
       " 'Sold_Quantity': 0,\n",
       " 'Investment': 0,\n",
       " 'Current_Valuation': 0.0,\n",
       " 'Status': 0,\n",
       " 'Short_Gains': -0.0}"
      ]
     },
     "metadata": {},
     "output_type": "display_data"
    },
    {
     "data": {
      "text/plain": [
       "3634213.8000000003"
      ]
     },
     "metadata": {},
     "output_type": "display_data"
    },
    {
     "data": {
      "text/plain": [
       "3651907.8500000024"
      ]
     },
     "metadata": {},
     "output_type": "display_data"
    },
    {
     "name": "stdout",
     "output_type": "stream",
     "text": [
      "\n"
     ]
    },
    {
     "data": {
      "text/plain": [
       "'GODREJCP'"
      ]
     },
     "metadata": {},
     "output_type": "display_data"
    },
    {
     "data": {
      "text/plain": [
       "{'Bought_Price': 0,\n",
       " 'Current_Price': 807.35,\n",
       " 'Bought_Quantity': 0,\n",
       " 'Sold_Price': 813.0,\n",
       " 'Sold_Quantity': 0,\n",
       " 'Investment': 0,\n",
       " 'Current_Valuation': 0.0,\n",
       " 'Status': 0,\n",
       " 'Short_Gains': 0.0}"
      ]
     },
     "metadata": {},
     "output_type": "display_data"
    },
    {
     "data": {
      "text/plain": [
       "3634213.8000000003"
      ]
     },
     "metadata": {},
     "output_type": "display_data"
    },
    {
     "data": {
      "text/plain": [
       "3651907.8500000024"
      ]
     },
     "metadata": {},
     "output_type": "display_data"
    },
    {
     "name": "stdout",
     "output_type": "stream",
     "text": [
      "\n"
     ]
    },
    {
     "data": {
      "text/plain": [
       "'CESC'"
      ]
     },
     "metadata": {},
     "output_type": "display_data"
    },
    {
     "data": {
      "text/plain": [
       "{'Bought_Price': 0,\n",
       " 'Current_Price': 671.3,\n",
       " 'Bought_Quantity': 0,\n",
       " 'Sold_Price': 668.45,\n",
       " 'Sold_Quantity': 0,\n",
       " 'Investment': 0,\n",
       " 'Current_Valuation': 0.0,\n",
       " 'Status': 0,\n",
       " 'Short_Gains': -0.0}"
      ]
     },
     "metadata": {},
     "output_type": "display_data"
    },
    {
     "data": {
      "text/plain": [
       "3634213.8000000003"
      ]
     },
     "metadata": {},
     "output_type": "display_data"
    },
    {
     "data": {
      "text/plain": [
       "3651907.8500000024"
      ]
     },
     "metadata": {},
     "output_type": "display_data"
    },
    {
     "name": "stdout",
     "output_type": "stream",
     "text": [
      "\n"
     ]
    },
    {
     "data": {
      "text/plain": [
       "'NLCINDIA'"
      ]
     },
     "metadata": {},
     "output_type": "display_data"
    },
    {
     "data": {
      "text/plain": [
       "{'Bought_Price': 0,\n",
       " 'Current_Price': 69.25,\n",
       " 'Bought_Quantity': 0,\n",
       " 'Sold_Price': 70.0,\n",
       " 'Sold_Quantity': 0,\n",
       " 'Investment': 0,\n",
       " 'Current_Valuation': 0.0,\n",
       " 'Status': 0,\n",
       " 'Short_Gains': 0.0}"
      ]
     },
     "metadata": {},
     "output_type": "display_data"
    },
    {
     "data": {
      "text/plain": [
       "3634213.8000000003"
      ]
     },
     "metadata": {},
     "output_type": "display_data"
    },
    {
     "data": {
      "text/plain": [
       "3651907.8500000024"
      ]
     },
     "metadata": {},
     "output_type": "display_data"
    },
    {
     "name": "stdout",
     "output_type": "stream",
     "text": [
      "\n"
     ]
    },
    {
     "data": {
      "text/plain": [
       "'TATAELXSI'"
      ]
     },
     "metadata": {},
     "output_type": "display_data"
    },
    {
     "data": {
      "text/plain": [
       "{'Bought_Price': 0,\n",
       " 'Current_Price': 1026.75,\n",
       " 'Bought_Quantity': 0,\n",
       " 'Sold_Price': 1024.45,\n",
       " 'Sold_Quantity': 0,\n",
       " 'Investment': 0,\n",
       " 'Current_Valuation': 0.0,\n",
       " 'Status': 0,\n",
       " 'Short_Gains': -0.0}"
      ]
     },
     "metadata": {},
     "output_type": "display_data"
    },
    {
     "data": {
      "text/plain": [
       "3634213.8000000003"
      ]
     },
     "metadata": {},
     "output_type": "display_data"
    },
    {
     "data": {
      "text/plain": [
       "3651907.8500000024"
      ]
     },
     "metadata": {},
     "output_type": "display_data"
    },
    {
     "name": "stdout",
     "output_type": "stream",
     "text": [
      "\n"
     ]
    },
    {
     "data": {
      "text/plain": [
       "'ADVENZYMES'"
      ]
     },
     "metadata": {},
     "output_type": "display_data"
    },
    {
     "data": {
      "text/plain": [
       "{'Bought_Price': 0,\n",
       " 'Current_Price': 175.8,\n",
       " 'Bought_Quantity': 0,\n",
       " 'Sold_Price': 177.05,\n",
       " 'Sold_Quantity': 0,\n",
       " 'Investment': 0,\n",
       " 'Current_Valuation': 0.0,\n",
       " 'Status': 0,\n",
       " 'Short_Gains': 0.0}"
      ]
     },
     "metadata": {},
     "output_type": "display_data"
    },
    {
     "data": {
      "text/plain": [
       "3634213.8000000003"
      ]
     },
     "metadata": {},
     "output_type": "display_data"
    },
    {
     "data": {
      "text/plain": [
       "3651907.8500000024"
      ]
     },
     "metadata": {},
     "output_type": "display_data"
    },
    {
     "name": "stdout",
     "output_type": "stream",
     "text": [
      "\n"
     ]
    },
    {
     "data": {
      "text/plain": [
       "'HDFCLIFE'"
      ]
     },
     "metadata": {},
     "output_type": "display_data"
    },
    {
     "data": {
      "text/plain": [
       "{'Bought_Price': 0,\n",
       " 'Current_Price': 386.4,\n",
       " 'Bought_Quantity': 0,\n",
       " 'Sold_Price': 387.8,\n",
       " 'Sold_Quantity': 0,\n",
       " 'Investment': 0,\n",
       " 'Current_Valuation': 0,\n",
       " 'Status': 0,\n",
       " 'Short_Gains': 0.0}"
      ]
     },
     "metadata": {},
     "output_type": "display_data"
    },
    {
     "data": {
      "text/plain": [
       "3627621.2"
      ]
     },
     "metadata": {},
     "output_type": "display_data"
    },
    {
     "data": {
      "text/plain": [
       "3641303.2500000023"
      ]
     },
     "metadata": {},
     "output_type": "display_data"
    },
    {
     "name": "stdout",
     "output_type": "stream",
     "text": [
      "\n"
     ]
    },
    {
     "data": {
      "text/plain": [
       "'HFCL'"
      ]
     },
     "metadata": {},
     "output_type": "display_data"
    },
    {
     "data": {
      "text/plain": [
       "{'Bought_Price': 0,\n",
       " 'Current_Price': 21.3,\n",
       " 'Bought_Quantity': 0,\n",
       " 'Sold_Price': 21.3,\n",
       " 'Sold_Quantity': 0,\n",
       " 'Investment': 0,\n",
       " 'Current_Valuation': 0,\n",
       " 'Status': 0,\n",
       " 'Short_Gains': 0.0}"
      ]
     },
     "metadata": {},
     "output_type": "display_data"
    },
    {
     "data": {
      "text/plain": [
       "3594435.8000000003"
      ]
     },
     "metadata": {},
     "output_type": "display_data"
    },
    {
     "data": {
      "text/plain": [
       "3621438.7500000023"
      ]
     },
     "metadata": {},
     "output_type": "display_data"
    },
    {
     "name": "stdout",
     "output_type": "stream",
     "text": [
      "\n"
     ]
    },
    {
     "data": {
      "text/plain": [
       "'AFFLE'"
      ]
     },
     "metadata": {},
     "output_type": "display_data"
    },
    {
     "data": {
      "text/plain": [
       "{'Bought_Price': 0,\n",
       " 'Current_Price': 873.65,\n",
       " 'Bought_Quantity': 0,\n",
       " 'Sold_Price': 926.0,\n",
       " 'Sold_Quantity': 0,\n",
       " 'Investment': 0,\n",
       " 'Current_Valuation': 0,\n",
       " 'Status': 0,\n",
       " 'Short_Gains': 0.0}"
      ]
     },
     "metadata": {},
     "output_type": "display_data"
    },
    {
     "data": {
      "text/plain": [
       "3588879.8000000003"
      ]
     },
     "metadata": {},
     "output_type": "display_data"
    },
    {
     "data": {
      "text/plain": [
       "3610551.450000002"
      ]
     },
     "metadata": {},
     "output_type": "display_data"
    },
    {
     "name": "stdout",
     "output_type": "stream",
     "text": [
      "\n"
     ]
    },
    {
     "data": {
      "text/plain": [
       "'UNIONBANK'"
      ]
     },
     "metadata": {},
     "output_type": "display_data"
    },
    {
     "data": {
      "text/plain": [
       "{'Bought_Price': 0,\n",
       " 'Current_Price': 88.3,\n",
       " 'Bought_Quantity': 0,\n",
       " 'Sold_Price': 86.7,\n",
       " 'Sold_Quantity': 0,\n",
       " 'Investment': 0,\n",
       " 'Current_Valuation': 0.0,\n",
       " 'Status': 0,\n",
       " 'Short_Gains': -0.0}"
      ]
     },
     "metadata": {},
     "output_type": "display_data"
    },
    {
     "data": {
      "text/plain": [
       "3588879.8000000003"
      ]
     },
     "metadata": {},
     "output_type": "display_data"
    },
    {
     "data": {
      "text/plain": [
       "3610551.450000002"
      ]
     },
     "metadata": {},
     "output_type": "display_data"
    },
    {
     "name": "stdout",
     "output_type": "stream",
     "text": [
      "\n"
     ]
    },
    {
     "data": {
      "text/plain": [
       "'REPCOHOME'"
      ]
     },
     "metadata": {},
     "output_type": "display_data"
    },
    {
     "data": {
      "text/plain": [
       "{'Bought_Price': 0,\n",
       " 'Current_Price': 400.7,\n",
       " 'Bought_Quantity': 0,\n",
       " 'Sold_Price': 401.6,\n",
       " 'Sold_Quantity': 0,\n",
       " 'Investment': 0,\n",
       " 'Current_Valuation': 0.0,\n",
       " 'Status': 0,\n",
       " 'Short_Gains': 0.0}"
      ]
     },
     "metadata": {},
     "output_type": "display_data"
    },
    {
     "data": {
      "text/plain": [
       "3588879.8000000003"
      ]
     },
     "metadata": {},
     "output_type": "display_data"
    },
    {
     "data": {
      "text/plain": [
       "3610551.450000002"
      ]
     },
     "metadata": {},
     "output_type": "display_data"
    },
    {
     "name": "stdout",
     "output_type": "stream",
     "text": [
      "\n"
     ]
    },
    {
     "data": {
      "text/plain": [
       "'ADANIPOWER'"
      ]
     },
     "metadata": {},
     "output_type": "display_data"
    },
    {
     "data": {
      "text/plain": [
       "{'Bought_Price': 0,\n",
       " 'Current_Price': 50.85,\n",
       " 'Bought_Quantity': 0,\n",
       " 'Sold_Price': 51.0,\n",
       " 'Sold_Quantity': 0,\n",
       " 'Investment': 0,\n",
       " 'Current_Valuation': 0.0,\n",
       " 'Status': 0,\n",
       " 'Short_Gains': 0.0}"
      ]
     },
     "metadata": {},
     "output_type": "display_data"
    },
    {
     "data": {
      "text/plain": [
       "3588879.8000000003"
      ]
     },
     "metadata": {},
     "output_type": "display_data"
    },
    {
     "data": {
      "text/plain": [
       "3610551.450000002"
      ]
     },
     "metadata": {},
     "output_type": "display_data"
    },
    {
     "name": "stdout",
     "output_type": "stream",
     "text": [
      "\n"
     ]
    },
    {
     "data": {
      "text/plain": [
       "'LTI'"
      ]
     },
     "metadata": {},
     "output_type": "display_data"
    },
    {
     "data": {
      "text/plain": [
       "{'Bought_Price': 0,\n",
       " 'Current_Price': 1713.45,\n",
       " 'Bought_Quantity': 0,\n",
       " 'Sold_Price': 1731.2,\n",
       " 'Sold_Quantity': 0,\n",
       " 'Investment': 0,\n",
       " 'Current_Valuation': 0.0,\n",
       " 'Status': 0,\n",
       " 'Short_Gains': 0.0}"
      ]
     },
     "metadata": {},
     "output_type": "display_data"
    },
    {
     "data": {
      "text/plain": [
       "3588879.8000000003"
      ]
     },
     "metadata": {},
     "output_type": "display_data"
    },
    {
     "data": {
      "text/plain": [
       "3610551.450000002"
      ]
     },
     "metadata": {},
     "output_type": "display_data"
    },
    {
     "name": "stdout",
     "output_type": "stream",
     "text": [
      "\n"
     ]
    },
    {
     "data": {
      "text/plain": [
       "'ASTERDM'"
      ]
     },
     "metadata": {},
     "output_type": "display_data"
    },
    {
     "data": {
      "text/plain": [
       "{'Bought_Price': 0,\n",
       " 'Current_Price': 161.55,\n",
       " 'Bought_Quantity': 0,\n",
       " 'Sold_Price': 153.65,\n",
       " 'Sold_Quantity': 0,\n",
       " 'Investment': 0,\n",
       " 'Current_Valuation': 0.0,\n",
       " 'Status': 0,\n",
       " 'Short_Gains': -0.0}"
      ]
     },
     "metadata": {},
     "output_type": "display_data"
    },
    {
     "data": {
      "text/plain": [
       "3588879.8000000003"
      ]
     },
     "metadata": {},
     "output_type": "display_data"
    },
    {
     "data": {
      "text/plain": [
       "3610551.450000002"
      ]
     },
     "metadata": {},
     "output_type": "display_data"
    },
    {
     "name": "stdout",
     "output_type": "stream",
     "text": [
      "\n"
     ]
    },
    {
     "data": {
      "text/plain": [
       "'MAHABANK'"
      ]
     },
     "metadata": {},
     "output_type": "display_data"
    },
    {
     "data": {
      "text/plain": [
       "{'Bought_Price': 0,\n",
       " 'Current_Price': 15.4,\n",
       " 'Bought_Quantity': 0,\n",
       " 'Sold_Price': 15.2,\n",
       " 'Sold_Quantity': 0,\n",
       " 'Investment': 0,\n",
       " 'Current_Valuation': 0.0,\n",
       " 'Status': 0,\n",
       " 'Short_Gains': -0.0}"
      ]
     },
     "metadata": {},
     "output_type": "display_data"
    },
    {
     "data": {
      "text/plain": [
       "3588879.8000000003"
      ]
     },
     "metadata": {},
     "output_type": "display_data"
    },
    {
     "data": {
      "text/plain": [
       "3610551.450000002"
      ]
     },
     "metadata": {},
     "output_type": "display_data"
    },
    {
     "name": "stdout",
     "output_type": "stream",
     "text": [
      "\n"
     ]
    },
    {
     "data": {
      "text/plain": [
       "'PGHH'"
      ]
     },
     "metadata": {},
     "output_type": "display_data"
    },
    {
     "data": {
      "text/plain": [
       "{'Bought_Price': 0,\n",
       " 'Current_Price': 9903.75,\n",
       " 'Bought_Quantity': 0,\n",
       " 'Sold_Price': 9812.05,\n",
       " 'Sold_Quantity': 0,\n",
       " 'Investment': 0,\n",
       " 'Current_Valuation': 0.0,\n",
       " 'Status': 0,\n",
       " 'Short_Gains': -0.0}"
      ]
     },
     "metadata": {},
     "output_type": "display_data"
    },
    {
     "data": {
      "text/plain": [
       "3588879.8000000003"
      ]
     },
     "metadata": {},
     "output_type": "display_data"
    },
    {
     "data": {
      "text/plain": [
       "3610551.450000002"
      ]
     },
     "metadata": {},
     "output_type": "display_data"
    },
    {
     "name": "stdout",
     "output_type": "stream",
     "text": [
      "\n"
     ]
    },
    {
     "data": {
      "text/plain": [
       "'RITES'"
      ]
     },
     "metadata": {},
     "output_type": "display_data"
    },
    {
     "data": {
      "text/plain": [
       "{'Bought_Price': 0,\n",
       " 'Current_Price': 271.35,\n",
       " 'Bought_Quantity': 0,\n",
       " 'Sold_Price': 274.4,\n",
       " 'Sold_Quantity': 0,\n",
       " 'Investment': 0,\n",
       " 'Current_Valuation': 0,\n",
       " 'Status': 0,\n",
       " 'Short_Gains': 0.0}"
      ]
     },
     "metadata": {},
     "output_type": "display_data"
    },
    {
     "data": {
      "text/plain": [
       "3566379.0000000005"
      ]
     },
     "metadata": {},
     "output_type": "display_data"
    },
    {
     "data": {
      "text/plain": [
       "3590096.5500000026"
      ]
     },
     "metadata": {},
     "output_type": "display_data"
    },
    {
     "name": "stdout",
     "output_type": "stream",
     "text": [
      "\n"
     ]
    },
    {
     "data": {
      "text/plain": [
       "'JSL'"
      ]
     },
     "metadata": {},
     "output_type": "display_data"
    },
    {
     "data": {
      "text/plain": [
       "{'Bought_Price': 0,\n",
       " 'Current_Price': 34.25,\n",
       " 'Bought_Quantity': 0,\n",
       " 'Sold_Price': 34.2,\n",
       " 'Sold_Quantity': 0,\n",
       " 'Investment': 0,\n",
       " 'Current_Valuation': 0,\n",
       " 'Status': 0,\n",
       " 'Short_Gains': -0.0}"
      ]
     },
     "metadata": {},
     "output_type": "display_data"
    },
    {
     "data": {
      "text/plain": [
       "3548800.2000000007"
      ]
     },
     "metadata": {},
     "output_type": "display_data"
    },
    {
     "data": {
      "text/plain": [
       "3570204.750000003"
      ]
     },
     "metadata": {},
     "output_type": "display_data"
    },
    {
     "name": "stdout",
     "output_type": "stream",
     "text": [
      "\n"
     ]
    },
    {
     "data": {
      "text/plain": [
       "'PRAJIND'"
      ]
     },
     "metadata": {},
     "output_type": "display_data"
    },
    {
     "data": {
      "text/plain": [
       "{'Bought_Price': 0,\n",
       " 'Current_Price': 111.2,\n",
       " 'Bought_Quantity': 0,\n",
       " 'Sold_Price': 109.4,\n",
       " 'Sold_Quantity': 0,\n",
       " 'Investment': 0,\n",
       " 'Current_Valuation': 0,\n",
       " 'Status': 0,\n",
       " 'Short_Gains': -0.0}"
      ]
     },
     "metadata": {},
     "output_type": "display_data"
    },
    {
     "data": {
      "text/plain": [
       "3515542.6000000006"
      ]
     },
     "metadata": {},
     "output_type": "display_data"
    },
    {
     "data": {
      "text/plain": [
       "3550809.5500000026"
      ]
     },
     "metadata": {},
     "output_type": "display_data"
    },
    {
     "name": "stdout",
     "output_type": "stream",
     "text": [
      "\n"
     ]
    },
    {
     "data": {
      "text/plain": [
       "'PNCINFRA'"
      ]
     },
     "metadata": {},
     "output_type": "display_data"
    },
    {
     "data": {
      "text/plain": [
       "{'Bought_Price': 0,\n",
       " 'Current_Price': 148.9,\n",
       " 'Bought_Quantity': 0,\n",
       " 'Sold_Price': 147.35,\n",
       " 'Sold_Quantity': 0,\n",
       " 'Investment': 0,\n",
       " 'Current_Valuation': 0.0,\n",
       " 'Status': 0,\n",
       " 'Short_Gains': -0.0}"
      ]
     },
     "metadata": {},
     "output_type": "display_data"
    },
    {
     "data": {
      "text/plain": [
       "3515542.6000000006"
      ]
     },
     "metadata": {},
     "output_type": "display_data"
    },
    {
     "data": {
      "text/plain": [
       "3550809.5500000026"
      ]
     },
     "metadata": {},
     "output_type": "display_data"
    },
    {
     "name": "stdout",
     "output_type": "stream",
     "text": [
      "\n"
     ]
    },
    {
     "data": {
      "text/plain": [
       "'ONGC'"
      ]
     },
     "metadata": {},
     "output_type": "display_data"
    },
    {
     "data": {
      "text/plain": [
       "{'Bought_Price': 0,\n",
       " 'Current_Price': 148.5,\n",
       " 'Bought_Quantity': 0,\n",
       " 'Sold_Price': 150.0,\n",
       " 'Sold_Quantity': 0,\n",
       " 'Investment': 0,\n",
       " 'Current_Valuation': 0.0,\n",
       " 'Status': 0,\n",
       " 'Short_Gains': 0.0}"
      ]
     },
     "metadata": {},
     "output_type": "display_data"
    },
    {
     "data": {
      "text/plain": [
       "3515542.6000000006"
      ]
     },
     "metadata": {},
     "output_type": "display_data"
    },
    {
     "data": {
      "text/plain": [
       "3550809.5500000026"
      ]
     },
     "metadata": {},
     "output_type": "display_data"
    },
    {
     "name": "stdout",
     "output_type": "stream",
     "text": [
      "\n"
     ]
    },
    {
     "data": {
      "text/plain": [
       "'ZEEL'"
      ]
     },
     "metadata": {},
     "output_type": "display_data"
    },
    {
     "data": {
      "text/plain": [
       "{'Bought_Price': 0,\n",
       " 'Current_Price': 480.25,\n",
       " 'Bought_Quantity': 0,\n",
       " 'Sold_Price': 477.4,\n",
       " 'Sold_Quantity': 0,\n",
       " 'Investment': 0,\n",
       " 'Current_Valuation': 0.0,\n",
       " 'Status': 0,\n",
       " 'Short_Gains': -0.0}"
      ]
     },
     "metadata": {},
     "output_type": "display_data"
    },
    {
     "data": {
      "text/plain": [
       "3515542.6000000006"
      ]
     },
     "metadata": {},
     "output_type": "display_data"
    },
    {
     "data": {
      "text/plain": [
       "3550809.5500000026"
      ]
     },
     "metadata": {},
     "output_type": "display_data"
    },
    {
     "name": "stdout",
     "output_type": "stream",
     "text": [
      "\n"
     ]
    },
    {
     "data": {
      "text/plain": [
       "'DBL'"
      ]
     },
     "metadata": {},
     "output_type": "display_data"
    },
    {
     "data": {
      "text/plain": [
       "{'Bought_Price': 0,\n",
       " 'Current_Price': 423.7,\n",
       " 'Bought_Quantity': 0,\n",
       " 'Sold_Price': 418.25,\n",
       " 'Sold_Quantity': 0,\n",
       " 'Investment': 0,\n",
       " 'Current_Valuation': 0.0,\n",
       " 'Status': 0,\n",
       " 'Short_Gains': -0.0}"
      ]
     },
     "metadata": {},
     "output_type": "display_data"
    },
    {
     "data": {
      "text/plain": [
       "3515542.6000000006"
      ]
     },
     "metadata": {},
     "output_type": "display_data"
    },
    {
     "data": {
      "text/plain": [
       "3550809.5500000026"
      ]
     },
     "metadata": {},
     "output_type": "display_data"
    },
    {
     "name": "stdout",
     "output_type": "stream",
     "text": [
      "\n"
     ]
    },
    {
     "data": {
      "text/plain": [
       "'PAGEIND'"
      ]
     },
     "metadata": {},
     "output_type": "display_data"
    },
    {
     "data": {
      "text/plain": [
       "{'Bought_Price': 0,\n",
       " 'Current_Price': 24847.2,\n",
       " 'Bought_Quantity': 0,\n",
       " 'Sold_Price': 25200.0,\n",
       " 'Sold_Quantity': 0,\n",
       " 'Investment': 0,\n",
       " 'Current_Valuation': 0.0,\n",
       " 'Status': 0,\n",
       " 'Short_Gains': 0.0}"
      ]
     },
     "metadata": {},
     "output_type": "display_data"
    },
    {
     "data": {
      "text/plain": [
       "3515542.6000000006"
      ]
     },
     "metadata": {},
     "output_type": "display_data"
    },
    {
     "data": {
      "text/plain": [
       "3550809.5500000026"
      ]
     },
     "metadata": {},
     "output_type": "display_data"
    },
    {
     "name": "stdout",
     "output_type": "stream",
     "text": [
      "\n"
     ]
    },
    {
     "data": {
      "text/plain": [
       "'ECLERX'"
      ]
     },
     "metadata": {},
     "output_type": "display_data"
    },
    {
     "data": {
      "text/plain": [
       "{'Bought_Price': 0,\n",
       " 'Current_Price': 1075.15,\n",
       " 'Bought_Quantity': 0,\n",
       " 'Sold_Price': 1070.6,\n",
       " 'Sold_Quantity': 0,\n",
       " 'Investment': 0,\n",
       " 'Current_Valuation': 0.0,\n",
       " 'Status': 0,\n",
       " 'Short_Gains': -0.0}"
      ]
     },
     "metadata": {},
     "output_type": "display_data"
    },
    {
     "data": {
      "text/plain": [
       "3515542.6000000006"
      ]
     },
     "metadata": {},
     "output_type": "display_data"
    },
    {
     "data": {
      "text/plain": [
       "3550809.5500000026"
      ]
     },
     "metadata": {},
     "output_type": "display_data"
    },
    {
     "name": "stdout",
     "output_type": "stream",
     "text": [
      "\n"
     ]
    },
    {
     "data": {
      "text/plain": [
       "'NILKAMAL'"
      ]
     },
     "metadata": {},
     "output_type": "display_data"
    },
    {
     "data": {
      "text/plain": [
       "{'Bought_Price': 0,\n",
       " 'Current_Price': 1464.7,\n",
       " 'Bought_Quantity': 0,\n",
       " 'Sold_Price': 1481.2,\n",
       " 'Sold_Quantity': 0,\n",
       " 'Investment': 0,\n",
       " 'Current_Valuation': 0,\n",
       " 'Status': 0,\n",
       " 'Short_Gains': 0.0}"
      ]
     },
     "metadata": {},
     "output_type": "display_data"
    },
    {
     "data": {
      "text/plain": [
       "3488881.0000000005"
      ]
     },
     "metadata": {},
     "output_type": "display_data"
    },
    {
     "data": {
      "text/plain": [
       "3529131.250000003"
      ]
     },
     "metadata": {},
     "output_type": "display_data"
    },
    {
     "name": "stdout",
     "output_type": "stream",
     "text": [
      "\n"
     ]
    },
    {
     "data": {
      "text/plain": [
       "'MRPL'"
      ]
     },
     "metadata": {},
     "output_type": "display_data"
    },
    {
     "data": {
      "text/plain": [
       "{'Bought_Price': 0,\n",
       " 'Current_Price': 75.05,\n",
       " 'Bought_Quantity': 0,\n",
       " 'Sold_Price': 75.7,\n",
       " 'Sold_Quantity': 0,\n",
       " 'Investment': 0,\n",
       " 'Current_Valuation': 0.0,\n",
       " 'Status': 0,\n",
       " 'Short_Gains': 0.0}"
      ]
     },
     "metadata": {},
     "output_type": "display_data"
    },
    {
     "data": {
      "text/plain": [
       "3488881.0000000005"
      ]
     },
     "metadata": {},
     "output_type": "display_data"
    },
    {
     "data": {
      "text/plain": [
       "3529131.250000003"
      ]
     },
     "metadata": {},
     "output_type": "display_data"
    },
    {
     "name": "stdout",
     "output_type": "stream",
     "text": [
      "\n"
     ]
    },
    {
     "data": {
      "text/plain": [
       "'BSOFT'"
      ]
     },
     "metadata": {},
     "output_type": "display_data"
    },
    {
     "data": {
      "text/plain": [
       "{'Bought_Price': 0,\n",
       " 'Current_Price': 217.1,\n",
       " 'Bought_Quantity': 0,\n",
       " 'Sold_Price': 217.55,\n",
       " 'Sold_Quantity': 0,\n",
       " 'Investment': 0,\n",
       " 'Current_Valuation': 0.0,\n",
       " 'Status': 0,\n",
       " 'Short_Gains': 0.0}"
      ]
     },
     "metadata": {},
     "output_type": "display_data"
    },
    {
     "data": {
      "text/plain": [
       "3488881.0000000005"
      ]
     },
     "metadata": {},
     "output_type": "display_data"
    },
    {
     "data": {
      "text/plain": [
       "3529131.250000003"
      ]
     },
     "metadata": {},
     "output_type": "display_data"
    },
    {
     "name": "stdout",
     "output_type": "stream",
     "text": [
      "\n"
     ]
    },
    {
     "data": {
      "text/plain": [
       "'HINDCOPPER'"
      ]
     },
     "metadata": {},
     "output_type": "display_data"
    },
    {
     "data": {
      "text/plain": [
       "{'Bought_Price': 0,\n",
       " 'Current_Price': 52.1,\n",
       " 'Bought_Quantity': 0,\n",
       " 'Sold_Price': 52.5,\n",
       " 'Sold_Quantity': 0,\n",
       " 'Investment': 0,\n",
       " 'Current_Valuation': 0.0,\n",
       " 'Status': 0,\n",
       " 'Short_Gains': 0.0}"
      ]
     },
     "metadata": {},
     "output_type": "display_data"
    },
    {
     "data": {
      "text/plain": [
       "3488881.0000000005"
      ]
     },
     "metadata": {},
     "output_type": "display_data"
    },
    {
     "data": {
      "text/plain": [
       "3529131.250000003"
      ]
     },
     "metadata": {},
     "output_type": "display_data"
    },
    {
     "name": "stdout",
     "output_type": "stream",
     "text": [
      "\n"
     ]
    },
    {
     "data": {
      "text/plain": [
       "'HINDALCO'"
      ]
     },
     "metadata": {},
     "output_type": "display_data"
    },
    {
     "data": {
      "text/plain": [
       "{'Bought_Price': 0,\n",
       " 'Current_Price': 222.75,\n",
       " 'Bought_Quantity': 0,\n",
       " 'Sold_Price': 225.5,\n",
       " 'Sold_Quantity': 0,\n",
       " 'Investment': 0,\n",
       " 'Current_Valuation': 0.0,\n",
       " 'Status': 0,\n",
       " 'Short_Gains': 0.0}"
      ]
     },
     "metadata": {},
     "output_type": "display_data"
    },
    {
     "data": {
      "text/plain": [
       "3488881.0000000005"
      ]
     },
     "metadata": {},
     "output_type": "display_data"
    },
    {
     "data": {
      "text/plain": [
       "3529131.250000003"
      ]
     },
     "metadata": {},
     "output_type": "display_data"
    },
    {
     "name": "stdout",
     "output_type": "stream",
     "text": [
      "\n"
     ]
    },
    {
     "data": {
      "text/plain": [
       "'BHEL'"
      ]
     },
     "metadata": {},
     "output_type": "display_data"
    },
    {
     "data": {
      "text/plain": [
       "{'Bought_Price': 0,\n",
       " 'Current_Price': 73.8,\n",
       " 'Bought_Quantity': 0,\n",
       " 'Sold_Price': 73.75,\n",
       " 'Sold_Quantity': 0,\n",
       " 'Investment': 0,\n",
       " 'Current_Valuation': 0.0,\n",
       " 'Status': 0,\n",
       " 'Short_Gains': -0.0}"
      ]
     },
     "metadata": {},
     "output_type": "display_data"
    },
    {
     "data": {
      "text/plain": [
       "3488881.0000000005"
      ]
     },
     "metadata": {},
     "output_type": "display_data"
    },
    {
     "data": {
      "text/plain": [
       "3529131.250000003"
      ]
     },
     "metadata": {},
     "output_type": "display_data"
    },
    {
     "name": "stdout",
     "output_type": "stream",
     "text": [
      "\n"
     ]
    },
    {
     "data": {
      "text/plain": [
       "'ORIENTCEM'"
      ]
     },
     "metadata": {},
     "output_type": "display_data"
    },
    {
     "data": {
      "text/plain": [
       "{'Bought_Price': 0,\n",
       " 'Current_Price': 84.55,\n",
       " 'Bought_Quantity': 0,\n",
       " 'Sold_Price': 83.4,\n",
       " 'Sold_Quantity': 0,\n",
       " 'Investment': 0,\n",
       " 'Current_Valuation': 0.0,\n",
       " 'Status': 0,\n",
       " 'Short_Gains': -0.0}"
      ]
     },
     "metadata": {},
     "output_type": "display_data"
    },
    {
     "data": {
      "text/plain": [
       "3488881.0000000005"
      ]
     },
     "metadata": {},
     "output_type": "display_data"
    },
    {
     "data": {
      "text/plain": [
       "3529131.250000003"
      ]
     },
     "metadata": {},
     "output_type": "display_data"
    },
    {
     "name": "stdout",
     "output_type": "stream",
     "text": [
      "\n"
     ]
    },
    {
     "data": {
      "text/plain": [
       "'BBTC'"
      ]
     },
     "metadata": {},
     "output_type": "display_data"
    },
    {
     "data": {
      "text/plain": [
       "{'Bought_Price': 0,\n",
       " 'Current_Price': 1323.9,\n",
       " 'Bought_Quantity': 0,\n",
       " 'Sold_Price': 1316.2,\n",
       " 'Sold_Quantity': 0,\n",
       " 'Investment': 0,\n",
       " 'Current_Valuation': 0,\n",
       " 'Status': 0,\n",
       " 'Short_Gains': -0.0}"
      ]
     },
     "metadata": {},
     "output_type": "display_data"
    },
    {
     "data": {
      "text/plain": [
       "3436233.0000000005"
      ]
     },
     "metadata": {},
     "output_type": "display_data"
    },
    {
     "data": {
      "text/plain": [
       "3479615.250000003"
      ]
     },
     "metadata": {},
     "output_type": "display_data"
    },
    {
     "name": "stdout",
     "output_type": "stream",
     "text": [
      "\n"
     ]
    },
    {
     "data": {
      "text/plain": [
       "'PRSMJOHNSN'"
      ]
     },
     "metadata": {},
     "output_type": "display_data"
    },
    {
     "data": {
      "text/plain": [
       "{'Bought_Price': 0,\n",
       " 'Current_Price': 89.2,\n",
       " 'Bought_Quantity': 0,\n",
       " 'Sold_Price': 88.7,\n",
       " 'Sold_Quantity': 0,\n",
       " 'Investment': 0,\n",
       " 'Current_Valuation': 0.0,\n",
       " 'Status': 0,\n",
       " 'Short_Gains': -0.0}"
      ]
     },
     "metadata": {},
     "output_type": "display_data"
    },
    {
     "data": {
      "text/plain": [
       "3436233.0000000005"
      ]
     },
     "metadata": {},
     "output_type": "display_data"
    },
    {
     "data": {
      "text/plain": [
       "3479615.250000003"
      ]
     },
     "metadata": {},
     "output_type": "display_data"
    },
    {
     "name": "stdout",
     "output_type": "stream",
     "text": [
      "\n"
     ]
    },
    {
     "data": {
      "text/plain": [
       "'BAJAJFINSV'"
      ]
     },
     "metadata": {},
     "output_type": "display_data"
    },
    {
     "data": {
      "text/plain": [
       "{'Bought_Price': 0,\n",
       " 'Current_Price': 6521.95,\n",
       " 'Bought_Quantity': 0,\n",
       " 'Sold_Price': 6515.0,\n",
       " 'Sold_Quantity': 0,\n",
       " 'Investment': 0,\n",
       " 'Current_Valuation': 0.0,\n",
       " 'Status': 0,\n",
       " 'Short_Gains': -0.0}"
      ]
     },
     "metadata": {},
     "output_type": "display_data"
    },
    {
     "data": {
      "text/plain": [
       "3436233.0000000005"
      ]
     },
     "metadata": {},
     "output_type": "display_data"
    },
    {
     "data": {
      "text/plain": [
       "3479615.250000003"
      ]
     },
     "metadata": {},
     "output_type": "display_data"
    },
    {
     "name": "stdout",
     "output_type": "stream",
     "text": [
      "\n"
     ]
    },
    {
     "data": {
      "text/plain": [
       "'TCS'"
      ]
     },
     "metadata": {},
     "output_type": "display_data"
    },
    {
     "data": {
      "text/plain": [
       "{'Bought_Price': 0,\n",
       " 'Current_Price': 1902.8,\n",
       " 'Bought_Quantity': 0,\n",
       " 'Sold_Price': 1896.0,\n",
       " 'Sold_Quantity': 0,\n",
       " 'Investment': 0,\n",
       " 'Current_Valuation': 0.0,\n",
       " 'Status': 0,\n",
       " 'Short_Gains': -0.0}"
      ]
     },
     "metadata": {},
     "output_type": "display_data"
    },
    {
     "data": {
      "text/plain": [
       "3436233.0000000005"
      ]
     },
     "metadata": {},
     "output_type": "display_data"
    },
    {
     "data": {
      "text/plain": [
       "3479615.250000003"
      ]
     },
     "metadata": {},
     "output_type": "display_data"
    },
    {
     "name": "stdout",
     "output_type": "stream",
     "text": [
      "\n"
     ]
    },
    {
     "data": {
      "text/plain": [
       "'ASTRAL'"
      ]
     },
     "metadata": {},
     "output_type": "display_data"
    },
    {
     "data": {
      "text/plain": [
       "{'Bought_Price': 0,\n",
       " 'Current_Price': 1128.8,\n",
       " 'Bought_Quantity': 0,\n",
       " 'Sold_Price': 1139.5,\n",
       " 'Sold_Quantity': 0,\n",
       " 'Investment': 0,\n",
       " 'Current_Valuation': 0.0,\n",
       " 'Status': 0,\n",
       " 'Short_Gains': 0.0}"
      ]
     },
     "metadata": {},
     "output_type": "display_data"
    },
    {
     "data": {
      "text/plain": [
       "3436233.0000000005"
      ]
     },
     "metadata": {},
     "output_type": "display_data"
    },
    {
     "data": {
      "text/plain": [
       "3479615.250000003"
      ]
     },
     "metadata": {},
     "output_type": "display_data"
    },
    {
     "name": "stdout",
     "output_type": "stream",
     "text": [
      "\n"
     ]
    },
    {
     "data": {
      "text/plain": [
       "'GODREJIND'"
      ]
     },
     "metadata": {},
     "output_type": "display_data"
    },
    {
     "data": {
      "text/plain": [
       "{'Bought_Price': 0,\n",
       " 'Current_Price': 543.6,\n",
       " 'Bought_Quantity': 0,\n",
       " 'Sold_Price': 550.0,\n",
       " 'Sold_Quantity': 0,\n",
       " 'Investment': 0,\n",
       " 'Current_Valuation': 0.0,\n",
       " 'Status': 0,\n",
       " 'Short_Gains': 0.0}"
      ]
     },
     "metadata": {},
     "output_type": "display_data"
    },
    {
     "data": {
      "text/plain": [
       "3436233.0000000005"
      ]
     },
     "metadata": {},
     "output_type": "display_data"
    },
    {
     "data": {
      "text/plain": [
       "3479615.250000003"
      ]
     },
     "metadata": {},
     "output_type": "display_data"
    },
    {
     "name": "stdout",
     "output_type": "stream",
     "text": [
      "\n"
     ]
    },
    {
     "data": {
      "text/plain": [
       "'MGL'"
      ]
     },
     "metadata": {},
     "output_type": "display_data"
    },
    {
     "data": {
      "text/plain": [
       "{'Bought_Price': 0,\n",
       " 'Current_Price': 912.4,\n",
       " 'Bought_Quantity': 0,\n",
       " 'Sold_Price': 907.8,\n",
       " 'Sold_Quantity': 0,\n",
       " 'Investment': 0,\n",
       " 'Current_Valuation': 0.0,\n",
       " 'Status': 0,\n",
       " 'Short_Gains': -0.0}"
      ]
     },
     "metadata": {},
     "output_type": "display_data"
    },
    {
     "data": {
      "text/plain": [
       "3436233.0000000005"
      ]
     },
     "metadata": {},
     "output_type": "display_data"
    },
    {
     "data": {
      "text/plain": [
       "3479615.250000003"
      ]
     },
     "metadata": {},
     "output_type": "display_data"
    },
    {
     "name": "stdout",
     "output_type": "stream",
     "text": [
      "\n"
     ]
    },
    {
     "data": {
      "text/plain": [
       "'UJJIVAN'"
      ]
     },
     "metadata": {},
     "output_type": "display_data"
    },
    {
     "data": {
      "text/plain": [
       "{'Bought_Price': 0,\n",
       " 'Current_Price': 274.55,\n",
       " 'Bought_Quantity': 0,\n",
       " 'Sold_Price': 278.05,\n",
       " 'Sold_Quantity': 0,\n",
       " 'Investment': 0,\n",
       " 'Current_Valuation': 0,\n",
       " 'Status': 0,\n",
       " 'Short_Gains': 0.0}"
      ]
     },
     "metadata": {},
     "output_type": "display_data"
    },
    {
     "data": {
      "text/plain": [
       "3414545.1000000006"
      ]
     },
     "metadata": {},
     "output_type": "display_data"
    },
    {
     "data": {
      "text/plain": [
       "3459280.6500000027"
      ]
     },
     "metadata": {},
     "output_type": "display_data"
    },
    {
     "name": "stdout",
     "output_type": "stream",
     "text": [
      "\n"
     ]
    },
    {
     "data": {
      "text/plain": [
       "'BEL'"
      ]
     },
     "metadata": {},
     "output_type": "display_data"
    },
    {
     "data": {
      "text/plain": [
       "{'Bought_Price': 0,\n",
       " 'Current_Price': 87.45,\n",
       " 'Bought_Quantity': 0,\n",
       " 'Sold_Price': 88.4,\n",
       " 'Sold_Quantity': 0,\n",
       " 'Investment': 0,\n",
       " 'Current_Valuation': 0.0,\n",
       " 'Status': 0,\n",
       " 'Short_Gains': 0.0}"
      ]
     },
     "metadata": {},
     "output_type": "display_data"
    },
    {
     "data": {
      "text/plain": [
       "3414545.1000000006"
      ]
     },
     "metadata": {},
     "output_type": "display_data"
    },
    {
     "data": {
      "text/plain": [
       "3459280.6500000027"
      ]
     },
     "metadata": {},
     "output_type": "display_data"
    },
    {
     "name": "stdout",
     "output_type": "stream",
     "text": [
      "\n"
     ]
    },
    {
     "data": {
      "text/plain": [
       "'JINDALSTEL'"
      ]
     },
     "metadata": {},
     "output_type": "display_data"
    },
    {
     "data": {
      "text/plain": [
       "{'Bought_Price': 0,\n",
       " 'Current_Price': 162.9,\n",
       " 'Bought_Quantity': 0,\n",
       " 'Sold_Price': 165.9,\n",
       " 'Sold_Quantity': 0,\n",
       " 'Investment': 0,\n",
       " 'Current_Valuation': 0.0,\n",
       " 'Status': 0,\n",
       " 'Short_Gains': 0.0}"
      ]
     },
     "metadata": {},
     "output_type": "display_data"
    },
    {
     "data": {
      "text/plain": [
       "3414545.1000000006"
      ]
     },
     "metadata": {},
     "output_type": "display_data"
    },
    {
     "data": {
      "text/plain": [
       "3459280.6500000027"
      ]
     },
     "metadata": {},
     "output_type": "display_data"
    },
    {
     "name": "stdout",
     "output_type": "stream",
     "text": [
      "\n"
     ]
    },
    {
     "data": {
      "text/plain": [
       "'GUJALKALI'"
      ]
     },
     "metadata": {},
     "output_type": "display_data"
    },
    {
     "data": {
      "text/plain": [
       "{'Bought_Price': 0,\n",
       " 'Current_Price': 549.85,\n",
       " 'Bought_Quantity': 0,\n",
       " 'Sold_Price': 541.9,\n",
       " 'Sold_Quantity': 0,\n",
       " 'Investment': 0,\n",
       " 'Current_Valuation': 0.0,\n",
       " 'Status': 0,\n",
       " 'Short_Gains': -0.0}"
      ]
     },
     "metadata": {},
     "output_type": "display_data"
    },
    {
     "data": {
      "text/plain": [
       "3414545.1000000006"
      ]
     },
     "metadata": {},
     "output_type": "display_data"
    },
    {
     "data": {
      "text/plain": [
       "3459280.6500000027"
      ]
     },
     "metadata": {},
     "output_type": "display_data"
    },
    {
     "name": "stdout",
     "output_type": "stream",
     "text": [
      "\n"
     ]
    },
    {
     "data": {
      "text/plain": [
       "'POWERGRID'"
      ]
     },
     "metadata": {},
     "output_type": "display_data"
    },
    {
     "data": {
      "text/plain": [
       "{'Bought_Price': 0,\n",
       " 'Current_Price': 200.0,\n",
       " 'Bought_Quantity': 0,\n",
       " 'Sold_Price': 197.45,\n",
       " 'Sold_Quantity': 0,\n",
       " 'Investment': 0,\n",
       " 'Current_Valuation': 0.0,\n",
       " 'Status': 0,\n",
       " 'Short_Gains': -0.0}"
      ]
     },
     "metadata": {},
     "output_type": "display_data"
    },
    {
     "data": {
      "text/plain": [
       "3414545.1000000006"
      ]
     },
     "metadata": {},
     "output_type": "display_data"
    },
    {
     "data": {
      "text/plain": [
       "3459280.6500000027"
      ]
     },
     "metadata": {},
     "output_type": "display_data"
    },
    {
     "name": "stdout",
     "output_type": "stream",
     "text": [
      "\n"
     ]
    },
    {
     "data": {
      "text/plain": [
       "'WOCKPHARMA'"
      ]
     },
     "metadata": {},
     "output_type": "display_data"
    },
    {
     "data": {
      "text/plain": [
       "{'Bought_Price': 0,\n",
       " 'Current_Price': 528.75,\n",
       " 'Bought_Quantity': 0,\n",
       " 'Sold_Price': 523.0,\n",
       " 'Sold_Quantity': 0,\n",
       " 'Investment': 0,\n",
       " 'Current_Valuation': 0.0,\n",
       " 'Status': 0,\n",
       " 'Short_Gains': -0.0}"
      ]
     },
     "metadata": {},
     "output_type": "display_data"
    },
    {
     "data": {
      "text/plain": [
       "3414545.1000000006"
      ]
     },
     "metadata": {},
     "output_type": "display_data"
    },
    {
     "data": {
      "text/plain": [
       "3459280.6500000027"
      ]
     },
     "metadata": {},
     "output_type": "display_data"
    },
    {
     "name": "stdout",
     "output_type": "stream",
     "text": [
      "\n"
     ]
    },
    {
     "data": {
      "text/plain": [
       "'HINDUNILVR'"
      ]
     },
     "metadata": {},
     "output_type": "display_data"
    },
    {
     "data": {
      "text/plain": [
       "{'Bought_Price': 0,\n",
       " 'Current_Price': 1801.1,\n",
       " 'Bought_Quantity': 0,\n",
       " 'Sold_Price': 1824.8,\n",
       " 'Sold_Quantity': 0,\n",
       " 'Investment': 0,\n",
       " 'Current_Valuation': 0.0,\n",
       " 'Status': 0,\n",
       " 'Short_Gains': 0.0}"
      ]
     },
     "metadata": {},
     "output_type": "display_data"
    },
    {
     "data": {
      "text/plain": [
       "3414545.1000000006"
      ]
     },
     "metadata": {},
     "output_type": "display_data"
    },
    {
     "data": {
      "text/plain": [
       "3459280.6500000027"
      ]
     },
     "metadata": {},
     "output_type": "display_data"
    },
    {
     "name": "stdout",
     "output_type": "stream",
     "text": [
      "\n"
     ]
    },
    {
     "data": {
      "text/plain": [
       "'AMBER'"
      ]
     },
     "metadata": {},
     "output_type": "display_data"
    },
    {
     "data": {
      "text/plain": [
       "{'Bought_Price': 0,\n",
       " 'Current_Price': 909.0,\n",
       " 'Bought_Quantity': 0,\n",
       " 'Sold_Price': 910.2,\n",
       " 'Sold_Quantity': 0,\n",
       " 'Investment': 0,\n",
       " 'Current_Valuation': 0,\n",
       " 'Status': 0,\n",
       " 'Short_Gains': 0.0}"
      ]
     },
     "metadata": {},
     "output_type": "display_data"
    },
    {
     "data": {
      "text/plain": [
       "3401802.3000000007"
      ]
     },
     "metadata": {},
     "output_type": "display_data"
    },
    {
     "data": {
      "text/plain": [
       "3438508.1500000027"
      ]
     },
     "metadata": {},
     "output_type": "display_data"
    },
    {
     "name": "stdout",
     "output_type": "stream",
     "text": [
      "\n"
     ]
    },
    {
     "data": {
      "text/plain": [
       "'SANOFI'"
      ]
     },
     "metadata": {},
     "output_type": "display_data"
    },
    {
     "data": {
      "text/plain": [
       "{'Bought_Price': 0,\n",
       " 'Current_Price': 6339.95,\n",
       " 'Bought_Quantity': 0,\n",
       " 'Sold_Price': 6370.0,\n",
       " 'Sold_Quantity': 0,\n",
       " 'Investment': 0,\n",
       " 'Current_Valuation': 0.0,\n",
       " 'Status': 0,\n",
       " 'Short_Gains': 0.0}"
      ]
     },
     "metadata": {},
     "output_type": "display_data"
    },
    {
     "data": {
      "text/plain": [
       "3401802.3000000007"
      ]
     },
     "metadata": {},
     "output_type": "display_data"
    },
    {
     "data": {
      "text/plain": [
       "3438508.1500000027"
      ]
     },
     "metadata": {},
     "output_type": "display_data"
    },
    {
     "name": "stdout",
     "output_type": "stream",
     "text": [
      "\n"
     ]
    },
    {
     "data": {
      "text/plain": [
       "'VINATIORGA'"
      ]
     },
     "metadata": {},
     "output_type": "display_data"
    },
    {
     "data": {
      "text/plain": [
       "{'Bought_Price': 0,\n",
       " 'Current_Price': 1631.7,\n",
       " 'Bought_Quantity': 0,\n",
       " 'Sold_Price': 1659.85,\n",
       " 'Sold_Quantity': 0,\n",
       " 'Investment': 0,\n",
       " 'Current_Valuation': 0.0,\n",
       " 'Status': 0,\n",
       " 'Short_Gains': 0.0}"
      ]
     },
     "metadata": {},
     "output_type": "display_data"
    },
    {
     "data": {
      "text/plain": [
       "3401802.3000000007"
      ]
     },
     "metadata": {},
     "output_type": "display_data"
    },
    {
     "data": {
      "text/plain": [
       "3438508.1500000027"
      ]
     },
     "metadata": {},
     "output_type": "display_data"
    },
    {
     "name": "stdout",
     "output_type": "stream",
     "text": [
      "\n"
     ]
    },
    {
     "data": {
      "text/plain": [
       "'KSCL'"
      ]
     },
     "metadata": {},
     "output_type": "display_data"
    },
    {
     "data": {
      "text/plain": [
       "{'Bought_Price': 0,\n",
       " 'Current_Price': 576.3,\n",
       " 'Bought_Quantity': 0,\n",
       " 'Sold_Price': 576.0,\n",
       " 'Sold_Quantity': 0,\n",
       " 'Investment': 0,\n",
       " 'Current_Valuation': 0.0,\n",
       " 'Status': 0,\n",
       " 'Short_Gains': -0.0}"
      ]
     },
     "metadata": {},
     "output_type": "display_data"
    },
    {
     "data": {
      "text/plain": [
       "3401802.3000000007"
      ]
     },
     "metadata": {},
     "output_type": "display_data"
    },
    {
     "data": {
      "text/plain": [
       "3438508.1500000027"
      ]
     },
     "metadata": {},
     "output_type": "display_data"
    },
    {
     "name": "stdout",
     "output_type": "stream",
     "text": [
      "\n"
     ]
    },
    {
     "data": {
      "text/plain": [
       "'LUXIND'"
      ]
     },
     "metadata": {},
     "output_type": "display_data"
    },
    {
     "data": {
      "text/plain": [
       "{'Bought_Price': 0,\n",
       " 'Current_Price': 1383.7,\n",
       " 'Bought_Quantity': 0,\n",
       " 'Sold_Price': 1384.9,\n",
       " 'Sold_Quantity': 0,\n",
       " 'Investment': 0,\n",
       " 'Current_Valuation': 0.0,\n",
       " 'Status': 0,\n",
       " 'Short_Gains': 0.0}"
      ]
     },
     "metadata": {},
     "output_type": "display_data"
    },
    {
     "data": {
      "text/plain": [
       "3401802.3000000007"
      ]
     },
     "metadata": {},
     "output_type": "display_data"
    },
    {
     "data": {
      "text/plain": [
       "3438508.1500000027"
      ]
     },
     "metadata": {},
     "output_type": "display_data"
    },
    {
     "name": "stdout",
     "output_type": "stream",
     "text": [
      "\n"
     ]
    },
    {
     "data": {
      "text/plain": [
       "'NCC'"
      ]
     },
     "metadata": {},
     "output_type": "display_data"
    },
    {
     "data": {
      "text/plain": [
       "{'Bought_Price': 0,\n",
       " 'Current_Price': 88.9,\n",
       " 'Bought_Quantity': 0,\n",
       " 'Sold_Price': 88.45,\n",
       " 'Sold_Quantity': 0,\n",
       " 'Investment': 0,\n",
       " 'Current_Valuation': 0.0,\n",
       " 'Status': 0,\n",
       " 'Short_Gains': -0.0}"
      ]
     },
     "metadata": {},
     "output_type": "display_data"
    },
    {
     "data": {
      "text/plain": [
       "3401802.3000000007"
      ]
     },
     "metadata": {},
     "output_type": "display_data"
    },
    {
     "data": {
      "text/plain": [
       "3438508.1500000027"
      ]
     },
     "metadata": {},
     "output_type": "display_data"
    },
    {
     "name": "stdout",
     "output_type": "stream",
     "text": [
      "\n"
     ]
    },
    {
     "data": {
      "text/plain": [
       "'GEPIL'"
      ]
     },
     "metadata": {},
     "output_type": "display_data"
    },
    {
     "data": {
      "text/plain": [
       "{'Bought_Price': 0,\n",
       " 'Current_Price': 821.3,\n",
       " 'Bought_Quantity': 0,\n",
       " 'Sold_Price': 835.1,\n",
       " 'Sold_Quantity': 0,\n",
       " 'Investment': 0,\n",
       " 'Current_Valuation': 0.0,\n",
       " 'Status': 0,\n",
       " 'Short_Gains': 0.0}"
      ]
     },
     "metadata": {},
     "output_type": "display_data"
    },
    {
     "data": {
      "text/plain": [
       "3401802.3000000007"
      ]
     },
     "metadata": {},
     "output_type": "display_data"
    },
    {
     "data": {
      "text/plain": [
       "3438508.1500000027"
      ]
     },
     "metadata": {},
     "output_type": "display_data"
    },
    {
     "name": "stdout",
     "output_type": "stream",
     "text": [
      "\n"
     ]
    },
    {
     "data": {
      "text/plain": [
       "'MINDAIND'"
      ]
     },
     "metadata": {},
     "output_type": "display_data"
    },
    {
     "data": {
      "text/plain": [
       "{'Bought_Price': 0,\n",
       " 'Current_Price': 323.9,\n",
       " 'Bought_Quantity': 0,\n",
       " 'Sold_Price': 320.0,\n",
       " 'Sold_Quantity': 0,\n",
       " 'Investment': 0,\n",
       " 'Current_Valuation': 0.0,\n",
       " 'Status': 0,\n",
       " 'Short_Gains': -0.0}"
      ]
     },
     "metadata": {},
     "output_type": "display_data"
    },
    {
     "data": {
      "text/plain": [
       "3401802.3000000007"
      ]
     },
     "metadata": {},
     "output_type": "display_data"
    },
    {
     "data": {
      "text/plain": [
       "3438508.1500000027"
      ]
     },
     "metadata": {},
     "output_type": "display_data"
    },
    {
     "name": "stdout",
     "output_type": "stream",
     "text": [
      "\n"
     ]
    },
    {
     "data": {
      "text/plain": [
       "'INDOSTAR'"
      ]
     },
     "metadata": {},
     "output_type": "display_data"
    },
    {
     "data": {
      "text/plain": [
       "{'Bought_Price': 0,\n",
       " 'Current_Price': 346.8,\n",
       " 'Bought_Quantity': 0,\n",
       " 'Sold_Price': 350.85,\n",
       " 'Sold_Quantity': 0,\n",
       " 'Investment': 0,\n",
       " 'Current_Valuation': 0.0,\n",
       " 'Status': 0,\n",
       " 'Short_Gains': 0.0}"
      ]
     },
     "metadata": {},
     "output_type": "display_data"
    },
    {
     "data": {
      "text/plain": [
       "3401802.3000000007"
      ]
     },
     "metadata": {},
     "output_type": "display_data"
    },
    {
     "data": {
      "text/plain": [
       "3438508.1500000027"
      ]
     },
     "metadata": {},
     "output_type": "display_data"
    },
    {
     "name": "stdout",
     "output_type": "stream",
     "text": [
      "\n"
     ]
    },
    {
     "data": {
      "text/plain": [
       "'TORNTPHARM'"
      ]
     },
     "metadata": {},
     "output_type": "display_data"
    },
    {
     "data": {
      "text/plain": [
       "{'Bought_Price': 0,\n",
       " 'Current_Price': 1775.55,\n",
       " 'Bought_Quantity': 0,\n",
       " 'Sold_Price': 1783.95,\n",
       " 'Sold_Quantity': 0,\n",
       " 'Investment': 0,\n",
       " 'Current_Valuation': 0.0,\n",
       " 'Status': 0,\n",
       " 'Short_Gains': 0.0}"
      ]
     },
     "metadata": {},
     "output_type": "display_data"
    },
    {
     "data": {
      "text/plain": [
       "3401802.3000000007"
      ]
     },
     "metadata": {},
     "output_type": "display_data"
    },
    {
     "data": {
      "text/plain": [
       "3438508.1500000027"
      ]
     },
     "metadata": {},
     "output_type": "display_data"
    },
    {
     "name": "stdout",
     "output_type": "stream",
     "text": [
      "\n"
     ]
    },
    {
     "data": {
      "text/plain": [
       "'PTC'"
      ]
     },
     "metadata": {},
     "output_type": "display_data"
    },
    {
     "data": {
      "text/plain": [
       "{'Bought_Price': 0,\n",
       " 'Current_Price': 92.9,\n",
       " 'Bought_Quantity': 0,\n",
       " 'Sold_Price': 92.4,\n",
       " 'Sold_Quantity': 0,\n",
       " 'Investment': 0,\n",
       " 'Current_Valuation': 0.0,\n",
       " 'Status': 0,\n",
       " 'Short_Gains': -0.0}"
      ]
     },
     "metadata": {},
     "output_type": "display_data"
    },
    {
     "data": {
      "text/plain": [
       "3401802.3000000007"
      ]
     },
     "metadata": {},
     "output_type": "display_data"
    },
    {
     "data": {
      "text/plain": [
       "3438508.1500000027"
      ]
     },
     "metadata": {},
     "output_type": "display_data"
    },
    {
     "name": "stdout",
     "output_type": "stream",
     "text": [
      "\n"
     ]
    },
    {
     "data": {
      "text/plain": [
       "'STRTECH'"
      ]
     },
     "metadata": {},
     "output_type": "display_data"
    },
    {
     "data": {
      "text/plain": [
       "{'Bought_Price': 0,\n",
       " 'Current_Price': 295.75,\n",
       " 'Bought_Quantity': 0,\n",
       " 'Sold_Price': 296.0,\n",
       " 'Sold_Quantity': 0,\n",
       " 'Investment': 0,\n",
       " 'Current_Valuation': 0.0,\n",
       " 'Status': 0,\n",
       " 'Short_Gains': 0.0}"
      ]
     },
     "metadata": {},
     "output_type": "display_data"
    },
    {
     "data": {
      "text/plain": [
       "3401802.3000000007"
      ]
     },
     "metadata": {},
     "output_type": "display_data"
    },
    {
     "data": {
      "text/plain": [
       "3438508.1500000027"
      ]
     },
     "metadata": {},
     "output_type": "display_data"
    },
    {
     "name": "stdout",
     "output_type": "stream",
     "text": [
      "\n"
     ]
    },
    {
     "data": {
      "text/plain": [
       "'FINEORG'"
      ]
     },
     "metadata": {},
     "output_type": "display_data"
    },
    {
     "data": {
      "text/plain": [
       "{'Bought_Price': 0,\n",
       " 'Current_Price': 1212.05,\n",
       " 'Bought_Quantity': 0,\n",
       " 'Sold_Price': 1199.6,\n",
       " 'Sold_Quantity': 0,\n",
       " 'Investment': 0,\n",
       " 'Current_Valuation': 0.0,\n",
       " 'Status': 0,\n",
       " 'Short_Gains': -0.0}"
      ]
     },
     "metadata": {},
     "output_type": "display_data"
    },
    {
     "data": {
      "text/plain": [
       "3401802.3000000007"
      ]
     },
     "metadata": {},
     "output_type": "display_data"
    },
    {
     "data": {
      "text/plain": [
       "3438508.1500000027"
      ]
     },
     "metadata": {},
     "output_type": "display_data"
    },
    {
     "name": "stdout",
     "output_type": "stream",
     "text": [
      "\n"
     ]
    },
    {
     "data": {
      "text/plain": [
       "'EIDPARRY'"
      ]
     },
     "metadata": {},
     "output_type": "display_data"
    },
    {
     "data": {
      "text/plain": [
       "{'Bought_Price': 0,\n",
       " 'Current_Price': 206.3,\n",
       " 'Bought_Quantity': 0,\n",
       " 'Sold_Price': 206.3,\n",
       " 'Sold_Quantity': 0,\n",
       " 'Investment': 0,\n",
       " 'Current_Valuation': 0,\n",
       " 'Status': 0,\n",
       " 'Short_Gains': 0.0}"
      ]
     },
     "metadata": {},
     "output_type": "display_data"
    },
    {
     "data": {
      "text/plain": [
       "3387361.3000000007"
      ]
     },
     "metadata": {},
     "output_type": "display_data"
    },
    {
     "data": {
      "text/plain": [
       "3418232.6500000027"
      ]
     },
     "metadata": {},
     "output_type": "display_data"
    },
    {
     "name": "stdout",
     "output_type": "stream",
     "text": [
      "\n"
     ]
    },
    {
     "data": {
      "text/plain": [
       "'CHALET'"
      ]
     },
     "metadata": {},
     "output_type": "display_data"
    },
    {
     "data": {
      "text/plain": [
       "{'Bought_Price': 0,\n",
       " 'Current_Price': 291.7,\n",
       " 'Bought_Quantity': 0,\n",
       " 'Sold_Price': 294.0,\n",
       " 'Sold_Quantity': 0,\n",
       " 'Investment': 0,\n",
       " 'Current_Valuation': 0.0,\n",
       " 'Status': 0,\n",
       " 'Short_Gains': 0.0}"
      ]
     },
     "metadata": {},
     "output_type": "display_data"
    },
    {
     "data": {
      "text/plain": [
       "3387361.3000000007"
      ]
     },
     "metadata": {},
     "output_type": "display_data"
    },
    {
     "data": {
      "text/plain": [
       "3418232.6500000027"
      ]
     },
     "metadata": {},
     "output_type": "display_data"
    },
    {
     "name": "stdout",
     "output_type": "stream",
     "text": [
      "\n"
     ]
    },
    {
     "data": {
      "text/plain": [
       "'LEMONTREE'"
      ]
     },
     "metadata": {},
     "output_type": "display_data"
    },
    {
     "data": {
      "text/plain": [
       "{'Bought_Price': 0,\n",
       " 'Current_Price': 74.3,\n",
       " 'Bought_Quantity': 0,\n",
       " 'Sold_Price': 73.45,\n",
       " 'Sold_Quantity': 0,\n",
       " 'Investment': 0,\n",
       " 'Current_Valuation': 0.0,\n",
       " 'Status': 0,\n",
       " 'Short_Gains': -0.0}"
      ]
     },
     "metadata": {},
     "output_type": "display_data"
    },
    {
     "data": {
      "text/plain": [
       "3387361.3000000007"
      ]
     },
     "metadata": {},
     "output_type": "display_data"
    },
    {
     "data": {
      "text/plain": [
       "3418232.6500000027"
      ]
     },
     "metadata": {},
     "output_type": "display_data"
    },
    {
     "name": "stdout",
     "output_type": "stream",
     "text": [
      "\n"
     ]
    },
    {
     "data": {
      "text/plain": [
       "'GLENMARK'"
      ]
     },
     "metadata": {},
     "output_type": "display_data"
    },
    {
     "data": {
      "text/plain": [
       "{'Bought_Price': 0,\n",
       " 'Current_Price': 692.15,\n",
       " 'Bought_Quantity': 0,\n",
       " 'Sold_Price': 690.5,\n",
       " 'Sold_Quantity': 0,\n",
       " 'Investment': 0,\n",
       " 'Current_Valuation': 0.0,\n",
       " 'Status': 0,\n",
       " 'Short_Gains': -0.0}"
      ]
     },
     "metadata": {},
     "output_type": "display_data"
    },
    {
     "data": {
      "text/plain": [
       "3387361.3000000007"
      ]
     },
     "metadata": {},
     "output_type": "display_data"
    },
    {
     "data": {
      "text/plain": [
       "3418232.6500000027"
      ]
     },
     "metadata": {},
     "output_type": "display_data"
    },
    {
     "name": "stdout",
     "output_type": "stream",
     "text": [
      "\n"
     ]
    },
    {
     "data": {
      "text/plain": [
       "'GRAPHITE'"
      ]
     },
     "metadata": {},
     "output_type": "display_data"
    },
    {
     "data": {
      "text/plain": [
       "{'Bought_Price': 0,\n",
       " 'Current_Price': 754.65,\n",
       " 'Bought_Quantity': 0,\n",
       " 'Sold_Price': 755.0,\n",
       " 'Sold_Quantity': 0,\n",
       " 'Investment': 0,\n",
       " 'Current_Valuation': 0.0,\n",
       " 'Status': 0,\n",
       " 'Short_Gains': 0.0}"
      ]
     },
     "metadata": {},
     "output_type": "display_data"
    },
    {
     "data": {
      "text/plain": [
       "3387361.3000000007"
      ]
     },
     "metadata": {},
     "output_type": "display_data"
    },
    {
     "data": {
      "text/plain": [
       "3418232.6500000027"
      ]
     },
     "metadata": {},
     "output_type": "display_data"
    },
    {
     "name": "stdout",
     "output_type": "stream",
     "text": [
      "\n"
     ]
    },
    {
     "data": {
      "text/plain": [
       "'TATAMOTORS'"
      ]
     },
     "metadata": {},
     "output_type": "display_data"
    },
    {
     "data": {
      "text/plain": [
       "{'Bought_Price': 0,\n",
       " 'Current_Price': 173.45,\n",
       " 'Bought_Quantity': 0,\n",
       " 'Sold_Price': 173.5,\n",
       " 'Sold_Quantity': 0,\n",
       " 'Investment': 0,\n",
       " 'Current_Valuation': 0.0,\n",
       " 'Status': 0,\n",
       " 'Short_Gains': 0.0}"
      ]
     },
     "metadata": {},
     "output_type": "display_data"
    },
    {
     "data": {
      "text/plain": [
       "3387361.3000000007"
      ]
     },
     "metadata": {},
     "output_type": "display_data"
    },
    {
     "data": {
      "text/plain": [
       "3418232.6500000027"
      ]
     },
     "metadata": {},
     "output_type": "display_data"
    },
    {
     "name": "stdout",
     "output_type": "stream",
     "text": [
      "\n"
     ]
    },
    {
     "data": {
      "text/plain": [
       "'ULTRACEMCO'"
      ]
     },
     "metadata": {},
     "output_type": "display_data"
    },
    {
     "data": {
      "text/plain": [
       "{'Bought_Price': 0,\n",
       " 'Current_Price': 4009.2,\n",
       " 'Bought_Quantity': 0,\n",
       " 'Sold_Price': 4000.0,\n",
       " 'Sold_Quantity': 0,\n",
       " 'Investment': 0,\n",
       " 'Current_Valuation': 0.0,\n",
       " 'Status': 0,\n",
       " 'Short_Gains': -0.0}"
      ]
     },
     "metadata": {},
     "output_type": "display_data"
    },
    {
     "data": {
      "text/plain": [
       "3387361.3000000007"
      ]
     },
     "metadata": {},
     "output_type": "display_data"
    },
    {
     "data": {
      "text/plain": [
       "3418232.6500000027"
      ]
     },
     "metadata": {},
     "output_type": "display_data"
    },
    {
     "name": "stdout",
     "output_type": "stream",
     "text": [
      "\n"
     ]
    },
    {
     "data": {
      "text/plain": [
       "'THERMAX'"
      ]
     },
     "metadata": {},
     "output_type": "display_data"
    },
    {
     "data": {
      "text/plain": [
       "{'Bought_Price': 0,\n",
       " 'Current_Price': 1130.7,\n",
       " 'Bought_Quantity': 0,\n",
       " 'Sold_Price': 1108.0,\n",
       " 'Sold_Quantity': 0,\n",
       " 'Investment': 0,\n",
       " 'Current_Valuation': 0,\n",
       " 'Status': 0,\n",
       " 'Short_Gains': -0.0}"
      ]
     },
     "metadata": {},
     "output_type": "display_data"
    },
    {
     "data": {
      "text/plain": [
       "3356337.3000000007"
      ]
     },
     "metadata": {},
     "output_type": "display_data"
    },
    {
     "data": {
      "text/plain": [
       "3397852.850000003"
      ]
     },
     "metadata": {},
     "output_type": "display_data"
    },
    {
     "name": "stdout",
     "output_type": "stream",
     "text": [
      "\n"
     ]
    },
    {
     "data": {
      "text/plain": [
       "'MASFIN'"
      ]
     },
     "metadata": {},
     "output_type": "display_data"
    },
    {
     "data": {
      "text/plain": [
       "{'Bought_Price': 0,\n",
       " 'Current_Price': 577.1,\n",
       " 'Bought_Quantity': 0,\n",
       " 'Sold_Price': 593.55,\n",
       " 'Sold_Quantity': 0,\n",
       " 'Investment': 0,\n",
       " 'Current_Valuation': 0.0,\n",
       " 'Status': 0,\n",
       " 'Short_Gains': 0.0}"
      ]
     },
     "metadata": {},
     "output_type": "display_data"
    },
    {
     "data": {
      "text/plain": [
       "3356337.3000000007"
      ]
     },
     "metadata": {},
     "output_type": "display_data"
    },
    {
     "data": {
      "text/plain": [
       "3397852.850000003"
      ]
     },
     "metadata": {},
     "output_type": "display_data"
    },
    {
     "name": "stdout",
     "output_type": "stream",
     "text": [
      "\n"
     ]
    },
    {
     "data": {
      "text/plain": [
       "'GNFC'"
      ]
     },
     "metadata": {},
     "output_type": "display_data"
    },
    {
     "data": {
      "text/plain": [
       "{'Bought_Price': 0,\n",
       " 'Current_Price': 348.75,\n",
       " 'Bought_Quantity': 0,\n",
       " 'Sold_Price': 341.6,\n",
       " 'Sold_Quantity': 0,\n",
       " 'Investment': 0,\n",
       " 'Current_Valuation': 0,\n",
       " 'Status': 0,\n",
       " 'Short_Gains': -0.0}"
      ]
     },
     "metadata": {},
     "output_type": "display_data"
    },
    {
     "data": {
      "text/plain": [
       "3314662.1000000006"
      ]
     },
     "metadata": {},
     "output_type": "display_data"
    },
    {
     "data": {
      "text/plain": [
       "3378723.250000003"
      ]
     },
     "metadata": {},
     "output_type": "display_data"
    },
    {
     "name": "stdout",
     "output_type": "stream",
     "text": [
      "\n"
     ]
    },
    {
     "data": {
      "text/plain": [
       "'KEI'"
      ]
     },
     "metadata": {},
     "output_type": "display_data"
    },
    {
     "data": {
      "text/plain": [
       "{'Bought_Price': 0,\n",
       " 'Current_Price': 361.15,\n",
       " 'Bought_Quantity': 0,\n",
       " 'Sold_Price': 359.2,\n",
       " 'Sold_Quantity': 0,\n",
       " 'Investment': 0,\n",
       " 'Current_Valuation': 0.0,\n",
       " 'Status': 0,\n",
       " 'Short_Gains': -0.0}"
      ]
     },
     "metadata": {},
     "output_type": "display_data"
    },
    {
     "data": {
      "text/plain": [
       "3314662.1000000006"
      ]
     },
     "metadata": {},
     "output_type": "display_data"
    },
    {
     "data": {
      "text/plain": [
       "3378723.250000003"
      ]
     },
     "metadata": {},
     "output_type": "display_data"
    },
    {
     "name": "stdout",
     "output_type": "stream",
     "text": [
      "\n"
     ]
    },
    {
     "data": {
      "text/plain": [
       "'SUDARSCHEM'"
      ]
     },
     "metadata": {},
     "output_type": "display_data"
    },
    {
     "data": {
      "text/plain": [
       "{'Bought_Price': 0,\n",
       " 'Current_Price': 345.05,\n",
       " 'Bought_Quantity': 0,\n",
       " 'Sold_Price': 339.2,\n",
       " 'Sold_Quantity': 0,\n",
       " 'Investment': 0,\n",
       " 'Current_Valuation': 0.0,\n",
       " 'Status': 0,\n",
       " 'Short_Gains': -0.0}"
      ]
     },
     "metadata": {},
     "output_type": "display_data"
    },
    {
     "data": {
      "text/plain": [
       "3314662.1000000006"
      ]
     },
     "metadata": {},
     "output_type": "display_data"
    },
    {
     "data": {
      "text/plain": [
       "3378723.250000003"
      ]
     },
     "metadata": {},
     "output_type": "display_data"
    },
    {
     "name": "stdout",
     "output_type": "stream",
     "text": [
      "\n"
     ]
    },
    {
     "data": {
      "text/plain": [
       "'HEG'"
      ]
     },
     "metadata": {},
     "output_type": "display_data"
    },
    {
     "data": {
      "text/plain": [
       "{'Bought_Price': 0,\n",
       " 'Current_Price': 3686.35,\n",
       " 'Bought_Quantity': 0,\n",
       " 'Sold_Price': 3707.6,\n",
       " 'Sold_Quantity': 0,\n",
       " 'Investment': 0,\n",
       " 'Current_Valuation': 0,\n",
       " 'Status': 0,\n",
       " 'Short_Gains': 0.0}"
      ]
     },
     "metadata": {},
     "output_type": "display_data"
    },
    {
     "data": {
      "text/plain": [
       "3218264.5000000005"
      ]
     },
     "metadata": {},
     "output_type": "display_data"
    },
    {
     "data": {
      "text/plain": [
       "3357005.450000003"
      ]
     },
     "metadata": {},
     "output_type": "display_data"
    },
    {
     "name": "stdout",
     "output_type": "stream",
     "text": [
      "\n"
     ]
    },
    {
     "data": {
      "text/plain": [
       "'POLYCAB'"
      ]
     },
     "metadata": {},
     "output_type": "display_data"
    },
    {
     "data": {
      "text/plain": [
       "{'Bought_Price': 0,\n",
       " 'Current_Price': 654.8,\n",
       " 'Bought_Quantity': 0,\n",
       " 'Sold_Price': 633.0,\n",
       " 'Sold_Quantity': 0,\n",
       " 'Investment': 0,\n",
       " 'Current_Valuation': 0.0,\n",
       " 'Status': 0,\n",
       " 'Short_Gains': -0.0}"
      ]
     },
     "metadata": {},
     "output_type": "display_data"
    },
    {
     "data": {
      "text/plain": [
       "3218264.5000000005"
      ]
     },
     "metadata": {},
     "output_type": "display_data"
    },
    {
     "data": {
      "text/plain": [
       "3357005.450000003"
      ]
     },
     "metadata": {},
     "output_type": "display_data"
    },
    {
     "name": "stdout",
     "output_type": "stream",
     "text": [
      "\n"
     ]
    },
    {
     "data": {
      "text/plain": [
       "'WELCORP'"
      ]
     },
     "metadata": {},
     "output_type": "display_data"
    },
    {
     "data": {
      "text/plain": [
       "{'Bought_Price': 0,\n",
       " 'Current_Price': 139.85,\n",
       " 'Bought_Quantity': 0,\n",
       " 'Sold_Price': 138.6,\n",
       " 'Sold_Quantity': 0,\n",
       " 'Investment': 0,\n",
       " 'Current_Valuation': 0.0,\n",
       " 'Status': 0,\n",
       " 'Short_Gains': -0.0}"
      ]
     },
     "metadata": {},
     "output_type": "display_data"
    },
    {
     "data": {
      "text/plain": [
       "3218264.5000000005"
      ]
     },
     "metadata": {},
     "output_type": "display_data"
    },
    {
     "data": {
      "text/plain": [
       "3357005.450000003"
      ]
     },
     "metadata": {},
     "output_type": "display_data"
    },
    {
     "name": "stdout",
     "output_type": "stream",
     "text": [
      "\n"
     ]
    },
    {
     "data": {
      "text/plain": [
       "'CRISIL'"
      ]
     },
     "metadata": {},
     "output_type": "display_data"
    },
    {
     "data": {
      "text/plain": [
       "{'Bought_Price': 0,\n",
       " 'Current_Price': 1619.4,\n",
       " 'Bought_Quantity': 0,\n",
       " 'Sold_Price': 1601.0,\n",
       " 'Sold_Quantity': 0,\n",
       " 'Investment': 0,\n",
       " 'Current_Valuation': 0,\n",
       " 'Status': 0,\n",
       " 'Short_Gains': -0.0}"
      ]
     },
     "metadata": {},
     "output_type": "display_data"
    },
    {
     "data": {
      "text/plain": [
       "3199052.5000000005"
      ]
     },
     "metadata": {},
     "output_type": "display_data"
    },
    {
     "data": {
      "text/plain": [
       "3336213.6500000027"
      ]
     },
     "metadata": {},
     "output_type": "display_data"
    },
    {
     "name": "stdout",
     "output_type": "stream",
     "text": [
      "\n"
     ]
    },
    {
     "data": {
      "text/plain": [
       "'SWANENERGY'"
      ]
     },
     "metadata": {},
     "output_type": "display_data"
    },
    {
     "data": {
      "text/plain": [
       "{'Bought_Price': 0,\n",
       " 'Current_Price': 100.1,\n",
       " 'Bought_Quantity': 0,\n",
       " 'Sold_Price': 101.7,\n",
       " 'Sold_Quantity': 0,\n",
       " 'Investment': 0,\n",
       " 'Current_Valuation': 0.0,\n",
       " 'Status': 0,\n",
       " 'Short_Gains': 0.0}"
      ]
     },
     "metadata": {},
     "output_type": "display_data"
    },
    {
     "data": {
      "text/plain": [
       "3199052.5000000005"
      ]
     },
     "metadata": {},
     "output_type": "display_data"
    },
    {
     "data": {
      "text/plain": [
       "3336213.6500000027"
      ]
     },
     "metadata": {},
     "output_type": "display_data"
    },
    {
     "name": "stdout",
     "output_type": "stream",
     "text": [
      "\n"
     ]
    },
    {
     "data": {
      "text/plain": [
       "'EQUITAS'"
      ]
     },
     "metadata": {},
     "output_type": "display_data"
    },
    {
     "data": {
      "text/plain": [
       "{'Bought_Price': 0,\n",
       " 'Current_Price': 124.2,\n",
       " 'Bought_Quantity': 0,\n",
       " 'Sold_Price': 125.1,\n",
       " 'Sold_Quantity': 0,\n",
       " 'Investment': 0,\n",
       " 'Current_Valuation': 0,\n",
       " 'Status': 0,\n",
       " 'Short_Gains': 0.0}"
      ]
     },
     "metadata": {},
     "output_type": "display_data"
    },
    {
     "data": {
      "text/plain": [
       "3155267.5000000005"
      ]
     },
     "metadata": {},
     "output_type": "display_data"
    },
    {
     "data": {
      "text/plain": [
       "3315598.6500000027"
      ]
     },
     "metadata": {},
     "output_type": "display_data"
    },
    {
     "name": "stdout",
     "output_type": "stream",
     "text": [
      "\n"
     ]
    },
    {
     "data": {
      "text/plain": [
       "'HDFC'"
      ]
     },
     "metadata": {},
     "output_type": "display_data"
    },
    {
     "data": {
      "text/plain": [
       "{'Bought_Price': 0,\n",
       " 'Current_Price': 2009.0,\n",
       " 'Bought_Quantity': 0,\n",
       " 'Sold_Price': 1968.0,\n",
       " 'Sold_Quantity': 0,\n",
       " 'Investment': 0,\n",
       " 'Current_Valuation': 0.0,\n",
       " 'Status': 0,\n",
       " 'Short_Gains': -0.0}"
      ]
     },
     "metadata": {},
     "output_type": "display_data"
    },
    {
     "data": {
      "text/plain": [
       "3155267.5000000005"
      ]
     },
     "metadata": {},
     "output_type": "display_data"
    },
    {
     "data": {
      "text/plain": [
       "3315598.6500000027"
      ]
     },
     "metadata": {},
     "output_type": "display_data"
    },
    {
     "name": "stdout",
     "output_type": "stream",
     "text": [
      "\n"
     ]
    },
    {
     "data": {
      "text/plain": [
       "'VTL'"
      ]
     },
     "metadata": {},
     "output_type": "display_data"
    },
    {
     "data": {
      "text/plain": [
       "{'Bought_Price': 0,\n",
       " 'Current_Price': 1104.85,\n",
       " 'Bought_Quantity': 0,\n",
       " 'Sold_Price': 1120.3,\n",
       " 'Sold_Quantity': 0,\n",
       " 'Investment': 0,\n",
       " 'Current_Valuation': 0.0,\n",
       " 'Status': 0,\n",
       " 'Short_Gains': 0.0}"
      ]
     },
     "metadata": {},
     "output_type": "display_data"
    },
    {
     "data": {
      "text/plain": [
       "3155267.5000000005"
      ]
     },
     "metadata": {},
     "output_type": "display_data"
    },
    {
     "data": {
      "text/plain": [
       "3315598.6500000027"
      ]
     },
     "metadata": {},
     "output_type": "display_data"
    },
    {
     "name": "stdout",
     "output_type": "stream",
     "text": [
      "\n"
     ]
    },
    {
     "data": {
      "text/plain": [
       "'VENKEYS'"
      ]
     },
     "metadata": {},
     "output_type": "display_data"
    },
    {
     "data": {
      "text/plain": [
       "{'Bought_Price': 0,\n",
       " 'Current_Price': 2392.0,\n",
       " 'Bought_Quantity': 0,\n",
       " 'Sold_Price': 2409.0,\n",
       " 'Sold_Quantity': 0,\n",
       " 'Investment': 0,\n",
       " 'Current_Valuation': 0.0,\n",
       " 'Status': 0,\n",
       " 'Short_Gains': 0.0}"
      ]
     },
     "metadata": {},
     "output_type": "display_data"
    },
    {
     "data": {
      "text/plain": [
       "3155267.5000000005"
      ]
     },
     "metadata": {},
     "output_type": "display_data"
    },
    {
     "data": {
      "text/plain": [
       "3315598.6500000027"
      ]
     },
     "metadata": {},
     "output_type": "display_data"
    },
    {
     "name": "stdout",
     "output_type": "stream",
     "text": [
      "\n"
     ]
    },
    {
     "data": {
      "text/plain": [
       "'DBCORP'"
      ]
     },
     "metadata": {},
     "output_type": "display_data"
    },
    {
     "data": {
      "text/plain": [
       "{'Bought_Price': 0,\n",
       " 'Current_Price': 171.2,\n",
       " 'Bought_Quantity': 0,\n",
       " 'Sold_Price': 170.0,\n",
       " 'Sold_Quantity': 0,\n",
       " 'Investment': 0,\n",
       " 'Current_Valuation': 0,\n",
       " 'Status': 0,\n",
       " 'Short_Gains': -0.0}"
      ]
     },
     "metadata": {},
     "output_type": "display_data"
    },
    {
     "data": {
      "text/plain": [
       "3111747.5000000005"
      ]
     },
     "metadata": {},
     "output_type": "display_data"
    },
    {
     "data": {
      "text/plain": [
       "3295771.450000003"
      ]
     },
     "metadata": {},
     "output_type": "display_data"
    },
    {
     "name": "stdout",
     "output_type": "stream",
     "text": [
      "\n"
     ]
    },
    {
     "data": {
      "text/plain": [
       "'DCBBANK'"
      ]
     },
     "metadata": {},
     "output_type": "display_data"
    },
    {
     "data": {
      "text/plain": [
       "{'Bought_Price': 0,\n",
       " 'Current_Price': 169.25,\n",
       " 'Bought_Quantity': 0,\n",
       " 'Sold_Price': 169.25,\n",
       " 'Sold_Quantity': 0,\n",
       " 'Investment': 0,\n",
       " 'Current_Valuation': 0.0,\n",
       " 'Status': 0,\n",
       " 'Short_Gains': 0.0}"
      ]
     },
     "metadata": {},
     "output_type": "display_data"
    },
    {
     "data": {
      "text/plain": [
       "3111747.5000000005"
      ]
     },
     "metadata": {},
     "output_type": "display_data"
    },
    {
     "data": {
      "text/plain": [
       "3295771.450000003"
      ]
     },
     "metadata": {},
     "output_type": "display_data"
    },
    {
     "name": "stdout",
     "output_type": "stream",
     "text": [
      "\n"
     ]
    },
    {
     "data": {
      "text/plain": [
       "'BANDHANBNK'"
      ]
     },
     "metadata": {},
     "output_type": "display_data"
    },
    {
     "data": {
      "text/plain": [
       "{'Bought_Price': 0,\n",
       " 'Current_Price': 556.7,\n",
       " 'Bought_Quantity': 0,\n",
       " 'Sold_Price': 552.5,\n",
       " 'Sold_Quantity': 0,\n",
       " 'Investment': 0,\n",
       " 'Current_Valuation': 0.0,\n",
       " 'Status': 0,\n",
       " 'Short_Gains': -0.0}"
      ]
     },
     "metadata": {},
     "output_type": "display_data"
    },
    {
     "data": {
      "text/plain": [
       "3111747.5000000005"
      ]
     },
     "metadata": {},
     "output_type": "display_data"
    },
    {
     "data": {
      "text/plain": [
       "3295771.450000003"
      ]
     },
     "metadata": {},
     "output_type": "display_data"
    },
    {
     "name": "stdout",
     "output_type": "stream",
     "text": [
      "\n"
     ]
    },
    {
     "data": {
      "text/plain": [
       "'BALRAMCHIN'"
      ]
     },
     "metadata": {},
     "output_type": "display_data"
    },
    {
     "data": {
      "text/plain": [
       "{'Bought_Price': 0,\n",
       " 'Current_Price': 103.4,\n",
       " 'Bought_Quantity': 0,\n",
       " 'Sold_Price': 102.5,\n",
       " 'Sold_Quantity': 0,\n",
       " 'Investment': 0,\n",
       " 'Current_Valuation': 0.0,\n",
       " 'Status': 0,\n",
       " 'Short_Gains': -0.0}"
      ]
     },
     "metadata": {},
     "output_type": "display_data"
    },
    {
     "data": {
      "text/plain": [
       "3111747.5000000005"
      ]
     },
     "metadata": {},
     "output_type": "display_data"
    },
    {
     "data": {
      "text/plain": [
       "3295771.450000003"
      ]
     },
     "metadata": {},
     "output_type": "display_data"
    },
    {
     "name": "stdout",
     "output_type": "stream",
     "text": [
      "\n"
     ]
    },
    {
     "data": {
      "text/plain": [
       "'BAJAJHLDNG'"
      ]
     },
     "metadata": {},
     "output_type": "display_data"
    },
    {
     "data": {
      "text/plain": [
       "{'Bought_Price': 0,\n",
       " 'Current_Price': 2949.95,\n",
       " 'Bought_Quantity': 0,\n",
       " 'Sold_Price': 2967.95,\n",
       " 'Sold_Quantity': 0,\n",
       " 'Investment': 0,\n",
       " 'Current_Valuation': 0.0,\n",
       " 'Status': 0,\n",
       " 'Short_Gains': 0.0}"
      ]
     },
     "metadata": {},
     "output_type": "display_data"
    },
    {
     "data": {
      "text/plain": [
       "3111747.5000000005"
      ]
     },
     "metadata": {},
     "output_type": "display_data"
    },
    {
     "data": {
      "text/plain": [
       "3295771.450000003"
      ]
     },
     "metadata": {},
     "output_type": "display_data"
    },
    {
     "name": "stdout",
     "output_type": "stream",
     "text": [
      "\n"
     ]
    },
    {
     "data": {
      "text/plain": [
       "'NBCC'"
      ]
     },
     "metadata": {},
     "output_type": "display_data"
    },
    {
     "data": {
      "text/plain": [
       "{'Bought_Price': 0,\n",
       " 'Current_Price': 57.5,\n",
       " 'Bought_Quantity': 0,\n",
       " 'Sold_Price': 58.1,\n",
       " 'Sold_Quantity': 0,\n",
       " 'Investment': 0,\n",
       " 'Current_Valuation': 0.0,\n",
       " 'Status': 0,\n",
       " 'Short_Gains': 0.0}"
      ]
     },
     "metadata": {},
     "output_type": "display_data"
    },
    {
     "data": {
      "text/plain": [
       "3111747.5000000005"
      ]
     },
     "metadata": {},
     "output_type": "display_data"
    },
    {
     "data": {
      "text/plain": [
       "3295771.450000003"
      ]
     },
     "metadata": {},
     "output_type": "display_data"
    },
    {
     "name": "stdout",
     "output_type": "stream",
     "text": [
      "\n"
     ]
    },
    {
     "data": {
      "text/plain": [
       "'DELTACORP'"
      ]
     },
     "metadata": {},
     "output_type": "display_data"
    },
    {
     "data": {
      "text/plain": [
       "{'Bought_Price': 0,\n",
       " 'Current_Price': 251.7,\n",
       " 'Bought_Quantity': 0,\n",
       " 'Sold_Price': 251.6,\n",
       " 'Sold_Quantity': 0,\n",
       " 'Investment': 0,\n",
       " 'Current_Valuation': 0.0,\n",
       " 'Status': 0,\n",
       " 'Short_Gains': -0.0}"
      ]
     },
     "metadata": {},
     "output_type": "display_data"
    },
    {
     "data": {
      "text/plain": [
       "3111747.5000000005"
      ]
     },
     "metadata": {},
     "output_type": "display_data"
    },
    {
     "data": {
      "text/plain": [
       "3295771.450000003"
      ]
     },
     "metadata": {},
     "output_type": "display_data"
    },
    {
     "name": "stdout",
     "output_type": "stream",
     "text": [
      "\n"
     ]
    },
    {
     "data": {
      "text/plain": [
       "'AAVAS'"
      ]
     },
     "metadata": {},
     "output_type": "display_data"
    },
    {
     "data": {
      "text/plain": [
       "{'Bought_Price': 0,\n",
       " 'Current_Price': 845.25,\n",
       " 'Bought_Quantity': 0,\n",
       " 'Sold_Price': 851.0,\n",
       " 'Sold_Quantity': 0,\n",
       " 'Investment': 0,\n",
       " 'Current_Valuation': 0.0,\n",
       " 'Status': 0,\n",
       " 'Short_Gains': 0.0}"
      ]
     },
     "metadata": {},
     "output_type": "display_data"
    },
    {
     "data": {
      "text/plain": [
       "3111747.5000000005"
      ]
     },
     "metadata": {},
     "output_type": "display_data"
    },
    {
     "data": {
      "text/plain": [
       "3295771.450000003"
      ]
     },
     "metadata": {},
     "output_type": "display_data"
    },
    {
     "name": "stdout",
     "output_type": "stream",
     "text": [
      "\n"
     ]
    },
    {
     "data": {
      "text/plain": [
       "'COLPAL'"
      ]
     },
     "metadata": {},
     "output_type": "display_data"
    },
    {
     "data": {
      "text/plain": [
       "{'Bought_Price': 0,\n",
       " 'Current_Price': 1323.9,\n",
       " 'Bought_Quantity': 0,\n",
       " 'Sold_Price': 1349.8,\n",
       " 'Sold_Quantity': 0,\n",
       " 'Investment': 0,\n",
       " 'Current_Valuation': 0.0,\n",
       " 'Status': 0,\n",
       " 'Short_Gains': 0.0}"
      ]
     },
     "metadata": {},
     "output_type": "display_data"
    },
    {
     "data": {
      "text/plain": [
       "3111747.5000000005"
      ]
     },
     "metadata": {},
     "output_type": "display_data"
    },
    {
     "data": {
      "text/plain": [
       "3295771.450000003"
      ]
     },
     "metadata": {},
     "output_type": "display_data"
    },
    {
     "name": "stdout",
     "output_type": "stream",
     "text": [
      "\n"
     ]
    },
    {
     "data": {
      "text/plain": [
       "'VSTIND'"
      ]
     },
     "metadata": {},
     "output_type": "display_data"
    },
    {
     "data": {
      "text/plain": [
       "{'Bought_Price': 0,\n",
       " 'Current_Price': 3276.35,\n",
       " 'Bought_Quantity': 0,\n",
       " 'Sold_Price': 3245.0,\n",
       " 'Sold_Quantity': 0,\n",
       " 'Investment': 0,\n",
       " 'Current_Valuation': 0.0,\n",
       " 'Status': 0,\n",
       " 'Short_Gains': -0.0}"
      ]
     },
     "metadata": {},
     "output_type": "display_data"
    },
    {
     "data": {
      "text/plain": [
       "3111747.5000000005"
      ]
     },
     "metadata": {},
     "output_type": "display_data"
    },
    {
     "data": {
      "text/plain": [
       "3295771.450000003"
      ]
     },
     "metadata": {},
     "output_type": "display_data"
    },
    {
     "name": "stdout",
     "output_type": "stream",
     "text": [
      "\n"
     ]
    },
    {
     "data": {
      "text/plain": [
       "'PCJEWELLER'"
      ]
     },
     "metadata": {},
     "output_type": "display_data"
    },
    {
     "data": {
      "text/plain": [
       "{'Bought_Price': 0,\n",
       " 'Current_Price': 85.9,\n",
       " 'Bought_Quantity': 0,\n",
       " 'Sold_Price': 85.9,\n",
       " 'Sold_Quantity': 0,\n",
       " 'Investment': 0,\n",
       " 'Current_Valuation': 0.0,\n",
       " 'Status': 0,\n",
       " 'Short_Gains': 0.0}"
      ]
     },
     "metadata": {},
     "output_type": "display_data"
    },
    {
     "data": {
      "text/plain": [
       "3111747.5000000005"
      ]
     },
     "metadata": {},
     "output_type": "display_data"
    },
    {
     "data": {
      "text/plain": [
       "3295771.450000003"
      ]
     },
     "metadata": {},
     "output_type": "display_data"
    },
    {
     "name": "stdout",
     "output_type": "stream",
     "text": [
      "\n"
     ]
    },
    {
     "data": {
      "text/plain": [
       "'MAHSEAMLES'"
      ]
     },
     "metadata": {},
     "output_type": "display_data"
    },
    {
     "data": {
      "text/plain": [
       "{'Bought_Price': 0,\n",
       " 'Current_Price': 491.15,\n",
       " 'Bought_Quantity': 0,\n",
       " 'Sold_Price': 489.95,\n",
       " 'Sold_Quantity': 0,\n",
       " 'Investment': 0,\n",
       " 'Current_Valuation': 0,\n",
       " 'Status': 0,\n",
       " 'Short_Gains': -0.0}"
      ]
     },
     "metadata": {},
     "output_type": "display_data"
    },
    {
     "data": {
      "text/plain": [
       "3067652.0000000005"
      ]
     },
     "metadata": {},
     "output_type": "display_data"
    },
    {
     "data": {
      "text/plain": [
       "3275701.450000003"
      ]
     },
     "metadata": {},
     "output_type": "display_data"
    },
    {
     "name": "stdout",
     "output_type": "stream",
     "text": [
      "\n"
     ]
    },
    {
     "data": {
      "text/plain": [
       "'RECLTD'"
      ]
     },
     "metadata": {},
     "output_type": "display_data"
    },
    {
     "data": {
      "text/plain": [
       "{'Bought_Price': 0,\n",
       " 'Current_Price': 120.65,\n",
       " 'Bought_Quantity': 0,\n",
       " 'Sold_Price': 121.55,\n",
       " 'Sold_Quantity': 0,\n",
       " 'Investment': 0,\n",
       " 'Current_Valuation': 0.0,\n",
       " 'Status': 0,\n",
       " 'Short_Gains': 0.0}"
      ]
     },
     "metadata": {},
     "output_type": "display_data"
    },
    {
     "data": {
      "text/plain": [
       "3067652.0000000005"
      ]
     },
     "metadata": {},
     "output_type": "display_data"
    },
    {
     "data": {
      "text/plain": [
       "3275701.450000003"
      ]
     },
     "metadata": {},
     "output_type": "display_data"
    },
    {
     "name": "stdout",
     "output_type": "stream",
     "text": [
      "\n"
     ]
    },
    {
     "data": {
      "text/plain": [
       "'JKLAKSHMI'"
      ]
     },
     "metadata": {},
     "output_type": "display_data"
    },
    {
     "data": {
      "text/plain": [
       "{'Bought_Price': 0,\n",
       " 'Current_Price': 311.4,\n",
       " 'Bought_Quantity': 0,\n",
       " 'Sold_Price': 294.15,\n",
       " 'Sold_Quantity': 0,\n",
       " 'Investment': 0,\n",
       " 'Current_Valuation': 0,\n",
       " 'Status': 0,\n",
       " 'Short_Gains': -0.0}"
      ]
     },
     "metadata": {},
     "output_type": "display_data"
    },
    {
     "data": {
      "text/plain": [
       "3046473.2000000007"
      ]
     },
     "metadata": {},
     "output_type": "display_data"
    },
    {
     "data": {
      "text/plain": [
       "3256805.050000003"
      ]
     },
     "metadata": {},
     "output_type": "display_data"
    },
    {
     "name": "stdout",
     "output_type": "stream",
     "text": [
      "\n"
     ]
    },
    {
     "data": {
      "text/plain": [
       "'LINDEINDIA'"
      ]
     },
     "metadata": {},
     "output_type": "display_data"
    },
    {
     "data": {
      "text/plain": [
       "{'Bought_Price': 0,\n",
       " 'Current_Price': 682.55,\n",
       " 'Bought_Quantity': 0,\n",
       " 'Sold_Price': 682.55,\n",
       " 'Sold_Quantity': 0,\n",
       " 'Investment': 0,\n",
       " 'Current_Valuation': 0.0,\n",
       " 'Status': 0,\n",
       " 'Short_Gains': 0.0}"
      ]
     },
     "metadata": {},
     "output_type": "display_data"
    },
    {
     "data": {
      "text/plain": [
       "3046473.2000000007"
      ]
     },
     "metadata": {},
     "output_type": "display_data"
    },
    {
     "data": {
      "text/plain": [
       "3256805.050000003"
      ]
     },
     "metadata": {},
     "output_type": "display_data"
    },
    {
     "name": "stdout",
     "output_type": "stream",
     "text": [
      "\n"
     ]
    },
    {
     "data": {
      "text/plain": [
       "'JKTYRE'"
      ]
     },
     "metadata": {},
     "output_type": "display_data"
    },
    {
     "data": {
      "text/plain": [
       "{'Bought_Price': 0,\n",
       " 'Current_Price': 103.8,\n",
       " 'Bought_Quantity': 0,\n",
       " 'Sold_Price': 103.95,\n",
       " 'Sold_Quantity': 0,\n",
       " 'Investment': 0,\n",
       " 'Current_Valuation': 0,\n",
       " 'Status': 0,\n",
       " 'Short_Gains': 0.0}"
      ]
     },
     "metadata": {},
     "output_type": "display_data"
    },
    {
     "data": {
      "text/plain": [
       "3015288.2000000007"
      ]
     },
     "metadata": {},
     "output_type": "display_data"
    },
    {
     "data": {
      "text/plain": [
       "3236855.050000003"
      ]
     },
     "metadata": {},
     "output_type": "display_data"
    },
    {
     "name": "stdout",
     "output_type": "stream",
     "text": [
      "\n"
     ]
    },
    {
     "data": {
      "text/plain": [
       "'JMFINANCIL'"
      ]
     },
     "metadata": {},
     "output_type": "display_data"
    },
    {
     "data": {
      "text/plain": [
       "{'Bought_Price': 0,\n",
       " 'Current_Price': 92.8,\n",
       " 'Bought_Quantity': 0,\n",
       " 'Sold_Price': 93.85,\n",
       " 'Sold_Quantity': 0,\n",
       " 'Investment': 0,\n",
       " 'Current_Valuation': 0,\n",
       " 'Status': 0,\n",
       " 'Short_Gains': 0.0}"
      ]
     },
     "metadata": {},
     "output_type": "display_data"
    },
    {
     "data": {
      "text/plain": [
       "2991638.0000000005"
      ]
     },
     "metadata": {},
     "output_type": "display_data"
    },
    {
     "data": {
      "text/plain": [
       "3216594.250000003"
      ]
     },
     "metadata": {},
     "output_type": "display_data"
    },
    {
     "name": "stdout",
     "output_type": "stream",
     "text": [
      "\n"
     ]
    },
    {
     "data": {
      "text/plain": [
       "'BSE'"
      ]
     },
     "metadata": {},
     "output_type": "display_data"
    },
    {
     "data": {
      "text/plain": [
       "{'Bought_Price': 0,\n",
       " 'Current_Price': 601.1,\n",
       " 'Bought_Quantity': 0,\n",
       " 'Sold_Price': 599.0,\n",
       " 'Sold_Quantity': 0,\n",
       " 'Investment': 0,\n",
       " 'Current_Valuation': 0.0,\n",
       " 'Status': 0,\n",
       " 'Short_Gains': -0.0}"
      ]
     },
     "metadata": {},
     "output_type": "display_data"
    },
    {
     "data": {
      "text/plain": [
       "2991638.0000000005"
      ]
     },
     "metadata": {},
     "output_type": "display_data"
    },
    {
     "data": {
      "text/plain": [
       "3216594.250000003"
      ]
     },
     "metadata": {},
     "output_type": "display_data"
    },
    {
     "name": "stdout",
     "output_type": "stream",
     "text": [
      "\n"
     ]
    },
    {
     "data": {
      "text/plain": [
       "'JSLHISAR'"
      ]
     },
     "metadata": {},
     "output_type": "display_data"
    },
    {
     "data": {
      "text/plain": [
       "{'Bought_Price': 0,\n",
       " 'Current_Price': 92.1,\n",
       " 'Bought_Quantity': 0,\n",
       " 'Sold_Price': 93.0,\n",
       " 'Sold_Quantity': 0,\n",
       " 'Investment': 0,\n",
       " 'Current_Valuation': 0.0,\n",
       " 'Status': 0,\n",
       " 'Short_Gains': 0.0}"
      ]
     },
     "metadata": {},
     "output_type": "display_data"
    },
    {
     "data": {
      "text/plain": [
       "2991638.0000000005"
      ]
     },
     "metadata": {},
     "output_type": "display_data"
    },
    {
     "data": {
      "text/plain": [
       "3216594.250000003"
      ]
     },
     "metadata": {},
     "output_type": "display_data"
    },
    {
     "name": "stdout",
     "output_type": "stream",
     "text": [
      "\n"
     ]
    },
    {
     "data": {
      "text/plain": [
       "'RBLBANK'"
      ]
     },
     "metadata": {},
     "output_type": "display_data"
    },
    {
     "data": {
      "text/plain": [
       "{'Bought_Price': 0,\n",
       " 'Current_Price': 577.1,\n",
       " 'Bought_Quantity': 0,\n",
       " 'Sold_Price': 578.7,\n",
       " 'Sold_Quantity': 0,\n",
       " 'Investment': 0,\n",
       " 'Current_Valuation': 0.0,\n",
       " 'Status': 0,\n",
       " 'Short_Gains': 0.0}"
      ]
     },
     "metadata": {},
     "output_type": "display_data"
    },
    {
     "data": {
      "text/plain": [
       "2991638.0000000005"
      ]
     },
     "metadata": {},
     "output_type": "display_data"
    },
    {
     "data": {
      "text/plain": [
       "3216594.250000003"
      ]
     },
     "metadata": {},
     "output_type": "display_data"
    },
    {
     "name": "stdout",
     "output_type": "stream",
     "text": [
      "\n"
     ]
    },
    {
     "data": {
      "text/plain": [
       "'SJVN'"
      ]
     },
     "metadata": {},
     "output_type": "display_data"
    },
    {
     "data": {
      "text/plain": [
       "{'Bought_Price': 0,\n",
       " 'Current_Price': 25.6,\n",
       " 'Bought_Quantity': 0,\n",
       " 'Sold_Price': 25.75,\n",
       " 'Sold_Quantity': 0,\n",
       " 'Investment': 0,\n",
       " 'Current_Valuation': 0.0,\n",
       " 'Status': 0,\n",
       " 'Short_Gains': 0.0}"
      ]
     },
     "metadata": {},
     "output_type": "display_data"
    },
    {
     "data": {
      "text/plain": [
       "2991638.0000000005"
      ]
     },
     "metadata": {},
     "output_type": "display_data"
    },
    {
     "data": {
      "text/plain": [
       "3216594.250000003"
      ]
     },
     "metadata": {},
     "output_type": "display_data"
    },
    {
     "name": "stdout",
     "output_type": "stream",
     "text": [
      "\n"
     ]
    },
    {
     "data": {
      "text/plain": [
       "'OIL'"
      ]
     },
     "metadata": {},
     "output_type": "display_data"
    },
    {
     "data": {
      "text/plain": [
       "{'Bought_Price': 0,\n",
       " 'Current_Price': 175.75,\n",
       " 'Bought_Quantity': 0,\n",
       " 'Sold_Price': 175.0,\n",
       " 'Sold_Quantity': 0,\n",
       " 'Investment': 0,\n",
       " 'Current_Valuation': 0.0,\n",
       " 'Status': 0,\n",
       " 'Short_Gains': -0.0}"
      ]
     },
     "metadata": {},
     "output_type": "display_data"
    },
    {
     "data": {
      "text/plain": [
       "2991638.0000000005"
      ]
     },
     "metadata": {},
     "output_type": "display_data"
    },
    {
     "data": {
      "text/plain": [
       "3216594.250000003"
      ]
     },
     "metadata": {},
     "output_type": "display_data"
    },
    {
     "name": "stdout",
     "output_type": "stream",
     "text": [
      "\n"
     ]
    },
    {
     "data": {
      "text/plain": [
       "'PGHL'"
      ]
     },
     "metadata": {},
     "output_type": "display_data"
    },
    {
     "data": {
      "text/plain": [
       "{'Bought_Price': 0,\n",
       " 'Current_Price': 3156.65,\n",
       " 'Bought_Quantity': 0,\n",
       " 'Sold_Price': 3078.7,\n",
       " 'Sold_Quantity': 0,\n",
       " 'Investment': 0,\n",
       " 'Current_Valuation': 0.0,\n",
       " 'Status': 0,\n",
       " 'Short_Gains': -0.0}"
      ]
     },
     "metadata": {},
     "output_type": "display_data"
    },
    {
     "data": {
      "text/plain": [
       "2991638.0000000005"
      ]
     },
     "metadata": {},
     "output_type": "display_data"
    },
    {
     "data": {
      "text/plain": [
       "3216594.250000003"
      ]
     },
     "metadata": {},
     "output_type": "display_data"
    },
    {
     "name": "stdout",
     "output_type": "stream",
     "text": [
      "\n"
     ]
    },
    {
     "data": {
      "text/plain": [
       "'BHARTIARTL'"
      ]
     },
     "metadata": {},
     "output_type": "display_data"
    },
    {
     "data": {
      "text/plain": [
       "{'Bought_Price': 0,\n",
       " 'Current_Price': 319.5,\n",
       " 'Bought_Quantity': 0,\n",
       " 'Sold_Price': 315.95,\n",
       " 'Sold_Quantity': 0,\n",
       " 'Investment': 0,\n",
       " 'Current_Valuation': 0.0,\n",
       " 'Status': 0,\n",
       " 'Short_Gains': -0.0}"
      ]
     },
     "metadata": {},
     "output_type": "display_data"
    },
    {
     "data": {
      "text/plain": [
       "2991638.0000000005"
      ]
     },
     "metadata": {},
     "output_type": "display_data"
    },
    {
     "data": {
      "text/plain": [
       "3216594.250000003"
      ]
     },
     "metadata": {},
     "output_type": "display_data"
    },
    {
     "name": "stdout",
     "output_type": "stream",
     "text": [
      "\n"
     ]
    },
    {
     "data": {
      "text/plain": [
       "'PHILIPCARB'"
      ]
     },
     "metadata": {},
     "output_type": "display_data"
    },
    {
     "data": {
      "text/plain": [
       "{'Bought_Price': 0,\n",
       " 'Current_Price': 207.4,\n",
       " 'Bought_Quantity': 0,\n",
       " 'Sold_Price': 207.6,\n",
       " 'Sold_Quantity': 0,\n",
       " 'Investment': 0,\n",
       " 'Current_Valuation': 0.0,\n",
       " 'Status': 0,\n",
       " 'Short_Gains': 0.0}"
      ]
     },
     "metadata": {},
     "output_type": "display_data"
    },
    {
     "data": {
      "text/plain": [
       "2991638.0000000005"
      ]
     },
     "metadata": {},
     "output_type": "display_data"
    },
    {
     "data": {
      "text/plain": [
       "3216594.250000003"
      ]
     },
     "metadata": {},
     "output_type": "display_data"
    },
    {
     "name": "stdout",
     "output_type": "stream",
     "text": [
      "\n"
     ]
    },
    {
     "data": {
      "text/plain": [
       "'KALPATPOWR'"
      ]
     },
     "metadata": {},
     "output_type": "display_data"
    },
    {
     "data": {
      "text/plain": [
       "{'Bought_Price': 0,\n",
       " 'Current_Price': 391.25,\n",
       " 'Bought_Quantity': 0,\n",
       " 'Sold_Price': 395.15,\n",
       " 'Sold_Quantity': 0,\n",
       " 'Investment': 0,\n",
       " 'Current_Valuation': 0.0,\n",
       " 'Status': 0,\n",
       " 'Short_Gains': 0.0}"
      ]
     },
     "metadata": {},
     "output_type": "display_data"
    },
    {
     "data": {
      "text/plain": [
       "2991638.0000000005"
      ]
     },
     "metadata": {},
     "output_type": "display_data"
    },
    {
     "data": {
      "text/plain": [
       "3216594.250000003"
      ]
     },
     "metadata": {},
     "output_type": "display_data"
    },
    {
     "name": "stdout",
     "output_type": "stream",
     "text": [
      "\n"
     ]
    },
    {
     "data": {
      "text/plain": [
       "'KTKBANK'"
      ]
     },
     "metadata": {},
     "output_type": "display_data"
    },
    {
     "data": {
      "text/plain": [
       "{'Bought_Price': 0,\n",
       " 'Current_Price': 113.25,\n",
       " 'Bought_Quantity': 0,\n",
       " 'Sold_Price': 112.25,\n",
       " 'Sold_Quantity': 0,\n",
       " 'Investment': 0,\n",
       " 'Current_Valuation': 0,\n",
       " 'Status': 0,\n",
       " 'Short_Gains': -0.0}"
      ]
     },
     "metadata": {},
     "output_type": "display_data"
    },
    {
     "data": {
      "text/plain": [
       "2942248.0000000005"
      ]
     },
     "metadata": {},
     "output_type": "display_data"
    },
    {
     "data": {
      "text/plain": [
       "3197080.250000003"
      ]
     },
     "metadata": {},
     "output_type": "display_data"
    },
    {
     "name": "stdout",
     "output_type": "stream",
     "text": [
      "\n"
     ]
    },
    {
     "data": {
      "text/plain": [
       "'BLISSGVS'"
      ]
     },
     "metadata": {},
     "output_type": "display_data"
    },
    {
     "data": {
      "text/plain": [
       "{'Bought_Price': 0,\n",
       " 'Current_Price': 163.0,\n",
       " 'Bought_Quantity': 0,\n",
       " 'Sold_Price': 162.4,\n",
       " 'Sold_Quantity': 0,\n",
       " 'Investment': 0,\n",
       " 'Current_Valuation': 0.0,\n",
       " 'Status': 0,\n",
       " 'Short_Gains': -0.0}"
      ]
     },
     "metadata": {},
     "output_type": "display_data"
    },
    {
     "data": {
      "text/plain": [
       "2942248.0000000005"
      ]
     },
     "metadata": {},
     "output_type": "display_data"
    },
    {
     "data": {
      "text/plain": [
       "3197080.250000003"
      ]
     },
     "metadata": {},
     "output_type": "display_data"
    },
    {
     "name": "stdout",
     "output_type": "stream",
     "text": [
      "\n"
     ]
    },
    {
     "data": {
      "text/plain": [
       "'IOB'"
      ]
     },
     "metadata": {},
     "output_type": "display_data"
    },
    {
     "data": {
      "text/plain": [
       "{'Bought_Price': 0,\n",
       " 'Current_Price': 15.0,\n",
       " 'Bought_Quantity': 0,\n",
       " 'Sold_Price': 14.95,\n",
       " 'Sold_Quantity': 0,\n",
       " 'Investment': 0,\n",
       " 'Current_Valuation': 0.0,\n",
       " 'Status': 0,\n",
       " 'Short_Gains': -0.0}"
      ]
     },
     "metadata": {},
     "output_type": "display_data"
    },
    {
     "data": {
      "text/plain": [
       "2942248.0000000005"
      ]
     },
     "metadata": {},
     "output_type": "display_data"
    },
    {
     "data": {
      "text/plain": [
       "3197080.250000003"
      ]
     },
     "metadata": {},
     "output_type": "display_data"
    },
    {
     "name": "stdout",
     "output_type": "stream",
     "text": [
      "\n"
     ]
    },
    {
     "data": {
      "text/plain": [
       "'GODREJAGRO'"
      ]
     },
     "metadata": {},
     "output_type": "display_data"
    },
    {
     "data": {
      "text/plain": [
       "{'Bought_Price': 0,\n",
       " 'Current_Price': 503.1,\n",
       " 'Bought_Quantity': 0,\n",
       " 'Sold_Price': 503.85,\n",
       " 'Sold_Quantity': 0,\n",
       " 'Investment': 0,\n",
       " 'Current_Valuation': 0.0,\n",
       " 'Status': 0,\n",
       " 'Short_Gains': 0.0}"
      ]
     },
     "metadata": {},
     "output_type": "display_data"
    },
    {
     "data": {
      "text/plain": [
       "2942248.0000000005"
      ]
     },
     "metadata": {},
     "output_type": "display_data"
    },
    {
     "data": {
      "text/plain": [
       "3197080.250000003"
      ]
     },
     "metadata": {},
     "output_type": "display_data"
    },
    {
     "name": "stdout",
     "output_type": "stream",
     "text": [
      "\n"
     ]
    },
    {
     "data": {
      "text/plain": [
       "'AMARAJABAT'"
      ]
     },
     "metadata": {},
     "output_type": "display_data"
    },
    {
     "data": {
      "text/plain": [
       "{'Bought_Price': 0,\n",
       " 'Current_Price': 738.8,\n",
       " 'Bought_Quantity': 0,\n",
       " 'Sold_Price': 742.85,\n",
       " 'Sold_Quantity': 0,\n",
       " 'Investment': 0,\n",
       " 'Current_Valuation': 0.0,\n",
       " 'Status': 0,\n",
       " 'Short_Gains': 0.0}"
      ]
     },
     "metadata": {},
     "output_type": "display_data"
    },
    {
     "data": {
      "text/plain": [
       "2942248.0000000005"
      ]
     },
     "metadata": {},
     "output_type": "display_data"
    },
    {
     "data": {
      "text/plain": [
       "3197080.250000003"
      ]
     },
     "metadata": {},
     "output_type": "display_data"
    },
    {
     "name": "stdout",
     "output_type": "stream",
     "text": [
      "\n"
     ]
    },
    {
     "data": {
      "text/plain": [
       "'MAHSCOOTER'"
      ]
     },
     "metadata": {},
     "output_type": "display_data"
    },
    {
     "data": {
      "text/plain": [
       "{'Bought_Price': 0,\n",
       " 'Current_Price': 3237.6,\n",
       " 'Bought_Quantity': 0,\n",
       " 'Sold_Price': 3174.95,\n",
       " 'Sold_Quantity': 0,\n",
       " 'Investment': 0,\n",
       " 'Current_Valuation': 0.0,\n",
       " 'Status': 0,\n",
       " 'Short_Gains': -0.0}"
      ]
     },
     "metadata": {},
     "output_type": "display_data"
    },
    {
     "data": {
      "text/plain": [
       "2942248.0000000005"
      ]
     },
     "metadata": {},
     "output_type": "display_data"
    },
    {
     "data": {
      "text/plain": [
       "3197080.250000003"
      ]
     },
     "metadata": {},
     "output_type": "display_data"
    },
    {
     "name": "stdout",
     "output_type": "stream",
     "text": [
      "\n"
     ]
    },
    {
     "data": {
      "text/plain": [
       "'GREAVESCOT'"
      ]
     },
     "metadata": {},
     "output_type": "display_data"
    },
    {
     "data": {
      "text/plain": [
       "{'Bought_Price': 0,\n",
       " 'Current_Price': 119.25,\n",
       " 'Bought_Quantity': 0,\n",
       " 'Sold_Price': 118.9,\n",
       " 'Sold_Quantity': 0,\n",
       " 'Investment': 0,\n",
       " 'Current_Valuation': 0.0,\n",
       " 'Status': 0,\n",
       " 'Short_Gains': -0.0}"
      ]
     },
     "metadata": {},
     "output_type": "display_data"
    },
    {
     "data": {
      "text/plain": [
       "2942248.0000000005"
      ]
     },
     "metadata": {},
     "output_type": "display_data"
    },
    {
     "data": {
      "text/plain": [
       "3197080.250000003"
      ]
     },
     "metadata": {},
     "output_type": "display_data"
    },
    {
     "name": "stdout",
     "output_type": "stream",
     "text": [
      "\n"
     ]
    },
    {
     "data": {
      "text/plain": [
       "'HEROMOTOCO'"
      ]
     },
     "metadata": {},
     "output_type": "display_data"
    },
    {
     "data": {
      "text/plain": [
       "{'Bought_Price': 0,\n",
       " 'Current_Price': 3127.6,\n",
       " 'Bought_Quantity': 0,\n",
       " 'Sold_Price': 3089.0,\n",
       " 'Sold_Quantity': 0,\n",
       " 'Investment': 0,\n",
       " 'Current_Valuation': 0.0,\n",
       " 'Status': 0,\n",
       " 'Short_Gains': -0.0}"
      ]
     },
     "metadata": {},
     "output_type": "display_data"
    },
    {
     "data": {
      "text/plain": [
       "2942248.0000000005"
      ]
     },
     "metadata": {},
     "output_type": "display_data"
    },
    {
     "data": {
      "text/plain": [
       "3197080.250000003"
      ]
     },
     "metadata": {},
     "output_type": "display_data"
    },
    {
     "name": "stdout",
     "output_type": "stream",
     "text": [
      "\n"
     ]
    },
    {
     "data": {
      "text/plain": [
       "'HINDZINC'"
      ]
     },
     "metadata": {},
     "output_type": "display_data"
    },
    {
     "data": {
      "text/plain": [
       "{'Bought_Price': 0,\n",
       " 'Current_Price': 277.85,\n",
       " 'Bought_Quantity': 0,\n",
       " 'Sold_Price': 278.65,\n",
       " 'Sold_Quantity': 0,\n",
       " 'Investment': 0,\n",
       " 'Current_Valuation': 0.0,\n",
       " 'Status': 0,\n",
       " 'Short_Gains': 0.0}"
      ]
     },
     "metadata": {},
     "output_type": "display_data"
    },
    {
     "data": {
      "text/plain": [
       "2942248.0000000005"
      ]
     },
     "metadata": {},
     "output_type": "display_data"
    },
    {
     "data": {
      "text/plain": [
       "3197080.250000003"
      ]
     },
     "metadata": {},
     "output_type": "display_data"
    },
    {
     "name": "stdout",
     "output_type": "stream",
     "text": [
      "\n"
     ]
    },
    {
     "data": {
      "text/plain": [
       "'ALLCARGO'"
      ]
     },
     "metadata": {},
     "output_type": "display_data"
    },
    {
     "data": {
      "text/plain": [
       "{'Bought_Price': 0,\n",
       " 'Current_Price': 107.75,\n",
       " 'Bought_Quantity': 0,\n",
       " 'Sold_Price': 108.9,\n",
       " 'Sold_Quantity': 0,\n",
       " 'Investment': 0,\n",
       " 'Current_Valuation': 0.0,\n",
       " 'Status': 0,\n",
       " 'Short_Gains': 0.0}"
      ]
     },
     "metadata": {},
     "output_type": "display_data"
    },
    {
     "data": {
      "text/plain": [
       "2942248.0000000005"
      ]
     },
     "metadata": {},
     "output_type": "display_data"
    },
    {
     "data": {
      "text/plain": [
       "3197080.250000003"
      ]
     },
     "metadata": {},
     "output_type": "display_data"
    },
    {
     "name": "stdout",
     "output_type": "stream",
     "text": [
      "\n"
     ]
    },
    {
     "data": {
      "text/plain": [
       "'BAJFINANCE'"
      ]
     },
     "metadata": {},
     "output_type": "display_data"
    },
    {
     "data": {
      "text/plain": [
       "{'Bought_Price': 0,\n",
       " 'Current_Price': 2656.85,\n",
       " 'Bought_Quantity': 0,\n",
       " 'Sold_Price': 2645.0,\n",
       " 'Sold_Quantity': 0,\n",
       " 'Investment': 0,\n",
       " 'Current_Valuation': 0.0,\n",
       " 'Status': 0,\n",
       " 'Short_Gains': -0.0}"
      ]
     },
     "metadata": {},
     "output_type": "display_data"
    },
    {
     "data": {
      "text/plain": [
       "2942248.0000000005"
      ]
     },
     "metadata": {},
     "output_type": "display_data"
    },
    {
     "data": {
      "text/plain": [
       "3197080.250000003"
      ]
     },
     "metadata": {},
     "output_type": "display_data"
    },
    {
     "name": "stdout",
     "output_type": "stream",
     "text": [
      "\n"
     ]
    },
    {
     "data": {
      "text/plain": [
       "'SPICEJET'"
      ]
     },
     "metadata": {},
     "output_type": "display_data"
    },
    {
     "data": {
      "text/plain": [
       "{'Bought_Price': 0,\n",
       " 'Current_Price': 146.4,\n",
       " 'Bought_Quantity': 0,\n",
       " 'Sold_Price': 151.95,\n",
       " 'Sold_Quantity': 0,\n",
       " 'Investment': 0,\n",
       " 'Current_Valuation': 0.0,\n",
       " 'Status': 0,\n",
       " 'Short_Gains': 0.0}"
      ]
     },
     "metadata": {},
     "output_type": "display_data"
    },
    {
     "data": {
      "text/plain": [
       "2942248.0000000005"
      ]
     },
     "metadata": {},
     "output_type": "display_data"
    },
    {
     "data": {
      "text/plain": [
       "3197080.250000003"
      ]
     },
     "metadata": {},
     "output_type": "display_data"
    },
    {
     "name": "stdout",
     "output_type": "stream",
     "text": [
      "\n"
     ]
    },
    {
     "data": {
      "text/plain": [
       "'MMTC'"
      ]
     },
     "metadata": {},
     "output_type": "display_data"
    },
    {
     "data": {
      "text/plain": [
       "{'Bought_Price': 0,\n",
       " 'Current_Price': 30.9,\n",
       " 'Bought_Quantity': 0,\n",
       " 'Sold_Price': 31.0,\n",
       " 'Sold_Quantity': 0,\n",
       " 'Investment': 0,\n",
       " 'Current_Valuation': 0.0,\n",
       " 'Status': 0,\n",
       " 'Short_Gains': 0.0}"
      ]
     },
     "metadata": {},
     "output_type": "display_data"
    },
    {
     "data": {
      "text/plain": [
       "2942248.0000000005"
      ]
     },
     "metadata": {},
     "output_type": "display_data"
    },
    {
     "data": {
      "text/plain": [
       "3197080.250000003"
      ]
     },
     "metadata": {},
     "output_type": "display_data"
    },
    {
     "name": "stdout",
     "output_type": "stream",
     "text": [
      "\n"
     ]
    },
    {
     "data": {
      "text/plain": [
       "'NATIONALUM'"
      ]
     },
     "metadata": {},
     "output_type": "display_data"
    },
    {
     "data": {
      "text/plain": [
       "{'Bought_Price': 0,\n",
       " 'Current_Price': 65.55,\n",
       " 'Bought_Quantity': 0,\n",
       " 'Sold_Price': 65.9,\n",
       " 'Sold_Quantity': 0,\n",
       " 'Investment': 0,\n",
       " 'Current_Valuation': 0.0,\n",
       " 'Status': 0,\n",
       " 'Short_Gains': 0.0}"
      ]
     },
     "metadata": {},
     "output_type": "display_data"
    },
    {
     "data": {
      "text/plain": [
       "2942248.0000000005"
      ]
     },
     "metadata": {},
     "output_type": "display_data"
    },
    {
     "data": {
      "text/plain": [
       "3197080.250000003"
      ]
     },
     "metadata": {},
     "output_type": "display_data"
    },
    {
     "name": "stdout",
     "output_type": "stream",
     "text": [
      "\n"
     ]
    },
    {
     "data": {
      "text/plain": [
       "'IDFCFIRSTB'"
      ]
     },
     "metadata": {},
     "output_type": "display_data"
    },
    {
     "data": {
      "text/plain": [
       "{'Bought_Price': 0,\n",
       " 'Current_Price': 43.35,\n",
       " 'Bought_Quantity': 0,\n",
       " 'Sold_Price': 43.4,\n",
       " 'Sold_Quantity': 0,\n",
       " 'Investment': 0,\n",
       " 'Current_Valuation': 0.0,\n",
       " 'Status': 0,\n",
       " 'Short_Gains': 0.0}"
      ]
     },
     "metadata": {},
     "output_type": "display_data"
    },
    {
     "data": {
      "text/plain": [
       "2942248.0000000005"
      ]
     },
     "metadata": {},
     "output_type": "display_data"
    },
    {
     "data": {
      "text/plain": [
       "3197080.250000003"
      ]
     },
     "metadata": {},
     "output_type": "display_data"
    },
    {
     "name": "stdout",
     "output_type": "stream",
     "text": [
      "\n"
     ]
    },
    {
     "data": {
      "text/plain": [
       "'SIEMENS'"
      ]
     },
     "metadata": {},
     "output_type": "display_data"
    },
    {
     "data": {
      "text/plain": [
       "{'Bought_Price': 0,\n",
       " 'Current_Price': 1062.65,\n",
       " 'Bought_Quantity': 0,\n",
       " 'Sold_Price': 1050.0,\n",
       " 'Sold_Quantity': 0,\n",
       " 'Investment': 0,\n",
       " 'Current_Valuation': 0.0,\n",
       " 'Status': 0,\n",
       " 'Short_Gains': -0.0}"
      ]
     },
     "metadata": {},
     "output_type": "display_data"
    },
    {
     "data": {
      "text/plain": [
       "2942248.0000000005"
      ]
     },
     "metadata": {},
     "output_type": "display_data"
    },
    {
     "data": {
      "text/plain": [
       "3197080.250000003"
      ]
     },
     "metadata": {},
     "output_type": "display_data"
    },
    {
     "name": "stdout",
     "output_type": "stream",
     "text": [
      "\n"
     ]
    },
    {
     "data": {
      "text/plain": [
       "'IIFL'"
      ]
     },
     "metadata": {},
     "output_type": "display_data"
    },
    {
     "data": {
      "text/plain": [
       "{'Bought_Price': 0,\n",
       " 'Current_Price': 499.9,\n",
       " 'Bought_Quantity': 0,\n",
       " 'Sold_Price': 505.0,\n",
       " 'Sold_Quantity': 0,\n",
       " 'Investment': 0,\n",
       " 'Current_Valuation': 0.0,\n",
       " 'Status': 0,\n",
       " 'Short_Gains': 0.0}"
      ]
     },
     "metadata": {},
     "output_type": "display_data"
    },
    {
     "data": {
      "text/plain": [
       "2942248.0000000005"
      ]
     },
     "metadata": {},
     "output_type": "display_data"
    },
    {
     "data": {
      "text/plain": [
       "3197080.250000003"
      ]
     },
     "metadata": {},
     "output_type": "display_data"
    },
    {
     "name": "stdout",
     "output_type": "stream",
     "text": [
      "\n"
     ]
    },
    {
     "data": {
      "text/plain": [
       "'ITC'"
      ]
     },
     "metadata": {},
     "output_type": "display_data"
    },
    {
     "data": {
      "text/plain": [
       "{'Bought_Price': 0,\n",
       " 'Current_Price': 282.7,\n",
       " 'Bought_Quantity': 0,\n",
       " 'Sold_Price': 282.2,\n",
       " 'Sold_Quantity': 0,\n",
       " 'Investment': 0,\n",
       " 'Current_Valuation': 0.0,\n",
       " 'Status': 0,\n",
       " 'Short_Gains': -0.0}"
      ]
     },
     "metadata": {},
     "output_type": "display_data"
    },
    {
     "data": {
      "text/plain": [
       "2942248.0000000005"
      ]
     },
     "metadata": {},
     "output_type": "display_data"
    },
    {
     "data": {
      "text/plain": [
       "3197080.250000003"
      ]
     },
     "metadata": {},
     "output_type": "display_data"
    },
    {
     "name": "stdout",
     "output_type": "stream",
     "text": [
      "\n"
     ]
    },
    {
     "data": {
      "text/plain": [
       "'ITDC'"
      ]
     },
     "metadata": {},
     "output_type": "display_data"
    },
    {
     "data": {
      "text/plain": [
       "{'Bought_Price': 0,\n",
       " 'Current_Price': 336.35,\n",
       " 'Bought_Quantity': 0,\n",
       " 'Sold_Price': 339.3,\n",
       " 'Sold_Quantity': 0,\n",
       " 'Investment': 0,\n",
       " 'Current_Valuation': 0.0,\n",
       " 'Status': 0,\n",
       " 'Short_Gains': 0.0}"
      ]
     },
     "metadata": {},
     "output_type": "display_data"
    },
    {
     "data": {
      "text/plain": [
       "2942248.0000000005"
      ]
     },
     "metadata": {},
     "output_type": "display_data"
    },
    {
     "data": {
      "text/plain": [
       "3197080.250000003"
      ]
     },
     "metadata": {},
     "output_type": "display_data"
    },
    {
     "name": "stdout",
     "output_type": "stream",
     "text": [
      "\n"
     ]
    },
    {
     "data": {
      "text/plain": [
       "'HIMATSEIDE'"
      ]
     },
     "metadata": {},
     "output_type": "display_data"
    },
    {
     "data": {
      "text/plain": [
       "{'Bought_Price': 0,\n",
       " 'Current_Price': 215.45,\n",
       " 'Bought_Quantity': 0,\n",
       " 'Sold_Price': 214.3,\n",
       " 'Sold_Quantity': 0,\n",
       " 'Investment': 0,\n",
       " 'Current_Valuation': 0,\n",
       " 'Status': 0,\n",
       " 'Short_Gains': -0.0}"
      ]
     },
     "metadata": {},
     "output_type": "display_data"
    },
    {
     "data": {
      "text/plain": [
       "2909460.1000000006"
      ]
     },
     "metadata": {},
     "output_type": "display_data"
    },
    {
     "data": {
      "text/plain": [
       "3187265.300000003"
      ]
     },
     "metadata": {},
     "output_type": "display_data"
    },
    {
     "name": "stdout",
     "output_type": "stream",
     "text": [
      "\n"
     ]
    }
   ],
   "source": [
    "def bsh(Company_Result, price):\n",
    "    heikenashi_changeover = Company_Result[' Change over hieken_ashi candle : (hand and leg shall be 1% of candle body (+4)']\n",
    "    pos_score = Company_Result['Pos_Score'] - heikenashi_changeover\n",
    "    neg_score = Company_Result['Neg_Score'] \n",
    "    pos_strat = Company_Result['Pos_Strat'] \n",
    "    neg_strat = Company_Result['Neg_Strat'] \n",
    "    buy_quantity = 1 + math.floor((per_order_quantity/price))\n",
    "    if (neg_score == 0 and pos_score > 8) :\n",
    "        return buy_quantity*2\n",
    "    elif ((heikenashi_changeover == 4) and pos_score > neg_score*-1.5):\n",
    "        return buy_quantity*2\n",
    "    elif ((heikenashi_changeover == 4) and 1.5 * pos_score < -1*neg_score):\n",
    "        return buy_quantity*-2\n",
    "    elif (pos_score == 0 and neg_score <= -10):\n",
    "        return buy_quantity*-2\n",
    "    elif (neg_score == 0 and pos_score > 5) :\n",
    "        return buy_quantity*1\n",
    "    elif (pos_score == 0 and neg_score <= -5):\n",
    "        return buy_quantity*-1\n",
    "    else:\n",
    "        return 0   \n",
    "    \n",
    "shorts = 0\n",
    "for ticker in Results.index:\n",
    "    if ticker not in portfolio['Stocks']:\n",
    "        continue\n",
    "    Company_Result = Results.loc[ticker]\n",
    "    df = pd.read_csv('stocks_dfs/{}.csv'.format(ticker), header= 0)\n",
    "    df.index = df.Date\n",
    "    Open = df.iloc[day+2].Open\n",
    "    High = df.iloc[day+2].High\n",
    "    Low = df.iloc[day+2].Low\n",
    "    Close = df.iloc[day+2].Close\n",
    "    #print(Company_Result)    \n",
    "    price = (High + Low)/2\n",
    "    quantity = bsh(Company_Result,price)\n",
    "    Company_Status = portfolio['Stocks'][ticker]\n",
    "\n",
    "    \n",
    "    if quantity == 0 :\n",
    "        Company_Status['Current_Price'] = Close\n",
    "        portfolio['Current_funds'] -= Company_Status['Current_Valuation']\n",
    "        Company_Status['Current_Valuation'] = Close*Company_Status['Bought_Quantity']\n",
    "        portfolio['Current_funds'] += Company_Status['Current_Valuation']\n",
    "        if Company_Status['Investment'] != 0:\n",
    "            Company_Status['Status'] = (Company_Status['Current_Valuation'] - Company_Status['Investment'])/Company_Status['Investment']\n",
    "        \n",
    "    if quantity > 0 :\n",
    "        Company_Status['Bought_Price'] = ((Company_Status['Bought_Price']*Company_Status['Bought_Quantity'])+(price*quantity))/(quantity + Company_Status['Bought_Quantity'])\n",
    "        Company_Status['Bought_Quantity'] += quantity\n",
    "        Company_Status['Investment'] = Company_Status['Bought_Price']*Company_Status['Bought_Quantity']\n",
    "        Company_Status['Current_Price'] = Close\n",
    "        Company_Status['Current_Valuation'] = Close*Company_Status['Bought_Quantity']\n",
    "        Company_Status['Status'] = (Company_Status['Current_Valuation'] - Company_Status['Investment'])/Company_Status['Investment']\n",
    "        portfolio['invested_money'] += price*quantity\n",
    "        portfolio['Current_funds'] += (Close * quantity)\n",
    "\n",
    "    else:\n",
    "        if Company_Status['Bought_Quantity'] > 0:\n",
    "            portfolio['Profit/Loss'] += (Company_Status['Current_Valuation']-Company_Status['Investment'])\n",
    "            Company_Status['Bought_Price'] = 0\n",
    "            Company_Status['Investment'] = 0\n",
    "            Company_Status['Current_Valuation'] = 0\n",
    "            Company_Status['Status'] = 0\n",
    "            portfolio['invested_money'] -= Open * Company_Status['Bought_Quantity']\n",
    "            portfolio['Current_funds'] -= (Open * Company_Status['Bought_Quantity'])\n",
    "            Company_Status['Bought_Quantity'] = 0            \n",
    "                        \n",
    "        Company_Status['Sold_Price'] = Open\n",
    "        Company_Status['Sold_Quantity'] = -1*quantity\n",
    "        Company_Status['Short_Gains'] = (Open-Close)*(-1*quantity)\n",
    "        shorts +=  Company_Status['Short_Gains']\n",
    "        portfolio['Profit/Loss'] += Company_Status['Short_Gains']\n",
    "    \n",
    "    \n",
    "    display(ticker, portfolio['Stocks'][ticker],portfolio['invested_money'],portfolio['Current_funds'])\n",
    "    print()\n",
    "    "
   ]
  },
  {
   "cell_type": "code",
   "execution_count": 455,
   "metadata": {},
   "outputs": [
    {
     "name": "stdout",
     "output_type": "stream",
     "text": [
      "2909460.1000000006 3187265.300000003 9.548341975887638\n"
     ]
    }
   ],
   "source": [
    "portfolio['Net_Status'] = ((portfolio['Current_funds'] -portfolio['invested_money'])/portfolio['invested_money'])*100\n",
    "print(portfolio['invested_money'],portfolio['Current_funds'],portfolio['Net_Status'] )"
   ]
  },
  {
   "cell_type": "code",
   "execution_count": 459,
   "metadata": {},
   "outputs": [
    {
     "name": "stdout",
     "output_type": "stream",
     "text": [
      "-2236.2499999999973 276606.575\n"
     ]
    }
   ],
   "source": [
    "print(shorts, portfolio['Profit/Loss'])"
   ]
  },
  {
   "cell_type": "code",
   "execution_count": 460,
   "metadata": {},
   "outputs": [
    {
     "name": "stdout",
     "output_type": "stream",
     "text": [
      "AIAENG -36.0\n",
      "APLAPOLLO -4010.8499999999985\n",
      "AUBANK 59.07500000000255\n",
      "AJANTPHARM -2282.5\n",
      "AKZOINDIA -724.1999999999971\n",
      "ALKEM 51.599999999998545\n",
      "AMBUJACEM -191.25\n",
      "ASIANPAINT 38.39999999999782\n",
      "AUROPHARMA -11.19999999999709\n",
      "AVANTIFEED 1.2999999999992724\n",
      "BASF 44.099999999998545\n",
      "BEML 40.20000000000073\n",
      "BALKRISIND -14.299999999999272\n",
      "BALMLAWRIE 13678.799999999996\n",
      "BATAINDIA -55.35000000000218\n",
      "BAYERCROP -26.700000000000728\n",
      "BERGEPAINT 137.95000000000073\n",
      "BPCL -1862.7999999999993\n",
      "BOSCHLTD -57.849999999998545\n",
      "CADILAHC -33.349999999998545\n",
      "CANFINHOME 8.75\n",
      "CENTURYPLY -74.09999999999854\n",
      "CIPLA 69.0\n",
      "COCHINSHIP 2459.0999999999913\n",
      "COROMANDEL 2.2999999999992724\n",
      "CROMPTON -345.9750000000022\n",
      "CYIENT -9.775000000001455\n",
      "DCMSHRIRAM 153.0\n",
      "DEEPAKNTR -11835.700000000004\n",
      "DIVISLAB -32.20000000000073\n",
      "EDELWEISS 73456.02500000001\n",
      "EICHERMOT 192.1999999999971\n",
      "EMAMILTD 7215.299999999999\n",
      "ENDURANCE -115.59999999999854\n",
      "FDC -217.5\n",
      "FSL 229.90000000000146\n",
      "GHCL -49.19999999999709\n",
      "GALAXYSURF 136.34999999999854\n",
      "GILLETTE 5609.75\n",
      "GLAXO -34.64999999999782\n",
      "GODREJPROP -44.0\n",
      "GRANULES -13536.45\n",
      "GPPL -102.90000000000146\n",
      "GSFC 9192.074999999997\n",
      "GULFOILLUB -175.5\n",
      "HCLTECH 4762.175000000003\n",
      "HAVELLS 84.0\n",
      "HEXAWARE 34.10000000000218\n",
      "HAL -3116.149999999994\n",
      "ISEC 101.40000000000146\n",
      "ICRA 5336.5999999999985\n",
      "IDFC -34.5\n",
      "IRB 47.275000000001455\n",
      "IRCON 76457.29999999999\n",
      "INDIAMART -4678.049999999999\n",
      "INFIBEAM -7039.199999999997\n",
      "NAUKRI -7188.450000000004\n",
      "INFY 154.40000000000146\n",
      "INOXLEISUR 131.1999999999971\n",
      "IPCALAB 267.15000000000146\n",
      "JBCHEPHARM -11377.25\n",
      "JUBILANT -1993.2499999999854\n",
      "JYOTHYLAB -76.79999999999563\n",
      "KENNAMET -550.0\n",
      "LTTS 109.80000000000291\n",
      "LAXMIMACH 15.799999999999272\n",
      "LAURUSLABS -9466.500000000004\n",
      "M&M 2627.175000000003\n",
      "MANAPPURAM -14637.44999999999\n",
      "MARICO -35.099999999998545\n",
      "METROPOLIS 22.0\n",
      "MINDTREE 75.59999999999854\n",
      "MOTILALOFS -188.25\n",
      "MPHASIS -79.0\n",
      "MCX -10537.799999999996\n",
      "MUTHOOTFIN -51601.0\n",
      "NATCOPHARM -891.7999999999956\n",
      "NIITTECH 58.04999999999927\n",
      "NMDC -114.40000000000146\n",
      "NTPC 95.19999999999709\n",
      "NH -262.59999999999854\n",
      "NFL -1408.949999999997\n",
      "NAVINFLUOR -181.5\n",
      "NESTLEIND -130.25\n",
      "PIIND -41636.99999999999\n",
      "PNBHOUSING 50.87500000000182\n",
      "PARAGMILK -149.65000000000146\n",
      "PERSISTENT -10.399999999999636\n",
      "PHOENIXLTD -55.799999999995634\n",
      "PEL 183.0\n",
      "PRESTIGE 446.59999999999854\n",
      "QUESS 618.75\n",
      "RATNAMANI 61.04999999999927\n",
      "REDINGTON -1623.5999999999985\n",
      "RELIANCE -4926.299999999999\n",
      "RESPONIND -512.3000000000029\n",
      "SRF 132.3000000000029\n",
      "SONATSOFTW 23.799999999995634\n",
      "STAR -4.400000000001455\n",
      "SPARC 925.3499999999985\n",
      "SUNPHARMA -16.200000000000728\n",
      "SUNTECK 47.849999999998545\n",
      "SYNGENE -34.649999999999636\n",
      "TCIEXP 165.59999999999854\n",
      "TVTODAY 6.75\n",
      "TVSMOTOR 4178.8499999999985\n",
      "TATACONSUM -41.400000000001455\n",
      "TEAMLEASE 2.000000000003638\n",
      "TIMETECHNO 176.40000000000146\n",
      "TRIDENT 92.5\n",
      "MCDOWELL-N -176.0\n",
      "VMART 91.59999999999854\n",
      "VIPIND 7289.0\n",
      "WABAG 9973.349999999999\n",
      "VAIBHAVGBL -9813.200000000004\n",
      "VEDL 50.0\n",
      "VOLTAS 27.55000000000655\n",
      "WABCOINDIA -158.70000000000073\n",
      "WELSPUNIND 15983.675\n",
      "ZENSARTECH -43.0\n",
      "ZYDUSWELL -1278.0999999999985\n",
      "NIFTY -892.2249999999913\n",
      "122\n"
     ]
    }
   ],
   "source": [
    "share = 0\n",
    "pos_tickers = 0\n",
    "neg_tickers = 0 \n",
    "profit = 0\n",
    "loss = 0\n",
    "for ticker in portfolio['Stocks']:\n",
    "    if portfolio['Stocks'][ticker]['Bought_Quantity'] > 0:\n",
    "        porl = portfolio['Stocks'][ticker]['Current_Valuation']-portfolio['Stocks'][ticker]['Investment']\n",
    "        print(ticker, porl)\n",
    "        if porl > 0:\n",
    "            pos_tickers += 1\n",
    "            profit += porl\n",
    "        else:\n",
    "            neg_tickers += 1\n",
    "            loss += porl\n",
    "        share+= 1\n",
    "print(share)\n",
    "\n"
   ]
  },
  {
   "cell_type": "code",
   "execution_count": 461,
   "metadata": {},
   "outputs": [
    {
     "name": "stdout",
     "output_type": "stream",
     "text": [
      "58 64 243681.25 -222841.07499999995\n"
     ]
    }
   ],
   "source": [
    "print(pos_tickers, neg_tickers, profit, loss)"
   ]
  },
  {
   "cell_type": "code",
   "execution_count": 76,
   "metadata": {},
   "outputs": [
    {
     "name": "stdout",
     "output_type": "stream",
     "text": [
      "817716.2999999999 815872.6999999997 -0.0022545716650141496\n"
     ]
    }
   ],
   "source": [
    "date_today = '2020-07-24'\n",
    "profitable_companys = 0\n",
    "loss_companys = 0\n",
    "profit_earned = 0\n",
    "loss = 0\n",
    "today_funds = 0\n",
    "def update_portfolio(ticker):\n",
    "    global today_funds, profitable_companys, loss_companys, profit_earned, loss\n",
    "    df = pd.read_csv('stocks_dfs/{}.csv'.format(ticker), header= 0)   \n",
    "    df.index = df.Date\n",
    "    company_holdings = portfolio['Stocks'][ticker] \n",
    "    #print(ticker , company_holdings['Bought_Quantity'], company_holdings['Investment'])\n",
    "    if str(date_today) in df.index:\n",
    "        current_valuation = company_holdings['Bought_Quantity']*df.loc[str(date_today)]['Close']\n",
    "    else:\n",
    "        print(ticker, \"DATA NOT AVAILABLE\")\n",
    "    today_funds += current_valuation\n",
    "    company_holdings['Current_Valuation'] = current_valuation\n",
    "    company_holdings['Status'] = ((current_valuation - company_holdings['Investment'])/company_holdings['Investment'])*100\n",
    "    if company_holdings['Status'] > 0:\n",
    "        profitable_companys += 1\n",
    "        profit_earned +=  current_valuation - company_holdings['Investment']\n",
    "    else:\n",
    "        loss_companys += 1\n",
    "        loss += company_holdings['Investment'] - current_valuation\n",
    "        \n",
    "    #print(\"\\t\\t\", company_holdings['Current_Valuation'],company_holdings['Status'] )\n",
    "    \n",
    "for ticker in tickers:\n",
    "    if portfolio['Stocks'][ticker]['Bought_Quantity'] > 0:\n",
    "        update_portfolio(ticker)\n",
    "\n",
    "portfolio['Current_funds'] = today_funds\n",
    "portfolio['Net_Status'] = (portfolio['Current_funds'] - portfolio['invested_money'] )/portfolio['invested_money']\n",
    "print(portfolio['invested_money'], portfolio['Current_funds'], portfolio['Net_Status'] )"
   ]
  },
  {
   "cell_type": "code",
   "execution_count": 77,
   "metadata": {},
   "outputs": [
    {
     "name": "stdout",
     "output_type": "stream",
     "text": [
      "817716.2999999999 815872.6999999997 -0.0022545716650141496\n",
      "69 146 5501.974999999993 7345.57499999999\n"
     ]
    }
   ],
   "source": [
    "print(portfolio['invested_money'], portfolio['Current_funds'], portfolio['Net_Status'] )\n",
    "print(profitable_companys, loss_companys, profit_earned, loss)"
   ]
  },
  {
   "cell_type": "code",
   "execution_count": 8,
   "metadata": {},
   "outputs": [],
   "source": []
  },
  {
   "cell_type": "code",
   "execution_count": 10,
   "metadata": {},
   "outputs": [
    {
     "name": "stdout",
     "output_type": "stream",
     "text": [
      "817716.2999999999 818129.4500000003 0.050524858071237244\n"
     ]
    }
   ],
   "source": []
  }
 ],
 "metadata": {
  "kernelspec": {
   "display_name": "Python 3",
   "language": "python",
   "name": "python3"
  },
  "language_info": {
   "codemirror_mode": {
    "name": "ipython",
    "version": 3
   },
   "file_extension": ".py",
   "mimetype": "text/x-python",
   "name": "python",
   "nbconvert_exporter": "python",
   "pygments_lexer": "ipython3",
   "version": "3.8.3"
  }
 },
 "nbformat": 4,
 "nbformat_minor": 4
}
